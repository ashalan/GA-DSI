{
 "cells": [
  {
   "cell_type": "markdown",
   "metadata": {},
   "source": [
    "# Regularization Lab\n",
    "\n",
    "In this lab we'll practice regularization. The [data set](http://data.princeton.edu/wws509/datasets/#salary) consists of salary data for 52 professors at a small college, categorized by gender, professor rank, highest degree, and years of service paired with salary.\n",
    "\n",
    "### Learning objectives\n",
    "\n",
    "- Practice working with categorical data and dummy variables\n",
    "- Try to predict various features using the others\n",
    "- Practice regularization and evaluating model fit\n",
    "- Visualize your fits, plotting accuracies versus predictions\n",
    "\n",
    "### Requirements\n",
    "\n",
    "The data contains three categorical variables, each with two or three values: \"sx\", \"dg\", \"rk\". Your tasks are as follows.\n",
    "* Create dummy variables for each categorical variables.\n",
    "* Use pandas `value_counts()` to see the distributions of the data\n",
    "* Use seaborn to make [violin plots](https://stanford.edu/~mwaskom/software/seaborn/generated/seaborn.violinplot.html) of the salaries by variable\n",
    "\n",
    "You can use patsy instead of pandas to handle the categorical variables if you like.\n",
    "\n",
    "For each categorical variable:\n",
    "* Fit a model to the entire data set without the dummy variables for that category (but include the others).\n",
    "* Use pandas to select a subset of the data and fit a linear model to just that subset. For example, select just the male professors and fit a model\n",
    "* Apply the model fit from one subset to the other subset and compare the goodness of fit scores.\n",
    "* Do the same for the other variables, i.e. fit a model to the women professors and apply it to the men, again comparing the goodness of fit.\n",
    "* Use regularization (e.g. RidgeRegression or Lasso) to fit a model on one subset and apply to the other, again looking at the goodness of fit. Did regularization improve the model fits?\n",
    "\n",
    "Bonus exercises:\n",
    "* Try to predict years served \"yr\" or years since degree \"yd\" from the salary data and other variables. Does regularization help in any of these cases?\n",
    "\n",
    "### Resources\n",
    "- [scikit-learn linear models](http://scikit-learn.org/stable/modules/linear_model.html), including regularization\n",
    "- [http://pandas.pydata.org/pandas-docs/stable/generated/pandas.get_dummies.html](Creating dummy variables with pandas)\n"
   ]
  },
  {
   "cell_type": "code",
   "execution_count": 20,
   "metadata": {
    "collapsed": true
   },
   "outputs": [],
   "source": [
    "% matplotlib inline\n",
    "\n",
    "from matplotlib import pyplot as plt\n",
    "import numpy as np\n",
    "import pandas as pd\n",
    "import seaborn as sns\n",
    "from sklearn import linear_model\n",
    "from sklearn.metrics import r2_score"
   ]
  },
  {
   "cell_type": "code",
   "execution_count": 21,
   "metadata": {
    "collapsed": false
   },
   "outputs": [
    {
     "data": {
      "text/html": [
       "<div>\n",
       "<table border=\"1\" class=\"dataframe\">\n",
       "  <thead>\n",
       "    <tr style=\"text-align: right;\">\n",
       "      <th></th>\n",
       "      <th>0</th>\n",
       "      <th>1</th>\n",
       "      <th>2</th>\n",
       "      <th>3</th>\n",
       "      <th>4</th>\n",
       "      <th>5</th>\n",
       "    </tr>\n",
       "  </thead>\n",
       "  <tbody>\n",
       "    <tr>\n",
       "      <th>0</th>\n",
       "      <td>sx</td>\n",
       "      <td>rk</td>\n",
       "      <td>yr</td>\n",
       "      <td>dg</td>\n",
       "      <td>yd</td>\n",
       "      <td>sl</td>\n",
       "    </tr>\n",
       "    <tr>\n",
       "      <th>1</th>\n",
       "      <td>male</td>\n",
       "      <td>full</td>\n",
       "      <td>25</td>\n",
       "      <td>doctorate</td>\n",
       "      <td>35</td>\n",
       "      <td>36350</td>\n",
       "    </tr>\n",
       "    <tr>\n",
       "      <th>2</th>\n",
       "      <td>male</td>\n",
       "      <td>full</td>\n",
       "      <td>13</td>\n",
       "      <td>doctorate</td>\n",
       "      <td>22</td>\n",
       "      <td>35350</td>\n",
       "    </tr>\n",
       "    <tr>\n",
       "      <th>3</th>\n",
       "      <td>male</td>\n",
       "      <td>full</td>\n",
       "      <td>10</td>\n",
       "      <td>doctorate</td>\n",
       "      <td>23</td>\n",
       "      <td>28200</td>\n",
       "    </tr>\n",
       "    <tr>\n",
       "      <th>4</th>\n",
       "      <td>female</td>\n",
       "      <td>full</td>\n",
       "      <td>7</td>\n",
       "      <td>doctorate</td>\n",
       "      <td>27</td>\n",
       "      <td>26775</td>\n",
       "    </tr>\n",
       "  </tbody>\n",
       "</table>\n",
       "</div>"
      ],
      "text/plain": [
       "        0     1   2          3   4      5\n",
       "0      sx    rk  yr         dg  yd     sl\n",
       "1    male  full  25  doctorate  35  36350\n",
       "2    male  full  13  doctorate  22  35350\n",
       "3    male  full  10  doctorate  23  28200\n",
       "4  female  full   7  doctorate  27  26775"
      ]
     },
     "execution_count": 21,
     "metadata": {},
     "output_type": "execute_result"
    }
   ],
   "source": [
    "# Load the data (use delim_whitespace=True)\n",
    "import urllib\n",
    "data_url = \"http://data.princeton.edu/wws509/datasets/salary.dat\"\n",
    "urllib.urlretrieve (data_url, \"salaries.dat\")\n",
    "\n",
    "df = pd.read_csv(\"salaries.dat\", header=None, delim_whitespace=True)\n",
    "\n",
    "# Take a look\n",
    "df.head()"
   ]
  },
  {
   "cell_type": "code",
   "execution_count": 30,
   "metadata": {
    "collapsed": false
   },
   "outputs": [
    {
     "data": {
      "text/plain": [
       "full         20\n",
       "assistant    18\n",
       "associate    14\n",
       "Name: rk, dtype: int64"
      ]
     },
     "execution_count": 30,
     "metadata": {},
     "output_type": "execute_result"
    }
   ],
   "source": [
    "# Apply value_counts() to series for \"sx\", \"dg\", and \"rk\"\n",
    "df.columns = df.iloc[0]\n",
    "df.drop(0, inplace=True)\n",
    "df['sx'].value_counts()\n",
    "df['dg'].value_counts()\n",
    "df['rk'].value_counts()"
   ]
  },
  {
   "cell_type": "code",
   "execution_count": 33,
   "metadata": {
    "collapsed": false
   },
   "outputs": [
    {
     "data": {
      "text/html": [
       "<div>\n",
       "<table border=\"1\" class=\"dataframe\">\n",
       "  <thead>\n",
       "    <tr style=\"text-align: right;\">\n",
       "      <th></th>\n",
       "      <th>index</th>\n",
       "      <th>sx</th>\n",
       "      <th>rk</th>\n",
       "      <th>yr</th>\n",
       "      <th>dg</th>\n",
       "      <th>yd</th>\n",
       "      <th>sl</th>\n",
       "    </tr>\n",
       "  </thead>\n",
       "  <tbody>\n",
       "    <tr>\n",
       "      <th>0</th>\n",
       "      <td>1</td>\n",
       "      <td>male</td>\n",
       "      <td>full</td>\n",
       "      <td>25</td>\n",
       "      <td>doctorate</td>\n",
       "      <td>35</td>\n",
       "      <td>36350</td>\n",
       "    </tr>\n",
       "    <tr>\n",
       "      <th>1</th>\n",
       "      <td>2</td>\n",
       "      <td>male</td>\n",
       "      <td>full</td>\n",
       "      <td>13</td>\n",
       "      <td>doctorate</td>\n",
       "      <td>22</td>\n",
       "      <td>35350</td>\n",
       "    </tr>\n",
       "    <tr>\n",
       "      <th>2</th>\n",
       "      <td>3</td>\n",
       "      <td>male</td>\n",
       "      <td>full</td>\n",
       "      <td>10</td>\n",
       "      <td>doctorate</td>\n",
       "      <td>23</td>\n",
       "      <td>28200</td>\n",
       "    </tr>\n",
       "    <tr>\n",
       "      <th>3</th>\n",
       "      <td>4</td>\n",
       "      <td>female</td>\n",
       "      <td>full</td>\n",
       "      <td>7</td>\n",
       "      <td>doctorate</td>\n",
       "      <td>27</td>\n",
       "      <td>26775</td>\n",
       "    </tr>\n",
       "    <tr>\n",
       "      <th>4</th>\n",
       "      <td>5</td>\n",
       "      <td>male</td>\n",
       "      <td>full</td>\n",
       "      <td>19</td>\n",
       "      <td>masters</td>\n",
       "      <td>30</td>\n",
       "      <td>33696</td>\n",
       "    </tr>\n",
       "  </tbody>\n",
       "</table>\n",
       "</div>"
      ],
      "text/plain": [
       "0  index      sx    rk  yr         dg  yd     sl\n",
       "0      1    male  full  25  doctorate  35  36350\n",
       "1      2    male  full  13  doctorate  22  35350\n",
       "2      3    male  full  10  doctorate  23  28200\n",
       "3      4  female  full   7  doctorate  27  26775\n",
       "4      5    male  full  19    masters  30  33696"
      ]
     },
     "execution_count": 33,
     "metadata": {},
     "output_type": "execute_result"
    }
   ],
   "source": [
    "df.head()\n",
    "df.reset_index(inplace=True)\n",
    "df.head()\n"
   ]
  },
  {
   "cell_type": "code",
   "execution_count": 36,
   "metadata": {
    "collapsed": false
   },
   "outputs": [],
   "source": [
    "df.dtypes\n",
    "df['yd'] = df['yd'].map(pd.to_numeric)\n",
    "df['yr'] = df['yr'].map(pd.to_numeric)\n",
    "df['sl'] = df['sl'].map(pd.to_numeric)"
   ]
  },
  {
   "cell_type": "code",
   "execution_count": 51,
   "metadata": {
    "collapsed": false
   },
   "outputs": [
    {
     "data": {
      "image/png": "[encoded data removed]",
      "text/plain": [
       "<matplotlib.figure.Figure at 0x118439550>"
      ]
     },
     "metadata": {},
     "output_type": "display_data"
    },
    {
     "data": {
      "image/png": "[encoded data removed]",
      "text/plain": [
       "<matplotlib.figure.Figure at 0x117ee3b90>"
      ]
     },
     "metadata": {},
     "output_type": "display_data"
    },
    {
     "data": {
      "image/png": "[encoded data removed]",
      "text/plain": [
       "<matplotlib.figure.Figure at 0x116af8a10>"
      ]
     },
     "metadata": {},
     "output_type": "display_data"
    }
   ],
   "source": [
    "# Make violin plots\n",
    "sns.violinplot(x=\"sx\", y=\"sl\", data=df)\n",
    "plt.show()\n",
    "\n",
    "# Do the same for \"dg\" and \"rk\"\n",
    "sns.violinplot(x=\"dg\", y=\"sl\", hue='sx', split=True, data=df)\n",
    "plt.show()\n",
    "\n",
    "sns.violinplot(x=\"rk\", y=\"sl\", data=df)\n",
    "plt.show()"
   ]
  },
  {
   "cell_type": "code",
   "execution_count": 38,
   "metadata": {
    "collapsed": false
   },
   "outputs": [
    {
     "name": "stdout",
     "output_type": "stream",
     "text": [
      "Index([u'index', u'sx', u'rk', u'yr', u'dg', u'yd', u'sl', u'sx_female',\n",
      "       u'sx_male', u'rk_assistant', u'rk_associate', u'rk_full',\n",
      "       u'dg_doctorate', u'dg_masters'],\n",
      "      dtype='object', name=0)\n"
     ]
    },
    {
     "data": {
      "text/html": [
       "<div>\n",
       "<table border=\"1\" class=\"dataframe\">\n",
       "  <thead>\n",
       "    <tr style=\"text-align: right;\">\n",
       "      <th></th>\n",
       "      <th>index</th>\n",
       "      <th>sx</th>\n",
       "      <th>rk</th>\n",
       "      <th>yr</th>\n",
       "      <th>dg</th>\n",
       "      <th>yd</th>\n",
       "      <th>sl</th>\n",
       "      <th>sx_female</th>\n",
       "      <th>sx_male</th>\n",
       "      <th>rk_assistant</th>\n",
       "      <th>rk_associate</th>\n",
       "      <th>rk_full</th>\n",
       "      <th>dg_doctorate</th>\n",
       "      <th>dg_masters</th>\n",
       "    </tr>\n",
       "  </thead>\n",
       "  <tbody>\n",
       "    <tr>\n",
       "      <th>0</th>\n",
       "      <td>1</td>\n",
       "      <td>male</td>\n",
       "      <td>full</td>\n",
       "      <td>25</td>\n",
       "      <td>doctorate</td>\n",
       "      <td>35</td>\n",
       "      <td>36350</td>\n",
       "      <td>0.0</td>\n",
       "      <td>1.0</td>\n",
       "      <td>0.0</td>\n",
       "      <td>0.0</td>\n",
       "      <td>1.0</td>\n",
       "      <td>1.0</td>\n",
       "      <td>0.0</td>\n",
       "    </tr>\n",
       "    <tr>\n",
       "      <th>1</th>\n",
       "      <td>2</td>\n",
       "      <td>male</td>\n",
       "      <td>full</td>\n",
       "      <td>13</td>\n",
       "      <td>doctorate</td>\n",
       "      <td>22</td>\n",
       "      <td>35350</td>\n",
       "      <td>0.0</td>\n",
       "      <td>1.0</td>\n",
       "      <td>0.0</td>\n",
       "      <td>0.0</td>\n",
       "      <td>1.0</td>\n",
       "      <td>1.0</td>\n",
       "      <td>0.0</td>\n",
       "    </tr>\n",
       "    <tr>\n",
       "      <th>2</th>\n",
       "      <td>3</td>\n",
       "      <td>male</td>\n",
       "      <td>full</td>\n",
       "      <td>10</td>\n",
       "      <td>doctorate</td>\n",
       "      <td>23</td>\n",
       "      <td>28200</td>\n",
       "      <td>0.0</td>\n",
       "      <td>1.0</td>\n",
       "      <td>0.0</td>\n",
       "      <td>0.0</td>\n",
       "      <td>1.0</td>\n",
       "      <td>1.0</td>\n",
       "      <td>0.0</td>\n",
       "    </tr>\n",
       "    <tr>\n",
       "      <th>3</th>\n",
       "      <td>4</td>\n",
       "      <td>female</td>\n",
       "      <td>full</td>\n",
       "      <td>7</td>\n",
       "      <td>doctorate</td>\n",
       "      <td>27</td>\n",
       "      <td>26775</td>\n",
       "      <td>1.0</td>\n",
       "      <td>0.0</td>\n",
       "      <td>0.0</td>\n",
       "      <td>0.0</td>\n",
       "      <td>1.0</td>\n",
       "      <td>1.0</td>\n",
       "      <td>0.0</td>\n",
       "    </tr>\n",
       "    <tr>\n",
       "      <th>4</th>\n",
       "      <td>5</td>\n",
       "      <td>male</td>\n",
       "      <td>full</td>\n",
       "      <td>19</td>\n",
       "      <td>masters</td>\n",
       "      <td>30</td>\n",
       "      <td>33696</td>\n",
       "      <td>0.0</td>\n",
       "      <td>1.0</td>\n",
       "      <td>0.0</td>\n",
       "      <td>0.0</td>\n",
       "      <td>1.0</td>\n",
       "      <td>0.0</td>\n",
       "      <td>1.0</td>\n",
       "    </tr>\n",
       "  </tbody>\n",
       "</table>\n",
       "</div>"
      ],
      "text/plain": [
       "0  index      sx    rk  yr         dg  yd     sl  sx_female  sx_male  \\\n",
       "0      1    male  full  25  doctorate  35  36350        0.0      1.0   \n",
       "1      2    male  full  13  doctorate  22  35350        0.0      1.0   \n",
       "2      3    male  full  10  doctorate  23  28200        0.0      1.0   \n",
       "3      4  female  full   7  doctorate  27  26775        1.0      0.0   \n",
       "4      5    male  full  19    masters  30  33696        0.0      1.0   \n",
       "\n",
       "0  rk_assistant  rk_associate  rk_full  dg_doctorate  dg_masters  \n",
       "0           0.0           0.0      1.0           1.0         0.0  \n",
       "1           0.0           0.0      1.0           1.0         0.0  \n",
       "2           0.0           0.0      1.0           1.0         0.0  \n",
       "3           0.0           0.0      1.0           1.0         0.0  \n",
       "4           0.0           0.0      1.0           0.0         1.0  "
      ]
     },
     "execution_count": 38,
     "metadata": {},
     "output_type": "execute_result"
    }
   ],
   "source": [
    "## Students can copy their code from Week 2, Lesson 3.3\n",
    "# Create dummy variables\n",
    "\n",
    "categories = [\"sx\", \"rk\", \"dg\"]\n",
    "for category in categories:\n",
    "    series = df[category]\n",
    "    dummies = pd.get_dummies(series, prefix=category)\n",
    "    df = pd.concat([df, dummies], axis=1)\n",
    "print df.columns\n",
    "df.head()"
   ]
  },
  {
   "cell_type": "code",
   "execution_count": null,
   "metadata": {
    "collapsed": true
   },
   "outputs": [],
   "source": [
    "### Here's an example to get you started.\n",
    "\n",
    "Try reruning the next cell multiple times. You should see an improvement for some samples."
   ]
  },
  {
   "cell_type": "code",
   "execution_count": 45,
   "metadata": {
    "collapsed": false
   },
   "outputs": [
    {
     "name": "stdout",
     "output_type": "stream",
     "text": [
      "Sample: 0.657718214882\n",
      "All data with sample model: 0.372840396851\n",
      "Sample with regularization: 0.648126039122\n",
      "All data with regularization model: 0.433881944431\n"
     ]
    }
   ],
   "source": [
    "# Here's an example to get you started. Let's fit a model on a small random subset\n",
    "\n",
    "subset = df.sample(frac=0.1, replace=False)\n",
    "\n",
    "X = subset[[u'yr', u'yd']]\n",
    "y = subset[u'sl']\n",
    "\n",
    "lm = linear_model.LinearRegression()\n",
    "model = lm.fit(X, y)\n",
    "predictions = model.predict(X)\n",
    "print \"Sample:\", model.score(X, y)\n",
    "\n",
    "# Apply to the whole data set\n",
    "\n",
    "X = df[[u'yr', u'yd']]\n",
    "y = df[u'sl']\n",
    "print \"All data with sample model:\", model.score(X, y)\n",
    "\n",
    "# Repeat with regularization\n",
    "\n",
    "X = subset[[u'yr', u'yd']]\n",
    "y = subset[u'sl']\n",
    "\n",
    "lm = linear_model.RidgeCV(alphas=[0.1, 1, 10]) # Try different alphas\n",
    "model = lm.fit(X, y)\n",
    "predictions = model.predict(X)\n",
    "print \"Sample with regularization:\", model.score(X, y)\n",
    "\n",
    "# Apply to the whole data set\n",
    "\n",
    "X = df[[u'yr', u'yd']]\n",
    "y = df[u'sl']\n",
    "print \"All data with regularization model:\", model.score(X, y)\n",
    "\n",
    "# Did the results improve?"
   ]
  },
  {
   "cell_type": "code",
   "execution_count": null,
   "metadata": {
    "collapsed": false
   },
   "outputs": [],
   "source": [
    "# Fit a model to the men\n",
    "mask = df[\"sx\"] == \"male\"\n",
    "X = df[mask][[u'yr', u'yd',\n",
    "       u'rk_assistant', u'rk_associate', u'rk_full', u'dg_doctorate',\n",
    "       u'dg_masters']]\n",
    "y = df[mask][u'sl']\n",
    "\n",
    "## Fit a linear model here\n",
    "## Plot the data\n",
    "## and print the model score\n",
    "\n",
    "# Apply the same model to the women and compare the model score\n"
   ]
  },
  {
   "cell_type": "code",
   "execution_count": null,
   "metadata": {
    "collapsed": false
   },
   "outputs": [],
   "source": [
    "# What about the other order? Apply to women first\n",
    "\n",
    "\n",
    "\n",
    "# Apply to men\n"
   ]
  },
  {
   "cell_type": "code",
   "execution_count": null,
   "metadata": {
    "collapsed": false
   },
   "outputs": [],
   "source": [
    "# This time use regularlization (RidgeCV)\n",
    "\n",
    "# Apply to women first\n",
    "\n",
    "\n",
    "# Apply to men\n",
    "\n"
   ]
  },
  {
   "cell_type": "markdown",
   "metadata": {
    "collapsed": true
   },
   "source": [
    "### Results\n",
    "\n",
    "Did regularization improve the second fit?\n",
    "\n",
    "Now let's move on to the next category, \"dg\" (degree)."
   ]
  },
  {
   "cell_type": "code",
   "execution_count": null,
   "metadata": {
    "collapsed": false
   },
   "outputs": [],
   "source": [
    "mask = (df[\"dg\"] == \"doctorate\")\n"
   ]
  },
  {
   "cell_type": "code",
   "execution_count": null,
   "metadata": {
    "collapsed": false
   },
   "outputs": [],
   "source": [
    "# Reverse the order\n",
    "\n",
    "mask = (df[\"dg\"] != \"doctorate\") # !=\n"
   ]
  },
  {
   "cell_type": "code",
   "execution_count": null,
   "metadata": {
    "collapsed": false
   },
   "outputs": [],
   "source": [
    "# With regularization\n",
    "\n",
    "mask = (df[\"dg\"] != \"doctorate\") # !=\n"
   ]
  },
  {
   "cell_type": "markdown",
   "metadata": {},
   "source": [
    "### Results\n",
    "Note by varying alpha we can shift the goodness of fit. Did regularization improve our two fits?\n",
    "\n",
    "Next we move on to \"rk\" (professor rank). In this case there are three options."
   ]
  },
  {
   "cell_type": "code",
   "execution_count": null,
   "metadata": {
    "collapsed": false
   },
   "outputs": [],
   "source": [
    "mask = (df[\"rk\"] == \"full\") # First subset, there are two more\n"
   ]
  },
  {
   "cell_type": "code",
   "execution_count": null,
   "metadata": {
    "collapsed": false
   },
   "outputs": [],
   "source": [
    "# The second permutation of three"
   ]
  },
  {
   "cell_type": "code",
   "execution_count": null,
   "metadata": {
    "collapsed": false
   },
   "outputs": [],
   "source": [
    "# The third permutation of three"
   ]
  },
  {
   "cell_type": "markdown",
   "metadata": {},
   "source": [
    "# Results\n",
    "\n",
    "How did the regularized models fare?"
   ]
  },
  {
   "cell_type": "markdown",
   "metadata": {},
   "source": [
    "### Bonus\n",
    "\n",
    "Try predicting \"yd\" by splitting the data on \"sx\"."
   ]
  },
  {
   "cell_type": "code",
   "execution_count": null,
   "metadata": {
    "collapsed": false
   },
   "outputs": [],
   "source": [
    "# Without regularization\n",
    "mask = df[\"sx\"] == \"female\"\n"
   ]
  },
  {
   "cell_type": "code",
   "execution_count": null,
   "metadata": {
    "collapsed": false
   },
   "outputs": [],
   "source": [
    "# With regularization, RidgeCV"
   ]
  },
  {
   "cell_type": "code",
   "execution_count": null,
   "metadata": {
    "collapsed": false
   },
   "outputs": [],
   "source": [
    "# With regularization, LassoCV"
   ]
  },
  {
   "cell_type": "code",
   "execution_count": null,
   "metadata": {
    "collapsed": false
   },
   "outputs": [],
   "source": []
  }
 ],
 "metadata": {
  "anaconda-cloud": {},
  "kernelspec": {
   "display_name": "Python [Root]",
   "language": "python",
   "name": "Python [Root]"
  },
  "language_info": {
   "codemirror_mode": {
    "name": "ipython",
    "version": 2
   },
   "file_extension": ".py",
   "mimetype": "text/x-python",
   "name": "python",
   "nbconvert_exporter": "python",
   "pygments_lexer": "ipython2",
   "version": "2.7.12"
  }
 },
 "nbformat": 4,
 "nbformat_minor": 0
}
