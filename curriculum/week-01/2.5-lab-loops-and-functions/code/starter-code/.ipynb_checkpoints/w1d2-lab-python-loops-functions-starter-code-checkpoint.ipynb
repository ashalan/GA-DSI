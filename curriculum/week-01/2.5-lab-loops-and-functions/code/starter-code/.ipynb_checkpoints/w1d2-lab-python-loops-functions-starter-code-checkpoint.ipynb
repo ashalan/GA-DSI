{
 "cells": [
  {
   "cell_type": "code",
   "execution_count": 11,
   "metadata": {
    "collapsed": true
   },
   "outputs": [],
   "source": [
    "# write a function with one argument. Find the area of a square. \n",
    "def areaSquare(side): \n",
    "    '''int --> int\n",
    "    Returns the area of a square of length 'side' '''\n",
    "    input_type = type(side)\n",
    "    if input_type == int:\n",
    "        area = side**2\n",
    "        return area\n",
    "    else:\n",
    "        area = \"Input needs to be int, you used \", input_type\n",
    "    print area\n"
   ]
  },
  {
   "cell_type": "code",
   "execution_count": 12,
   "metadata": {
    "collapsed": false
   },
   "outputs": [
    {
     "name": "stdout",
     "output_type": "stream",
     "text": [
      "16\n",
      "('Input needs to be int, you used ', <type 'str'>)\n",
      "('Input needs to be int, you used ', <type 'float'>)\n"
     ]
    }
   ],
   "source": [
    "areaSquare(4)\n",
    "areaSquare(\"what\")\n",
    "areaSquare(2.2)"
   ]
  },
  {
   "cell_type": "code",
   "execution_count": 3,
   "metadata": {
    "collapsed": false
   },
   "outputs": [],
   "source": [
    "# write a function with two arguments. Find the area of a rectangle. \n",
    "def areaRect(length,breadth):\n",
    "    '''Returns the area of a rectangle of dimensions \\\n",
    "    'length' x 'breadth' '''\n",
    "    \n",
    "    # your code here\n",
    "    \n",
    "    return # what are you returning?"
   ]
  },
  {
   "cell_type": "code",
   "execution_count": null,
   "metadata": {
    "collapsed": true
   },
   "outputs": [],
   "source": []
  },
  {
   "cell_type": "code",
   "execution_count": 6,
   "metadata": {
    "collapsed": false
   },
   "outputs": [],
   "source": [
    "# write a function with three arguments. Find the surface area of cuboid.\n",
    "def surfaceAreaCuboid(length,breadth,height): \n",
    "    \n",
    "    # your code here"
   ]
  },
  {
   "cell_type": "code",
   "execution_count": null,
   "metadata": {
    "collapsed": true
   },
   "outputs": [],
   "source": []
  }
 ],
 "metadata": {
  "anaconda-cloud": {},
  "kernelspec": {
   "display_name": "Python [Root]",
   "language": "python",
   "name": "Python [Root]"
  },
  "language_info": {
   "codemirror_mode": {
    "name": "ipython",
    "version": 2
   },
   "file_extension": ".py",
   "mimetype": "text/x-python",
   "name": "python",
   "nbconvert_exporter": "python",
   "pygments_lexer": "ipython2",
   "version": "2.7.12"
  }
 },
 "nbformat": 4,
 "nbformat_minor": 0
}
