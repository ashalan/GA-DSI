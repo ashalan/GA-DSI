{
 "cells": [
  {
   "cell_type": "code",
   "execution_count": 26,
   "metadata": {
    "collapsed": false
   },
   "outputs": [],
   "source": [
    "# write a function with one argument. Find the area of a square. \n",
    "def areaSquare(side): \n",
    "    '''int --> int\n",
    "    Returns the area of a square of length 'side' '''\n",
    "    input_type = type(side)\n",
    "    if input_type == int or input_type == float:\n",
    "        area = side**2\n",
    "    else:\n",
    "        area = \"Input needs to be int, you used \" + str(input_type)\n",
    "    print area\n"
   ]
  },
  {
   "cell_type": "code",
   "execution_count": 27,
   "metadata": {
    "collapsed": false
   },
   "outputs": [
    {
     "name": "stdout",
     "output_type": "stream",
     "text": [
      "16\n",
      "Input needs to be int, you used <type 'str'>\n",
      "4.84\n"
     ]
    }
   ],
   "source": [
    "areaSquare(4)\n",
    "areaSquare(\"what\")\n",
    "areaSquare(2.2)"
   ]
  },
  {
   "cell_type": "code",
   "execution_count": 46,
   "metadata": {
    "collapsed": false
   },
   "outputs": [],
   "source": [
    "def isNumber(thing):\n",
    "    thing_type = type(thing)\n",
    "    if thing_type == int:\n",
    "        return True\n",
    "    elif thing_type == float:\n",
    "        return True\n",
    "    else:\n",
    "        return False\n",
    "# write a function with two arguments. Find the area of a rectangle. \n",
    "def areaRect(length,breadth):\n",
    "    '''Returns the area of a rectangle of dimensions \\\n",
    "    'length' x 'breadth' '''\n",
    "    \n",
    "    # your code here\n",
    "    if isNumber(length) and isNumber(breadth):\n",
    "        area = length*breadth\n",
    "    else:\n",
    "        area = \"Both inputs need to be int's, you used length: \" + str(type(length)) + \" and breadth: \" + str(type(breadth))\n",
    "    print area\n",
    "    \n",
    "    return # what are you returning?"
   ]
  },
  {
   "cell_type": "code",
   "execution_count": 45,
   "metadata": {
    "collapsed": false
   },
   "outputs": [
    {
     "name": "stdout",
     "output_type": "stream",
     "text": [
      "24\n",
      "Input needs to be int, you used length: <type 'int'> and breadth: <type 'str'>\n",
      "5.28\n"
     ]
    }
   ],
   "source": [
    "areaRect(4, 6)\n",
    "areaRect(4, \"what\")\n",
    "areaRect(2.2, 2.4)"
   ]
  },
  {
   "cell_type": "code",
   "execution_count": 49,
   "metadata": {
    "collapsed": false
   },
   "outputs": [],
   "source": [
    "# write a function with three arguments. Find the surface area of cuboid.\n",
    "def surfaceAreaCuboid(length,breadth,height): \n",
    "    # your code here\n",
    "    if isNumber(length) and isNumber(breadth) and isNumber(height):\n",
    "        surface_area = length*breadth*2 + length*height*2 + breadth*height*2\n",
    "    else:\n",
    "        surface_area = \"Both inputs need to be int's, you used length: \" + str(type(length)) + \" and breadth: \" + str(type(breadth)) + \" and height: \" + str(type(height))\n",
    "    print surface_area"
   ]
  },
  {
   "cell_type": "code",
   "execution_count": 50,
   "metadata": {
    "collapsed": false
   },
   "outputs": [
    {
     "name": "stdout",
     "output_type": "stream",
     "text": [
      "88\n",
      "Both inputs need to be int's, you used length: <type 'int'> and breadth: <type 'str'> and height: <type 'int'>\n",
      "30.8\n"
     ]
    }
   ],
   "source": [
    "surfaceAreaCuboid(4, 6, 2)\n",
    "surfaceAreaCuboid(4, \"what\", 4)\n",
    "surfaceAreaCuboid(2.2, 2.4, 2.2)"
   ]
  },
  {
   "cell_type": "code",
   "execution_count": null,
   "metadata": {
    "collapsed": true
   },
   "outputs": [],
   "source": []
  }
 ],
 "metadata": {
  "anaconda-cloud": {},
  "kernelspec": {
   "display_name": "Python [Root]",
   "language": "python",
   "name": "Python [Root]"
  },
  "language_info": {
   "codemirror_mode": {
    "name": "ipython",
    "version": 2
   },
   "file_extension": ".py",
   "mimetype": "text/x-python",
   "name": "python",
   "nbconvert_exporter": "python",
   "pygments_lexer": "ipython2",
   "version": "2.7.12"
  }
 },
 "nbformat": 4,
 "nbformat_minor": 0
}
