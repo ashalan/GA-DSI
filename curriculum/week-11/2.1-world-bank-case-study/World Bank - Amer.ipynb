{
 "cells": [
  {
   "cell_type": "code",
   "execution_count": 45,
   "metadata": {
    "collapsed": true
   },
   "outputs": [],
   "source": [
    "import pandas as pd\n",
    "import numpy as np\n",
    "import seaborn as sns\n",
    "import matplotlib.pyplot as plt\n",
    "%matplotlib inline"
   ]
  },
  {
   "cell_type": "code",
   "execution_count": 179,
   "metadata": {
    "collapsed": true
   },
   "outputs": [],
   "source": [
    "df = pd.read_csv('WorldBank_remittance_prices_2011_2015.csv')"
   ]
  },
  {
   "cell_type": "code",
   "execution_count": 180,
   "metadata": {
    "collapsed": false
   },
   "outputs": [
    {
     "data": {
      "text/html": [
       "<div>\n",
       "<table border=\"1\" class=\"dataframe\">\n",
       "  <thead>\n",
       "    <tr style=\"text-align: right;\">\n",
       "      <th></th>\n",
       "      <th>id</th>\n",
       "      <th>period</th>\n",
       "      <th>source_code</th>\n",
       "      <th>source_name</th>\n",
       "      <th>source_region</th>\n",
       "      <th>source_income</th>\n",
       "      <th>source_lending</th>\n",
       "      <th>source_G8G20</th>\n",
       "      <th>destination_code</th>\n",
       "      <th>destination_name</th>\n",
       "      <th>...</th>\n",
       "      <th>cc2 lcu fx rate</th>\n",
       "      <th>cc2 fx margin</th>\n",
       "      <th>cc2 total cost %</th>\n",
       "      <th>inter lcu bank fx</th>\n",
       "      <th>transparent</th>\n",
       "      <th>note1</th>\n",
       "      <th>note2</th>\n",
       "      <th>coverage</th>\n",
       "      <th>pick-up method</th>\n",
       "      <th>date</th>\n",
       "    </tr>\n",
       "  </thead>\n",
       "  <tbody>\n",
       "    <tr>\n",
       "      <th>0</th>\n",
       "      <td>13123</td>\n",
       "      <td>2011_1Q</td>\n",
       "      <td>AUS</td>\n",
       "      <td>Australia</td>\n",
       "      <td>..</td>\n",
       "      <td>High income: OECD</td>\n",
       "      <td>..</td>\n",
       "      <td>G20</td>\n",
       "      <td>FJI</td>\n",
       "      <td>Fiji</td>\n",
       "      <td>...</td>\n",
       "      <td>1.770000</td>\n",
       "      <td>3.29</td>\n",
       "      <td>5.29</td>\n",
       "      <td>1.83024</td>\n",
       "      <td>yes</td>\n",
       "      <td>NaN</td>\n",
       "      <td>NaN</td>\n",
       "      <td>Nationwide</td>\n",
       "      <td>Cash</td>\n",
       "      <td>24/Jan/2011</td>\n",
       "    </tr>\n",
       "    <tr>\n",
       "      <th>1</th>\n",
       "      <td>13129</td>\n",
       "      <td>2011_1Q</td>\n",
       "      <td>AUS</td>\n",
       "      <td>Australia</td>\n",
       "      <td>..</td>\n",
       "      <td>High income: OECD</td>\n",
       "      <td>..</td>\n",
       "      <td>G20</td>\n",
       "      <td>FJI</td>\n",
       "      <td>Fiji</td>\n",
       "      <td>...</td>\n",
       "      <td>1.767737</td>\n",
       "      <td>3.42</td>\n",
       "      <td>5.82</td>\n",
       "      <td>1.83024</td>\n",
       "      <td>yes</td>\n",
       "      <td>NaN</td>\n",
       "      <td>NaN</td>\n",
       "      <td>Nationwide</td>\n",
       "      <td>Cash</td>\n",
       "      <td>24/Jan/2011</td>\n",
       "    </tr>\n",
       "    <tr>\n",
       "      <th>2</th>\n",
       "      <td>13128</td>\n",
       "      <td>2011_1Q</td>\n",
       "      <td>AUS</td>\n",
       "      <td>Australia</td>\n",
       "      <td>..</td>\n",
       "      <td>High income: OECD</td>\n",
       "      <td>..</td>\n",
       "      <td>G20</td>\n",
       "      <td>FJI</td>\n",
       "      <td>Fiji</td>\n",
       "      <td>...</td>\n",
       "      <td>1.750000</td>\n",
       "      <td>4.38</td>\n",
       "      <td>7.38</td>\n",
       "      <td>1.83024</td>\n",
       "      <td>yes</td>\n",
       "      <td>NaN</td>\n",
       "      <td>NaN</td>\n",
       "      <td>Nationwide</td>\n",
       "      <td>Cash</td>\n",
       "      <td>24/Jan/2011</td>\n",
       "    </tr>\n",
       "    <tr>\n",
       "      <th>3</th>\n",
       "      <td>13127</td>\n",
       "      <td>2011_1Q</td>\n",
       "      <td>AUS</td>\n",
       "      <td>Australia</td>\n",
       "      <td>..</td>\n",
       "      <td>High income: OECD</td>\n",
       "      <td>..</td>\n",
       "      <td>G20</td>\n",
       "      <td>FJI</td>\n",
       "      <td>Fiji</td>\n",
       "      <td>...</td>\n",
       "      <td>1.791400</td>\n",
       "      <td>2.12</td>\n",
       "      <td>6.12</td>\n",
       "      <td>1.83024</td>\n",
       "      <td>yes</td>\n",
       "      <td>NaN</td>\n",
       "      <td>NaN</td>\n",
       "      <td>Nationwide</td>\n",
       "      <td>Bank Account</td>\n",
       "      <td>24/Jan/2011</td>\n",
       "    </tr>\n",
       "    <tr>\n",
       "      <th>4</th>\n",
       "      <td>13135</td>\n",
       "      <td>2011_1Q</td>\n",
       "      <td>AUS</td>\n",
       "      <td>Australia</td>\n",
       "      <td>..</td>\n",
       "      <td>High income: OECD</td>\n",
       "      <td>..</td>\n",
       "      <td>G20</td>\n",
       "      <td>FJI</td>\n",
       "      <td>Fiji</td>\n",
       "      <td>...</td>\n",
       "      <td>1.764200</td>\n",
       "      <td>3.61</td>\n",
       "      <td>7.61</td>\n",
       "      <td>1.83024</td>\n",
       "      <td>yes</td>\n",
       "      <td>NaN</td>\n",
       "      <td>NaN</td>\n",
       "      <td>Nationwide</td>\n",
       "      <td>Bank Account</td>\n",
       "      <td>24/Jan/2011</td>\n",
       "    </tr>\n",
       "  </tbody>\n",
       "</table>\n",
       "<p>5 rows × 40 columns</p>\n",
       "</div>"
      ],
      "text/plain": [
       "      id   period source_code source_name source_region      source_income  \\\n",
       "0  13123  2011_1Q         AUS   Australia            ..  High income: OECD   \n",
       "1  13129  2011_1Q         AUS   Australia            ..  High income: OECD   \n",
       "2  13128  2011_1Q         AUS   Australia            ..  High income: OECD   \n",
       "3  13127  2011_1Q         AUS   Australia            ..  High income: OECD   \n",
       "4  13135  2011_1Q         AUS   Australia            ..  High income: OECD   \n",
       "\n",
       "  source_lending source_G8G20 destination_code destination_name     ...       \\\n",
       "0             ..          G20              FJI             Fiji     ...        \n",
       "1             ..          G20              FJI             Fiji     ...        \n",
       "2             ..          G20              FJI             Fiji     ...        \n",
       "3             ..          G20              FJI             Fiji     ...        \n",
       "4             ..          G20              FJI             Fiji     ...        \n",
       "\n",
       "  cc2 lcu fx rate cc2 fx margin cc2 total cost % inter lcu bank fx  \\\n",
       "0        1.770000          3.29             5.29           1.83024   \n",
       "1        1.767737          3.42             5.82           1.83024   \n",
       "2        1.750000          4.38             7.38           1.83024   \n",
       "3        1.791400          2.12             6.12           1.83024   \n",
       "4        1.764200          3.61             7.61           1.83024   \n",
       "\n",
       "  transparent note1 note2    coverage pick-up method         date  \n",
       "0         yes   NaN   NaN  Nationwide           Cash  24/Jan/2011  \n",
       "1         yes   NaN   NaN  Nationwide           Cash  24/Jan/2011  \n",
       "2         yes   NaN   NaN  Nationwide           Cash  24/Jan/2011  \n",
       "3         yes   NaN   NaN  Nationwide   Bank Account  24/Jan/2011  \n",
       "4         yes   NaN   NaN  Nationwide   Bank Account  24/Jan/2011  \n",
       "\n",
       "[5 rows x 40 columns]"
      ]
     },
     "execution_count": 180,
     "metadata": {},
     "output_type": "execute_result"
    }
   ],
   "source": [
    "df.head()"
   ]
  },
  {
   "cell_type": "code",
   "execution_count": 181,
   "metadata": {
    "collapsed": false
   },
   "outputs": [
    {
     "data": {
      "text/html": [
       "<div>\n",
       "<table border=\"1\" class=\"dataframe\">\n",
       "  <thead>\n",
       "    <tr style=\"text-align: right;\">\n",
       "      <th></th>\n",
       "      <th>id</th>\n",
       "      <th>cc1 lcu amount</th>\n",
       "      <th>cc1 denomination amount</th>\n",
       "      <th>cc1 lcu fee</th>\n",
       "      <th>cc1 lcu fx rate</th>\n",
       "      <th>cc1 fx margin</th>\n",
       "      <th>cc1 total cost %</th>\n",
       "      <th>cc2 lcu amount</th>\n",
       "      <th>cc2 denomination amount</th>\n",
       "      <th>cc2 lcu fee</th>\n",
       "      <th>cc2 lcu fx rate</th>\n",
       "      <th>cc2 fx margin</th>\n",
       "      <th>cc2 total cost %</th>\n",
       "      <th>inter lcu bank fx</th>\n",
       "    </tr>\n",
       "  </thead>\n",
       "  <tbody>\n",
       "    <tr>\n",
       "      <th>count</th>\n",
       "      <td>39853.000000</td>\n",
       "      <td>39750.000000</td>\n",
       "      <td>39773.000000</td>\n",
       "      <td>39847.000000</td>\n",
       "      <td>39853.000000</td>\n",
       "      <td>39852.000000</td>\n",
       "      <td>39853.000000</td>\n",
       "      <td>39852.000000</td>\n",
       "      <td>39775.000000</td>\n",
       "      <td>39730.000000</td>\n",
       "      <td>39644.000000</td>\n",
       "      <td>39752.000000</td>\n",
       "      <td>39751.000000</td>\n",
       "      <td>39853.000000</td>\n",
       "    </tr>\n",
       "    <tr>\n",
       "      <th>mean</th>\n",
       "      <td>26790.166386</td>\n",
       "      <td>9394.382156</td>\n",
       "      <td>200.000025</td>\n",
       "      <td>1063.705353</td>\n",
       "      <td>373.959745</td>\n",
       "      <td>1.785430</td>\n",
       "      <td>8.652767</td>\n",
       "      <td>23318.896762</td>\n",
       "      <td>500.000075</td>\n",
       "      <td>1194.615528</td>\n",
       "      <td>370.632236</td>\n",
       "      <td>1.785907</td>\n",
       "      <td>5.147292</td>\n",
       "      <td>382.819580</td>\n",
       "    </tr>\n",
       "    <tr>\n",
       "      <th>std</th>\n",
       "      <td>14876.331816</td>\n",
       "      <td>46041.976589</td>\n",
       "      <td>0.005014</td>\n",
       "      <td>7867.826622</td>\n",
       "      <td>2104.899846</td>\n",
       "      <td>2.344927</td>\n",
       "      <td>6.588614</td>\n",
       "      <td>114557.836297</td>\n",
       "      <td>0.008684</td>\n",
       "      <td>8182.159794</td>\n",
       "      <td>2087.539747</td>\n",
       "      <td>2.344367</td>\n",
       "      <td>3.579412</td>\n",
       "      <td>2158.719017</td>\n",
       "    </tr>\n",
       "    <tr>\n",
       "      <th>min</th>\n",
       "      <td>1.000000</td>\n",
       "      <td>120.000000</td>\n",
       "      <td>200.000000</td>\n",
       "      <td>0.000000</td>\n",
       "      <td>0.000300</td>\n",
       "      <td>-16.580000</td>\n",
       "      <td>-8.970000</td>\n",
       "      <td>0.000000</td>\n",
       "      <td>500.000000</td>\n",
       "      <td>0.000000</td>\n",
       "      <td>0.000300</td>\n",
       "      <td>-16.580000</td>\n",
       "      <td>-13.420000</td>\n",
       "      <td>0.000310</td>\n",
       "    </tr>\n",
       "    <tr>\n",
       "      <th>25%</th>\n",
       "      <td>14084.000000</td>\n",
       "      <td>NaN</td>\n",
       "      <td>NaN</td>\n",
       "      <td>NaN</td>\n",
       "      <td>1.000000</td>\n",
       "      <td>NaN</td>\n",
       "      <td>4.250000</td>\n",
       "      <td>NaN</td>\n",
       "      <td>NaN</td>\n",
       "      <td>NaN</td>\n",
       "      <td>NaN</td>\n",
       "      <td>NaN</td>\n",
       "      <td>NaN</td>\n",
       "      <td>1.000000</td>\n",
       "    </tr>\n",
       "    <tr>\n",
       "      <th>50%</th>\n",
       "      <td>29813.000000</td>\n",
       "      <td>NaN</td>\n",
       "      <td>NaN</td>\n",
       "      <td>NaN</td>\n",
       "      <td>2.740000</td>\n",
       "      <td>NaN</td>\n",
       "      <td>6.910000</td>\n",
       "      <td>NaN</td>\n",
       "      <td>NaN</td>\n",
       "      <td>NaN</td>\n",
       "      <td>NaN</td>\n",
       "      <td>NaN</td>\n",
       "      <td>NaN</td>\n",
       "      <td>2.826500</td>\n",
       "    </tr>\n",
       "    <tr>\n",
       "      <th>75%</th>\n",
       "      <td>39796.000000</td>\n",
       "      <td>NaN</td>\n",
       "      <td>NaN</td>\n",
       "      <td>NaN</td>\n",
       "      <td>43.360000</td>\n",
       "      <td>NaN</td>\n",
       "      <td>11.180000</td>\n",
       "      <td>NaN</td>\n",
       "      <td>NaN</td>\n",
       "      <td>NaN</td>\n",
       "      <td>NaN</td>\n",
       "      <td>NaN</td>\n",
       "      <td>NaN</td>\n",
       "      <td>44.330000</td>\n",
       "    </tr>\n",
       "    <tr>\n",
       "      <th>max</th>\n",
       "      <td>49754.000000</td>\n",
       "      <td>324500.000000</td>\n",
       "      <td>201.000000</td>\n",
       "      <td>146025.000000</td>\n",
       "      <td>28662.686000</td>\n",
       "      <td>36.050000</td>\n",
       "      <td>75.000000</td>\n",
       "      <td>811000.000000</td>\n",
       "      <td>501.000000</td>\n",
       "      <td>145980.000000</td>\n",
       "      <td>28662.686000</td>\n",
       "      <td>36.050000</td>\n",
       "      <td>42.650000</td>\n",
       "      <td>29667.100000</td>\n",
       "    </tr>\n",
       "  </tbody>\n",
       "</table>\n",
       "</div>"
      ],
      "text/plain": [
       "                 id  cc1 lcu amount  cc1 denomination amount    cc1 lcu fee  \\\n",
       "count  39853.000000    39750.000000             39773.000000   39847.000000   \n",
       "mean   26790.166386     9394.382156               200.000025    1063.705353   \n",
       "std    14876.331816    46041.976589                 0.005014    7867.826622   \n",
       "min        1.000000      120.000000               200.000000       0.000000   \n",
       "25%    14084.000000             NaN                      NaN            NaN   \n",
       "50%    29813.000000             NaN                      NaN            NaN   \n",
       "75%    39796.000000             NaN                      NaN            NaN   \n",
       "max    49754.000000   324500.000000               201.000000  146025.000000   \n",
       "\n",
       "       cc1 lcu fx rate  cc1 fx margin  cc1 total cost %  cc2 lcu amount  \\\n",
       "count     39853.000000   39852.000000      39853.000000    39852.000000   \n",
       "mean        373.959745       1.785430          8.652767    23318.896762   \n",
       "std        2104.899846       2.344927          6.588614   114557.836297   \n",
       "min           0.000300     -16.580000         -8.970000        0.000000   \n",
       "25%           1.000000            NaN          4.250000             NaN   \n",
       "50%           2.740000            NaN          6.910000             NaN   \n",
       "75%          43.360000            NaN         11.180000             NaN   \n",
       "max       28662.686000      36.050000         75.000000   811000.000000   \n",
       "\n",
       "       cc2 denomination amount    cc2 lcu fee  cc2 lcu fx rate  cc2 fx margin  \\\n",
       "count             39775.000000   39730.000000     39644.000000   39752.000000   \n",
       "mean                500.000075    1194.615528       370.632236       1.785907   \n",
       "std                   0.008684    8182.159794      2087.539747       2.344367   \n",
       "min                 500.000000       0.000000         0.000300     -16.580000   \n",
       "25%                        NaN            NaN              NaN            NaN   \n",
       "50%                        NaN            NaN              NaN            NaN   \n",
       "75%                        NaN            NaN              NaN            NaN   \n",
       "max                 501.000000  145980.000000     28662.686000      36.050000   \n",
       "\n",
       "       cc2 total cost %  inter lcu bank fx  \n",
       "count      39751.000000       39853.000000  \n",
       "mean           5.147292         382.819580  \n",
       "std            3.579412        2158.719017  \n",
       "min          -13.420000           0.000310  \n",
       "25%                 NaN           1.000000  \n",
       "50%                 NaN           2.826500  \n",
       "75%                 NaN          44.330000  \n",
       "max           42.650000       29667.100000  "
      ]
     },
     "execution_count": 181,
     "metadata": {},
     "output_type": "execute_result"
    }
   ],
   "source": [
    "df.describe()"
   ]
  },
  {
   "cell_type": "code",
   "execution_count": 182,
   "metadata": {
    "collapsed": false
   },
   "outputs": [
    {
     "data": {
      "text/plain": [
       "id                           int64\n",
       "period                      object\n",
       "source_code                 object\n",
       "source_name                 object\n",
       "source_region               object\n",
       "source_income               object\n",
       "source_lending              object\n",
       "source_G8G20                object\n",
       "destination_code            object\n",
       "destination_name            object\n",
       "destination_region          object\n",
       "destination_income          object\n",
       "destination_lending         object\n",
       "destination_G8G20           object\n",
       "firm                        object\n",
       "firm_type                   object\n",
       "product                     object\n",
       "sending location            object\n",
       "speed actual                object\n",
       "cc1 lcu amount             float64\n",
       "cc1 denomination amount    float64\n",
       "cc1 lcu code                object\n",
       "cc1 lcu fee                float64\n",
       "cc1 lcu fx rate            float64\n",
       "cc1 fx margin              float64\n",
       "cc1 total cost %           float64\n",
       "cc2 lcu amount             float64\n",
       "cc2 denomination amount    float64\n",
       "cc2 lcu code                object\n",
       "cc2 lcu fee                float64\n",
       "cc2 lcu fx rate            float64\n",
       "cc2 fx margin              float64\n",
       "cc2 total cost %           float64\n",
       "inter lcu bank fx          float64\n",
       "transparent                 object\n",
       "note1                       object\n",
       "note2                       object\n",
       "coverage                    object\n",
       "pick-up method              object\n",
       "date                        object\n",
       "dtype: object"
      ]
     },
     "execution_count": 182,
     "metadata": {},
     "output_type": "execute_result"
    }
   ],
   "source": [
    "df.dtypes"
   ]
  },
  {
   "cell_type": "code",
   "execution_count": 183,
   "metadata": {
    "collapsed": false
   },
   "outputs": [
    {
     "data": {
      "text/plain": [
       "array(['High income: OECD', 'Upper middle income', 'Lower middle income',\n",
       "       'High income: nonOECD', 'Low income'], dtype=object)"
      ]
     },
     "execution_count": 183,
     "metadata": {},
     "output_type": "execute_result"
    }
   ],
   "source": [
    "df['source_income'].unique()"
   ]
  },
  {
   "cell_type": "code",
   "execution_count": 184,
   "metadata": {
    "collapsed": false
   },
   "outputs": [
    {
     "data": {
      "text/plain": [
       "array(['Upper middle income', 'Lower middle income', 'Low income',\n",
       "       'High income: nonOECD', 'High income: OECD'], dtype=object)"
      ]
     },
     "execution_count": 184,
     "metadata": {},
     "output_type": "execute_result"
    }
   ],
   "source": [
    "df['destination_income'].unique()"
   ]
  },
  {
   "cell_type": "code",
   "execution_count": 185,
   "metadata": {
    "collapsed": false
   },
   "outputs": [
    {
     "data": {
      "text/plain": [
       "array(['Cash', 'Bank Account', 'Own/partner Bank Account', 'Home Delivery',\n",
       "       'ATM Network', 'Mobile', 'ATM, Bank Account', nan,\n",
       "       'Bank Account, Home Delivery', 'Cash, Bank Account',\n",
       "       'Cash, Home Delivery', 'Cash, Bank Account, Home Delivery',\n",
       "       'own/partner Bank Account', 'Home delivery', 'Prepaid cash card',\n",
       "       'Credit Card', 'Mobile, Cash', 'Mobile, Bank Account',\n",
       "       'Door to Door, Bank Account',\n",
       "       'Own/partner bank account in receiving country', 'Bank account',\n",
       "       'Own/Partner bank account', 'Cash, Bank account',\n",
       "       'Door to door, Bank account', 'ATM, Bank account',\n",
       "       'Cash, Bank account, Home delivery', 'Bank account, Home delivery',\n",
       "       'ATM Network, Bank Acciunt', 'Cash, Bank Account, Mobile',\n",
       "       'Cash, Mobile'], dtype=object)"
      ]
     },
     "execution_count": 185,
     "metadata": {},
     "output_type": "execute_result"
    }
   ],
   "source": [
    "df['pick-up method'].unique()"
   ]
  },
  {
   "cell_type": "code",
   "execution_count": 186,
   "metadata": {
    "collapsed": false
   },
   "outputs": [
    {
     "data": {
      "text/plain": [
       "2841"
      ]
     },
     "execution_count": 186,
     "metadata": {},
     "output_type": "execute_result"
    }
   ],
   "source": [
    "df['cc1 total cost %'].nunique()"
   ]
  },
  {
   "cell_type": "code",
   "execution_count": 187,
   "metadata": {
    "collapsed": false
   },
   "outputs": [],
   "source": [
    "df['total cost'] = df['cc1 total cost %'] + df['cc2 total cost %']\n",
    "df['total cost'] = df['total cost'] /2"
   ]
  },
  {
   "cell_type": "code",
   "execution_count": 188,
   "metadata": {
    "collapsed": false
   },
   "outputs": [
    {
     "data": {
      "text/plain": [
       "count    39751.000000\n",
       "mean         6.905505\n",
       "std          4.945691\n",
       "min        -11.195000\n",
       "25%               NaN\n",
       "50%               NaN\n",
       "75%               NaN\n",
       "max         52.500000\n",
       "Name: total cost, dtype: float64"
      ]
     },
     "execution_count": 188,
     "metadata": {},
     "output_type": "execute_result"
    }
   ],
   "source": [
    "df['total cost'].describe()"
   ]
  },
  {
   "cell_type": "code",
   "execution_count": 189,
   "metadata": {
    "collapsed": false
   },
   "outputs": [],
   "source": [
    "df = df[np.isfinite(df['total cost'])]"
   ]
  },
  {
   "cell_type": "code",
   "execution_count": 190,
   "metadata": {
    "collapsed": false
   },
   "outputs": [
    {
     "data": {
      "text/plain": [
       "39751"
      ]
     },
     "execution_count": 190,
     "metadata": {},
     "output_type": "execute_result"
    }
   ],
   "source": [
    "len(df)"
   ]
  },
  {
   "cell_type": "code",
   "execution_count": 191,
   "metadata": {
    "collapsed": false
   },
   "outputs": [
    {
     "data": {
      "text/html": [
       "<div>\n",
       "<table border=\"1\" class=\"dataframe\">\n",
       "  <thead>\n",
       "    <tr style=\"text-align: right;\">\n",
       "      <th></th>\n",
       "      <th>id</th>\n",
       "      <th>period</th>\n",
       "      <th>source_code</th>\n",
       "      <th>source_name</th>\n",
       "      <th>source_region</th>\n",
       "      <th>source_income</th>\n",
       "      <th>source_lending</th>\n",
       "      <th>source_G8G20</th>\n",
       "      <th>destination_code</th>\n",
       "      <th>destination_name</th>\n",
       "      <th>...</th>\n",
       "      <th>cc2 fx margin</th>\n",
       "      <th>cc2 total cost %</th>\n",
       "      <th>inter lcu bank fx</th>\n",
       "      <th>transparent</th>\n",
       "      <th>note1</th>\n",
       "      <th>note2</th>\n",
       "      <th>coverage</th>\n",
       "      <th>pick-up method</th>\n",
       "      <th>date</th>\n",
       "      <th>total cost</th>\n",
       "    </tr>\n",
       "  </thead>\n",
       "  <tbody>\n",
       "    <tr>\n",
       "      <th>371</th>\n",
       "      <td>13638</td>\n",
       "      <td>2011_1Q</td>\n",
       "      <td>DOM</td>\n",
       "      <td>Dominican Republic</td>\n",
       "      <td>Latin America &amp; Caribbean</td>\n",
       "      <td>Upper middle income</td>\n",
       "      <td>IBRD</td>\n",
       "      <td>..</td>\n",
       "      <td>HTI</td>\n",
       "      <td>Haiti</td>\n",
       "      <td>...</td>\n",
       "      <td>-0.52</td>\n",
       "      <td>-0.52</td>\n",
       "      <td>37.45620</td>\n",
       "      <td>yes</td>\n",
       "      <td>A negative exchange rate margin for this opera...</td>\n",
       "      <td>NaN</td>\n",
       "      <td>Nationwide</td>\n",
       "      <td>Cash</td>\n",
       "      <td>27/Jan/2011</td>\n",
       "      <td>-0.520</td>\n",
       "    </tr>\n",
       "    <tr>\n",
       "      <th>973</th>\n",
       "      <td>14465</td>\n",
       "      <td>2011_1Q</td>\n",
       "      <td>MYS</td>\n",
       "      <td>Malaysia</td>\n",
       "      <td>East Asia &amp; Pacific</td>\n",
       "      <td>Upper middle income</td>\n",
       "      <td>IBRD</td>\n",
       "      <td>..</td>\n",
       "      <td>BGD</td>\n",
       "      <td>Bangladesh</td>\n",
       "      <td>...</td>\n",
       "      <td>-1.16</td>\n",
       "      <td>-0.51</td>\n",
       "      <td>23.26000</td>\n",
       "      <td>yes</td>\n",
       "      <td>A negative exchange rate margin for this opera...</td>\n",
       "      <td>NaN</td>\n",
       "      <td>Nationwide</td>\n",
       "      <td>NaN</td>\n",
       "      <td>27/Jan/2011</td>\n",
       "      <td>-0.015</td>\n",
       "    </tr>\n",
       "    <tr>\n",
       "      <th>1087</th>\n",
       "      <td>14580</td>\n",
       "      <td>2011_1Q</td>\n",
       "      <td>NZL</td>\n",
       "      <td>New Zealand</td>\n",
       "      <td>..</td>\n",
       "      <td>High income: OECD</td>\n",
       "      <td>..</td>\n",
       "      <td>..</td>\n",
       "      <td>KIR</td>\n",
       "      <td>Kiribati</td>\n",
       "      <td>...</td>\n",
       "      <td>-0.43</td>\n",
       "      <td>-0.40</td>\n",
       "      <td>0.76528</td>\n",
       "      <td>yes</td>\n",
       "      <td>NaN</td>\n",
       "      <td>NaN</td>\n",
       "      <td>Urban only</td>\n",
       "      <td>NaN</td>\n",
       "      <td>25/Jan/2011</td>\n",
       "      <td>-0.395</td>\n",
       "    </tr>\n",
       "    <tr>\n",
       "      <th>1162</th>\n",
       "      <td>14635</td>\n",
       "      <td>2011_1Q</td>\n",
       "      <td>NZL</td>\n",
       "      <td>New Zealand</td>\n",
       "      <td>..</td>\n",
       "      <td>High income: OECD</td>\n",
       "      <td>..</td>\n",
       "      <td>..</td>\n",
       "      <td>TUV</td>\n",
       "      <td>Tuvalu</td>\n",
       "      <td>...</td>\n",
       "      <td>-0.43</td>\n",
       "      <td>-0.40</td>\n",
       "      <td>0.76528</td>\n",
       "      <td>yes</td>\n",
       "      <td>NaN</td>\n",
       "      <td>NaN</td>\n",
       "      <td>Nationwide</td>\n",
       "      <td>NaN</td>\n",
       "      <td>25/Jan/2011</td>\n",
       "      <td>-0.395</td>\n",
       "    </tr>\n",
       "    <tr>\n",
       "      <th>1438</th>\n",
       "      <td>14944</td>\n",
       "      <td>2011_1Q</td>\n",
       "      <td>SGP</td>\n",
       "      <td>Singapore</td>\n",
       "      <td>..</td>\n",
       "      <td>High income: nonOECD</td>\n",
       "      <td>..</td>\n",
       "      <td>..</td>\n",
       "      <td>PHL</td>\n",
       "      <td>Philippines</td>\n",
       "      <td>...</td>\n",
       "      <td>-1.36</td>\n",
       "      <td>-0.59</td>\n",
       "      <td>33.79000</td>\n",
       "      <td>yes</td>\n",
       "      <td>A negative exchange rate margin for this opera...</td>\n",
       "      <td>NaN</td>\n",
       "      <td>Nationwide</td>\n",
       "      <td>NaN</td>\n",
       "      <td>26/Jan/2011</td>\n",
       "      <td>-0.015</td>\n",
       "    </tr>\n",
       "    <tr>\n",
       "      <th>1905</th>\n",
       "      <td>13952</td>\n",
       "      <td>2011_1Q</td>\n",
       "      <td>GBR</td>\n",
       "      <td>United Kingdom</td>\n",
       "      <td>..</td>\n",
       "      <td>High income: OECD</td>\n",
       "      <td>..</td>\n",
       "      <td>G8/G20</td>\n",
       "      <td>GMB</td>\n",
       "      <td>Gambia, The</td>\n",
       "      <td>...</td>\n",
       "      <td>-5.50</td>\n",
       "      <td>-2.50</td>\n",
       "      <td>42.18169</td>\n",
       "      <td>yes</td>\n",
       "      <td>This RSP's negative cost may be due to it havi...</td>\n",
       "      <td>NaN</td>\n",
       "      <td>Main city</td>\n",
       "      <td>Cash</td>\n",
       "      <td>25/Jan/2011</td>\n",
       "      <td>-2.500</td>\n",
       "    </tr>\n",
       "    <tr>\n",
       "      <th>1906</th>\n",
       "      <td>13945</td>\n",
       "      <td>2011_1Q</td>\n",
       "      <td>GBR</td>\n",
       "      <td>United Kingdom</td>\n",
       "      <td>..</td>\n",
       "      <td>High income: OECD</td>\n",
       "      <td>..</td>\n",
       "      <td>G8/G20</td>\n",
       "      <td>GMB</td>\n",
       "      <td>Gambia, The</td>\n",
       "      <td>...</td>\n",
       "      <td>-5.73</td>\n",
       "      <td>-3.07</td>\n",
       "      <td>42.18169</td>\n",
       "      <td>yes</td>\n",
       "      <td>This RSP's negative cost may be due to it havi...</td>\n",
       "      <td>NaN</td>\n",
       "      <td>Major cities</td>\n",
       "      <td>Cash</td>\n",
       "      <td>25/Jan/2011</td>\n",
       "      <td>-2.320</td>\n",
       "    </tr>\n",
       "    <tr>\n",
       "      <th>2031</th>\n",
       "      <td>14090</td>\n",
       "      <td>2011_1Q</td>\n",
       "      <td>GBR</td>\n",
       "      <td>United Kingdom</td>\n",
       "      <td>..</td>\n",
       "      <td>High income: OECD</td>\n",
       "      <td>..</td>\n",
       "      <td>G8/G20</td>\n",
       "      <td>PHL</td>\n",
       "      <td>Philippines</td>\n",
       "      <td>...</td>\n",
       "      <td>-0.73</td>\n",
       "      <td>-0.73</td>\n",
       "      <td>70.23480</td>\n",
       "      <td>yes</td>\n",
       "      <td>This RSP's negative cost may be due to it havi...</td>\n",
       "      <td>NaN</td>\n",
       "      <td>Nationwide</td>\n",
       "      <td>Mobile</td>\n",
       "      <td>25/Jan/2011</td>\n",
       "      <td>-0.730</td>\n",
       "    </tr>\n",
       "    <tr>\n",
       "      <th>2135</th>\n",
       "      <td>14003</td>\n",
       "      <td>2011_1Q</td>\n",
       "      <td>GBR</td>\n",
       "      <td>United Kingdom</td>\n",
       "      <td>..</td>\n",
       "      <td>High income: OECD</td>\n",
       "      <td>..</td>\n",
       "      <td>G8/G20</td>\n",
       "      <td>LKA</td>\n",
       "      <td>Sri Lanka</td>\n",
       "      <td>...</td>\n",
       "      <td>-4.27</td>\n",
       "      <td>-3.27</td>\n",
       "      <td>175.02700</td>\n",
       "      <td>yes</td>\n",
       "      <td>This RSP's negative cost may be due to it havi...</td>\n",
       "      <td>NaN</td>\n",
       "      <td>Nationwide</td>\n",
       "      <td>Bank Account</td>\n",
       "      <td>25/Jan/2011</td>\n",
       "      <td>-2.520</td>\n",
       "    </tr>\n",
       "    <tr>\n",
       "      <th>3301</th>\n",
       "      <td>27408</td>\n",
       "      <td>2011_3Q</td>\n",
       "      <td>DEU</td>\n",
       "      <td>Germany</td>\n",
       "      <td>..</td>\n",
       "      <td>High income: OECD</td>\n",
       "      <td>..</td>\n",
       "      <td>G8/G20</td>\n",
       "      <td>TUR</td>\n",
       "      <td>Turkey</td>\n",
       "      <td>...</td>\n",
       "      <td>-9.05</td>\n",
       "      <td>-4.71</td>\n",
       "      <td>2.48500</td>\n",
       "      <td>yes</td>\n",
       "      <td>A negative exchange rate margin for this opera...</td>\n",
       "      <td>NaN</td>\n",
       "      <td>Nationwide</td>\n",
       "      <td>Bank Account</td>\n",
       "      <td>08/Sep/2011</td>\n",
       "      <td>-1.525</td>\n",
       "    </tr>\n",
       "    <tr>\n",
       "      <th>3627</th>\n",
       "      <td>28409</td>\n",
       "      <td>2011_3Q</td>\n",
       "      <td>MYS</td>\n",
       "      <td>Malaysia</td>\n",
       "      <td>East Asia &amp; Pacific</td>\n",
       "      <td>Upper middle income</td>\n",
       "      <td>IBRD</td>\n",
       "      <td>..</td>\n",
       "      <td>IDN</td>\n",
       "      <td>Indonesia</td>\n",
       "      <td>...</td>\n",
       "      <td>-1.40</td>\n",
       "      <td>-0.69</td>\n",
       "      <td>2859.82000</td>\n",
       "      <td>yes</td>\n",
       "      <td>Through Western Union</td>\n",
       "      <td>NaN</td>\n",
       "      <td>Nationwide</td>\n",
       "      <td>Cash</td>\n",
       "      <td>07/Sep/2011</td>\n",
       "      <td>-0.145</td>\n",
       "    </tr>\n",
       "    <tr>\n",
       "      <th>3628</th>\n",
       "      <td>28412</td>\n",
       "      <td>2011_3Q</td>\n",
       "      <td>MYS</td>\n",
       "      <td>Malaysia</td>\n",
       "      <td>East Asia &amp; Pacific</td>\n",
       "      <td>Upper middle income</td>\n",
       "      <td>IBRD</td>\n",
       "      <td>..</td>\n",
       "      <td>IDN</td>\n",
       "      <td>Indonesia</td>\n",
       "      <td>...</td>\n",
       "      <td>-1.40</td>\n",
       "      <td>-0.69</td>\n",
       "      <td>2859.82000</td>\n",
       "      <td>yes</td>\n",
       "      <td>A negative exchange rate margin for this opera...</td>\n",
       "      <td>NaN</td>\n",
       "      <td>Nationwide</td>\n",
       "      <td>Cash</td>\n",
       "      <td>07/Sep/2011</td>\n",
       "      <td>-0.145</td>\n",
       "    </tr>\n",
       "    <tr>\n",
       "      <th>4481</th>\n",
       "      <td>27713</td>\n",
       "      <td>2011_3Q</td>\n",
       "      <td>GBR</td>\n",
       "      <td>United Kingdom</td>\n",
       "      <td>..</td>\n",
       "      <td>High income: OECD</td>\n",
       "      <td>..</td>\n",
       "      <td>G8/G20</td>\n",
       "      <td>BGD</td>\n",
       "      <td>Bangladesh</td>\n",
       "      <td>...</td>\n",
       "      <td>-2.12</td>\n",
       "      <td>-1.12</td>\n",
       "      <td>118.97800</td>\n",
       "      <td>yes</td>\n",
       "      <td>A negative exchange rate margin for this opera...</td>\n",
       "      <td>NaN</td>\n",
       "      <td>Nationwide</td>\n",
       "      <td>Bank Account</td>\n",
       "      <td>05/Sep/2011</td>\n",
       "      <td>-0.370</td>\n",
       "    </tr>\n",
       "    <tr>\n",
       "      <th>4508</th>\n",
       "      <td>27724</td>\n",
       "      <td>2011_3Q</td>\n",
       "      <td>GBR</td>\n",
       "      <td>United Kingdom</td>\n",
       "      <td>..</td>\n",
       "      <td>High income: OECD</td>\n",
       "      <td>..</td>\n",
       "      <td>G8/G20</td>\n",
       "      <td>BGR</td>\n",
       "      <td>Bulgaria</td>\n",
       "      <td>...</td>\n",
       "      <td>-5.45</td>\n",
       "      <td>-3.78</td>\n",
       "      <td>1.13800</td>\n",
       "      <td>yes</td>\n",
       "      <td>A negative exchange rate margin for this opera...</td>\n",
       "      <td>NaN</td>\n",
       "      <td>Nationwide</td>\n",
       "      <td>Cash</td>\n",
       "      <td>02/Sep/2011</td>\n",
       "      <td>-2.530</td>\n",
       "    </tr>\n",
       "    <tr>\n",
       "      <th>4556</th>\n",
       "      <td>27804</td>\n",
       "      <td>2011_3Q</td>\n",
       "      <td>GBR</td>\n",
       "      <td>United Kingdom</td>\n",
       "      <td>..</td>\n",
       "      <td>High income: OECD</td>\n",
       "      <td>..</td>\n",
       "      <td>G8/G20</td>\n",
       "      <td>GMB</td>\n",
       "      <td>Gambia, The</td>\n",
       "      <td>...</td>\n",
       "      <td>-6.02</td>\n",
       "      <td>-2.69</td>\n",
       "      <td>44.33000</td>\n",
       "      <td>yes</td>\n",
       "      <td>A negative exchange rate margin for this opera...</td>\n",
       "      <td>NaN</td>\n",
       "      <td>Main city</td>\n",
       "      <td>NaN</td>\n",
       "      <td>02/Sep/2011</td>\n",
       "      <td>-2.275</td>\n",
       "    </tr>\n",
       "    <tr>\n",
       "      <th>4557</th>\n",
       "      <td>27806</td>\n",
       "      <td>2011_3Q</td>\n",
       "      <td>GBR</td>\n",
       "      <td>United Kingdom</td>\n",
       "      <td>..</td>\n",
       "      <td>High income: OECD</td>\n",
       "      <td>..</td>\n",
       "      <td>G8/G20</td>\n",
       "      <td>GMB</td>\n",
       "      <td>Gambia, The</td>\n",
       "      <td>...</td>\n",
       "      <td>-4.74</td>\n",
       "      <td>-1.74</td>\n",
       "      <td>44.33000</td>\n",
       "      <td>yes</td>\n",
       "      <td>A negative exchange rate margin for this opera...</td>\n",
       "      <td>NaN</td>\n",
       "      <td>Main city</td>\n",
       "      <td>NaN</td>\n",
       "      <td>02/Sep/2011</td>\n",
       "      <td>-1.590</td>\n",
       "    </tr>\n",
       "    <tr>\n",
       "      <th>4558</th>\n",
       "      <td>27799</td>\n",
       "      <td>2011_3Q</td>\n",
       "      <td>GBR</td>\n",
       "      <td>United Kingdom</td>\n",
       "      <td>..</td>\n",
       "      <td>High income: OECD</td>\n",
       "      <td>..</td>\n",
       "      <td>G8/G20</td>\n",
       "      <td>GMB</td>\n",
       "      <td>Gambia, The</td>\n",
       "      <td>...</td>\n",
       "      <td>-6.02</td>\n",
       "      <td>-3.19</td>\n",
       "      <td>44.33000</td>\n",
       "      <td>yes</td>\n",
       "      <td>A negative exchange rate margin for this opera...</td>\n",
       "      <td>NaN</td>\n",
       "      <td>Major cities</td>\n",
       "      <td>NaN</td>\n",
       "      <td>02/Sep/2011</td>\n",
       "      <td>-1.900</td>\n",
       "    </tr>\n",
       "    <tr>\n",
       "      <th>7150</th>\n",
       "      <td>16433</td>\n",
       "      <td>2012_1Q</td>\n",
       "      <td>GBR</td>\n",
       "      <td>United Kingdom</td>\n",
       "      <td>..</td>\n",
       "      <td>High income: OECD</td>\n",
       "      <td>..</td>\n",
       "      <td>G8/G20</td>\n",
       "      <td>BGR</td>\n",
       "      <td>Bulgaria</td>\n",
       "      <td>...</td>\n",
       "      <td>-3.07</td>\n",
       "      <td>-0.57</td>\n",
       "      <td>2.36271</td>\n",
       "      <td>yes</td>\n",
       "      <td>The negative total cost does not mean that the...</td>\n",
       "      <td>NaN</td>\n",
       "      <td>Nationwide</td>\n",
       "      <td>NaN</td>\n",
       "      <td>06/Feb/2012</td>\n",
       "      <td>-0.570</td>\n",
       "    </tr>\n",
       "    <tr>\n",
       "      <th>8096</th>\n",
       "      <td>29737</td>\n",
       "      <td>2012_3Q</td>\n",
       "      <td>AUT</td>\n",
       "      <td>Austria</td>\n",
       "      <td>..</td>\n",
       "      <td>High income: OECD</td>\n",
       "      <td>..</td>\n",
       "      <td>..</td>\n",
       "      <td>HRV</td>\n",
       "      <td>Croatia</td>\n",
       "      <td>...</td>\n",
       "      <td>-0.18</td>\n",
       "      <td>-0.18</td>\n",
       "      <td>7.44940</td>\n",
       "      <td>yes</td>\n",
       "      <td>A negative exchange rate margin for this opera...</td>\n",
       "      <td>NaN</td>\n",
       "      <td>Nationwide</td>\n",
       "      <td>Bank Account</td>\n",
       "      <td>06/Sep/2012</td>\n",
       "      <td>-0.180</td>\n",
       "    </tr>\n",
       "    <tr>\n",
       "      <th>8121</th>\n",
       "      <td>29764</td>\n",
       "      <td>2012_3Q</td>\n",
       "      <td>AUT</td>\n",
       "      <td>Austria</td>\n",
       "      <td>..</td>\n",
       "      <td>High income: OECD</td>\n",
       "      <td>..</td>\n",
       "      <td>..</td>\n",
       "      <td>TUR</td>\n",
       "      <td>Turkey</td>\n",
       "      <td>...</td>\n",
       "      <td>-0.10</td>\n",
       "      <td>-0.10</td>\n",
       "      <td>2.29380</td>\n",
       "      <td>yes</td>\n",
       "      <td>A negative exchange rate margin for this opera...</td>\n",
       "      <td>NaN</td>\n",
       "      <td>Nationwide</td>\n",
       "      <td>Bank Account</td>\n",
       "      <td>06/Sep/2012</td>\n",
       "      <td>-0.100</td>\n",
       "    </tr>\n",
       "    <tr>\n",
       "      <th>9024</th>\n",
       "      <td>31177</td>\n",
       "      <td>2012_3Q</td>\n",
       "      <td>MYS</td>\n",
       "      <td>Malaysia</td>\n",
       "      <td>East Asia &amp; Pacific</td>\n",
       "      <td>Upper middle income</td>\n",
       "      <td>IBRD</td>\n",
       "      <td>..</td>\n",
       "      <td>BGD</td>\n",
       "      <td>Bangladesh</td>\n",
       "      <td>...</td>\n",
       "      <td>-3.02</td>\n",
       "      <td>-1.32</td>\n",
       "      <td>26.23460</td>\n",
       "      <td>yes</td>\n",
       "      <td>The negative total cost does not mean that the...</td>\n",
       "      <td>NaN</td>\n",
       "      <td>Nationwide</td>\n",
       "      <td>Bank Account</td>\n",
       "      <td>06/Sep/2012</td>\n",
       "      <td>-0.040</td>\n",
       "    </tr>\n",
       "    <tr>\n",
       "      <th>10032</th>\n",
       "      <td>30551</td>\n",
       "      <td>2012_3Q</td>\n",
       "      <td>GBR</td>\n",
       "      <td>United Kingdom</td>\n",
       "      <td>..</td>\n",
       "      <td>High income: OECD</td>\n",
       "      <td>..</td>\n",
       "      <td>G8/G20</td>\n",
       "      <td>GMB</td>\n",
       "      <td>Gambia, The</td>\n",
       "      <td>...</td>\n",
       "      <td>-6.23</td>\n",
       "      <td>-4.73</td>\n",
       "      <td>48.76320</td>\n",
       "      <td>yes</td>\n",
       "      <td>The negative total cost does not mean that the...</td>\n",
       "      <td>NaN</td>\n",
       "      <td>Major cities</td>\n",
       "      <td>Cash</td>\n",
       "      <td>04/Sep/2012</td>\n",
       "      <td>-3.980</td>\n",
       "    </tr>\n",
       "    <tr>\n",
       "      <th>10033</th>\n",
       "      <td>30553</td>\n",
       "      <td>2012_3Q</td>\n",
       "      <td>GBR</td>\n",
       "      <td>United Kingdom</td>\n",
       "      <td>..</td>\n",
       "      <td>High income: OECD</td>\n",
       "      <td>..</td>\n",
       "      <td>G8/G20</td>\n",
       "      <td>GMB</td>\n",
       "      <td>Gambia, The</td>\n",
       "      <td>...</td>\n",
       "      <td>-6.06</td>\n",
       "      <td>-2.26</td>\n",
       "      <td>48.76320</td>\n",
       "      <td>yes</td>\n",
       "      <td>The negative total cost does not mean that the...</td>\n",
       "      <td>NaN</td>\n",
       "      <td>Major cities</td>\n",
       "      <td>Cash</td>\n",
       "      <td>04/Sep/2012</td>\n",
       "      <td>-2.260</td>\n",
       "    </tr>\n",
       "    <tr>\n",
       "      <th>10034</th>\n",
       "      <td>30554</td>\n",
       "      <td>2012_3Q</td>\n",
       "      <td>GBR</td>\n",
       "      <td>United Kingdom</td>\n",
       "      <td>..</td>\n",
       "      <td>High income: OECD</td>\n",
       "      <td>..</td>\n",
       "      <td>G8/G20</td>\n",
       "      <td>GMB</td>\n",
       "      <td>Gambia, The</td>\n",
       "      <td>...</td>\n",
       "      <td>-6.06</td>\n",
       "      <td>-2.06</td>\n",
       "      <td>48.76320</td>\n",
       "      <td>yes</td>\n",
       "      <td>The negative total cost does not mean that the...</td>\n",
       "      <td>NaN</td>\n",
       "      <td>Major cities</td>\n",
       "      <td>Cash</td>\n",
       "      <td>04/Sep/2012</td>\n",
       "      <td>-2.060</td>\n",
       "    </tr>\n",
       "    <tr>\n",
       "      <th>10035</th>\n",
       "      <td>30556</td>\n",
       "      <td>2012_3Q</td>\n",
       "      <td>GBR</td>\n",
       "      <td>United Kingdom</td>\n",
       "      <td>..</td>\n",
       "      <td>High income: OECD</td>\n",
       "      <td>..</td>\n",
       "      <td>G8/G20</td>\n",
       "      <td>GMB</td>\n",
       "      <td>Gambia, The</td>\n",
       "      <td>...</td>\n",
       "      <td>-4.77</td>\n",
       "      <td>-1.77</td>\n",
       "      <td>48.76320</td>\n",
       "      <td>yes</td>\n",
       "      <td>The negative total cost does not mean that the...</td>\n",
       "      <td>NaN</td>\n",
       "      <td>Main city</td>\n",
       "      <td>Cash</td>\n",
       "      <td>04/Sep/2012</td>\n",
       "      <td>-1.770</td>\n",
       "    </tr>\n",
       "    <tr>\n",
       "      <th>10209</th>\n",
       "      <td>30725</td>\n",
       "      <td>2012_3Q</td>\n",
       "      <td>GBR</td>\n",
       "      <td>United Kingdom</td>\n",
       "      <td>..</td>\n",
       "      <td>High income: OECD</td>\n",
       "      <td>..</td>\n",
       "      <td>G8/G20</td>\n",
       "      <td>POL</td>\n",
       "      <td>Poland</td>\n",
       "      <td>...</td>\n",
       "      <td>-2.75</td>\n",
       "      <td>-0.25</td>\n",
       "      <td>5.14973</td>\n",
       "      <td>yes</td>\n",
       "      <td>A negative total cost for this operator may be...</td>\n",
       "      <td>NaN</td>\n",
       "      <td>Nationwide</td>\n",
       "      <td>ATM Network</td>\n",
       "      <td>07/Sep/2012</td>\n",
       "      <td>-0.250</td>\n",
       "    </tr>\n",
       "    <tr>\n",
       "      <th>11192</th>\n",
       "      <td>18593</td>\n",
       "      <td>2013_1Q</td>\n",
       "      <td>CHL</td>\n",
       "      <td>Chile</td>\n",
       "      <td>..</td>\n",
       "      <td>High income: OECD</td>\n",
       "      <td>IBRD</td>\n",
       "      <td>..</td>\n",
       "      <td>PER</td>\n",
       "      <td>Peru</td>\n",
       "      <td>...</td>\n",
       "      <td>-2.62</td>\n",
       "      <td>-0.12</td>\n",
       "      <td>472.62000</td>\n",
       "      <td>yes</td>\n",
       "      <td>A negative total cost for this operator may be...</td>\n",
       "      <td>NaN</td>\n",
       "      <td>Nationwide</td>\n",
       "      <td>NaN</td>\n",
       "      <td>06/Feb/2013</td>\n",
       "      <td>-0.120</td>\n",
       "    </tr>\n",
       "    <tr>\n",
       "      <th>12264</th>\n",
       "      <td>20154</td>\n",
       "      <td>2013_1Q</td>\n",
       "      <td>NZL</td>\n",
       "      <td>New Zealand</td>\n",
       "      <td>..</td>\n",
       "      <td>High income: OECD</td>\n",
       "      <td>..</td>\n",
       "      <td>..</td>\n",
       "      <td>VUT</td>\n",
       "      <td>Vanuatu</td>\n",
       "      <td>...</td>\n",
       "      <td>-3.81</td>\n",
       "      <td>-2.27</td>\n",
       "      <td>75.59130</td>\n",
       "      <td>yes</td>\n",
       "      <td>The negative total cost does not mean that the...</td>\n",
       "      <td>NaN</td>\n",
       "      <td>Main city</td>\n",
       "      <td>NaN</td>\n",
       "      <td>05/Feb/2013</td>\n",
       "      <td>-1.115</td>\n",
       "    </tr>\n",
       "    <tr>\n",
       "      <th>12595</th>\n",
       "      <td>20474</td>\n",
       "      <td>2013_1Q</td>\n",
       "      <td>SGP</td>\n",
       "      <td>Singapore</td>\n",
       "      <td>..</td>\n",
       "      <td>High income: nonOECD</td>\n",
       "      <td>..</td>\n",
       "      <td>..</td>\n",
       "      <td>THA</td>\n",
       "      <td>Thailand</td>\n",
       "      <td>...</td>\n",
       "      <td>-3.15</td>\n",
       "      <td>-1.60</td>\n",
       "      <td>24.04200</td>\n",
       "      <td>yes</td>\n",
       "      <td>The negative total cost does not mean that the...</td>\n",
       "      <td>NaN</td>\n",
       "      <td>Nationwide</td>\n",
       "      <td>NaN</td>\n",
       "      <td>07/Feb/2013</td>\n",
       "      <td>-0.455</td>\n",
       "    </tr>\n",
       "    <tr>\n",
       "      <th>12596</th>\n",
       "      <td>20475</td>\n",
       "      <td>2013_1Q</td>\n",
       "      <td>SGP</td>\n",
       "      <td>Singapore</td>\n",
       "      <td>..</td>\n",
       "      <td>High income: nonOECD</td>\n",
       "      <td>..</td>\n",
       "      <td>..</td>\n",
       "      <td>THA</td>\n",
       "      <td>Thailand</td>\n",
       "      <td>...</td>\n",
       "      <td>-3.44</td>\n",
       "      <td>-1.58</td>\n",
       "      <td>24.04200</td>\n",
       "      <td>yes</td>\n",
       "      <td>The negative total cost does not mean that the...</td>\n",
       "      <td>NaN</td>\n",
       "      <td>Nationwide</td>\n",
       "      <td>NaN</td>\n",
       "      <td>07/Feb/2013</td>\n",
       "      <td>-0.205</td>\n",
       "    </tr>\n",
       "    <tr>\n",
       "      <th>...</th>\n",
       "      <td>...</td>\n",
       "      <td>...</td>\n",
       "      <td>...</td>\n",
       "      <td>...</td>\n",
       "      <td>...</td>\n",
       "      <td>...</td>\n",
       "      <td>...</td>\n",
       "      <td>...</td>\n",
       "      <td>...</td>\n",
       "      <td>...</td>\n",
       "      <td>...</td>\n",
       "      <td>...</td>\n",
       "      <td>...</td>\n",
       "      <td>...</td>\n",
       "      <td>...</td>\n",
       "      <td>...</td>\n",
       "      <td>...</td>\n",
       "      <td>...</td>\n",
       "      <td>...</td>\n",
       "      <td>...</td>\n",
       "      <td>...</td>\n",
       "    </tr>\n",
       "    <tr>\n",
       "      <th>31394</th>\n",
       "      <td>41399</td>\n",
       "      <td>2014_4Q</td>\n",
       "      <td>AUS</td>\n",
       "      <td>Australia</td>\n",
       "      <td>..</td>\n",
       "      <td>High income: OECD</td>\n",
       "      <td>..</td>\n",
       "      <td>G20</td>\n",
       "      <td>IND</td>\n",
       "      <td>India</td>\n",
       "      <td>...</td>\n",
       "      <td>-2.21</td>\n",
       "      <td>-1.21</td>\n",
       "      <td>53.04650</td>\n",
       "      <td>yes</td>\n",
       "      <td>The negative total cost does not mean that the...</td>\n",
       "      <td>NaN</td>\n",
       "      <td>Nationwide</td>\n",
       "      <td>Cash</td>\n",
       "      <td>12/Nov/2014</td>\n",
       "      <td>-0.460</td>\n",
       "    </tr>\n",
       "    <tr>\n",
       "      <th>31395</th>\n",
       "      <td>41400</td>\n",
       "      <td>2014_4Q</td>\n",
       "      <td>AUS</td>\n",
       "      <td>Australia</td>\n",
       "      <td>..</td>\n",
       "      <td>High income: OECD</td>\n",
       "      <td>..</td>\n",
       "      <td>G20</td>\n",
       "      <td>IND</td>\n",
       "      <td>India</td>\n",
       "      <td>...</td>\n",
       "      <td>-2.21</td>\n",
       "      <td>-1.21</td>\n",
       "      <td>53.04650</td>\n",
       "      <td>yes</td>\n",
       "      <td>The negative total cost does not mean that the...</td>\n",
       "      <td>NaN</td>\n",
       "      <td>Nationwide</td>\n",
       "      <td>Bank Account</td>\n",
       "      <td>12/Nov/2014</td>\n",
       "      <td>-0.460</td>\n",
       "    </tr>\n",
       "    <tr>\n",
       "      <th>32317</th>\n",
       "      <td>42765</td>\n",
       "      <td>2014_4Q</td>\n",
       "      <td>ITA</td>\n",
       "      <td>Italy</td>\n",
       "      <td>..</td>\n",
       "      <td>High income: OECD</td>\n",
       "      <td>..</td>\n",
       "      <td>G8/G20</td>\n",
       "      <td>ETH</td>\n",
       "      <td>Ethiopia</td>\n",
       "      <td>...</td>\n",
       "      <td>-6.21</td>\n",
       "      <td>-2.44</td>\n",
       "      <td>1.24186</td>\n",
       "      <td>yes</td>\n",
       "      <td>This RSP sends EUR and pays out USD in this co...</td>\n",
       "      <td>The negative total cost does not mean that the...</td>\n",
       "      <td>Nationwide</td>\n",
       "      <td>Cash</td>\n",
       "      <td>11/Nov/2014</td>\n",
       "      <td>-1.645</td>\n",
       "    </tr>\n",
       "    <tr>\n",
       "      <th>33770</th>\n",
       "      <td>42675</td>\n",
       "      <td>2014_4Q</td>\n",
       "      <td>GBR</td>\n",
       "      <td>United Kingdom</td>\n",
       "      <td>..</td>\n",
       "      <td>High income: OECD</td>\n",
       "      <td>..</td>\n",
       "      <td>G8/G20</td>\n",
       "      <td>SLE</td>\n",
       "      <td>Sierra Leone</td>\n",
       "      <td>...</td>\n",
       "      <td>-8.80</td>\n",
       "      <td>-5.46</td>\n",
       "      <td>6893.62000</td>\n",
       "      <td>yes</td>\n",
       "      <td>The negative total cost does not mean that the...</td>\n",
       "      <td>NaN</td>\n",
       "      <td>Main city</td>\n",
       "      <td>Cash</td>\n",
       "      <td>11/Nov/2014</td>\n",
       "      <td>-5.460</td>\n",
       "    </tr>\n",
       "    <tr>\n",
       "      <th>33771</th>\n",
       "      <td>42676</td>\n",
       "      <td>2014_4Q</td>\n",
       "      <td>GBR</td>\n",
       "      <td>United Kingdom</td>\n",
       "      <td>..</td>\n",
       "      <td>High income: OECD</td>\n",
       "      <td>..</td>\n",
       "      <td>G8/G20</td>\n",
       "      <td>SLE</td>\n",
       "      <td>Sierra Leone</td>\n",
       "      <td>...</td>\n",
       "      <td>-6.61</td>\n",
       "      <td>-3.61</td>\n",
       "      <td>6893.62000</td>\n",
       "      <td>yes</td>\n",
       "      <td>The negative total cost does not mean that the...</td>\n",
       "      <td>NaN</td>\n",
       "      <td>Main city</td>\n",
       "      <td>Cash</td>\n",
       "      <td>11/Nov/2014</td>\n",
       "      <td>-3.610</td>\n",
       "    </tr>\n",
       "    <tr>\n",
       "      <th>33772</th>\n",
       "      <td>42674</td>\n",
       "      <td>2014_4Q</td>\n",
       "      <td>GBR</td>\n",
       "      <td>United Kingdom</td>\n",
       "      <td>..</td>\n",
       "      <td>High income: OECD</td>\n",
       "      <td>..</td>\n",
       "      <td>G8/G20</td>\n",
       "      <td>SLE</td>\n",
       "      <td>Sierra Leone</td>\n",
       "      <td>...</td>\n",
       "      <td>-7.41</td>\n",
       "      <td>-5.74</td>\n",
       "      <td>6893.62000</td>\n",
       "      <td>yes</td>\n",
       "      <td>The negative total cost does not mean that the...</td>\n",
       "      <td>NaN</td>\n",
       "      <td>Nationwide</td>\n",
       "      <td>Cash</td>\n",
       "      <td>11/Nov/2014</td>\n",
       "      <td>-4.490</td>\n",
       "    </tr>\n",
       "    <tr>\n",
       "      <th>33773</th>\n",
       "      <td>42677</td>\n",
       "      <td>2014_4Q</td>\n",
       "      <td>GBR</td>\n",
       "      <td>United Kingdom</td>\n",
       "      <td>..</td>\n",
       "      <td>High income: OECD</td>\n",
       "      <td>..</td>\n",
       "      <td>G8/G20</td>\n",
       "      <td>SLE</td>\n",
       "      <td>Sierra Leone</td>\n",
       "      <td>...</td>\n",
       "      <td>-5.81</td>\n",
       "      <td>-1.81</td>\n",
       "      <td>6893.62000</td>\n",
       "      <td>yes</td>\n",
       "      <td>The negative total cost does not mean that the...</td>\n",
       "      <td>NaN</td>\n",
       "      <td>Major cities</td>\n",
       "      <td>Cash</td>\n",
       "      <td>11/Nov/2014</td>\n",
       "      <td>-1.810</td>\n",
       "    </tr>\n",
       "    <tr>\n",
       "      <th>33774</th>\n",
       "      <td>42679</td>\n",
       "      <td>2014_4Q</td>\n",
       "      <td>GBR</td>\n",
       "      <td>United Kingdom</td>\n",
       "      <td>..</td>\n",
       "      <td>High income: OECD</td>\n",
       "      <td>..</td>\n",
       "      <td>G8/G20</td>\n",
       "      <td>SLE</td>\n",
       "      <td>Sierra Leone</td>\n",
       "      <td>...</td>\n",
       "      <td>-6.89</td>\n",
       "      <td>-4.59</td>\n",
       "      <td>6893.62000</td>\n",
       "      <td>yes</td>\n",
       "      <td>The negative total cost does not mean that the...</td>\n",
       "      <td>NaN</td>\n",
       "      <td>Nationwide</td>\n",
       "      <td>Cash</td>\n",
       "      <td>11/Nov/2014</td>\n",
       "      <td>-2.865</td>\n",
       "    </tr>\n",
       "    <tr>\n",
       "      <th>33775</th>\n",
       "      <td>42678</td>\n",
       "      <td>2014_4Q</td>\n",
       "      <td>GBR</td>\n",
       "      <td>United Kingdom</td>\n",
       "      <td>..</td>\n",
       "      <td>High income: OECD</td>\n",
       "      <td>..</td>\n",
       "      <td>G8/G20</td>\n",
       "      <td>SLE</td>\n",
       "      <td>Sierra Leone</td>\n",
       "      <td>...</td>\n",
       "      <td>-8.08</td>\n",
       "      <td>-4.75</td>\n",
       "      <td>6893.62000</td>\n",
       "      <td>yes</td>\n",
       "      <td>The negative total cost does not mean that the...</td>\n",
       "      <td>NaN</td>\n",
       "      <td>Nationwide</td>\n",
       "      <td>Cash</td>\n",
       "      <td>11/Nov/2014</td>\n",
       "      <td>-2.250</td>\n",
       "    </tr>\n",
       "    <tr>\n",
       "      <th>33776</th>\n",
       "      <td>42680</td>\n",
       "      <td>2014_4Q</td>\n",
       "      <td>GBR</td>\n",
       "      <td>United Kingdom</td>\n",
       "      <td>..</td>\n",
       "      <td>High income: OECD</td>\n",
       "      <td>..</td>\n",
       "      <td>G8/G20</td>\n",
       "      <td>SLE</td>\n",
       "      <td>Sierra Leone</td>\n",
       "      <td>...</td>\n",
       "      <td>-6.89</td>\n",
       "      <td>-3.92</td>\n",
       "      <td>6893.62000</td>\n",
       "      <td>yes</td>\n",
       "      <td>The negative total cost does not mean that the...</td>\n",
       "      <td>NaN</td>\n",
       "      <td>Nationwide</td>\n",
       "      <td>Cash</td>\n",
       "      <td>11/Nov/2014</td>\n",
       "      <td>-1.695</td>\n",
       "    </tr>\n",
       "    <tr>\n",
       "      <th>33795</th>\n",
       "      <td>42536</td>\n",
       "      <td>2014_4Q</td>\n",
       "      <td>GBR</td>\n",
       "      <td>United Kingdom</td>\n",
       "      <td>..</td>\n",
       "      <td>High income: OECD</td>\n",
       "      <td>..</td>\n",
       "      <td>G8/G20</td>\n",
       "      <td>LKA</td>\n",
       "      <td>Sri Lanka</td>\n",
       "      <td>...</td>\n",
       "      <td>-2.97</td>\n",
       "      <td>-1.97</td>\n",
       "      <td>208.79400</td>\n",
       "      <td>yes</td>\n",
       "      <td>A negative total cost for this operator may be...</td>\n",
       "      <td>NaN</td>\n",
       "      <td>Nationwide</td>\n",
       "      <td>Cash, Bank Account</td>\n",
       "      <td>12/Nov/2014</td>\n",
       "      <td>-1.220</td>\n",
       "    </tr>\n",
       "    <tr>\n",
       "      <th>33796</th>\n",
       "      <td>42549</td>\n",
       "      <td>2014_4Q</td>\n",
       "      <td>GBR</td>\n",
       "      <td>United Kingdom</td>\n",
       "      <td>..</td>\n",
       "      <td>High income: OECD</td>\n",
       "      <td>..</td>\n",
       "      <td>G8/G20</td>\n",
       "      <td>LKA</td>\n",
       "      <td>Sri Lanka</td>\n",
       "      <td>...</td>\n",
       "      <td>-2.97</td>\n",
       "      <td>-1.97</td>\n",
       "      <td>208.79400</td>\n",
       "      <td>yes</td>\n",
       "      <td>A negative total cost for this operator may be...</td>\n",
       "      <td>NaN</td>\n",
       "      <td>Nationwide</td>\n",
       "      <td>Cash, Bank Account</td>\n",
       "      <td>12/Nov/2014</td>\n",
       "      <td>-1.220</td>\n",
       "    </tr>\n",
       "    <tr>\n",
       "      <th>34010</th>\n",
       "      <td>43836</td>\n",
       "      <td>2014_4Q</td>\n",
       "      <td>USA</td>\n",
       "      <td>United States</td>\n",
       "      <td>..</td>\n",
       "      <td>High income: OECD</td>\n",
       "      <td>..</td>\n",
       "      <td>G8/G20</td>\n",
       "      <td>HTI</td>\n",
       "      <td>Haiti</td>\n",
       "      <td>...</td>\n",
       "      <td>-4.95</td>\n",
       "      <td>-2.56</td>\n",
       "      <td>44.20000</td>\n",
       "      <td>yes</td>\n",
       "      <td>The negative total cost does not mean that the...</td>\n",
       "      <td>LCU service</td>\n",
       "      <td>Nationwide</td>\n",
       "      <td>Bank Account</td>\n",
       "      <td>11/Nov/2014</td>\n",
       "      <td>-1.760</td>\n",
       "    </tr>\n",
       "    <tr>\n",
       "      <th>34489</th>\n",
       "      <td>46437</td>\n",
       "      <td>2015_1Q</td>\n",
       "      <td>AUT</td>\n",
       "      <td>Austria</td>\n",
       "      <td>..</td>\n",
       "      <td>High income: OECD</td>\n",
       "      <td>..</td>\n",
       "      <td>..</td>\n",
       "      <td>HRV</td>\n",
       "      <td>Croatia</td>\n",
       "      <td>...</td>\n",
       "      <td>-0.01</td>\n",
       "      <td>-0.01</td>\n",
       "      <td>7.69600</td>\n",
       "      <td>yes</td>\n",
       "      <td>A negative total cost for this operator may be...</td>\n",
       "      <td>NaN</td>\n",
       "      <td>Nationwide</td>\n",
       "      <td>Bank Account</td>\n",
       "      <td>19/Feb/2015</td>\n",
       "      <td>-0.010</td>\n",
       "    </tr>\n",
       "    <tr>\n",
       "      <th>34496</th>\n",
       "      <td>46440</td>\n",
       "      <td>2015_1Q</td>\n",
       "      <td>AUT</td>\n",
       "      <td>Austria</td>\n",
       "      <td>..</td>\n",
       "      <td>High income: OECD</td>\n",
       "      <td>..</td>\n",
       "      <td>..</td>\n",
       "      <td>HUN</td>\n",
       "      <td>Hungary</td>\n",
       "      <td>...</td>\n",
       "      <td>-0.01</td>\n",
       "      <td>-0.01</td>\n",
       "      <td>305.49500</td>\n",
       "      <td>yes</td>\n",
       "      <td>A negative total cost for this operator may be...</td>\n",
       "      <td>NaN</td>\n",
       "      <td>Nationwide</td>\n",
       "      <td>Bank Account</td>\n",
       "      <td>19/Feb/2015</td>\n",
       "      <td>-0.010</td>\n",
       "    </tr>\n",
       "    <tr>\n",
       "      <th>34544</th>\n",
       "      <td>46579</td>\n",
       "      <td>2015_1Q</td>\n",
       "      <td>BRA</td>\n",
       "      <td>Brazil</td>\n",
       "      <td>Latin America &amp; Caribbean</td>\n",
       "      <td>Upper middle income</td>\n",
       "      <td>IBRD</td>\n",
       "      <td>G20</td>\n",
       "      <td>BOL</td>\n",
       "      <td>Bolivia</td>\n",
       "      <td>...</td>\n",
       "      <td>-4.17</td>\n",
       "      <td>-0.57</td>\n",
       "      <td>2.88000</td>\n",
       "      <td>yes</td>\n",
       "      <td>A negative total cost for this operator may be...</td>\n",
       "      <td>NaN</td>\n",
       "      <td>Nationwide</td>\n",
       "      <td>Cash</td>\n",
       "      <td>20/Feb/2015</td>\n",
       "      <td>-0.570</td>\n",
       "    </tr>\n",
       "    <tr>\n",
       "      <th>34545</th>\n",
       "      <td>46580</td>\n",
       "      <td>2015_1Q</td>\n",
       "      <td>BRA</td>\n",
       "      <td>Brazil</td>\n",
       "      <td>Latin America &amp; Caribbean</td>\n",
       "      <td>Upper middle income</td>\n",
       "      <td>IBRD</td>\n",
       "      <td>G20</td>\n",
       "      <td>BOL</td>\n",
       "      <td>Bolivia</td>\n",
       "      <td>...</td>\n",
       "      <td>-4.17</td>\n",
       "      <td>-0.57</td>\n",
       "      <td>2.88000</td>\n",
       "      <td>yes</td>\n",
       "      <td>A negative total cost for this operator may be...</td>\n",
       "      <td>NaN</td>\n",
       "      <td>Nationwide</td>\n",
       "      <td>Cash</td>\n",
       "      <td>20/Feb/2015</td>\n",
       "      <td>-0.570</td>\n",
       "    </tr>\n",
       "    <tr>\n",
       "      <th>35458</th>\n",
       "      <td>45259</td>\n",
       "      <td>2015_1Q</td>\n",
       "      <td>MYS</td>\n",
       "      <td>Malaysia</td>\n",
       "      <td>East Asia &amp; Pacific</td>\n",
       "      <td>Upper middle income</td>\n",
       "      <td>IBRD</td>\n",
       "      <td>..</td>\n",
       "      <td>IDN</td>\n",
       "      <td>Indonesia</td>\n",
       "      <td>...</td>\n",
       "      <td>-3.84</td>\n",
       "      <td>-2.86</td>\n",
       "      <td>3566.79000</td>\n",
       "      <td>yes</td>\n",
       "      <td>A negative total cost for this operator may be...</td>\n",
       "      <td>NaN</td>\n",
       "      <td>Nationwide</td>\n",
       "      <td>Cash</td>\n",
       "      <td>18/Feb/2015</td>\n",
       "      <td>-2.530</td>\n",
       "    </tr>\n",
       "    <tr>\n",
       "      <th>35459</th>\n",
       "      <td>45261</td>\n",
       "      <td>2015_1Q</td>\n",
       "      <td>MYS</td>\n",
       "      <td>Malaysia</td>\n",
       "      <td>East Asia &amp; Pacific</td>\n",
       "      <td>Upper middle income</td>\n",
       "      <td>IBRD</td>\n",
       "      <td>..</td>\n",
       "      <td>IDN</td>\n",
       "      <td>Indonesia</td>\n",
       "      <td>...</td>\n",
       "      <td>-3.84</td>\n",
       "      <td>-2.86</td>\n",
       "      <td>3566.79000</td>\n",
       "      <td>yes</td>\n",
       "      <td>Through Western Union</td>\n",
       "      <td>A negative total cost for this operator may be...</td>\n",
       "      <td>Nationwide</td>\n",
       "      <td>Cash</td>\n",
       "      <td>18/Feb/2015</td>\n",
       "      <td>-2.530</td>\n",
       "    </tr>\n",
       "    <tr>\n",
       "      <th>35472</th>\n",
       "      <td>45270</td>\n",
       "      <td>2015_1Q</td>\n",
       "      <td>MYS</td>\n",
       "      <td>Malaysia</td>\n",
       "      <td>East Asia &amp; Pacific</td>\n",
       "      <td>Upper middle income</td>\n",
       "      <td>IBRD</td>\n",
       "      <td>..</td>\n",
       "      <td>PHL</td>\n",
       "      <td>Philippines</td>\n",
       "      <td>...</td>\n",
       "      <td>-2.49</td>\n",
       "      <td>-1.18</td>\n",
       "      <td>12.31950</td>\n",
       "      <td>yes</td>\n",
       "      <td>A negative total cost for this operator may be...</td>\n",
       "      <td>NaN</td>\n",
       "      <td>Nationwide</td>\n",
       "      <td>Cash</td>\n",
       "      <td>18/Feb/2015</td>\n",
       "      <td>-0.605</td>\n",
       "    </tr>\n",
       "    <tr>\n",
       "      <th>36111</th>\n",
       "      <td>46093</td>\n",
       "      <td>2015_1Q</td>\n",
       "      <td>ESP</td>\n",
       "      <td>Spain</td>\n",
       "      <td>..</td>\n",
       "      <td>High income: OECD</td>\n",
       "      <td>..</td>\n",
       "      <td>..</td>\n",
       "      <td>ECU</td>\n",
       "      <td>Ecuador</td>\n",
       "      <td>...</td>\n",
       "      <td>-5.82</td>\n",
       "      <td>-5.24</td>\n",
       "      <td>1.13400</td>\n",
       "      <td>yes</td>\n",
       "      <td>NaN</td>\n",
       "      <td>In this corridor all RSPs send EUR and payout ...</td>\n",
       "      <td>Nationwide</td>\n",
       "      <td>Cash</td>\n",
       "      <td>18/Feb/2015</td>\n",
       "      <td>-4.815</td>\n",
       "    </tr>\n",
       "    <tr>\n",
       "      <th>36123</th>\n",
       "      <td>44834</td>\n",
       "      <td>2015_1Q</td>\n",
       "      <td>ESP</td>\n",
       "      <td>Spain</td>\n",
       "      <td>..</td>\n",
       "      <td>High income: OECD</td>\n",
       "      <td>..</td>\n",
       "      <td>..</td>\n",
       "      <td>HND</td>\n",
       "      <td>Honduras</td>\n",
       "      <td>...</td>\n",
       "      <td>-3.68</td>\n",
       "      <td>-2.23</td>\n",
       "      <td>23.93000</td>\n",
       "      <td>yes</td>\n",
       "      <td>A negative total cost for this operator may be...</td>\n",
       "      <td>NaN</td>\n",
       "      <td>Nationwide</td>\n",
       "      <td>Cash</td>\n",
       "      <td>19/Feb/2015</td>\n",
       "      <td>-1.170</td>\n",
       "    </tr>\n",
       "    <tr>\n",
       "      <th>36618</th>\n",
       "      <td>44963</td>\n",
       "      <td>2015_1Q</td>\n",
       "      <td>GBR</td>\n",
       "      <td>United Kingdom</td>\n",
       "      <td>..</td>\n",
       "      <td>High income: OECD</td>\n",
       "      <td>..</td>\n",
       "      <td>G8/G20</td>\n",
       "      <td>LKA</td>\n",
       "      <td>Sri Lanka</td>\n",
       "      <td>...</td>\n",
       "      <td>-2.89</td>\n",
       "      <td>-1.89</td>\n",
       "      <td>205.07500</td>\n",
       "      <td>yes</td>\n",
       "      <td>A negative total cost for this operator may be...</td>\n",
       "      <td>NaN</td>\n",
       "      <td>Nationwide</td>\n",
       "      <td>Cash, Bank Account</td>\n",
       "      <td>18/Feb/2015</td>\n",
       "      <td>-1.140</td>\n",
       "    </tr>\n",
       "    <tr>\n",
       "      <th>36954</th>\n",
       "      <td>45792</td>\n",
       "      <td>2015_1Q</td>\n",
       "      <td>USA</td>\n",
       "      <td>United States</td>\n",
       "      <td>..</td>\n",
       "      <td>High income: OECD</td>\n",
       "      <td>..</td>\n",
       "      <td>G8/G20</td>\n",
       "      <td>NGA</td>\n",
       "      <td>Nigeria</td>\n",
       "      <td>...</td>\n",
       "      <td>-4.55</td>\n",
       "      <td>-2.95</td>\n",
       "      <td>198.00000</td>\n",
       "      <td>yes</td>\n",
       "      <td>The negative total cost does not mean that the...</td>\n",
       "      <td>NaN</td>\n",
       "      <td>Nationwide</td>\n",
       "      <td>Cash</td>\n",
       "      <td>17/Feb/2015</td>\n",
       "      <td>-1.750</td>\n",
       "    </tr>\n",
       "    <tr>\n",
       "      <th>37536</th>\n",
       "      <td>47890</td>\n",
       "      <td>2015_2Q</td>\n",
       "      <td>FRA</td>\n",
       "      <td>France</td>\n",
       "      <td>..</td>\n",
       "      <td>High income: OECD</td>\n",
       "      <td>..</td>\n",
       "      <td>G8/G20</td>\n",
       "      <td>DZA</td>\n",
       "      <td>Algeria</td>\n",
       "      <td>...</td>\n",
       "      <td>-0.56</td>\n",
       "      <td>-0.16</td>\n",
       "      <td>1.09147</td>\n",
       "      <td>yes</td>\n",
       "      <td>This RSP sends EUR and pays out USD in this co...</td>\n",
       "      <td>The negative total cost does not mean that the...</td>\n",
       "      <td>Nationwide</td>\n",
       "      <td>Bank Account</td>\n",
       "      <td>28/Apr/2015</td>\n",
       "      <td>-0.160</td>\n",
       "    </tr>\n",
       "    <tr>\n",
       "      <th>37594</th>\n",
       "      <td>47926</td>\n",
       "      <td>2015_2Q</td>\n",
       "      <td>FRA</td>\n",
       "      <td>France</td>\n",
       "      <td>..</td>\n",
       "      <td>High income: OECD</td>\n",
       "      <td>..</td>\n",
       "      <td>G8/G20</td>\n",
       "      <td>MAR</td>\n",
       "      <td>Morocco</td>\n",
       "      <td>...</td>\n",
       "      <td>-0.49</td>\n",
       "      <td>-0.09</td>\n",
       "      <td>1.09147</td>\n",
       "      <td>yes</td>\n",
       "      <td>This RSP sends EUR and pays out USD in this co...</td>\n",
       "      <td>The negative total cost does not mean that the...</td>\n",
       "      <td>Nationwide</td>\n",
       "      <td>Bank Account</td>\n",
       "      <td>28/Apr/2015</td>\n",
       "      <td>-0.090</td>\n",
       "    </tr>\n",
       "    <tr>\n",
       "      <th>37714</th>\n",
       "      <td>47620</td>\n",
       "      <td>2015_2Q</td>\n",
       "      <td>DEU</td>\n",
       "      <td>Germany</td>\n",
       "      <td>..</td>\n",
       "      <td>High income: OECD</td>\n",
       "      <td>..</td>\n",
       "      <td>G8/G20</td>\n",
       "      <td>IND</td>\n",
       "      <td>India</td>\n",
       "      <td>...</td>\n",
       "      <td>-0.79</td>\n",
       "      <td>-0.79</td>\n",
       "      <td>69.50500</td>\n",
       "      <td>yes</td>\n",
       "      <td>The negative total cost does not mean that the...</td>\n",
       "      <td>NaN</td>\n",
       "      <td>Nationwide</td>\n",
       "      <td>Bank Account</td>\n",
       "      <td>29/Apr/2015</td>\n",
       "      <td>-0.475</td>\n",
       "    </tr>\n",
       "    <tr>\n",
       "      <th>38081</th>\n",
       "      <td>48571</td>\n",
       "      <td>2015_2Q</td>\n",
       "      <td>JPN</td>\n",
       "      <td>Japan</td>\n",
       "      <td>..</td>\n",
       "      <td>High income: OECD</td>\n",
       "      <td>..</td>\n",
       "      <td>G8/G20</td>\n",
       "      <td>CHN</td>\n",
       "      <td>China</td>\n",
       "      <td>...</td>\n",
       "      <td>-11.86</td>\n",
       "      <td>-7.09</td>\n",
       "      <td>0.05189</td>\n",
       "      <td>yes</td>\n",
       "      <td>The negative total cost does not mean that the...</td>\n",
       "      <td>NaN</td>\n",
       "      <td>Nationwide</td>\n",
       "      <td>Bank Account</td>\n",
       "      <td>01/May/2015</td>\n",
       "      <td>-3.590</td>\n",
       "    </tr>\n",
       "    <tr>\n",
       "      <th>38685</th>\n",
       "      <td>49153</td>\n",
       "      <td>2015_2Q</td>\n",
       "      <td>SAU</td>\n",
       "      <td>Saudi Arabia</td>\n",
       "      <td>..</td>\n",
       "      <td>High income: nonOECD</td>\n",
       "      <td>..</td>\n",
       "      <td>G20</td>\n",
       "      <td>PAK</td>\n",
       "      <td>Pakistan</td>\n",
       "      <td>...</td>\n",
       "      <td>-2.29</td>\n",
       "      <td>-2.29</td>\n",
       "      <td>27.11800</td>\n",
       "      <td>yes</td>\n",
       "      <td>A negative total cost for this operator may be...</td>\n",
       "      <td>NaN</td>\n",
       "      <td>Nationwide</td>\n",
       "      <td>Cash</td>\n",
       "      <td>30/Apr/2015</td>\n",
       "      <td>-2.290</td>\n",
       "    </tr>\n",
       "    <tr>\n",
       "      <th>39409</th>\n",
       "      <td>48148</td>\n",
       "      <td>2015_2Q</td>\n",
       "      <td>GBR</td>\n",
       "      <td>United Kingdom</td>\n",
       "      <td>..</td>\n",
       "      <td>High income: OECD</td>\n",
       "      <td>..</td>\n",
       "      <td>G8/G20</td>\n",
       "      <td>LKA</td>\n",
       "      <td>Sri Lanka</td>\n",
       "      <td>...</td>\n",
       "      <td>-2.78</td>\n",
       "      <td>-1.78</td>\n",
       "      <td>202.86900</td>\n",
       "      <td>yes</td>\n",
       "      <td>A negative total cost for this operator may be...</td>\n",
       "      <td>NaN</td>\n",
       "      <td>Nationwide</td>\n",
       "      <td>Cash, Bank Account</td>\n",
       "      <td>28/Apr/2015</td>\n",
       "      <td>-1.030</td>\n",
       "    </tr>\n",
       "  </tbody>\n",
       "</table>\n",
       "<p>122 rows × 41 columns</p>\n",
       "</div>"
      ],
      "text/plain": [
       "          id   period source_code         source_name  \\\n",
       "371    13638  2011_1Q         DOM  Dominican Republic   \n",
       "973    14465  2011_1Q         MYS            Malaysia   \n",
       "1087   14580  2011_1Q         NZL         New Zealand   \n",
       "1162   14635  2011_1Q         NZL         New Zealand   \n",
       "1438   14944  2011_1Q         SGP           Singapore   \n",
       "1905   13952  2011_1Q         GBR      United Kingdom   \n",
       "1906   13945  2011_1Q         GBR      United Kingdom   \n",
       "2031   14090  2011_1Q         GBR      United Kingdom   \n",
       "2135   14003  2011_1Q         GBR      United Kingdom   \n",
       "3301   27408  2011_3Q         DEU             Germany   \n",
       "3627   28409  2011_3Q         MYS            Malaysia   \n",
       "3628   28412  2011_3Q         MYS            Malaysia   \n",
       "4481   27713  2011_3Q         GBR      United Kingdom   \n",
       "4508   27724  2011_3Q         GBR      United Kingdom   \n",
       "4556   27804  2011_3Q         GBR      United Kingdom   \n",
       "4557   27806  2011_3Q         GBR      United Kingdom   \n",
       "4558   27799  2011_3Q         GBR      United Kingdom   \n",
       "7150   16433  2012_1Q         GBR      United Kingdom   \n",
       "8096   29737  2012_3Q         AUT             Austria   \n",
       "8121   29764  2012_3Q         AUT             Austria   \n",
       "9024   31177  2012_3Q         MYS            Malaysia   \n",
       "10032  30551  2012_3Q         GBR      United Kingdom   \n",
       "10033  30553  2012_3Q         GBR      United Kingdom   \n",
       "10034  30554  2012_3Q         GBR      United Kingdom   \n",
       "10035  30556  2012_3Q         GBR      United Kingdom   \n",
       "10209  30725  2012_3Q         GBR      United Kingdom   \n",
       "11192  18593  2013_1Q         CHL               Chile   \n",
       "12264  20154  2013_1Q         NZL         New Zealand   \n",
       "12595  20474  2013_1Q         SGP           Singapore   \n",
       "12596  20475  2013_1Q         SGP           Singapore   \n",
       "...      ...      ...         ...                 ...   \n",
       "31394  41399  2014_4Q         AUS           Australia   \n",
       "31395  41400  2014_4Q         AUS           Australia   \n",
       "32317  42765  2014_4Q         ITA               Italy   \n",
       "33770  42675  2014_4Q         GBR      United Kingdom   \n",
       "33771  42676  2014_4Q         GBR      United Kingdom   \n",
       "33772  42674  2014_4Q         GBR      United Kingdom   \n",
       "33773  42677  2014_4Q         GBR      United Kingdom   \n",
       "33774  42679  2014_4Q         GBR      United Kingdom   \n",
       "33775  42678  2014_4Q         GBR      United Kingdom   \n",
       "33776  42680  2014_4Q         GBR      United Kingdom   \n",
       "33795  42536  2014_4Q         GBR      United Kingdom   \n",
       "33796  42549  2014_4Q         GBR      United Kingdom   \n",
       "34010  43836  2014_4Q         USA       United States   \n",
       "34489  46437  2015_1Q         AUT             Austria   \n",
       "34496  46440  2015_1Q         AUT             Austria   \n",
       "34544  46579  2015_1Q         BRA              Brazil   \n",
       "34545  46580  2015_1Q         BRA              Brazil   \n",
       "35458  45259  2015_1Q         MYS            Malaysia   \n",
       "35459  45261  2015_1Q         MYS            Malaysia   \n",
       "35472  45270  2015_1Q         MYS            Malaysia   \n",
       "36111  46093  2015_1Q         ESP               Spain   \n",
       "36123  44834  2015_1Q         ESP               Spain   \n",
       "36618  44963  2015_1Q         GBR      United Kingdom   \n",
       "36954  45792  2015_1Q         USA       United States   \n",
       "37536  47890  2015_2Q         FRA              France   \n",
       "37594  47926  2015_2Q         FRA              France   \n",
       "37714  47620  2015_2Q         DEU             Germany   \n",
       "38081  48571  2015_2Q         JPN               Japan   \n",
       "38685  49153  2015_2Q         SAU        Saudi Arabia   \n",
       "39409  48148  2015_2Q         GBR      United Kingdom   \n",
       "\n",
       "                   source_region         source_income source_lending  \\\n",
       "371    Latin America & Caribbean   Upper middle income           IBRD   \n",
       "973          East Asia & Pacific   Upper middle income           IBRD   \n",
       "1087                          ..     High income: OECD             ..   \n",
       "1162                          ..     High income: OECD             ..   \n",
       "1438                          ..  High income: nonOECD             ..   \n",
       "1905                          ..     High income: OECD             ..   \n",
       "1906                          ..     High income: OECD             ..   \n",
       "2031                          ..     High income: OECD             ..   \n",
       "2135                          ..     High income: OECD             ..   \n",
       "3301                          ..     High income: OECD             ..   \n",
       "3627         East Asia & Pacific   Upper middle income           IBRD   \n",
       "3628         East Asia & Pacific   Upper middle income           IBRD   \n",
       "4481                          ..     High income: OECD             ..   \n",
       "4508                          ..     High income: OECD             ..   \n",
       "4556                          ..     High income: OECD             ..   \n",
       "4557                          ..     High income: OECD             ..   \n",
       "4558                          ..     High income: OECD             ..   \n",
       "7150                          ..     High income: OECD             ..   \n",
       "8096                          ..     High income: OECD             ..   \n",
       "8121                          ..     High income: OECD             ..   \n",
       "9024         East Asia & Pacific   Upper middle income           IBRD   \n",
       "10032                         ..     High income: OECD             ..   \n",
       "10033                         ..     High income: OECD             ..   \n",
       "10034                         ..     High income: OECD             ..   \n",
       "10035                         ..     High income: OECD             ..   \n",
       "10209                         ..     High income: OECD             ..   \n",
       "11192                         ..     High income: OECD           IBRD   \n",
       "12264                         ..     High income: OECD             ..   \n",
       "12595                         ..  High income: nonOECD             ..   \n",
       "12596                         ..  High income: nonOECD             ..   \n",
       "...                          ...                   ...            ...   \n",
       "31394                         ..     High income: OECD             ..   \n",
       "31395                         ..     High income: OECD             ..   \n",
       "32317                         ..     High income: OECD             ..   \n",
       "33770                         ..     High income: OECD             ..   \n",
       "33771                         ..     High income: OECD             ..   \n",
       "33772                         ..     High income: OECD             ..   \n",
       "33773                         ..     High income: OECD             ..   \n",
       "33774                         ..     High income: OECD             ..   \n",
       "33775                         ..     High income: OECD             ..   \n",
       "33776                         ..     High income: OECD             ..   \n",
       "33795                         ..     High income: OECD             ..   \n",
       "33796                         ..     High income: OECD             ..   \n",
       "34010                         ..     High income: OECD             ..   \n",
       "34489                         ..     High income: OECD             ..   \n",
       "34496                         ..     High income: OECD             ..   \n",
       "34544  Latin America & Caribbean   Upper middle income           IBRD   \n",
       "34545  Latin America & Caribbean   Upper middle income           IBRD   \n",
       "35458        East Asia & Pacific   Upper middle income           IBRD   \n",
       "35459        East Asia & Pacific   Upper middle income           IBRD   \n",
       "35472        East Asia & Pacific   Upper middle income           IBRD   \n",
       "36111                         ..     High income: OECD             ..   \n",
       "36123                         ..     High income: OECD             ..   \n",
       "36618                         ..     High income: OECD             ..   \n",
       "36954                         ..     High income: OECD             ..   \n",
       "37536                         ..     High income: OECD             ..   \n",
       "37594                         ..     High income: OECD             ..   \n",
       "37714                         ..     High income: OECD             ..   \n",
       "38081                         ..     High income: OECD             ..   \n",
       "38685                         ..  High income: nonOECD             ..   \n",
       "39409                         ..     High income: OECD             ..   \n",
       "\n",
       "      source_G8G20 destination_code destination_name     ...      \\\n",
       "371             ..              HTI            Haiti     ...       \n",
       "973             ..              BGD       Bangladesh     ...       \n",
       "1087            ..              KIR         Kiribati     ...       \n",
       "1162            ..              TUV           Tuvalu     ...       \n",
       "1438            ..              PHL      Philippines     ...       \n",
       "1905        G8/G20              GMB      Gambia, The     ...       \n",
       "1906        G8/G20              GMB      Gambia, The     ...       \n",
       "2031        G8/G20              PHL      Philippines     ...       \n",
       "2135        G8/G20              LKA        Sri Lanka     ...       \n",
       "3301        G8/G20              TUR           Turkey     ...       \n",
       "3627            ..              IDN        Indonesia     ...       \n",
       "3628            ..              IDN        Indonesia     ...       \n",
       "4481        G8/G20              BGD       Bangladesh     ...       \n",
       "4508        G8/G20              BGR         Bulgaria     ...       \n",
       "4556        G8/G20              GMB      Gambia, The     ...       \n",
       "4557        G8/G20              GMB      Gambia, The     ...       \n",
       "4558        G8/G20              GMB      Gambia, The     ...       \n",
       "7150        G8/G20              BGR         Bulgaria     ...       \n",
       "8096            ..              HRV          Croatia     ...       \n",
       "8121            ..              TUR           Turkey     ...       \n",
       "9024            ..              BGD       Bangladesh     ...       \n",
       "10032       G8/G20              GMB      Gambia, The     ...       \n",
       "10033       G8/G20              GMB      Gambia, The     ...       \n",
       "10034       G8/G20              GMB      Gambia, The     ...       \n",
       "10035       G8/G20              GMB      Gambia, The     ...       \n",
       "10209       G8/G20              POL           Poland     ...       \n",
       "11192           ..              PER             Peru     ...       \n",
       "12264           ..              VUT          Vanuatu     ...       \n",
       "12595           ..              THA         Thailand     ...       \n",
       "12596           ..              THA         Thailand     ...       \n",
       "...            ...              ...              ...     ...       \n",
       "31394          G20              IND            India     ...       \n",
       "31395          G20              IND            India     ...       \n",
       "32317       G8/G20              ETH         Ethiopia     ...       \n",
       "33770       G8/G20              SLE     Sierra Leone     ...       \n",
       "33771       G8/G20              SLE     Sierra Leone     ...       \n",
       "33772       G8/G20              SLE     Sierra Leone     ...       \n",
       "33773       G8/G20              SLE     Sierra Leone     ...       \n",
       "33774       G8/G20              SLE     Sierra Leone     ...       \n",
       "33775       G8/G20              SLE     Sierra Leone     ...       \n",
       "33776       G8/G20              SLE     Sierra Leone     ...       \n",
       "33795       G8/G20              LKA        Sri Lanka     ...       \n",
       "33796       G8/G20              LKA        Sri Lanka     ...       \n",
       "34010       G8/G20              HTI            Haiti     ...       \n",
       "34489           ..              HRV          Croatia     ...       \n",
       "34496           ..              HUN          Hungary     ...       \n",
       "34544          G20              BOL          Bolivia     ...       \n",
       "34545          G20              BOL          Bolivia     ...       \n",
       "35458           ..              IDN        Indonesia     ...       \n",
       "35459           ..              IDN        Indonesia     ...       \n",
       "35472           ..              PHL      Philippines     ...       \n",
       "36111           ..              ECU          Ecuador     ...       \n",
       "36123           ..              HND         Honduras     ...       \n",
       "36618       G8/G20              LKA        Sri Lanka     ...       \n",
       "36954       G8/G20              NGA          Nigeria     ...       \n",
       "37536       G8/G20              DZA          Algeria     ...       \n",
       "37594       G8/G20              MAR          Morocco     ...       \n",
       "37714       G8/G20              IND            India     ...       \n",
       "38081       G8/G20              CHN            China     ...       \n",
       "38685          G20              PAK         Pakistan     ...       \n",
       "39409       G8/G20              LKA        Sri Lanka     ...       \n",
       "\n",
       "      cc2 fx margin cc2 total cost % inter lcu bank fx transparent  \\\n",
       "371           -0.52            -0.52          37.45620         yes   \n",
       "973           -1.16            -0.51          23.26000         yes   \n",
       "1087          -0.43            -0.40           0.76528         yes   \n",
       "1162          -0.43            -0.40           0.76528         yes   \n",
       "1438          -1.36            -0.59          33.79000         yes   \n",
       "1905          -5.50            -2.50          42.18169         yes   \n",
       "1906          -5.73            -3.07          42.18169         yes   \n",
       "2031          -0.73            -0.73          70.23480         yes   \n",
       "2135          -4.27            -3.27         175.02700         yes   \n",
       "3301          -9.05            -4.71           2.48500         yes   \n",
       "3627          -1.40            -0.69        2859.82000         yes   \n",
       "3628          -1.40            -0.69        2859.82000         yes   \n",
       "4481          -2.12            -1.12         118.97800         yes   \n",
       "4508          -5.45            -3.78           1.13800         yes   \n",
       "4556          -6.02            -2.69          44.33000         yes   \n",
       "4557          -4.74            -1.74          44.33000         yes   \n",
       "4558          -6.02            -3.19          44.33000         yes   \n",
       "7150          -3.07            -0.57           2.36271         yes   \n",
       "8096          -0.18            -0.18           7.44940         yes   \n",
       "8121          -0.10            -0.10           2.29380         yes   \n",
       "9024          -3.02            -1.32          26.23460         yes   \n",
       "10032         -6.23            -4.73          48.76320         yes   \n",
       "10033         -6.06            -2.26          48.76320         yes   \n",
       "10034         -6.06            -2.06          48.76320         yes   \n",
       "10035         -4.77            -1.77          48.76320         yes   \n",
       "10209         -2.75            -0.25           5.14973         yes   \n",
       "11192         -2.62            -0.12         472.62000         yes   \n",
       "12264         -3.81            -2.27          75.59130         yes   \n",
       "12595         -3.15            -1.60          24.04200         yes   \n",
       "12596         -3.44            -1.58          24.04200         yes   \n",
       "...             ...              ...               ...         ...   \n",
       "31394         -2.21            -1.21          53.04650         yes   \n",
       "31395         -2.21            -1.21          53.04650         yes   \n",
       "32317         -6.21            -2.44           1.24186         yes   \n",
       "33770         -8.80            -5.46        6893.62000         yes   \n",
       "33771         -6.61            -3.61        6893.62000         yes   \n",
       "33772         -7.41            -5.74        6893.62000         yes   \n",
       "33773         -5.81            -1.81        6893.62000         yes   \n",
       "33774         -6.89            -4.59        6893.62000         yes   \n",
       "33775         -8.08            -4.75        6893.62000         yes   \n",
       "33776         -6.89            -3.92        6893.62000         yes   \n",
       "33795         -2.97            -1.97         208.79400         yes   \n",
       "33796         -2.97            -1.97         208.79400         yes   \n",
       "34010         -4.95            -2.56          44.20000         yes   \n",
       "34489         -0.01            -0.01           7.69600         yes   \n",
       "34496         -0.01            -0.01         305.49500         yes   \n",
       "34544         -4.17            -0.57           2.88000         yes   \n",
       "34545         -4.17            -0.57           2.88000         yes   \n",
       "35458         -3.84            -2.86        3566.79000         yes   \n",
       "35459         -3.84            -2.86        3566.79000         yes   \n",
       "35472         -2.49            -1.18          12.31950         yes   \n",
       "36111         -5.82            -5.24           1.13400         yes   \n",
       "36123         -3.68            -2.23          23.93000         yes   \n",
       "36618         -2.89            -1.89         205.07500         yes   \n",
       "36954         -4.55            -2.95         198.00000         yes   \n",
       "37536         -0.56            -0.16           1.09147         yes   \n",
       "37594         -0.49            -0.09           1.09147         yes   \n",
       "37714         -0.79            -0.79          69.50500         yes   \n",
       "38081        -11.86            -7.09           0.05189         yes   \n",
       "38685         -2.29            -2.29          27.11800         yes   \n",
       "39409         -2.78            -1.78         202.86900         yes   \n",
       "\n",
       "                                                   note1  \\\n",
       "371    A negative exchange rate margin for this opera...   \n",
       "973    A negative exchange rate margin for this opera...   \n",
       "1087                                                 NaN   \n",
       "1162                                                 NaN   \n",
       "1438   A negative exchange rate margin for this opera...   \n",
       "1905   This RSP's negative cost may be due to it havi...   \n",
       "1906   This RSP's negative cost may be due to it havi...   \n",
       "2031   This RSP's negative cost may be due to it havi...   \n",
       "2135   This RSP's negative cost may be due to it havi...   \n",
       "3301   A negative exchange rate margin for this opera...   \n",
       "3627                               Through Western Union   \n",
       "3628   A negative exchange rate margin for this opera...   \n",
       "4481   A negative exchange rate margin for this opera...   \n",
       "4508   A negative exchange rate margin for this opera...   \n",
       "4556   A negative exchange rate margin for this opera...   \n",
       "4557   A negative exchange rate margin for this opera...   \n",
       "4558   A negative exchange rate margin for this opera...   \n",
       "7150   The negative total cost does not mean that the...   \n",
       "8096   A negative exchange rate margin for this opera...   \n",
       "8121   A negative exchange rate margin for this opera...   \n",
       "9024   The negative total cost does not mean that the...   \n",
       "10032  The negative total cost does not mean that the...   \n",
       "10033  The negative total cost does not mean that the...   \n",
       "10034  The negative total cost does not mean that the...   \n",
       "10035  The negative total cost does not mean that the...   \n",
       "10209  A negative total cost for this operator may be...   \n",
       "11192  A negative total cost for this operator may be...   \n",
       "12264  The negative total cost does not mean that the...   \n",
       "12595  The negative total cost does not mean that the...   \n",
       "12596  The negative total cost does not mean that the...   \n",
       "...                                                  ...   \n",
       "31394  The negative total cost does not mean that the...   \n",
       "31395  The negative total cost does not mean that the...   \n",
       "32317  This RSP sends EUR and pays out USD in this co...   \n",
       "33770  The negative total cost does not mean that the...   \n",
       "33771  The negative total cost does not mean that the...   \n",
       "33772  The negative total cost does not mean that the...   \n",
       "33773  The negative total cost does not mean that the...   \n",
       "33774  The negative total cost does not mean that the...   \n",
       "33775  The negative total cost does not mean that the...   \n",
       "33776  The negative total cost does not mean that the...   \n",
       "33795  A negative total cost for this operator may be...   \n",
       "33796  A negative total cost for this operator may be...   \n",
       "34010  The negative total cost does not mean that the...   \n",
       "34489  A negative total cost for this operator may be...   \n",
       "34496  A negative total cost for this operator may be...   \n",
       "34544  A negative total cost for this operator may be...   \n",
       "34545  A negative total cost for this operator may be...   \n",
       "35458  A negative total cost for this operator may be...   \n",
       "35459                              Through Western Union   \n",
       "35472  A negative total cost for this operator may be...   \n",
       "36111                                                NaN   \n",
       "36123  A negative total cost for this operator may be...   \n",
       "36618  A negative total cost for this operator may be...   \n",
       "36954  The negative total cost does not mean that the...   \n",
       "37536  This RSP sends EUR and pays out USD in this co...   \n",
       "37594  This RSP sends EUR and pays out USD in this co...   \n",
       "37714  The negative total cost does not mean that the...   \n",
       "38081  The negative total cost does not mean that the...   \n",
       "38685  A negative total cost for this operator may be...   \n",
       "39409  A negative total cost for this operator may be...   \n",
       "\n",
       "                                                   note2      coverage  \\\n",
       "371                                                  NaN    Nationwide   \n",
       "973                                                  NaN    Nationwide   \n",
       "1087                                                 NaN    Urban only   \n",
       "1162                                                 NaN    Nationwide   \n",
       "1438                                                 NaN    Nationwide   \n",
       "1905                                                 NaN     Main city   \n",
       "1906                                                 NaN  Major cities   \n",
       "2031                                                 NaN    Nationwide   \n",
       "2135                                                 NaN    Nationwide   \n",
       "3301                                                 NaN    Nationwide   \n",
       "3627                                                 NaN    Nationwide   \n",
       "3628                                                 NaN    Nationwide   \n",
       "4481                                                 NaN    Nationwide   \n",
       "4508                                                 NaN    Nationwide   \n",
       "4556                                                 NaN     Main city   \n",
       "4557                                                 NaN     Main city   \n",
       "4558                                                 NaN  Major cities   \n",
       "7150                                                 NaN    Nationwide   \n",
       "8096                                                 NaN    Nationwide   \n",
       "8121                                                 NaN    Nationwide   \n",
       "9024                                                 NaN    Nationwide   \n",
       "10032                                                NaN  Major cities   \n",
       "10033                                                NaN  Major cities   \n",
       "10034                                                NaN  Major cities   \n",
       "10035                                                NaN     Main city   \n",
       "10209                                                NaN    Nationwide   \n",
       "11192                                                NaN    Nationwide   \n",
       "12264                                                NaN     Main city   \n",
       "12595                                                NaN    Nationwide   \n",
       "12596                                                NaN    Nationwide   \n",
       "...                                                  ...           ...   \n",
       "31394                                                NaN    Nationwide   \n",
       "31395                                                NaN    Nationwide   \n",
       "32317  The negative total cost does not mean that the...    Nationwide   \n",
       "33770                                                NaN     Main city   \n",
       "33771                                                NaN     Main city   \n",
       "33772                                                NaN    Nationwide   \n",
       "33773                                                NaN  Major cities   \n",
       "33774                                                NaN    Nationwide   \n",
       "33775                                                NaN    Nationwide   \n",
       "33776                                                NaN    Nationwide   \n",
       "33795                                                NaN    Nationwide   \n",
       "33796                                                NaN    Nationwide   \n",
       "34010                                        LCU service    Nationwide   \n",
       "34489                                                NaN    Nationwide   \n",
       "34496                                                NaN    Nationwide   \n",
       "34544                                                NaN    Nationwide   \n",
       "34545                                                NaN    Nationwide   \n",
       "35458                                                NaN    Nationwide   \n",
       "35459  A negative total cost for this operator may be...    Nationwide   \n",
       "35472                                                NaN    Nationwide   \n",
       "36111  In this corridor all RSPs send EUR and payout ...    Nationwide   \n",
       "36123                                                NaN    Nationwide   \n",
       "36618                                                NaN    Nationwide   \n",
       "36954                                                NaN    Nationwide   \n",
       "37536  The negative total cost does not mean that the...    Nationwide   \n",
       "37594  The negative total cost does not mean that the...    Nationwide   \n",
       "37714                                                NaN    Nationwide   \n",
       "38081                                                NaN    Nationwide   \n",
       "38685                                                NaN    Nationwide   \n",
       "39409                                                NaN    Nationwide   \n",
       "\n",
       "           pick-up method         date  total cost  \n",
       "371                  Cash  27/Jan/2011      -0.520  \n",
       "973                   NaN  27/Jan/2011      -0.015  \n",
       "1087                  NaN  25/Jan/2011      -0.395  \n",
       "1162                  NaN  25/Jan/2011      -0.395  \n",
       "1438                  NaN  26/Jan/2011      -0.015  \n",
       "1905                 Cash  25/Jan/2011      -2.500  \n",
       "1906                 Cash  25/Jan/2011      -2.320  \n",
       "2031               Mobile  25/Jan/2011      -0.730  \n",
       "2135         Bank Account  25/Jan/2011      -2.520  \n",
       "3301         Bank Account  08/Sep/2011      -1.525  \n",
       "3627                 Cash  07/Sep/2011      -0.145  \n",
       "3628                 Cash  07/Sep/2011      -0.145  \n",
       "4481         Bank Account  05/Sep/2011      -0.370  \n",
       "4508                 Cash  02/Sep/2011      -2.530  \n",
       "4556                  NaN  02/Sep/2011      -2.275  \n",
       "4557                  NaN  02/Sep/2011      -1.590  \n",
       "4558                  NaN  02/Sep/2011      -1.900  \n",
       "7150                  NaN  06/Feb/2012      -0.570  \n",
       "8096         Bank Account  06/Sep/2012      -0.180  \n",
       "8121         Bank Account  06/Sep/2012      -0.100  \n",
       "9024         Bank Account  06/Sep/2012      -0.040  \n",
       "10032                Cash  04/Sep/2012      -3.980  \n",
       "10033                Cash  04/Sep/2012      -2.260  \n",
       "10034                Cash  04/Sep/2012      -2.060  \n",
       "10035                Cash  04/Sep/2012      -1.770  \n",
       "10209         ATM Network  07/Sep/2012      -0.250  \n",
       "11192                 NaN  06/Feb/2013      -0.120  \n",
       "12264                 NaN  05/Feb/2013      -1.115  \n",
       "12595                 NaN  07/Feb/2013      -0.455  \n",
       "12596                 NaN  07/Feb/2013      -0.205  \n",
       "...                   ...          ...         ...  \n",
       "31394                Cash  12/Nov/2014      -0.460  \n",
       "31395        Bank Account  12/Nov/2014      -0.460  \n",
       "32317                Cash  11/Nov/2014      -1.645  \n",
       "33770                Cash  11/Nov/2014      -5.460  \n",
       "33771                Cash  11/Nov/2014      -3.610  \n",
       "33772                Cash  11/Nov/2014      -4.490  \n",
       "33773                Cash  11/Nov/2014      -1.810  \n",
       "33774                Cash  11/Nov/2014      -2.865  \n",
       "33775                Cash  11/Nov/2014      -2.250  \n",
       "33776                Cash  11/Nov/2014      -1.695  \n",
       "33795  Cash, Bank Account  12/Nov/2014      -1.220  \n",
       "33796  Cash, Bank Account  12/Nov/2014      -1.220  \n",
       "34010        Bank Account  11/Nov/2014      -1.760  \n",
       "34489        Bank Account  19/Feb/2015      -0.010  \n",
       "34496        Bank Account  19/Feb/2015      -0.010  \n",
       "34544                Cash  20/Feb/2015      -0.570  \n",
       "34545                Cash  20/Feb/2015      -0.570  \n",
       "35458                Cash  18/Feb/2015      -2.530  \n",
       "35459                Cash  18/Feb/2015      -2.530  \n",
       "35472                Cash  18/Feb/2015      -0.605  \n",
       "36111                Cash  18/Feb/2015      -4.815  \n",
       "36123                Cash  19/Feb/2015      -1.170  \n",
       "36618  Cash, Bank Account  18/Feb/2015      -1.140  \n",
       "36954                Cash  17/Feb/2015      -1.750  \n",
       "37536        Bank Account  28/Apr/2015      -0.160  \n",
       "37594        Bank Account  28/Apr/2015      -0.090  \n",
       "37714        Bank Account  29/Apr/2015      -0.475  \n",
       "38081        Bank Account  01/May/2015      -3.590  \n",
       "38685                Cash  30/Apr/2015      -2.290  \n",
       "39409  Cash, Bank Account  28/Apr/2015      -1.030  \n",
       "\n",
       "[122 rows x 41 columns]"
      ]
     },
     "execution_count": 191,
     "metadata": {},
     "output_type": "execute_result"
    }
   ],
   "source": [
    "df[df['total cost'] < 0]"
   ]
  },
  {
   "cell_type": "code",
   "execution_count": 110,
   "metadata": {
    "collapsed": false
   },
   "outputs": [],
   "source": [
    "df['from_to'] = df['source_income'] + '-' + df['destination_income']"
   ]
  },
  {
   "cell_type": "code",
   "execution_count": 111,
   "metadata": {
    "collapsed": false
   },
   "outputs": [
    {
     "data": {
      "text/plain": [
       "16"
      ]
     },
     "execution_count": 111,
     "metadata": {},
     "output_type": "execute_result"
    }
   ],
   "source": [
    "df['from_to'].nunique()"
   ]
  },
  {
   "cell_type": "code",
   "execution_count": 192,
   "metadata": {
    "collapsed": false
   },
   "outputs": [
    {
     "data": {
      "text/plain": [
       "Index([u'id', u'period', u'source_code', u'source_name', u'source_region',\n",
       "       u'source_income', u'source_lending', u'source_G8G20',\n",
       "       u'destination_code', u'destination_name', u'destination_region',\n",
       "       u'destination_income', u'destination_lending', u'destination_G8G20',\n",
       "       u'firm', u'firm_type', u'product', u'sending location', u'speed actual',\n",
       "       u'cc1 lcu amount', u'cc1 denomination amount', u'cc1 lcu code',\n",
       "       u'cc1 lcu fee', u'cc1 lcu fx rate', u'cc1 fx margin',\n",
       "       u'cc1 total cost %', u'cc2 lcu amount', u'cc2 denomination amount',\n",
       "       u'cc2 lcu code', u'cc2 lcu fee', u'cc2 lcu fx rate', u'cc2 fx margin',\n",
       "       u'cc2 total cost %', u'inter lcu bank fx', u'transparent', u'note1',\n",
       "       u'note2', u'coverage', u'pick-up method', u'date', u'total cost'],\n",
       "      dtype='object')"
      ]
     },
     "execution_count": 192,
     "metadata": {},
     "output_type": "execute_result"
    }
   ],
   "source": [
    "df.columns"
   ]
  },
  {
   "cell_type": "code",
   "execution_count": 193,
   "metadata": {
    "collapsed": false
   },
   "outputs": [
    {
     "data": {
      "text/plain": [
       "array(['High income: OECD', 'Upper middle income', 'Lower middle income',\n",
       "       'High income: nonOECD', 'Low income'], dtype=object)"
      ]
     },
     "execution_count": 193,
     "metadata": {},
     "output_type": "execute_result"
    }
   ],
   "source": [
    "df['source_income'].unique()"
   ]
  },
  {
   "cell_type": "code",
   "execution_count": 194,
   "metadata": {
    "collapsed": true
   },
   "outputs": [],
   "source": [
    "del df['id']\n",
    "del df['period']\n",
    "del df['source_code']\n",
    "del df['source_name']\n",
    "del df['destination_code']\n",
    "del df['destination_name']\n",
    "del df['firm']\n",
    "del df['firm_type']\n",
    "del df['product']\n",
    "del df['speed actual']\n",
    "del df['cc1 lcu amount']\n",
    "del df['cc1 denomination amount']\n",
    "del df['cc1 lcu code']\n",
    "del df['cc1 lcu fee']\n",
    "del df['cc1 lcu fx rate']\n",
    "del df['cc1 fx margin']\n",
    "del df['cc1 total cost %']\n",
    "del df['cc2 lcu amount']\n",
    "del df['cc2 denomination amount']\n",
    "del df['cc2 lcu code']\n",
    "del df['cc2 lcu fee']\n",
    "del df['cc2 lcu fx rate']\n",
    "del df['cc2 fx margin']\n",
    "del df['cc2 total cost %']\n",
    "del df['inter lcu bank fx']\n",
    "del df['note1']\n",
    "del df['note2']\n",
    "del df['pick-up method']"
   ]
  },
  {
   "cell_type": "code",
   "execution_count": 195,
   "metadata": {
    "collapsed": false
   },
   "outputs": [
    {
     "data": {
      "text/html": [
       "<div>\n",
       "<table border=\"1\" class=\"dataframe\">\n",
       "  <thead>\n",
       "    <tr style=\"text-align: right;\">\n",
       "      <th></th>\n",
       "      <th>source_region</th>\n",
       "      <th>source_income</th>\n",
       "      <th>source_lending</th>\n",
       "      <th>source_G8G20</th>\n",
       "      <th>destination_region</th>\n",
       "      <th>destination_income</th>\n",
       "      <th>destination_lending</th>\n",
       "      <th>destination_G8G20</th>\n",
       "      <th>sending location</th>\n",
       "      <th>transparent</th>\n",
       "      <th>coverage</th>\n",
       "      <th>date</th>\n",
       "      <th>total cost</th>\n",
       "    </tr>\n",
       "  </thead>\n",
       "  <tbody>\n",
       "    <tr>\n",
       "      <th>0</th>\n",
       "      <td>..</td>\n",
       "      <td>High income: OECD</td>\n",
       "      <td>..</td>\n",
       "      <td>G20</td>\n",
       "      <td>East Asia &amp; Pacific</td>\n",
       "      <td>Upper middle income</td>\n",
       "      <td>IBRD</td>\n",
       "      <td>..</td>\n",
       "      <td>Not available</td>\n",
       "      <td>yes</td>\n",
       "      <td>Nationwide</td>\n",
       "      <td>24/Jan/2011</td>\n",
       "      <td>7.04</td>\n",
       "    </tr>\n",
       "    <tr>\n",
       "      <th>1</th>\n",
       "      <td>..</td>\n",
       "      <td>High income: OECD</td>\n",
       "      <td>..</td>\n",
       "      <td>G20</td>\n",
       "      <td>East Asia &amp; Pacific</td>\n",
       "      <td>Upper middle income</td>\n",
       "      <td>IBRD</td>\n",
       "      <td>..</td>\n",
       "      <td>Not available</td>\n",
       "      <td>yes</td>\n",
       "      <td>Nationwide</td>\n",
       "      <td>24/Jan/2011</td>\n",
       "      <td>7.62</td>\n",
       "    </tr>\n",
       "    <tr>\n",
       "      <th>2</th>\n",
       "      <td>..</td>\n",
       "      <td>High income: OECD</td>\n",
       "      <td>..</td>\n",
       "      <td>G20</td>\n",
       "      <td>East Asia &amp; Pacific</td>\n",
       "      <td>Upper middle income</td>\n",
       "      <td>IBRD</td>\n",
       "      <td>..</td>\n",
       "      <td>Not available</td>\n",
       "      <td>yes</td>\n",
       "      <td>Nationwide</td>\n",
       "      <td>24/Jan/2011</td>\n",
       "      <td>9.63</td>\n",
       "    </tr>\n",
       "    <tr>\n",
       "      <th>3</th>\n",
       "      <td>..</td>\n",
       "      <td>High income: OECD</td>\n",
       "      <td>..</td>\n",
       "      <td>G20</td>\n",
       "      <td>East Asia &amp; Pacific</td>\n",
       "      <td>Upper middle income</td>\n",
       "      <td>IBRD</td>\n",
       "      <td>..</td>\n",
       "      <td>Not available</td>\n",
       "      <td>yes</td>\n",
       "      <td>Nationwide</td>\n",
       "      <td>24/Jan/2011</td>\n",
       "      <td>9.12</td>\n",
       "    </tr>\n",
       "    <tr>\n",
       "      <th>4</th>\n",
       "      <td>..</td>\n",
       "      <td>High income: OECD</td>\n",
       "      <td>..</td>\n",
       "      <td>G20</td>\n",
       "      <td>East Asia &amp; Pacific</td>\n",
       "      <td>Upper middle income</td>\n",
       "      <td>IBRD</td>\n",
       "      <td>..</td>\n",
       "      <td>Not available</td>\n",
       "      <td>yes</td>\n",
       "      <td>Nationwide</td>\n",
       "      <td>24/Jan/2011</td>\n",
       "      <td>10.61</td>\n",
       "    </tr>\n",
       "  </tbody>\n",
       "</table>\n",
       "</div>"
      ],
      "text/plain": [
       "  source_region      source_income source_lending source_G8G20  \\\n",
       "0            ..  High income: OECD             ..          G20   \n",
       "1            ..  High income: OECD             ..          G20   \n",
       "2            ..  High income: OECD             ..          G20   \n",
       "3            ..  High income: OECD             ..          G20   \n",
       "4            ..  High income: OECD             ..          G20   \n",
       "\n",
       "    destination_region   destination_income destination_lending  \\\n",
       "0  East Asia & Pacific  Upper middle income                IBRD   \n",
       "1  East Asia & Pacific  Upper middle income                IBRD   \n",
       "2  East Asia & Pacific  Upper middle income                IBRD   \n",
       "3  East Asia & Pacific  Upper middle income                IBRD   \n",
       "4  East Asia & Pacific  Upper middle income                IBRD   \n",
       "\n",
       "  destination_G8G20 sending location transparent    coverage         date  \\\n",
       "0                ..    Not available         yes  Nationwide  24/Jan/2011   \n",
       "1                ..    Not available         yes  Nationwide  24/Jan/2011   \n",
       "2                ..    Not available         yes  Nationwide  24/Jan/2011   \n",
       "3                ..    Not available         yes  Nationwide  24/Jan/2011   \n",
       "4                ..    Not available         yes  Nationwide  24/Jan/2011   \n",
       "\n",
       "   total cost  \n",
       "0        7.04  \n",
       "1        7.62  \n",
       "2        9.63  \n",
       "3        9.12  \n",
       "4       10.61  "
      ]
     },
     "execution_count": 195,
     "metadata": {},
     "output_type": "execute_result"
    }
   ],
   "source": [
    "df.head()"
   ]
  },
  {
   "cell_type": "code",
   "execution_count": 196,
   "metadata": {
    "collapsed": false
   },
   "outputs": [],
   "source": [
    "df = df.replace('..', np.NaN)"
   ]
  },
  {
   "cell_type": "code",
   "execution_count": 197,
   "metadata": {
    "collapsed": false
   },
   "outputs": [
    {
     "data": {
      "text/html": [
       "<div>\n",
       "<table border=\"1\" class=\"dataframe\">\n",
       "  <thead>\n",
       "    <tr style=\"text-align: right;\">\n",
       "      <th></th>\n",
       "      <th>source_region</th>\n",
       "      <th>source_income</th>\n",
       "      <th>source_lending</th>\n",
       "      <th>source_G8G20</th>\n",
       "      <th>destination_region</th>\n",
       "      <th>destination_income</th>\n",
       "      <th>destination_lending</th>\n",
       "      <th>destination_G8G20</th>\n",
       "      <th>sending location</th>\n",
       "      <th>transparent</th>\n",
       "      <th>coverage</th>\n",
       "      <th>date</th>\n",
       "      <th>total cost</th>\n",
       "    </tr>\n",
       "  </thead>\n",
       "  <tbody>\n",
       "    <tr>\n",
       "      <th>0</th>\n",
       "      <td>NaN</td>\n",
       "      <td>High income: OECD</td>\n",
       "      <td>NaN</td>\n",
       "      <td>G20</td>\n",
       "      <td>East Asia &amp; Pacific</td>\n",
       "      <td>Upper middle income</td>\n",
       "      <td>IBRD</td>\n",
       "      <td>NaN</td>\n",
       "      <td>Not available</td>\n",
       "      <td>yes</td>\n",
       "      <td>Nationwide</td>\n",
       "      <td>24/Jan/2011</td>\n",
       "      <td>7.04</td>\n",
       "    </tr>\n",
       "    <tr>\n",
       "      <th>1</th>\n",
       "      <td>NaN</td>\n",
       "      <td>High income: OECD</td>\n",
       "      <td>NaN</td>\n",
       "      <td>G20</td>\n",
       "      <td>East Asia &amp; Pacific</td>\n",
       "      <td>Upper middle income</td>\n",
       "      <td>IBRD</td>\n",
       "      <td>NaN</td>\n",
       "      <td>Not available</td>\n",
       "      <td>yes</td>\n",
       "      <td>Nationwide</td>\n",
       "      <td>24/Jan/2011</td>\n",
       "      <td>7.62</td>\n",
       "    </tr>\n",
       "    <tr>\n",
       "      <th>2</th>\n",
       "      <td>NaN</td>\n",
       "      <td>High income: OECD</td>\n",
       "      <td>NaN</td>\n",
       "      <td>G20</td>\n",
       "      <td>East Asia &amp; Pacific</td>\n",
       "      <td>Upper middle income</td>\n",
       "      <td>IBRD</td>\n",
       "      <td>NaN</td>\n",
       "      <td>Not available</td>\n",
       "      <td>yes</td>\n",
       "      <td>Nationwide</td>\n",
       "      <td>24/Jan/2011</td>\n",
       "      <td>9.63</td>\n",
       "    </tr>\n",
       "    <tr>\n",
       "      <th>3</th>\n",
       "      <td>NaN</td>\n",
       "      <td>High income: OECD</td>\n",
       "      <td>NaN</td>\n",
       "      <td>G20</td>\n",
       "      <td>East Asia &amp; Pacific</td>\n",
       "      <td>Upper middle income</td>\n",
       "      <td>IBRD</td>\n",
       "      <td>NaN</td>\n",
       "      <td>Not available</td>\n",
       "      <td>yes</td>\n",
       "      <td>Nationwide</td>\n",
       "      <td>24/Jan/2011</td>\n",
       "      <td>9.12</td>\n",
       "    </tr>\n",
       "    <tr>\n",
       "      <th>4</th>\n",
       "      <td>NaN</td>\n",
       "      <td>High income: OECD</td>\n",
       "      <td>NaN</td>\n",
       "      <td>G20</td>\n",
       "      <td>East Asia &amp; Pacific</td>\n",
       "      <td>Upper middle income</td>\n",
       "      <td>IBRD</td>\n",
       "      <td>NaN</td>\n",
       "      <td>Not available</td>\n",
       "      <td>yes</td>\n",
       "      <td>Nationwide</td>\n",
       "      <td>24/Jan/2011</td>\n",
       "      <td>10.61</td>\n",
       "    </tr>\n",
       "  </tbody>\n",
       "</table>\n",
       "</div>"
      ],
      "text/plain": [
       "  source_region      source_income source_lending source_G8G20  \\\n",
       "0           NaN  High income: OECD            NaN          G20   \n",
       "1           NaN  High income: OECD            NaN          G20   \n",
       "2           NaN  High income: OECD            NaN          G20   \n",
       "3           NaN  High income: OECD            NaN          G20   \n",
       "4           NaN  High income: OECD            NaN          G20   \n",
       "\n",
       "    destination_region   destination_income destination_lending  \\\n",
       "0  East Asia & Pacific  Upper middle income                IBRD   \n",
       "1  East Asia & Pacific  Upper middle income                IBRD   \n",
       "2  East Asia & Pacific  Upper middle income                IBRD   \n",
       "3  East Asia & Pacific  Upper middle income                IBRD   \n",
       "4  East Asia & Pacific  Upper middle income                IBRD   \n",
       "\n",
       "  destination_G8G20 sending location transparent    coverage         date  \\\n",
       "0               NaN    Not available         yes  Nationwide  24/Jan/2011   \n",
       "1               NaN    Not available         yes  Nationwide  24/Jan/2011   \n",
       "2               NaN    Not available         yes  Nationwide  24/Jan/2011   \n",
       "3               NaN    Not available         yes  Nationwide  24/Jan/2011   \n",
       "4               NaN    Not available         yes  Nationwide  24/Jan/2011   \n",
       "\n",
       "   total cost  \n",
       "0        7.04  \n",
       "1        7.62  \n",
       "2        9.63  \n",
       "3        9.12  \n",
       "4       10.61  "
      ]
     },
     "execution_count": 197,
     "metadata": {},
     "output_type": "execute_result"
    }
   ],
   "source": [
    "df.head()"
   ]
  },
  {
   "cell_type": "code",
   "execution_count": 198,
   "metadata": {
    "collapsed": false
   },
   "outputs": [
    {
     "data": {
      "text/plain": [
       "array(['IBRD', 'IDA', 'Blend', nan], dtype=object)"
      ]
     },
     "execution_count": 198,
     "metadata": {},
     "output_type": "execute_result"
    }
   ],
   "source": [
    "df['destination_lending'].unique()"
   ]
  },
  {
   "cell_type": "code",
   "execution_count": 199,
   "metadata": {
    "collapsed": true
   },
   "outputs": [],
   "source": [
    "del df['sending location']"
   ]
  },
  {
   "cell_type": "code",
   "execution_count": 200,
   "metadata": {
    "collapsed": true
   },
   "outputs": [],
   "source": [
    "df['destination_G8G20'] = df['destination_G8G20'].replace(np.NaN, 0)\n",
    "df['destination_G8G20'] = df['destination_G8G20'].replace('G20', 1)"
   ]
  },
  {
   "cell_type": "code",
   "execution_count": 201,
   "metadata": {
    "collapsed": true
   },
   "outputs": [],
   "source": [
    "df['source_G8G20'] = df['source_G8G20'].replace(np.NaN, 0)\n",
    "df['source_G8G20'] = df['source_G8G20'].replace('G20', 1)"
   ]
  },
  {
   "cell_type": "code",
   "execution_count": 202,
   "metadata": {
    "collapsed": true
   },
   "outputs": [],
   "source": [
    "df['transparent'] = df['transparent'].replace('yes', 1)\n",
    "df['transparent'] = df['transparent'].replace('no', 0)"
   ]
  },
  {
   "cell_type": "code",
   "execution_count": 203,
   "metadata": {
    "collapsed": true
   },
   "outputs": [],
   "source": [
    "df2 = df.dropna()"
   ]
  },
  {
   "cell_type": "code",
   "execution_count": 204,
   "metadata": {
    "collapsed": false
   },
   "outputs": [
    {
     "data": {
      "text/plain": [
       "3102"
      ]
     },
     "execution_count": 204,
     "metadata": {},
     "output_type": "execute_result"
    }
   ],
   "source": [
    "len(df2)"
   ]
  },
  {
   "cell_type": "code",
   "execution_count": 205,
   "metadata": {
    "collapsed": false
   },
   "outputs": [
    {
     "data": {
      "text/plain": [
       "39751"
      ]
     },
     "execution_count": 205,
     "metadata": {},
     "output_type": "execute_result"
    }
   ],
   "source": [
    "len(df)"
   ]
  },
  {
   "cell_type": "code",
   "execution_count": 227,
   "metadata": {
    "collapsed": false
   },
   "outputs": [
    {
     "name": "stdout",
     "output_type": "stream",
     "text": [
      "source_income 0\n",
      "source_G8G20 0\n",
      "destination_income 0\n",
      "destination_lending 0\n",
      "destination_G8G20 0\n",
      "transparent 0\n",
      "coverage 0\n",
      "date 0\n",
      "avg_cost 0\n"
     ]
    }
   ],
   "source": [
    "for c in df.columns:\n",
    "    print c, len(df[c]) - df[c].count()"
   ]
  },
  {
   "cell_type": "code",
   "execution_count": 207,
   "metadata": {
    "collapsed": false
   },
   "outputs": [
    {
     "data": {
      "text/plain": [
       "count                   38452\n",
       "unique                      6\n",
       "top       East Asia & Pacific\n",
       "freq                    11321\n",
       "Name: destination_region, dtype: object"
      ]
     },
     "execution_count": 207,
     "metadata": {},
     "output_type": "execute_result"
    }
   ],
   "source": [
    "df['destination_region'].describe()"
   ]
  },
  {
   "cell_type": "code",
   "execution_count": 208,
   "metadata": {
    "collapsed": false
   },
   "outputs": [],
   "source": [
    "del df['source_region']\n",
    "del df['destination_region']\n",
    "del df['source_lending']"
   ]
  },
  {
   "cell_type": "code",
   "execution_count": 210,
   "metadata": {
    "collapsed": true
   },
   "outputs": [],
   "source": [
    "df = df.dropna()"
   ]
  },
  {
   "cell_type": "code",
   "execution_count": 211,
   "metadata": {
    "collapsed": false
   },
   "outputs": [
    {
     "data": {
      "text/plain": [
       "39182"
      ]
     },
     "execution_count": 211,
     "metadata": {},
     "output_type": "execute_result"
    }
   ],
   "source": [
    "len(df)"
   ]
  },
  {
   "cell_type": "code",
   "execution_count": 212,
   "metadata": {
    "collapsed": false
   },
   "outputs": [
    {
     "data": {
      "text/html": [
       "<div>\n",
       "<table border=\"1\" class=\"dataframe\">\n",
       "  <thead>\n",
       "    <tr style=\"text-align: right;\">\n",
       "      <th></th>\n",
       "      <th>source_income</th>\n",
       "      <th>source_G8G20</th>\n",
       "      <th>destination_income</th>\n",
       "      <th>destination_lending</th>\n",
       "      <th>destination_G8G20</th>\n",
       "      <th>transparent</th>\n",
       "      <th>coverage</th>\n",
       "      <th>date</th>\n",
       "      <th>total cost</th>\n",
       "    </tr>\n",
       "  </thead>\n",
       "  <tbody>\n",
       "    <tr>\n",
       "      <th>0</th>\n",
       "      <td>High income: OECD</td>\n",
       "      <td>1</td>\n",
       "      <td>Upper middle income</td>\n",
       "      <td>IBRD</td>\n",
       "      <td>0</td>\n",
       "      <td>1</td>\n",
       "      <td>Nationwide</td>\n",
       "      <td>24/Jan/2011</td>\n",
       "      <td>7.04</td>\n",
       "    </tr>\n",
       "    <tr>\n",
       "      <th>1</th>\n",
       "      <td>High income: OECD</td>\n",
       "      <td>1</td>\n",
       "      <td>Upper middle income</td>\n",
       "      <td>IBRD</td>\n",
       "      <td>0</td>\n",
       "      <td>1</td>\n",
       "      <td>Nationwide</td>\n",
       "      <td>24/Jan/2011</td>\n",
       "      <td>7.62</td>\n",
       "    </tr>\n",
       "    <tr>\n",
       "      <th>2</th>\n",
       "      <td>High income: OECD</td>\n",
       "      <td>1</td>\n",
       "      <td>Upper middle income</td>\n",
       "      <td>IBRD</td>\n",
       "      <td>0</td>\n",
       "      <td>1</td>\n",
       "      <td>Nationwide</td>\n",
       "      <td>24/Jan/2011</td>\n",
       "      <td>9.63</td>\n",
       "    </tr>\n",
       "    <tr>\n",
       "      <th>3</th>\n",
       "      <td>High income: OECD</td>\n",
       "      <td>1</td>\n",
       "      <td>Upper middle income</td>\n",
       "      <td>IBRD</td>\n",
       "      <td>0</td>\n",
       "      <td>1</td>\n",
       "      <td>Nationwide</td>\n",
       "      <td>24/Jan/2011</td>\n",
       "      <td>9.12</td>\n",
       "    </tr>\n",
       "    <tr>\n",
       "      <th>4</th>\n",
       "      <td>High income: OECD</td>\n",
       "      <td>1</td>\n",
       "      <td>Upper middle income</td>\n",
       "      <td>IBRD</td>\n",
       "      <td>0</td>\n",
       "      <td>1</td>\n",
       "      <td>Nationwide</td>\n",
       "      <td>24/Jan/2011</td>\n",
       "      <td>10.61</td>\n",
       "    </tr>\n",
       "  </tbody>\n",
       "</table>\n",
       "</div>"
      ],
      "text/plain": [
       "       source_income source_G8G20   destination_income destination_lending  \\\n",
       "0  High income: OECD            1  Upper middle income                IBRD   \n",
       "1  High income: OECD            1  Upper middle income                IBRD   \n",
       "2  High income: OECD            1  Upper middle income                IBRD   \n",
       "3  High income: OECD            1  Upper middle income                IBRD   \n",
       "4  High income: OECD            1  Upper middle income                IBRD   \n",
       "\n",
       "   destination_G8G20  transparent    coverage         date  total cost  \n",
       "0                  0            1  Nationwide  24/Jan/2011        7.04  \n",
       "1                  0            1  Nationwide  24/Jan/2011        7.62  \n",
       "2                  0            1  Nationwide  24/Jan/2011        9.63  \n",
       "3                  0            1  Nationwide  24/Jan/2011        9.12  \n",
       "4                  0            1  Nationwide  24/Jan/2011       10.61  "
      ]
     },
     "execution_count": 212,
     "metadata": {},
     "output_type": "execute_result"
    }
   ],
   "source": [
    "df.head()"
   ]
  },
  {
   "cell_type": "code",
   "execution_count": 213,
   "metadata": {
    "collapsed": false
   },
   "outputs": [],
   "source": [
    "df['date'] = pd.to_datetime(df['date'])"
   ]
  },
  {
   "cell_type": "code",
   "execution_count": 214,
   "metadata": {
    "collapsed": false
   },
   "outputs": [
    {
     "data": {
      "text/plain": [
       "source_income                  object\n",
       "source_G8G20                   object\n",
       "destination_income             object\n",
       "destination_lending            object\n",
       "destination_G8G20               int64\n",
       "transparent                     int64\n",
       "coverage                       object\n",
       "date                   datetime64[ns]\n",
       "total cost                    float64\n",
       "dtype: object"
      ]
     },
     "execution_count": 214,
     "metadata": {},
     "output_type": "execute_result"
    }
   ],
   "source": [
    "df.dtypes"
   ]
  },
  {
   "cell_type": "code",
   "execution_count": 215,
   "metadata": {
    "collapsed": false
   },
   "outputs": [
    {
     "data": {
      "text/plain": [
       "array(['High income: OECD', 'Upper middle income', 'Lower middle income',\n",
       "       'High income: nonOECD', 'Low income'], dtype=object)"
      ]
     },
     "execution_count": 215,
     "metadata": {},
     "output_type": "execute_result"
    }
   ],
   "source": [
    "df['source_income'].unique()"
   ]
  },
  {
   "cell_type": "code",
   "execution_count": 217,
   "metadata": {
    "collapsed": false
   },
   "outputs": [
    {
     "data": {
      "text/html": [
       "<div>\n",
       "<table border=\"1\" class=\"dataframe\">\n",
       "  <thead>\n",
       "    <tr style=\"text-align: right;\">\n",
       "      <th></th>\n",
       "      <th>source_income</th>\n",
       "      <th>source_G8G20</th>\n",
       "      <th>destination_income</th>\n",
       "      <th>destination_lending</th>\n",
       "      <th>destination_G8G20</th>\n",
       "      <th>transparent</th>\n",
       "      <th>coverage</th>\n",
       "      <th>date</th>\n",
       "      <th>total cost</th>\n",
       "    </tr>\n",
       "  </thead>\n",
       "  <tbody>\n",
       "    <tr>\n",
       "      <th>0</th>\n",
       "      <td>High income: OECD</td>\n",
       "      <td>1</td>\n",
       "      <td>Upper middle income</td>\n",
       "      <td>IBRD</td>\n",
       "      <td>0</td>\n",
       "      <td>1</td>\n",
       "      <td>Nationwide</td>\n",
       "      <td>2011-01-24</td>\n",
       "      <td>7.04</td>\n",
       "    </tr>\n",
       "    <tr>\n",
       "      <th>1</th>\n",
       "      <td>High income: OECD</td>\n",
       "      <td>1</td>\n",
       "      <td>Upper middle income</td>\n",
       "      <td>IBRD</td>\n",
       "      <td>0</td>\n",
       "      <td>1</td>\n",
       "      <td>Nationwide</td>\n",
       "      <td>2011-01-24</td>\n",
       "      <td>7.62</td>\n",
       "    </tr>\n",
       "    <tr>\n",
       "      <th>2</th>\n",
       "      <td>High income: OECD</td>\n",
       "      <td>1</td>\n",
       "      <td>Upper middle income</td>\n",
       "      <td>IBRD</td>\n",
       "      <td>0</td>\n",
       "      <td>1</td>\n",
       "      <td>Nationwide</td>\n",
       "      <td>2011-01-24</td>\n",
       "      <td>9.63</td>\n",
       "    </tr>\n",
       "    <tr>\n",
       "      <th>3</th>\n",
       "      <td>High income: OECD</td>\n",
       "      <td>1</td>\n",
       "      <td>Upper middle income</td>\n",
       "      <td>IBRD</td>\n",
       "      <td>0</td>\n",
       "      <td>1</td>\n",
       "      <td>Nationwide</td>\n",
       "      <td>2011-01-24</td>\n",
       "      <td>9.12</td>\n",
       "    </tr>\n",
       "    <tr>\n",
       "      <th>4</th>\n",
       "      <td>High income: OECD</td>\n",
       "      <td>1</td>\n",
       "      <td>Upper middle income</td>\n",
       "      <td>IBRD</td>\n",
       "      <td>0</td>\n",
       "      <td>1</td>\n",
       "      <td>Nationwide</td>\n",
       "      <td>2011-01-24</td>\n",
       "      <td>10.61</td>\n",
       "    </tr>\n",
       "  </tbody>\n",
       "</table>\n",
       "</div>"
      ],
      "text/plain": [
       "       source_income source_G8G20   destination_income destination_lending  \\\n",
       "0  High income: OECD            1  Upper middle income                IBRD   \n",
       "1  High income: OECD            1  Upper middle income                IBRD   \n",
       "2  High income: OECD            1  Upper middle income                IBRD   \n",
       "3  High income: OECD            1  Upper middle income                IBRD   \n",
       "4  High income: OECD            1  Upper middle income                IBRD   \n",
       "\n",
       "   destination_G8G20  transparent    coverage       date  total cost  \n",
       "0                  0            1  Nationwide 2011-01-24        7.04  \n",
       "1                  0            1  Nationwide 2011-01-24        7.62  \n",
       "2                  0            1  Nationwide 2011-01-24        9.63  \n",
       "3                  0            1  Nationwide 2011-01-24        9.12  \n",
       "4                  0            1  Nationwide 2011-01-24       10.61  "
      ]
     },
     "execution_count": 217,
     "metadata": {},
     "output_type": "execute_result"
    }
   ],
   "source": [
    "df.head()"
   ]
  },
  {
   "cell_type": "code",
   "execution_count": 218,
   "metadata": {
    "collapsed": false
   },
   "outputs": [
    {
     "data": {
      "text/plain": [
       "array(['Nationwide', 'Major cities', 'Main city', 'Rural only',\n",
       "       'Urban only'], dtype=object)"
      ]
     },
     "execution_count": 218,
     "metadata": {},
     "output_type": "execute_result"
    }
   ],
   "source": [
    "df['coverage'].unique()"
   ]
  },
  {
   "cell_type": "code",
   "execution_count": 219,
   "metadata": {
    "collapsed": true
   },
   "outputs": [],
   "source": [
    "df['avg_cost'] = df['total cost']"
   ]
  },
  {
   "cell_type": "code",
   "execution_count": 220,
   "metadata": {
    "collapsed": true
   },
   "outputs": [],
   "source": [
    "del df['total cost']"
   ]
  },
  {
   "cell_type": "code",
   "execution_count": 221,
   "metadata": {
    "collapsed": false
   },
   "outputs": [
    {
     "data": {
      "text/html": [
       "<div>\n",
       "<table border=\"1\" class=\"dataframe\">\n",
       "  <thead>\n",
       "    <tr style=\"text-align: right;\">\n",
       "      <th></th>\n",
       "      <th>source_income</th>\n",
       "      <th>source_G8G20</th>\n",
       "      <th>destination_income</th>\n",
       "      <th>destination_lending</th>\n",
       "      <th>destination_G8G20</th>\n",
       "      <th>transparent</th>\n",
       "      <th>coverage</th>\n",
       "      <th>date</th>\n",
       "      <th>avg_cost</th>\n",
       "    </tr>\n",
       "  </thead>\n",
       "  <tbody>\n",
       "    <tr>\n",
       "      <th>0</th>\n",
       "      <td>High income: OECD</td>\n",
       "      <td>1</td>\n",
       "      <td>Upper middle income</td>\n",
       "      <td>IBRD</td>\n",
       "      <td>0</td>\n",
       "      <td>1</td>\n",
       "      <td>Nationwide</td>\n",
       "      <td>2011-01-24</td>\n",
       "      <td>7.04</td>\n",
       "    </tr>\n",
       "    <tr>\n",
       "      <th>1</th>\n",
       "      <td>High income: OECD</td>\n",
       "      <td>1</td>\n",
       "      <td>Upper middle income</td>\n",
       "      <td>IBRD</td>\n",
       "      <td>0</td>\n",
       "      <td>1</td>\n",
       "      <td>Nationwide</td>\n",
       "      <td>2011-01-24</td>\n",
       "      <td>7.62</td>\n",
       "    </tr>\n",
       "    <tr>\n",
       "      <th>2</th>\n",
       "      <td>High income: OECD</td>\n",
       "      <td>1</td>\n",
       "      <td>Upper middle income</td>\n",
       "      <td>IBRD</td>\n",
       "      <td>0</td>\n",
       "      <td>1</td>\n",
       "      <td>Nationwide</td>\n",
       "      <td>2011-01-24</td>\n",
       "      <td>9.63</td>\n",
       "    </tr>\n",
       "    <tr>\n",
       "      <th>3</th>\n",
       "      <td>High income: OECD</td>\n",
       "      <td>1</td>\n",
       "      <td>Upper middle income</td>\n",
       "      <td>IBRD</td>\n",
       "      <td>0</td>\n",
       "      <td>1</td>\n",
       "      <td>Nationwide</td>\n",
       "      <td>2011-01-24</td>\n",
       "      <td>9.12</td>\n",
       "    </tr>\n",
       "    <tr>\n",
       "      <th>4</th>\n",
       "      <td>High income: OECD</td>\n",
       "      <td>1</td>\n",
       "      <td>Upper middle income</td>\n",
       "      <td>IBRD</td>\n",
       "      <td>0</td>\n",
       "      <td>1</td>\n",
       "      <td>Nationwide</td>\n",
       "      <td>2011-01-24</td>\n",
       "      <td>10.61</td>\n",
       "    </tr>\n",
       "  </tbody>\n",
       "</table>\n",
       "</div>"
      ],
      "text/plain": [
       "       source_income source_G8G20   destination_income destination_lending  \\\n",
       "0  High income: OECD            1  Upper middle income                IBRD   \n",
       "1  High income: OECD            1  Upper middle income                IBRD   \n",
       "2  High income: OECD            1  Upper middle income                IBRD   \n",
       "3  High income: OECD            1  Upper middle income                IBRD   \n",
       "4  High income: OECD            1  Upper middle income                IBRD   \n",
       "\n",
       "   destination_G8G20  transparent    coverage       date  avg_cost  \n",
       "0                  0            1  Nationwide 2011-01-24      7.04  \n",
       "1                  0            1  Nationwide 2011-01-24      7.62  \n",
       "2                  0            1  Nationwide 2011-01-24      9.63  \n",
       "3                  0            1  Nationwide 2011-01-24      9.12  \n",
       "4                  0            1  Nationwide 2011-01-24     10.61  "
      ]
     },
     "execution_count": 221,
     "metadata": {},
     "output_type": "execute_result"
    }
   ],
   "source": [
    "df.head()"
   ]
  },
  {
   "cell_type": "code",
   "execution_count": 156,
   "metadata": {
    "collapsed": true
   },
   "outputs": [],
   "source": [
    "plt.rcParams['figure.figsize']=(20,10)"
   ]
  },
  {
   "cell_type": "code",
   "execution_count": 157,
   "metadata": {
    "collapsed": false
   },
   "outputs": [
    {
     "data": {
      "image/png": "[encoded data removed]",
      "text/plain": [
       "<matplotlib.figure.Figure at 0x12bc50050>"
      ]
     },
     "metadata": {},
     "output_type": "display_data"
    }
   ],
   "source": [
    "sns.set_style(\"whitegrid\")\n",
    "ax = sns.barplot(x=\"source_income\", y=\"avg_cost\", data=df)"
   ]
  },
  {
   "cell_type": "code",
   "execution_count": 175,
   "metadata": {
    "collapsed": false
   },
   "outputs": [
    {
     "data": {
      "text/plain": [
       "array(['High income: OECD', 'Upper middle income', 'Lower middle income',\n",
       "       'High income: nonOECD', 'Low income'], dtype=object)"
      ]
     },
     "execution_count": 175,
     "metadata": {},
     "output_type": "execute_result"
    }
   ],
   "source": [
    "df['source_income'].unique()"
   ]
  },
  {
   "cell_type": "code",
   "execution_count": 158,
   "metadata": {
    "collapsed": false
   },
   "outputs": [
    {
     "data": {
      "image/png": "[encoded data removed]",
      "text/plain": [
       "<matplotlib.figure.Figure at 0x114ef7510>"
      ]
     },
     "metadata": {},
     "output_type": "display_data"
    }
   ],
   "source": [
    "ax = sns.barplot(x=\"destination_income\", y=\"avg_cost\", data=df)"
   ]
  },
  {
   "cell_type": "code",
   "execution_count": 161,
   "metadata": {
    "collapsed": false
   },
   "outputs": [
    {
     "data": {
      "image/png": "[encoded data removed]",
      "text/plain": [
       "<matplotlib.figure.Figure at 0x122387a10>"
      ]
     },
     "metadata": {},
     "output_type": "display_data"
    }
   ],
   "source": [
    "ax = sns.barplot(x=\"source_G8G20\", y=\"avg_cost\", data=df)"
   ]
  },
  {
   "cell_type": "code",
   "execution_count": 222,
   "metadata": {
    "collapsed": true
   },
   "outputs": [],
   "source": [
    "df['source_G8G20'] = df['source_G8G20'].replace('G8/G20', 2)"
   ]
  },
  {
   "cell_type": "code",
   "execution_count": 162,
   "metadata": {
    "collapsed": false
   },
   "outputs": [
    {
     "data": {
      "image/png": "[encoded data removed]",
      "text/plain": [
       "<matplotlib.figure.Figure at 0x122c91510>"
      ]
     },
     "metadata": {},
     "output_type": "display_data"
    }
   ],
   "source": [
    "ax = sns.barplot(x=\"destination_G8G20\", y=\"avg_cost\", data=df)"
   ]
  },
  {
   "cell_type": "code",
   "execution_count": 178,
   "metadata": {
    "collapsed": false
   },
   "outputs": [
    {
     "data": {
      "text/plain": [
       "array(['IBRD', 'IDA', 'Blend'], dtype=object)"
      ]
     },
     "execution_count": 178,
     "metadata": {},
     "output_type": "execute_result"
    }
   ],
   "source": [
    "df['destination_lending'].unique()"
   ]
  },
  {
   "cell_type": "code",
   "execution_count": 235,
   "metadata": {
    "collapsed": false
   },
   "outputs": [
    {
     "name": "stdout",
     "output_type": "stream",
     "text": [
      "<class 'pandas.core.frame.DataFrame'>\n",
      "Int64Index: 39182 entries, 0 to 39852\n",
      "Data columns (total 11 columns):\n",
      "source_income                39182 non-null object\n",
      "source_G8G20                 39182 non-null int64\n",
      "destination_income           39182 non-null object\n",
      "destination_lending          39182 non-null object\n",
      "destination_G8G20            39182 non-null int64\n",
      "transparent                  39182 non-null int64\n",
      "coverage                     39182 non-null object\n",
      "date                         39182 non-null datetime64[ns]\n",
      "avg_cost                     39182 non-null float64\n",
      "destination_lending_Blend    39182 non-null float64\n",
      "destination_lending_IBRD     39182 non-null float64\n",
      "dtypes: datetime64[ns](1), float64(3), int64(3), object(4)\n",
      "memory usage: 3.6+ MB\n"
     ]
    }
   ],
   "source": [
    "df_dl = pd.get_dummies(df['destination_lending'], prefix='destination_lending')\n",
    "df = df.join(df_dl.ix[:, :\"destination_lending_IBRD\"])\n",
    "df.info()"
   ]
  },
  {
   "cell_type": "code",
   "execution_count": 242,
   "metadata": {
    "collapsed": false
   },
   "outputs": [
    {
     "name": "stdout",
     "output_type": "stream",
     "text": [
      "<class 'pandas.core.frame.DataFrame'>\n",
      "Int64Index: 39182 entries, 0 to 39852\n",
      "Data columns (total 15 columns):\n",
      "source_income                39182 non-null object\n",
      "source_G8G20                 39182 non-null int64\n",
      "destination_income           39182 non-null object\n",
      "destination_lending          39182 non-null object\n",
      "destination_G8G20            39182 non-null int64\n",
      "transparent                  39182 non-null int64\n",
      "coverage                     39182 non-null object\n",
      "date                         39182 non-null datetime64[ns]\n",
      "avg_cost                     39182 non-null float64\n",
      "destination_lending_Blend    39182 non-null float64\n",
      "destination_lending_IBRD     39182 non-null float64\n",
      "coverage_Main city           39182 non-null float64\n",
      "coverage_Major cities        39182 non-null float64\n",
      "coverage_Nationwide          39182 non-null float64\n",
      "coverage_Rural only          39182 non-null float64\n",
      "dtypes: datetime64[ns](1), float64(7), int64(3), object(4)\n",
      "memory usage: 4.8+ MB\n"
     ]
    }
   ],
   "source": [
    "df_c = pd.get_dummies(df['coverage'], prefix='coverage')\n",
    "df = df.join(df_c.ix[:, :\"coverage_Rural only\"])\n",
    "df.info()"
   ]
  },
  {
   "cell_type": "code",
   "execution_count": 246,
   "metadata": {
    "collapsed": false
   },
   "outputs": [
    {
     "name": "stdout",
     "output_type": "stream",
     "text": [
      "<class 'pandas.core.frame.DataFrame'>\n",
      "Int64Index: 39182 entries, 0 to 39852\n",
      "Data columns (total 17 columns):\n",
      "source_income                39182 non-null object\n",
      "source_G8G20                 39182 non-null int64\n",
      "destination_income           39182 non-null object\n",
      "destination_lending          39182 non-null object\n",
      "destination_G8G20            39182 non-null int64\n",
      "transparent                  39182 non-null int64\n",
      "coverage                     39182 non-null object\n",
      "date                         39182 non-null datetime64[ns]\n",
      "avg_cost                     39182 non-null float64\n",
      "destination_lending_Blend    39182 non-null float64\n",
      "destination_lending_IBRD     39182 non-null float64\n",
      "coverage_Main city           39182 non-null float64\n",
      "coverage_Major cities        39182 non-null float64\n",
      "coverage_Nationwide          39182 non-null float64\n",
      "coverage_Rural only          39182 non-null float64\n",
      "source_G8G20_0               39182 non-null float64\n",
      "source_G8G20_1               39182 non-null float64\n",
      "dtypes: datetime64[ns](1), float64(9), int64(3), object(4)\n",
      "memory usage: 5.4+ MB\n"
     ]
    }
   ],
   "source": [
    "df_dg = pd.get_dummies(df['source_G8G20'], prefix='source_G8G20')\n",
    "df = df.join(df_dg.ix[:, :\"source_G8G20_1\"])\n",
    "df.info()"
   ]
  },
  {
   "cell_type": "code",
   "execution_count": 257,
   "metadata": {
    "collapsed": false
   },
   "outputs": [
    {
     "name": "stdout",
     "output_type": "stream",
     "text": [
      "<class 'pandas.core.frame.DataFrame'>\n",
      "Int64Index: 39182 entries, 0 to 39852\n",
      "Data columns (total 21 columns):\n",
      "source_income                         39182 non-null object\n",
      "source_G8G20                          39182 non-null int64\n",
      "destination_income                    39182 non-null object\n",
      "destination_lending                   39182 non-null object\n",
      "destination_G8G20                     39182 non-null int64\n",
      "transparent                           39182 non-null int64\n",
      "coverage                              39182 non-null object\n",
      "date                                  39182 non-null datetime64[ns]\n",
      "avg_cost                              39182 non-null float64\n",
      "destination_lending_Blend             39182 non-null float64\n",
      "destination_lending_IBRD              39182 non-null float64\n",
      "coverage_Main city                    39182 non-null float64\n",
      "coverage_Major cities                 39182 non-null float64\n",
      "coverage_Nationwide                   39182 non-null float64\n",
      "coverage_Rural only                   39182 non-null float64\n",
      "source_G8G20_0                        39182 non-null float64\n",
      "source_G8G20_1                        39182 non-null float64\n",
      "source_income_High income: OECD       39182 non-null float64\n",
      "source_income_High income: nonOECD    39182 non-null float64\n",
      "source_income_Lower middle income     39182 non-null float64\n",
      "source_income_Upper middle income     39182 non-null float64\n",
      "dtypes: datetime64[ns](1), float64(13), int64(3), object(4)\n",
      "memory usage: 6.6+ MB\n"
     ]
    }
   ],
   "source": [
    "df_dg = pd.get_dummies(df['source_income'], prefix='source_income')\n",
    "df = df.join(df_dg.ix[:, df_dg.columns != 'source_income_Low income'])\n",
    "df.info()\n"
   ]
  },
  {
   "cell_type": "code",
   "execution_count": 258,
   "metadata": {
    "collapsed": false
   },
   "outputs": [
    {
     "name": "stdout",
     "output_type": "stream",
     "text": [
      "<class 'pandas.core.frame.DataFrame'>\n",
      "Int64Index: 39182 entries, 0 to 39852\n",
      "Data columns (total 25 columns):\n",
      "source_income                              39182 non-null object\n",
      "source_G8G20                               39182 non-null int64\n",
      "destination_income                         39182 non-null object\n",
      "destination_lending                        39182 non-null object\n",
      "destination_G8G20                          39182 non-null int64\n",
      "transparent                                39182 non-null int64\n",
      "coverage                                   39182 non-null object\n",
      "date                                       39182 non-null datetime64[ns]\n",
      "avg_cost                                   39182 non-null float64\n",
      "destination_lending_Blend                  39182 non-null float64\n",
      "destination_lending_IBRD                   39182 non-null float64\n",
      "coverage_Main city                         39182 non-null float64\n",
      "coverage_Major cities                      39182 non-null float64\n",
      "coverage_Nationwide                        39182 non-null float64\n",
      "coverage_Rural only                        39182 non-null float64\n",
      "source_G8G20_0                             39182 non-null float64\n",
      "source_G8G20_1                             39182 non-null float64\n",
      "source_income_High income: OECD            39182 non-null float64\n",
      "source_income_High income: nonOECD         39182 non-null float64\n",
      "source_income_Lower middle income          39182 non-null float64\n",
      "source_income_Upper middle income          39182 non-null float64\n",
      "destination_income_High income: OECD       39182 non-null float64\n",
      "destination_income_High income: nonOECD    39182 non-null float64\n",
      "destination_income_Lower middle income     39182 non-null float64\n",
      "destination_income_Upper middle income     39182 non-null float64\n",
      "dtypes: datetime64[ns](1), float64(17), int64(3), object(4)\n",
      "memory usage: 7.8+ MB\n"
     ]
    }
   ],
   "source": [
    "df_dg = pd.get_dummies(df['destination_income'], prefix='destination_income')\n",
    "df = df.join(df_dg.ix[:, df_dg.columns != 'destination_income_Low income'])\n",
    "df.info()"
   ]
  },
  {
   "cell_type": "code",
   "execution_count": 259,
   "metadata": {
    "collapsed": true
   },
   "outputs": [],
   "source": [
    "del df['destination_income']\n",
    "del df['source_income']\n",
    "del df['source_G8G20']\n",
    "del df['coverage']\n",
    "del df['destination_lending']"
   ]
  },
  {
   "cell_type": "code",
   "execution_count": 267,
   "metadata": {
    "collapsed": true
   },
   "outputs": [],
   "source": [
    "df['year'] = df['date'].dt.year"
   ]
  },
  {
   "cell_type": "code",
   "execution_count": 271,
   "metadata": {
    "collapsed": false
   },
   "outputs": [
    {
     "name": "stdout",
     "output_type": "stream",
     "text": [
      "<class 'pandas.core.frame.DataFrame'>\n",
      "Int64Index: 39182 entries, 0 to 39852\n",
      "Data columns (total 25 columns):\n",
      "destination_G8G20                          39182 non-null int64\n",
      "transparent                                39182 non-null int64\n",
      "date                                       39182 non-null datetime64[ns]\n",
      "avg_cost                                   39182 non-null float64\n",
      "destination_lending_Blend                  39182 non-null float64\n",
      "destination_lending_IBRD                   39182 non-null float64\n",
      "coverage_Main city                         39182 non-null float64\n",
      "coverage_Major cities                      39182 non-null float64\n",
      "coverage_Nationwide                        39182 non-null float64\n",
      "coverage_Rural only                        39182 non-null float64\n",
      "source_G8G20_0                             39182 non-null float64\n",
      "source_G8G20_1                             39182 non-null float64\n",
      "source_income_High income: OECD            39182 non-null float64\n",
      "source_income_High income: nonOECD         39182 non-null float64\n",
      "source_income_Lower middle income          39182 non-null float64\n",
      "source_income_Upper middle income          39182 non-null float64\n",
      "destination_income_High income: OECD       39182 non-null float64\n",
      "destination_income_High income: nonOECD    39182 non-null float64\n",
      "destination_income_Lower middle income     39182 non-null float64\n",
      "destination_income_Upper middle income     39182 non-null float64\n",
      "year                                       39182 non-null int64\n",
      "year_2012                                  39182 non-null float64\n",
      "year_2013                                  39182 non-null float64\n",
      "year_2014                                  39182 non-null float64\n",
      "year_2015                                  39182 non-null float64\n",
      "dtypes: datetime64[ns](1), float64(21), int64(3)\n",
      "memory usage: 7.8 MB\n"
     ]
    }
   ],
   "source": [
    "df_dg = pd.get_dummies(df['year'], prefix='year')\n",
    "df = df.join(df_dg.ix[:, df_dg.columns != 'year_2011'])\n",
    "df.info()"
   ]
  },
  {
   "cell_type": "code",
   "execution_count": 272,
   "metadata": {
    "collapsed": true
   },
   "outputs": [],
   "source": [
    "del df['date']"
   ]
  },
  {
   "cell_type": "code",
   "execution_count": 280,
   "metadata": {
    "collapsed": false
   },
   "outputs": [],
   "source": [
    "del df['year']"
   ]
  },
  {
   "cell_type": "code",
   "execution_count": 281,
   "metadata": {
    "collapsed": true
   },
   "outputs": [],
   "source": [
    "X = df.ix[:, df.columns != 'avg_cost']\n",
    "y = df['avg_cost']"
   ]
  },
  {
   "cell_type": "code",
   "execution_count": 290,
   "metadata": {
    "collapsed": false
   },
   "outputs": [],
   "source": [
    "from sklearn import model_selection\n",
    "from sklearn import tree\n",
    "from sklearn import svm\n",
    "from sklearn import ensemble\n",
    "from sklearn import neighbors\n",
    "from sklearn import linear_model\n",
    "from sklearn import metrics\n",
    "from sklearn import preprocessing\n",
    "from sklearn import ensemble\n",
    "from sklearn import metrics\n",
    "from sklearn.tree import DecisionTreeRegressor"
   ]
  },
  {
   "cell_type": "code",
   "execution_count": 294,
   "metadata": {
    "collapsed": true
   },
   "outputs": [],
   "source": [
    "X_train, X_test, y_train, y_test = model_selection.train_test_split(X,\n",
    "                                                    y,\n",
    "                                                    test_size=0.2,\n",
    "                                                    random_state=0)"
   ]
  },
  {
   "cell_type": "code",
   "execution_count": 284,
   "metadata": {
    "collapsed": false
   },
   "outputs": [
    {
     "name": "stdout",
     "output_type": "stream",
     "text": [
      "(31345, 22)\n",
      "(7837, 22)\n",
      "Training/Test Ratio: 3\n"
     ]
    }
   ],
   "source": [
    "print(X_train.shape)\n",
    "print(X_test.shape)\n",
    "print('Training/Test Ratio: {}'.format(X_train.shape[0] / X_test.shape[0]))"
   ]
  },
  {
   "cell_type": "code",
   "execution_count": 295,
   "metadata": {
    "collapsed": false
   },
   "outputs": [
    {
     "name": "stdout",
     "output_type": "stream",
     "text": [
      "(31345,)\n",
      "(7837,)\n",
      "Training/Test Ratio: 3\n"
     ]
    }
   ],
   "source": [
    "print(y_train.shape)\n",
    "print(y_test.shape)\n",
    "print('Training/Test Ratio: {}'.format(y_train.shape[0] / y_test.shape[0]))"
   ]
  },
  {
   "cell_type": "code",
   "execution_count": 285,
   "metadata": {
    "collapsed": true
   },
   "outputs": [],
   "source": [
    "parameters = {\n",
    "              'n_estimators': 500, \n",
    "              'max_depth': 4, \n",
    "              'min_samples_split': 1,\n",
    "              'learning_rate': 0.01, \n",
    "              'loss': 'ls'\n",
    "             }"
   ]
  },
  {
   "cell_type": "code",
   "execution_count": 299,
   "metadata": {
    "collapsed": false
   },
   "outputs": [
    {
     "name": "stdout",
     "output_type": "stream",
     "text": [
      "('Coefficients: \\n', array([ 0.97680391, -2.04125523, -0.83716101, -1.64425115, -0.10445586,\n",
      "       -0.70433886,  1.60058821,  0.40732289, -0.23257979,  1.47565509,\n",
      "       -4.78886616, -8.2933297 , -1.35436115, -3.0611732 ,  0.67499457,\n",
      "        0.56812227, -0.36351366,  0.74801147,  0.07896534, -0.11446845,\n",
      "       -0.6427266 , -0.98096804]))\n",
      "Mean squared error: 20.87\n",
      "score: 0.18\n"
     ]
    }
   ],
   "source": [
    "# Create linear regression object\n",
    "regr = linear_model.LinearRegression()\n",
    "\n",
    "# Train the model using the training sets\n",
    "regr.fit(X_train, y_train)\n",
    "\n",
    "# The coefficients\n",
    "print('Coefficients: \\n', regr.coef_)\n",
    "# The mean squared error\n",
    "print(\"Mean squared error: %.2f\"\n",
    "      % np.mean((regr.predict(X_test) - y_test) ** 2))\n",
    "# Explained variance score: 1 is perfect prediction\n",
    "print('score: %.2f' % regr.score(X_test, y_test))\n"
   ]
  },
  {
   "cell_type": "code",
   "execution_count": 300,
   "metadata": {
    "collapsed": false
   },
   "outputs": [
    {
     "name": "stdout",
     "output_type": "stream",
     "text": [
      "Mean squared error: 18.57\n",
      "score: 0.27\n"
     ]
    }
   ],
   "source": [
    "regressor = DecisionTreeRegressor(random_state=0)\n",
    "\n",
    "# Train the model using the training sets\n",
    "regressor.fit(X_train, y_train)\n",
    "\n",
    "# The mean squared error\n",
    "print(\"Mean squared error: %.2f\"\n",
    "      % np.mean((regressor.predict(X_test) - y_test) ** 2))\n",
    "# Explained variance score: 1 is perfect prediction\n",
    "print('score: %.2f' % regressor.score(X_test, y_test))\n",
    "\n",
    "# model_selection.cross_val_score(regressor, X, y, cv=10)"
   ]
  },
  {
   "cell_type": "code",
   "execution_count": 301,
   "metadata": {
    "collapsed": false
   },
   "outputs": [
    {
     "name": "stdout",
     "output_type": "stream",
     "text": [
      "Mean squared error: 21.04\n",
      "score: 0.17\n"
     ]
    }
   ],
   "source": [
    "from sklearn.svm import SVR\n",
    "clf = SVR(C=1.0, epsilon=0.2)\n",
    "clf.fit(X_train, y_train) \n",
    "\n",
    "# The mean squared error\n",
    "print(\"Mean squared error: %.2f\"\n",
    "      % np.mean((clf.predict(X_test) - y_test) ** 2))\n",
    "# Explained variance score: 1 is perfect prediction\n",
    "print('score: %.2f' % clf.score(X_test, y_test))\n"
   ]
  },
  {
   "cell_type": "code",
   "execution_count": 302,
   "metadata": {
    "collapsed": false
   },
   "outputs": [
    {
     "name": "stdout",
     "output_type": "stream",
     "text": [
      "Mean squared error: 29.48\n",
      "score: -0.16\n"
     ]
    }
   ],
   "source": [
    "from sklearn.neighbors import KNeighborsRegressor\n",
    "neigh = KNeighborsRegressor(n_neighbors=2)\n",
    "neigh.fit(X_train, y_train) \n",
    "\n",
    "# The mean squared error\n",
    "print(\"Mean squared error: %.2f\"\n",
    "      % np.mean((neigh.predict(X_test) - y_test) ** 2))\n",
    "# Explained variance score: 1 is perfect prediction\n",
    "print('score: %.2f' % neigh.score(X_test, y_test))"
   ]
  },
  {
   "cell_type": "code",
   "execution_count": 304,
   "metadata": {
    "collapsed": false
   },
   "outputs": [
    {
     "name": "stdout",
     "output_type": "stream",
     "text": [
      "Mean squared error: 18.51\n",
      "score: 0.27\n"
     ]
    }
   ],
   "source": [
    "from sklearn.neural_network import MLPRegressor\n",
    "clf = MLPRegressor()\n",
    "clf.fit(X_train, y_train)\n",
    "\n",
    "# The mean squared error\n",
    "print(\"Mean squared error: %.2f\"\n",
    "      % np.mean((clf.predict(X_test) - y_test) ** 2))\n",
    "# Explained variance score: 1 is perfect prediction\n",
    "print('score: %.2f' % clf.score(X_test, y_test))\n"
   ]
  },
  {
   "cell_type": "code",
   "execution_count": 314,
   "metadata": {
    "collapsed": false
   },
   "outputs": [
    {
     "name": "stdout",
     "output_type": "stream",
     "text": [
      "Mean squared error: 25.37\n",
      "score: -0.00\n"
     ]
    }
   ],
   "source": [
    "from sklearn.linear_model import Lasso\n",
    "clf = Lasso()\n",
    "clf.fit(X_train, y_train)\n",
    "\n",
    "# The mean squared error\n",
    "print(\"Mean squared error: %.2f\"\n",
    "      % np.mean((clf.predict(X_test) - y_test) ** 2))\n",
    "# Explained variance score: 1 is perfect prediction\n",
    "print('score: %.2f' % clf.score(X_test, y_test))\n"
   ]
  },
  {
   "cell_type": "code",
   "execution_count": 317,
   "metadata": {
    "collapsed": false
   },
   "outputs": [
    {
     "name": "stdout",
     "output_type": "stream",
     "text": [
      "Mean squared error: 22.82\n",
      "score: 0.10\n"
     ]
    }
   ],
   "source": [
    "from sklearn.svm import SVR\n",
    "clf = SVR(kernel='poly', C=1.0, epsilon=0.2)\n",
    "clf.fit(X_train, y_train) \n",
    "\n",
    "# The mean squared error\n",
    "print(\"Mean squared error: %.2f\"\n",
    "      % np.mean((clf.predict(X_test) - y_test) ** 2))\n",
    "# Explained variance score: 1 is perfect prediction\n",
    "print('score: %.2f' % clf.score(X_test, y_test))\n"
   ]
  },
  {
   "cell_type": "code",
   "execution_count": 329,
   "metadata": {
    "collapsed": false
   },
   "outputs": [],
   "source": [
    "bins = [0, 5, 10, 15, 20, 55]\n",
    "group_names = ['low', 'midlow', 'mid', 'midhigh', 'high']\n",
    "\n",
    "categories = pd.cut(df['avg_cost'], bins, labels=group_names)\n",
    "df['avg_cost'] = pd.cut(df['avg_cost'], bins, labels=group_names)"
   ]
  },
  {
   "cell_type": "code",
   "execution_count": 330,
   "metadata": {
    "collapsed": false
   },
   "outputs": [
    {
     "data": {
      "text/plain": [
       "low        16524\n",
       "midlow     14097\n",
       "mid         5154\n",
       "midhigh     2137\n",
       "high         893\n",
       "Name: avg_cost, dtype: int64"
      ]
     },
     "execution_count": 330,
     "metadata": {},
     "output_type": "execute_result"
    }
   ],
   "source": [
    "categories.value_counts()"
   ]
  },
  {
   "cell_type": "code",
   "execution_count": 331,
   "metadata": {
    "collapsed": true
   },
   "outputs": [],
   "source": [
    "X = df.ix[:, df.columns != 'avg_cost']\n",
    "y = df['avg_cost']\n",
    "X_train, X_test, y_train, y_test = model_selection.train_test_split(X,\n",
    "                                                    y,\n",
    "                                                    test_size=0.2,\n",
    "                                                    random_state=0)"
   ]
  },
  {
   "cell_type": "code",
   "execution_count": 337,
   "metadata": {
    "collapsed": false
   },
   "outputs": [
    {
     "name": "stdout",
     "output_type": "stream",
     "text": [
      "score: 0.45\n"
     ]
    },
    {
     "name": "stderr",
     "output_type": "stream",
     "text": [
      "/Users/Amer/anaconda/lib/python2.7/site-packages/sklearn/metrics/classification.py:177: FutureWarning: numpy equal will not check object identity in the future. The comparison did not return the same result as suggested by the identity (`is`)) and will change.\n",
      "  score = y_true == y_pred\n"
     ]
    }
   ],
   "source": [
    "from sklearn.neighbors import KNeighborsClassifier\n",
    "neigh = KNeighborsClassifier(n_neighbors=3)\n",
    "neigh.fit(X_train, y_train) \n",
    "\n",
    "# Explained variance score: 1 is perfect prediction\n",
    "print('score: %.2f' % neigh.score(X_test, y_test))\n"
   ]
  },
  {
   "cell_type": "code",
   "execution_count": 338,
   "metadata": {
    "collapsed": false
   },
   "outputs": [
    {
     "name": "stdout",
     "output_type": "stream",
     "text": [
      "score: 0.51\n"
     ]
    }
   ],
   "source": [
    "from sklearn.svm import SVC\n",
    "clf = SVC()\n",
    "clf.fit(X_train, y_train) \n",
    "\n",
    "# Explained variance score: 1 is perfect prediction\n",
    "print('score: %.2f' % clf.score(X_test, y_test))"
   ]
  },
  {
   "cell_type": "code",
   "execution_count": 339,
   "metadata": {
    "collapsed": false
   },
   "outputs": [
    {
     "name": "stdout",
     "output_type": "stream",
     "text": [
      "score: 0.52\n"
     ]
    }
   ],
   "source": [
    "from sklearn.tree import DecisionTreeClassifier\n",
    "clf = DecisionTreeClassifier()\n",
    "clf.fit(X_train, y_train) \n",
    "\n",
    "# Explained variance score: 1 is perfect prediction\n",
    "print('score: %.2f' % clf.score(X_test, y_test))"
   ]
  },
  {
   "cell_type": "code",
   "execution_count": 340,
   "metadata": {
    "collapsed": false
   },
   "outputs": [
    {
     "name": "stdout",
     "output_type": "stream",
     "text": [
      "score: 0.52\n"
     ]
    }
   ],
   "source": [
    "from sklearn.ensemble import BaggingClassifier\n",
    "clf = BaggingClassifier()\n",
    "clf.fit(X_train, y_train) \n",
    "\n",
    "# Explained variance score: 1 is perfect prediction\n",
    "print('score: %.2f' % clf.score(X_test, y_test))"
   ]
  },
  {
   "cell_type": "code",
   "execution_count": 348,
   "metadata": {
    "collapsed": false
   },
   "outputs": [],
   "source": [
    "from sklearn.tree import DecisionTreeClassifier\n",
    "from sklearn.ensemble import RandomForestClassifier, ExtraTreesClassifier, BaggingClassifier, RandomForestRegressor\n",
    "\n",
    "def cross_val(model, X, y):\n",
    "    s = model_selection.cross_val_score(model, X, y)\n",
    "    print(\"{} Score:\\t{:0.3} ± {:0.3}\".format(type(model), s.mean().round(3), s.std().round(3)))"
   ]
  },
  {
   "cell_type": "code",
   "execution_count": 355,
   "metadata": {
    "collapsed": false
   },
   "outputs": [
    {
     "name": "stdout",
     "output_type": "stream",
     "text": [
      "<class 'sklearn.tree.tree.DecisionTreeClassifier'> Score:\t0.445 ± 0.073\n",
      "<class 'sklearn.ensemble.bagging.BaggingClassifier'> Score:\t0.438 ± 0.081\n",
      "<class 'sklearn.ensemble.forest.RandomForestClassifier'> Score:\t0.448 ± 0.075\n",
      "<class 'sklearn.ensemble.forest.ExtraTreesClassifier'> Score:\t0.442 ± 0.077\n",
      "<class 'sklearn.ensemble.bagging.BaggingClassifier'> Score:\t0.439 ± 0.084\n"
     ]
    }
   ],
   "source": [
    "from sklearn.pipeline import Pipeline\n",
    "from sklearn.preprocessing import Imputer\n",
    "\n",
    "# Estimate the scores without the missing values\n",
    "X_filtered = X\n",
    "y_filtered = y\n",
    "\n",
    "dt = DecisionTreeClassifier()\n",
    "cross_val(dt, X_filtered, y_filtered)\n",
    "bagger = BaggingClassifier(dt, max_samples=1.0)\n",
    "cross_val(bagger, X_filtered, y_filtered)\n",
    "forest = RandomForestClassifier(n_jobs=-1, n_estimators=10)\n",
    "cross_val(forest, X_filtered, y_filtered)\n",
    "trees = ExtraTreesClassifier(n_jobs=-1)\n",
    "cross_val(trees, X_filtered, y_filtered)\n",
    "bag = BaggingClassifier()\n",
    "cross_val(bag, X_filtered, y_filtered)\n"
   ]
  },
  {
   "cell_type": "code",
   "execution_count": 360,
   "metadata": {
    "collapsed": true
   },
   "outputs": [],
   "source": [
    "from sklearn.ensemble import GradientBoostingClassifier, AdaBoostClassifier"
   ]
  },
  {
   "cell_type": "code",
   "execution_count": 361,
   "metadata": {
    "collapsed": false
   },
   "outputs": [
    {
     "name": "stdout",
     "output_type": "stream",
     "text": [
      "<class 'sklearn.ensemble.gradient_boosting.GradientBoostingClassifier'> Score:\t0.416 ± 0.102\n"
     ]
    },
    {
     "name": "stderr",
     "output_type": "stream",
     "text": [
      "/Users/Amer/anaconda/lib/python2.7/site-packages/sklearn/ensemble/weight_boosting.py:513: FutureWarning: numpy equal will not check object identity in the future. The comparison did not return the same result as suggested by the identity (`is`)) and will change.\n",
      "  y_coding = y_codes.take(classes == y[:, np.newaxis])\n",
      "/Users/Amer/anaconda/lib/python2.7/site-packages/sklearn/ensemble/weight_boosting.py:493: FutureWarning: numpy not_equal will not check object identity in the future. The comparison did not return the same result as suggested by the identity (`is`)) and will change.\n",
      "  incorrect = y_predict != y\n"
     ]
    },
    {
     "name": "stdout",
     "output_type": "stream",
     "text": [
      "<class 'sklearn.ensemble.weight_boosting.AdaBoostClassifier'> Score:\t0.396 ± 0.096\n"
     ]
    }
   ],
   "source": [
    "gb = GradientBoostingClassifier()\n",
    "ab = AdaBoostClassifier()\n",
    "cross_val(gb, X_filtered, y_filtered)\n",
    "cross_val(ab, X_filtered, y_filtered)\n"
   ]
  },
  {
   "cell_type": "code",
   "execution_count": 362,
   "metadata": {
    "collapsed": true
   },
   "outputs": [],
   "source": [
    "from sklearn.preprocessing import RobustScaler\n",
    "from sklearn.pipeline import make_pipeline"
   ]
  },
  {
   "cell_type": "code",
   "execution_count": 363,
   "metadata": {
    "collapsed": false
   },
   "outputs": [
    {
     "name": "stdout",
     "output_type": "stream",
     "text": [
      "<class 'sklearn.pipeline.Pipeline'> Score:\t0.443 ± 0.071\n",
      "<class 'sklearn.pipeline.Pipeline'> Score:\t0.442 ± 0.079\n"
     ]
    }
   ],
   "source": [
    "pipedt = make_pipeline(RobustScaler(),\n",
    "                       DecisionTreeClassifier())\n",
    "cross_val(pipedt, X_filtered, y_filtered)\n",
    "\n",
    "pipebdt = make_pipeline(RobustScaler(),\n",
    "                        BaggingClassifier(DecisionTreeClassifier()))\n",
    "cross_val(pipebdt, X_filtered, y_filtered)"
   ]
  },
  {
   "cell_type": "code",
   "execution_count": 364,
   "metadata": {
    "collapsed": true
   },
   "outputs": [],
   "source": [
    "from sklearn.grid_search import GridSearchCV"
   ]
  },
  {
   "cell_type": "code",
   "execution_count": 365,
   "metadata": {
    "collapsed": true
   },
   "outputs": [],
   "source": [
    "# Initialize a GridSearchCV with 5-fold cross validation for the Decision Tree Classifier\n",
    "params = {\"max_depth\": [3,5,10,20],\n",
    "          \"max_features\": [None, \"auto\"],\n",
    "          \"min_samples_leaf\": [1, 3, 5, 7, 10],\n",
    "          \"min_samples_split\": [2, 5, 7]\n",
    "         }\n",
    "    \n",
    "\n",
    "gsdt = GridSearchCV(dt, params, n_jobs=-1, cv=5)"
   ]
  },
  {
   "cell_type": "code",
   "execution_count": 366,
   "metadata": {
    "collapsed": false
   },
   "outputs": [
    {
     "data": {
      "text/plain": [
       "GridSearchCV(cv=5, error_score='raise',\n",
       "       estimator=DecisionTreeClassifier(class_weight=None, criterion='gini', max_depth=None,\n",
       "            max_features=None, max_leaf_nodes=None,\n",
       "            min_impurity_split=1e-07, min_samples_leaf=1,\n",
       "            min_samples_split=2, min_weight_fraction_leaf=0.0,\n",
       "            presort=False, random_state=None, splitter='best'),\n",
       "       fit_params={}, iid=True, n_jobs=-1,\n",
       "       param_grid={'max_features': [None, 'auto'], 'min_samples_split': [2, 5, 7], 'max_depth': [3, 5, 10, 20], 'min_samples_leaf': [1, 3, 5, 7, 10]},\n",
       "       pre_dispatch='2*n_jobs', refit=True, scoring=None, verbose=0)"
      ]
     },
     "execution_count": 366,
     "metadata": {},
     "output_type": "execute_result"
    }
   ],
   "source": [
    "gsdt.fit(X_filtered, y_filtered)"
   ]
  },
  {
   "cell_type": "code",
   "execution_count": 367,
   "metadata": {
    "collapsed": false
   },
   "outputs": [
    {
     "data": {
      "text/plain": [
       "0.4992088203767036"
      ]
     },
     "execution_count": 367,
     "metadata": {},
     "output_type": "execute_result"
    }
   ],
   "source": [
    "gsdt.best_score_"
   ]
  },
  {
   "cell_type": "code",
   "execution_count": 368,
   "metadata": {
    "collapsed": true
   },
   "outputs": [],
   "source": [
    "# I initialized a GridSearchCV with 5-fold cross validation for the Bagging Decision Tree Classifier\n",
    "# and repeated the search\n",
    "params = {\"base_estimator__max_depth\": [3,5,10,20],\n",
    "          \"base_estimator__max_features\": [None, \"auto\"],\n",
    "          \"base_estimator__min_samples_leaf\": [1, 3, 5, 7, 10],\n",
    "          \"base_estimator__min_samples_split\": [2, 5, 7],\n",
    "          'bootstrap_features': [False, True],\n",
    "          'max_features': [0.5, 0.7, 1.0],\n",
    "          'max_samples': [0.5, 0.7, 1.0],\n",
    "          'n_estimators': [2, 5, 10, 20],\n",
    "         }\n",
    "    \n",
    "\n",
    "gsbdt = GridSearchCV(bagger, params, n_jobs=-1, cv=5)"
   ]
  },
  {
   "cell_type": "code",
   "execution_count": 369,
   "metadata": {
    "collapsed": false
   },
   "outputs": [
    {
     "name": "stderr",
     "output_type": "stream",
     "text": [
      "Process PoolWorker-3:\n",
      "Traceback (most recent call last):\n",
      "  File \"/Users/Amer/anaconda/lib/python2.7/multiprocessing/process.py\", line 258, in _bootstrap\n",
      "    self.run()\n",
      "  File \"/Users/Amer/anaconda/lib/python2.7/multiprocessing/process.py\", line 114, in run\n",
      "    self._target(*self._args, **self._kwargs)\n"
     ]
    },
    {
     "ename": "IOError",
     "evalue": "[Errno 22] Invalid argument",
     "output_type": "error",
     "traceback": [
      "\u001b[0;31m---------------------------------------------------------------------------\u001b[0m",
      "\u001b[0;31mIOError\u001b[0m                                   Traceback (most recent call last)",
      "\u001b[0;32m<ipython-input-369-5e7d310be03b>\u001b[0m in \u001b[0;36m<module>\u001b[0;34m()\u001b[0m\n\u001b[0;32m----> 1\u001b[0;31m \u001b[0mgsbdt\u001b[0m\u001b[0;34m.\u001b[0m\u001b[0mfit\u001b[0m\u001b[0;34m(\u001b[0m\u001b[0mX_filtered\u001b[0m\u001b[0;34m,\u001b[0m \u001b[0my_filtered\u001b[0m\u001b[0;34m)\u001b[0m\u001b[0;34m\u001b[0m\u001b[0m\n\u001b[0m",
      "\u001b[0;32m/Users/Amer/anaconda/lib/python2.7/site-packages/sklearn/grid_search.pyc\u001b[0m in \u001b[0;36mfit\u001b[0;34m(self, X, y)\u001b[0m\n\u001b[1;32m    827\u001b[0m \u001b[0;34m\u001b[0m\u001b[0m\n\u001b[1;32m    828\u001b[0m         \"\"\"\n\u001b[0;32m--> 829\u001b[0;31m         \u001b[0;32mreturn\u001b[0m \u001b[0mself\u001b[0m\u001b[0;34m.\u001b[0m\u001b[0m_fit\u001b[0m\u001b[0;34m(\u001b[0m\u001b[0mX\u001b[0m\u001b[0;34m,\u001b[0m \u001b[0my\u001b[0m\u001b[0;34m,\u001b[0m \u001b[0mParameterGrid\u001b[0m\u001b[0;34m(\u001b[0m\u001b[0mself\u001b[0m\u001b[0;34m.\u001b[0m\u001b[0mparam_grid\u001b[0m\u001b[0;34m)\u001b[0m\u001b[0;34m)\u001b[0m\u001b[0;34m\u001b[0m\u001b[0m\n\u001b[0m\u001b[1;32m    830\u001b[0m \u001b[0;34m\u001b[0m\u001b[0m\n\u001b[1;32m    831\u001b[0m \u001b[0;34m\u001b[0m\u001b[0m\n",
      "\u001b[0;32m/Users/Amer/anaconda/lib/python2.7/site-packages/sklearn/grid_search.pyc\u001b[0m in \u001b[0;36m_fit\u001b[0;34m(self, X, y, parameter_iterable)\u001b[0m\n\u001b[1;32m    571\u001b[0m                                     \u001b[0mself\u001b[0m\u001b[0;34m.\u001b[0m\u001b[0mfit_params\u001b[0m\u001b[0;34m,\u001b[0m \u001b[0mreturn_parameters\u001b[0m\u001b[0;34m=\u001b[0m\u001b[0mTrue\u001b[0m\u001b[0;34m,\u001b[0m\u001b[0;34m\u001b[0m\u001b[0m\n\u001b[1;32m    572\u001b[0m                                     error_score=self.error_score)\n\u001b[0;32m--> 573\u001b[0;31m                 \u001b[0;32mfor\u001b[0m \u001b[0mparameters\u001b[0m \u001b[0;32min\u001b[0m \u001b[0mparameter_iterable\u001b[0m\u001b[0;34m\u001b[0m\u001b[0m\n\u001b[0m\u001b[1;32m    574\u001b[0m                 for train, test in cv)\n\u001b[1;32m    575\u001b[0m \u001b[0;34m\u001b[0m\u001b[0m\n",
      "\u001b[0;32m/Users/Amer/anaconda/lib/python2.7/site-packages/sklearn/externals/joblib/parallel.pyc\u001b[0m in \u001b[0;36m__call__\u001b[0;34m(self, iterable)\u001b[0m\n\u001b[1;32m    766\u001b[0m                 \u001b[0;31m# consumption.\u001b[0m\u001b[0;34m\u001b[0m\u001b[0;34m\u001b[0m\u001b[0m\n\u001b[1;32m    767\u001b[0m                 \u001b[0mself\u001b[0m\u001b[0;34m.\u001b[0m\u001b[0m_iterating\u001b[0m \u001b[0;34m=\u001b[0m \u001b[0mFalse\u001b[0m\u001b[0;34m\u001b[0m\u001b[0m\n\u001b[0;32m--> 768\u001b[0;31m             \u001b[0mself\u001b[0m\u001b[0;34m.\u001b[0m\u001b[0mretrieve\u001b[0m\u001b[0;34m(\u001b[0m\u001b[0;34m)\u001b[0m\u001b[0;34m\u001b[0m\u001b[0m\n\u001b[0m\u001b[1;32m    769\u001b[0m             \u001b[0;31m# Make sure that we get a last message telling us we are done\u001b[0m\u001b[0;34m\u001b[0m\u001b[0;34m\u001b[0m\u001b[0m\n\u001b[1;32m    770\u001b[0m             \u001b[0melapsed_time\u001b[0m \u001b[0;34m=\u001b[0m \u001b[0mtime\u001b[0m\u001b[0;34m.\u001b[0m\u001b[0mtime\u001b[0m\u001b[0;34m(\u001b[0m\u001b[0;34m)\u001b[0m \u001b[0;34m-\u001b[0m \u001b[0mself\u001b[0m\u001b[0;34m.\u001b[0m\u001b[0m_start_time\u001b[0m\u001b[0;34m\u001b[0m\u001b[0m\n",
      "\u001b[0;32m/Users/Amer/anaconda/lib/python2.7/site-packages/sklearn/externals/joblib/parallel.pyc\u001b[0m in \u001b[0;36mretrieve\u001b[0;34m(self)\u001b[0m\n\u001b[1;32m    716\u001b[0m                     \u001b[0;31m# scheduling.\u001b[0m\u001b[0;34m\u001b[0m\u001b[0;34m\u001b[0m\u001b[0m\n\u001b[1;32m    717\u001b[0m                     \u001b[0mensure_ready\u001b[0m \u001b[0;34m=\u001b[0m \u001b[0mself\u001b[0m\u001b[0;34m.\u001b[0m\u001b[0m_managed_backend\u001b[0m\u001b[0;34m\u001b[0m\u001b[0m\n\u001b[0;32m--> 718\u001b[0;31m                     \u001b[0mbackend\u001b[0m\u001b[0;34m.\u001b[0m\u001b[0mabort_everything\u001b[0m\u001b[0;34m(\u001b[0m\u001b[0mensure_ready\u001b[0m\u001b[0;34m=\u001b[0m\u001b[0mensure_ready\u001b[0m\u001b[0;34m)\u001b[0m\u001b[0;34m\u001b[0m\u001b[0m\n\u001b[0m\u001b[1;32m    719\u001b[0m                 \u001b[0;32mraise\u001b[0m \u001b[0mexception\u001b[0m\u001b[0;34m\u001b[0m\u001b[0m\n\u001b[1;32m    720\u001b[0m \u001b[0;34m\u001b[0m\u001b[0m\n",
      "\u001b[0;32m/Users/Amer/anaconda/lib/python2.7/site-packages/sklearn/externals/joblib/_parallel_backends.pyc\u001b[0m in \u001b[0;36mabort_everything\u001b[0;34m(self, ensure_ready)\u001b[0m\n\u001b[1;32m    141\u001b[0m     \u001b[0;32mdef\u001b[0m \u001b[0mabort_everything\u001b[0m\u001b[0;34m(\u001b[0m\u001b[0mself\u001b[0m\u001b[0;34m,\u001b[0m \u001b[0mensure_ready\u001b[0m\u001b[0;34m=\u001b[0m\u001b[0mTrue\u001b[0m\u001b[0;34m)\u001b[0m\u001b[0;34m:\u001b[0m\u001b[0;34m\u001b[0m\u001b[0m\n\u001b[1;32m    142\u001b[0m         \u001b[0;34m\"\"\"Shutdown the pool and restart a new one with the same parameters\"\"\"\u001b[0m\u001b[0;34m\u001b[0m\u001b[0m\n\u001b[0;32m--> 143\u001b[0;31m         \u001b[0mself\u001b[0m\u001b[0;34m.\u001b[0m\u001b[0mterminate\u001b[0m\u001b[0;34m(\u001b[0m\u001b[0;34m)\u001b[0m\u001b[0;34m\u001b[0m\u001b[0m\n\u001b[0m\u001b[1;32m    144\u001b[0m         \u001b[0;32mif\u001b[0m \u001b[0mensure_ready\u001b[0m\u001b[0;34m:\u001b[0m\u001b[0;34m\u001b[0m\u001b[0m\n\u001b[1;32m    145\u001b[0m             self.configure(n_jobs=self.parallel.n_jobs, parallel=self.parallel,\n",
      "\u001b[0;32m/Users/Amer/anaconda/lib/python2.7/site-packages/sklearn/externals/joblib/_parallel_backends.pyc\u001b[0m in \u001b[0;36mterminate\u001b[0;34m(self)\u001b[0m\n\u001b[1;32m    315\u001b[0m     \u001b[0;32mdef\u001b[0m \u001b[0mterminate\u001b[0m\u001b[0;34m(\u001b[0m\u001b[0mself\u001b[0m\u001b[0;34m)\u001b[0m\u001b[0;34m:\u001b[0m\u001b[0;34m\u001b[0m\u001b[0m\n\u001b[1;32m    316\u001b[0m         \u001b[0;34m\"\"\"Shutdown the process or thread pool\"\"\"\u001b[0m\u001b[0;34m\u001b[0m\u001b[0m\n\u001b[0;32m--> 317\u001b[0;31m         \u001b[0msuper\u001b[0m\u001b[0;34m(\u001b[0m\u001b[0mMultiprocessingBackend\u001b[0m\u001b[0;34m,\u001b[0m \u001b[0mself\u001b[0m\u001b[0;34m)\u001b[0m\u001b[0;34m.\u001b[0m\u001b[0mterminate\u001b[0m\u001b[0;34m(\u001b[0m\u001b[0;34m)\u001b[0m\u001b[0;34m\u001b[0m\u001b[0m\n\u001b[0m\u001b[1;32m    318\u001b[0m         \u001b[0;32mif\u001b[0m \u001b[0mself\u001b[0m\u001b[0;34m.\u001b[0m\u001b[0mJOBLIB_SPAWNED_PROCESS\u001b[0m \u001b[0;32min\u001b[0m \u001b[0mos\u001b[0m\u001b[0;34m.\u001b[0m\u001b[0menviron\u001b[0m\u001b[0;34m:\u001b[0m\u001b[0;34m\u001b[0m\u001b[0m\n\u001b[1;32m    319\u001b[0m             \u001b[0;32mdel\u001b[0m \u001b[0mos\u001b[0m\u001b[0;34m.\u001b[0m\u001b[0menviron\u001b[0m\u001b[0;34m[\u001b[0m\u001b[0mself\u001b[0m\u001b[0;34m.\u001b[0m\u001b[0mJOBLIB_SPAWNED_PROCESS\u001b[0m\u001b[0;34m]\u001b[0m\u001b[0;34m\u001b[0m\u001b[0m\n",
      "\u001b[0;32m/Users/Amer/anaconda/lib/python2.7/site-packages/sklearn/externals/joblib/_parallel_backends.pyc\u001b[0m in \u001b[0;36mterminate\u001b[0;34m(self)\u001b[0m\n\u001b[1;32m    132\u001b[0m         \u001b[0;32mif\u001b[0m \u001b[0mself\u001b[0m\u001b[0;34m.\u001b[0m\u001b[0m_pool\u001b[0m \u001b[0;32mis\u001b[0m \u001b[0;32mnot\u001b[0m \u001b[0mNone\u001b[0m\u001b[0;34m:\u001b[0m\u001b[0;34m\u001b[0m\u001b[0m\n\u001b[1;32m    133\u001b[0m             \u001b[0mself\u001b[0m\u001b[0;34m.\u001b[0m\u001b[0m_pool\u001b[0m\u001b[0;34m.\u001b[0m\u001b[0mclose\u001b[0m\u001b[0;34m(\u001b[0m\u001b[0;34m)\u001b[0m\u001b[0;34m\u001b[0m\u001b[0m\n\u001b[0;32m--> 134\u001b[0;31m             \u001b[0mself\u001b[0m\u001b[0;34m.\u001b[0m\u001b[0m_pool\u001b[0m\u001b[0;34m.\u001b[0m\u001b[0mterminate\u001b[0m\u001b[0;34m(\u001b[0m\u001b[0;34m)\u001b[0m  \u001b[0;31m# terminate does a join()\u001b[0m\u001b[0;34m\u001b[0m\u001b[0m\n\u001b[0m\u001b[1;32m    135\u001b[0m             \u001b[0mself\u001b[0m\u001b[0;34m.\u001b[0m\u001b[0m_pool\u001b[0m \u001b[0;34m=\u001b[0m \u001b[0mNone\u001b[0m\u001b[0;34m\u001b[0m\u001b[0m\n\u001b[1;32m    136\u001b[0m \u001b[0;34m\u001b[0m\u001b[0m\n",
      "\u001b[0;32m/Users/Amer/anaconda/lib/python2.7/site-packages/sklearn/externals/joblib/pool.pyc\u001b[0m in \u001b[0;36mterminate\u001b[0;34m(self)\u001b[0m\n\u001b[1;32m    604\u001b[0m         \u001b[0;32mfor\u001b[0m \u001b[0mi\u001b[0m \u001b[0;32min\u001b[0m \u001b[0mrange\u001b[0m\u001b[0;34m(\u001b[0m\u001b[0mn_retries\u001b[0m\u001b[0;34m)\u001b[0m\u001b[0;34m:\u001b[0m\u001b[0;34m\u001b[0m\u001b[0m\n\u001b[1;32m    605\u001b[0m             \u001b[0;32mtry\u001b[0m\u001b[0;34m:\u001b[0m\u001b[0;34m\u001b[0m\u001b[0m\n\u001b[0;32m--> 606\u001b[0;31m                 \u001b[0msuper\u001b[0m\u001b[0;34m(\u001b[0m\u001b[0mMemmapingPool\u001b[0m\u001b[0;34m,\u001b[0m \u001b[0mself\u001b[0m\u001b[0;34m)\u001b[0m\u001b[0;34m.\u001b[0m\u001b[0mterminate\u001b[0m\u001b[0;34m(\u001b[0m\u001b[0;34m)\u001b[0m\u001b[0;34m\u001b[0m\u001b[0m\n\u001b[0m\u001b[1;32m    607\u001b[0m                 \u001b[0;32mbreak\u001b[0m\u001b[0;34m\u001b[0m\u001b[0m\n\u001b[1;32m    608\u001b[0m             \u001b[0;32mexcept\u001b[0m \u001b[0mWindowsError\u001b[0m \u001b[0;32mas\u001b[0m \u001b[0me\u001b[0m\u001b[0;34m:\u001b[0m\u001b[0;34m\u001b[0m\u001b[0m\n",
      "\u001b[0;32m/Users/Amer/anaconda/lib/python2.7/multiprocessing/pool.pyc\u001b[0m in \u001b[0;36mterminate\u001b[0;34m(self)\u001b[0m\n\u001b[1;32m    463\u001b[0m         \u001b[0mself\u001b[0m\u001b[0;34m.\u001b[0m\u001b[0m_state\u001b[0m \u001b[0;34m=\u001b[0m \u001b[0mTERMINATE\u001b[0m\u001b[0;34m\u001b[0m\u001b[0m\n\u001b[1;32m    464\u001b[0m         \u001b[0mself\u001b[0m\u001b[0;34m.\u001b[0m\u001b[0m_worker_handler\u001b[0m\u001b[0;34m.\u001b[0m\u001b[0m_state\u001b[0m \u001b[0;34m=\u001b[0m \u001b[0mTERMINATE\u001b[0m\u001b[0;34m\u001b[0m\u001b[0m\n\u001b[0;32m--> 465\u001b[0;31m         \u001b[0mself\u001b[0m\u001b[0;34m.\u001b[0m\u001b[0m_terminate\u001b[0m\u001b[0;34m(\u001b[0m\u001b[0;34m)\u001b[0m\u001b[0;34m\u001b[0m\u001b[0m\n\u001b[0m\u001b[1;32m    466\u001b[0m \u001b[0;34m\u001b[0m\u001b[0m\n\u001b[1;32m    467\u001b[0m     \u001b[0;32mdef\u001b[0m \u001b[0mjoin\u001b[0m\u001b[0;34m(\u001b[0m\u001b[0mself\u001b[0m\u001b[0;34m)\u001b[0m\u001b[0;34m:\u001b[0m\u001b[0;34m\u001b[0m\u001b[0m\n",
      "\u001b[0;32m/Users/Amer/anaconda/lib/python2.7/multiprocessing/util.pyc\u001b[0m in \u001b[0;36m__call__\u001b[0;34m(self, wr)\u001b[0m\n\u001b[1;32m    205\u001b[0m                 sub_debug('finalizer calling %s with args %s and kwargs %s',\n\u001b[1;32m    206\u001b[0m                           self._callback, self._args, self._kwargs)\n\u001b[0;32m--> 207\u001b[0;31m                 \u001b[0mres\u001b[0m \u001b[0;34m=\u001b[0m \u001b[0mself\u001b[0m\u001b[0;34m.\u001b[0m\u001b[0m_callback\u001b[0m\u001b[0;34m(\u001b[0m\u001b[0;34m*\u001b[0m\u001b[0mself\u001b[0m\u001b[0;34m.\u001b[0m\u001b[0m_args\u001b[0m\u001b[0;34m,\u001b[0m \u001b[0;34m**\u001b[0m\u001b[0mself\u001b[0m\u001b[0;34m.\u001b[0m\u001b[0m_kwargs\u001b[0m\u001b[0;34m)\u001b[0m\u001b[0;34m\u001b[0m\u001b[0m\n\u001b[0m\u001b[1;32m    208\u001b[0m             \u001b[0mself\u001b[0m\u001b[0;34m.\u001b[0m\u001b[0m_weakref\u001b[0m \u001b[0;34m=\u001b[0m \u001b[0mself\u001b[0m\u001b[0;34m.\u001b[0m\u001b[0m_callback\u001b[0m \u001b[0;34m=\u001b[0m \u001b[0mself\u001b[0m\u001b[0;34m.\u001b[0m\u001b[0m_args\u001b[0m \u001b[0;34m=\u001b[0m\u001b[0;31m \u001b[0m\u001b[0;31m\\\u001b[0m\u001b[0;34m\u001b[0m\u001b[0m\n\u001b[1;32m    209\u001b[0m                             \u001b[0mself\u001b[0m\u001b[0;34m.\u001b[0m\u001b[0m_kwargs\u001b[0m \u001b[0;34m=\u001b[0m \u001b[0mself\u001b[0m\u001b[0;34m.\u001b[0m\u001b[0m_key\u001b[0m \u001b[0;34m=\u001b[0m \u001b[0mNone\u001b[0m\u001b[0;34m\u001b[0m\u001b[0m\n",
      "\u001b[0;32m/Users/Amer/anaconda/lib/python2.7/multiprocessing/pool.pyc\u001b[0m in \u001b[0;36m_terminate_pool\u001b[0;34m(cls, taskqueue, inqueue, outqueue, pool, worker_handler, task_handler, result_handler, cache)\u001b[0m\n\u001b[1;32m    493\u001b[0m \u001b[0;34m\u001b[0m\u001b[0m\n\u001b[1;32m    494\u001b[0m         \u001b[0mdebug\u001b[0m\u001b[0;34m(\u001b[0m\u001b[0;34m'helping task handler/workers to finish'\u001b[0m\u001b[0;34m)\u001b[0m\u001b[0;34m\u001b[0m\u001b[0m\n\u001b[0;32m--> 495\u001b[0;31m         \u001b[0mcls\u001b[0m\u001b[0;34m.\u001b[0m\u001b[0m_help_stuff_finish\u001b[0m\u001b[0;34m(\u001b[0m\u001b[0minqueue\u001b[0m\u001b[0;34m,\u001b[0m \u001b[0mtask_handler\u001b[0m\u001b[0;34m,\u001b[0m \u001b[0mlen\u001b[0m\u001b[0;34m(\u001b[0m\u001b[0mpool\u001b[0m\u001b[0;34m)\u001b[0m\u001b[0;34m)\u001b[0m\u001b[0;34m\u001b[0m\u001b[0m\n\u001b[0m\u001b[1;32m    496\u001b[0m \u001b[0;34m\u001b[0m\u001b[0m\n\u001b[1;32m    497\u001b[0m         \u001b[0;32massert\u001b[0m \u001b[0mresult_handler\u001b[0m\u001b[0;34m.\u001b[0m\u001b[0mis_alive\u001b[0m\u001b[0;34m(\u001b[0m\u001b[0;34m)\u001b[0m \u001b[0;32mor\u001b[0m \u001b[0mlen\u001b[0m\u001b[0;34m(\u001b[0m\u001b[0mcache\u001b[0m\u001b[0;34m)\u001b[0m \u001b[0;34m==\u001b[0m \u001b[0;36m0\u001b[0m\u001b[0;34m\u001b[0m\u001b[0m\n",
      "\u001b[0;32m/Users/Amer/anaconda/lib/python2.7/multiprocessing/pool.pyc\u001b[0m in \u001b[0;36m_help_stuff_finish\u001b[0;34m(inqueue, task_handler, size)\u001b[0m\n\u001b[1;32m    480\u001b[0m         \u001b[0minqueue\u001b[0m\u001b[0;34m.\u001b[0m\u001b[0m_rlock\u001b[0m\u001b[0;34m.\u001b[0m\u001b[0macquire\u001b[0m\u001b[0;34m(\u001b[0m\u001b[0;34m)\u001b[0m\u001b[0;34m\u001b[0m\u001b[0m\n\u001b[1;32m    481\u001b[0m         \u001b[0;32mwhile\u001b[0m \u001b[0mtask_handler\u001b[0m\u001b[0;34m.\u001b[0m\u001b[0mis_alive\u001b[0m\u001b[0;34m(\u001b[0m\u001b[0;34m)\u001b[0m \u001b[0;32mand\u001b[0m \u001b[0minqueue\u001b[0m\u001b[0;34m.\u001b[0m\u001b[0m_reader\u001b[0m\u001b[0;34m.\u001b[0m\u001b[0mpoll\u001b[0m\u001b[0;34m(\u001b[0m\u001b[0;34m)\u001b[0m\u001b[0;34m:\u001b[0m\u001b[0;34m\u001b[0m\u001b[0m\n\u001b[0;32m--> 482\u001b[0;31m             \u001b[0minqueue\u001b[0m\u001b[0;34m.\u001b[0m\u001b[0m_reader\u001b[0m\u001b[0;34m.\u001b[0m\u001b[0mrecv\u001b[0m\u001b[0;34m(\u001b[0m\u001b[0;34m)\u001b[0m\u001b[0;34m\u001b[0m\u001b[0m\n\u001b[0m\u001b[1;32m    483\u001b[0m             \u001b[0mtime\u001b[0m\u001b[0;34m.\u001b[0m\u001b[0msleep\u001b[0m\u001b[0;34m(\u001b[0m\u001b[0;36m0\u001b[0m\u001b[0;34m)\u001b[0m\u001b[0;34m\u001b[0m\u001b[0m\n\u001b[1;32m    484\u001b[0m \u001b[0;34m\u001b[0m\u001b[0m\n",
      "\u001b[0;31mIOError\u001b[0m: [Errno 22] Invalid argument"
     ]
    },
    {
     "name": "stderr",
     "output_type": "stream",
     "text": [
      "  File \"/Users/Amer/anaconda/lib/python2.7/multiprocessing/pool.py\", line 102, in worker\n",
      "    task = get()\n",
      "  File \"/Users/Amer/anaconda/lib/python2.7/site-packages/sklearn/externals/joblib/pool.py\", line 362, in get\n",
      "    return recv()\n",
      "KeyboardInterrupt\n"
     ]
    }
   ],
   "source": [
    "gsbdt.fit(X_filtered, y_filtered)"
   ]
  },
  {
   "cell_type": "code",
   "execution_count": null,
   "metadata": {
    "collapsed": true
   },
   "outputs": [],
   "source": [
    "gsbdt.best_score_"
   ]
  },
  {
   "cell_type": "code",
   "execution_count": 370,
   "metadata": {
    "collapsed": false
   },
   "outputs": [
    {
     "name": "stdout",
     "output_type": "stream",
     "text": [
      "<class 'sklearn.linear_model.logistic.LogisticRegression'> Score:\t0.412 ± 0.096\n"
     ]
    }
   ],
   "source": [
    "from sklearn.linear_model import LogisticRegression\n",
    "lr = LogisticRegression()\n",
    "cross_val(lr, X_filtered, y_filtered)"
   ]
  },
  {
   "cell_type": "code",
   "execution_count": null,
   "metadata": {
    "collapsed": true
   },
   "outputs": [],
   "source": []
  }
 ],
 "metadata": {
  "anaconda-cloud": {},
  "kernelspec": {
   "display_name": "Python [Root]",
   "language": "python",
   "name": "Python [Root]"
  },
  "language_info": {
   "codemirror_mode": {
    "name": "ipython",
    "version": 2
   },
   "file_extension": ".py",
   "mimetype": "text/x-python",
   "name": "python",
   "nbconvert_exporter": "python",
   "pygments_lexer": "ipython2",
   "version": "2.7.12"
  }
 },
 "nbformat": 4,
 "nbformat_minor": 0
}
