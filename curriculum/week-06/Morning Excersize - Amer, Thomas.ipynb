{
 "cells": [
  {
   "cell_type": "code",
   "execution_count": 75,
   "metadata": {
    "collapsed": false
   },
   "outputs": [],
   "source": [
    "ones={0:\"\",1:\"I\",2:\"II\",3:\"III\",4:\"IV\",5:\"V\",6:\"VI\",7:\"VII\",8:\"VIII\",9:\"IX\"}\n",
    "tens={0:\"\",1:\"X\",2:\"XX\",3:\"XXX\",4:\"XL\",5:\"L\",6:\"LX\",7:\"LXX\",8:\"LXXX\",9:\"XC\"}\n",
    "hund={0:\"\",1:\"C\",2:\"CC\",3:\"CCC\",4:\"CD\",5:\"D\",6:\"DC\",7:\"DCC\",8:\"DCCC\",9:\"CM\"}\n",
    "thou={0:\"\",1:\"M\"}\n",
    "\n",
    "def to_roman(number):\n",
    "    one = number%10\n",
    "    ten = (number%100 - one)/10\n",
    "    hun = (number%1000 - (ten + one))/100\n",
    "    thousand = (number%10000 - (ten + one + hun))/1000\n",
    "    print thou[thousand] + hund[hun] + tens[ten] + ones[one]\n",
    "    \n",
    "ones_r = {y:x for x,y in ones.iteritems()}\n",
    "tens_r = {y:x*10 for x,y in tens.iteritems()}\n",
    "hund_r = {y:x*100 for x,y in hund.iteritems()}\n",
    "thou_r = {y:x*1000 for x,y in thou.iteritems()}\n",
    "romans = dict(ones_r.items() + tens_r.items() + hund_r.items() + thou_r.items())"
   ]
  },
  {
   "cell_type": "code",
   "execution_count": null,
   "metadata": {
    "collapsed": true
   },
   "outputs": [],
   "source": [
    "def from_roman(number):\n",
    "    out = 0\n",
    "    prior = 0\n",
    "    for c in number[::-1]:\n",
    "        if prior > romans[c]:\n",
    "            out -= romans[c]\n",
    "        else:\n",
    "            out += romans[c]\n",
    "        prior = romans[c]\n",
    "    print out\n",
    "    "
   ]
  },
  {
   "cell_type": "code",
   "execution_count": null,
   "metadata": {
    "collapsed": true
   },
   "outputs": [],
   "source": [
    "\n",
    "to_roman(999)\n",
    "from_roman('CMXCIX')\n",
    "to_roman(79)\n",
    "from_roman('LXXIX')"
   ]
  }
 ],
 "metadata": {
  "kernelspec": {
   "display_name": "Python [Root]",
   "language": "python",
   "name": "Python [Root]"
  },
  "language_info": {
   "codemirror_mode": {
    "name": "ipython",
    "version": 2
   },
   "file_extension": ".py",
   "mimetype": "text/x-python",
   "name": "python",
   "nbconvert_exporter": "python",
   "pygments_lexer": "ipython2",
   "version": "2.7.12"
  }
 },
 "nbformat": 4,
 "nbformat_minor": 0
}
