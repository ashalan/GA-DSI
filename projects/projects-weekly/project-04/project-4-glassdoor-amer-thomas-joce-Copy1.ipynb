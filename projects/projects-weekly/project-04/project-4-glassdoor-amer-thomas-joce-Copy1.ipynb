{
 "cells": [
  {
   "cell_type": "code",
   "execution_count": 78,
   "metadata": {
    "ExecuteTime": {
     "end_time": "2016-10-18T22:47:55.029197",
     "start_time": "2016-10-18T22:47:54.893286"
    },
    "collapsed": false
   },
   "outputs": [],
   "source": [
    "import pandas as pd\n",
    "import numpy as np\n",
    "import requests\n",
    "from bs4 import BeautifulSoup\n",
    "import datetime\n",
    "import urllib\n",
    "import statsmodels.api as sm\n",
    "from sklearn.cross_validation import train_test_split\n",
    "import matplotlib.pyplot as plt\n",
    "import seaborn as sns\n",
    "import time\n",
    "import statsmodels.api as sm\n",
    "from scipy import stats\n",
    "from sklearn import datasets\n",
    "from sklearn.pipeline import Pipeline\n",
    "from sklearn.preprocessing import PolynomialFeatures\n",
    "from sklearn.linear_model import LinearRegression, Ridge, Lasso, LogisticRegression, LogisticRegressionCV\n",
    "from sklearn.metrics import mean_squared_error, classification_report, confusion_matrix, accuracy_score\n",
    "from sklearn.cross_validation import train_test_split, cross_val_score\n",
    "from sklearn.grid_search import GridSearchCV\n",
    "from sklearn.metrics import roc_auc_score, roc_curve, auc\n",
    "% matplotlib inline"
   ]
  },
  {
   "cell_type": "code",
   "execution_count": 79,
   "metadata": {
    "ExecuteTime": {
     "end_time": "2016-10-18T22:47:55.418876",
     "start_time": "2016-10-18T22:47:55.413459"
    },
    "collapsed": false,
    "scrolled": false
   },
   "outputs": [],
   "source": [
    "lm = LinearRegression()\n",
    "LR= LogisticRegression\n",
    "LRCV= LogisticRegressionCV"
   ]
  },
  {
   "cell_type": "code",
   "execution_count": 80,
   "metadata": {
    "ExecuteTime": {
     "end_time": "2016-10-18T22:47:56.117196",
     "start_time": "2016-10-18T22:47:56.053596"
    },
    "collapsed": false
   },
   "outputs": [],
   "source": [
    "def renaming(x):\n",
    "    new_name=\"\"\n",
    "    if x in [\"Junior Data Scientist\", \"Entry Level Data Scientist\", \"Data Scientist II\", \"Associate Data Scientist\"]:\n",
    "        new_name=\"Junior DS\"\n",
    "    elif x in [\"Senior Data Scientist\", \"Principal Data Scientist\"]:\n",
    "        new_name=\"Senior DS\"\n",
    "    else:\n",
    "        new_name=\"DS\"\n",
    "    return new_name\n",
    "def name_change(x):\n",
    "    new_value=\"\"\n",
    "    if x in change.keys():\n",
    "        new_value=change[x]\n",
    "    else:\n",
    "        new_value=x\n",
    "    return new_value\n",
    "def cap(x):\n",
    "    value=0\n",
    "    if x is np.NAN:\n",
    "        value=\"Unknown\"\n",
    "    elif x>2000:\n",
    "        value=\"Hugecap\"\n",
    "    elif x>500:\n",
    "        value=\"Largecap\"\n",
    "    elif x>100:\n",
    "        value=\"Midcap\"\n",
    "    else:\n",
    "        value=\"Smallcap\"\n",
    "    return value\n",
    "def create_bins(low,high,n):\n",
    "    increment=(high-low)/float(n)\n",
    "    bins=[]\n",
    "    for i in range(n+1):\n",
    "        bins.append(low+increment*(i))\n",
    "    replacements=[]\n",
    "    i=0\n",
    "    while i<len(bins)-1:\n",
    "        replacements.append(str(int(round(bins[i])))+\"-\"+str(int(round(bins[i+1]))))\n",
    "        i+=1\n",
    "    return bins,replacements\n",
    "def salary_bin(bins,replacements,x):\n",
    "    i=0\n",
    "    value=0\n",
    "    while i<len(bins)-1:\n",
    "        if x<=int(round(bins[i+1])):\n",
    "            value=replacements[i]\n",
    "            i=len(bins)\n",
    "        i+=1\n",
    "    if value==0:\n",
    "        value=str(bins[-1])+\"+\"\n",
    "    return value\n",
    "def only_numerics(seq):\n",
    "    seq = seq.split('-')\n",
    "    try:\n",
    "        out = ((int(filter(type(seq[0]).isdigit, seq[0])) + int(filter(type(seq[1]).isdigit, seq[1])))/2)*1000\n",
    "    except:\n",
    "        out = int(filter(type(seq[0]).isdigit, seq[0]))\n",
    "    return out\n"
   ]
  },
  {
   "cell_type": "markdown",
   "metadata": {
    "collapsed": true
   },
   "source": [
    "Uploads the non-Glass Door data.\n",
    "The stock data is cleaned for:\n",
    "* Certain terms in the name. Things like 'inc,' or 'corp' are deleted. This helps the matching process.\n",
    "* The market cap information is converted from strings to millions of dollars.\n",
    "\n",
    "The city data is cleaned for:\n",
    "\n",
    "* Cities containing '-'\n",
    "* Cities containing 'county'\n",
    "* Removing ',' from city names"
   ]
  },
  {
   "cell_type": "code",
   "execution_count": 81,
   "metadata": {
    "ExecuteTime": {
     "end_time": "2016-10-18T22:47:57.166297",
     "start_time": "2016-10-18T22:47:57.052185"
    },
    "collapsed": false
   },
   "outputs": [],
   "source": [
    "#Cleans up the Stock information\n",
    "nyse=pd.read_csv(\"Data/NYSE.csv\")\n",
    "nasdaq=pd.read_csv(\"Data/NASDAQ.csv\")\n",
    "amex=pd.read_csv(\"Data/AMEX.csv\")\n",
    "stocks=nyse.append(nasdaq,ignore_index=True).append(amex,ignore_index=True)\n",
    "del stocks[\"Summary Quote\"]\n",
    "i=0"
   ]
  },
  {
   "cell_type": "markdown",
   "metadata": {
    "ExecuteTime": {
     "end_time": "2016-10-18T14:37:15.643836",
     "start_time": "2016-10-18T14:37:15.635873"
    },
    "collapsed": true
   },
   "source": [
    "We had discrepancies between the names of the scraped Glass Door data, and the names of the stock information. This led to information not being merged when it should have. So, we manually searched for the pairs of names and input them into a dictionary. This dictionary would be used to rename the mislabeled Glass Door entries."
   ]
  },
  {
   "cell_type": "code",
   "execution_count": 82,
   "metadata": {
    "ExecuteTime": {
     "end_time": "2016-10-18T22:47:59.643815",
     "start_time": "2016-10-18T22:47:58.036852"
    },
    "collapsed": false
   },
   "outputs": [],
   "source": [
    "\"\"\"ONLY USED FOR FINDING STOCKS\"\"\"\n",
    "\n",
    "names=[x for x,y in zip(stocks[\"Name\"].value_counts().sort_values(ascending=False).index,\\\n",
    "                        stocks[\"Name\"].value_counts().sort_values(ascending=False).values) if y>1]\n",
    "\n",
    "names=['Price']\n",
    "\n",
    "#Finds all instances of a company name within stocks[\"Name\"], and prints the instance and its index numer\n",
    "for name in names:\n",
    "    i=0\n",
    "    while i<len(stocks):\n",
    "        if stocks.loc[i,\"Name\"]==name:\n",
    "            print \"index: \",i\n",
    "            print stocks.iloc[i]\n",
    "            print \"\\n\"\n",
    "        i+=1\n",
    "\n",
    "# [x for x in stocks[\"Name\"] if x[0:3]==\"Exp\"] #-->Additional Search Method; looks for first three letters\n",
    "# [x for x in stocks[\"Name\"] if \"Price\".lower() in x.lower()]"
   ]
  },
  {
   "cell_type": "code",
   "execution_count": 83,
   "metadata": {
    "ExecuteTime": {
     "end_time": "2016-10-18T22:47:59.655618",
     "start_time": "2016-10-18T22:47:59.645832"
    },
    "collapsed": false
   },
   "outputs": [],
   "source": [
    "change={\"GE\": \"General Electric Company\", \"IBM\":\"Microsoft\",\"Capital One\":\"Capital One Financial\",\n",
    "        \"Verizon\":\"Verizon Communications\",\"Hewlett Packard Enterprise | HPE\":'Hewlett Packard Enterprise Company',\n",
    "       \"Hewlett-Packard\":'Hewlett Packard Enterprise Company',\"Alliance Data\":\"Alliance Data Systems\",\n",
    "       'Raytheon':'Raytheon Company',\"GE\":'General Electric Company',\"Verizon Wireless\":\"Verizon Communications\",\n",
    "       \"Intel Corporation\":\"Intel\",\"MaxPoint\":\"MaxPoint Interactive\",\"General Motors\":\"General Motors Company\",\n",
    "       \"Booz Allen Hamilton\":\"Booz Allen Hamilton Holding\",\"Nielsen\":\"Nielsen N.V.\",\"SAP\":\"SAP SE\",\n",
    "       \"General Dynamics Mission Systems\":\"General Dynamics\",\"Leidos\":\"Leidos Holdings\",\n",
    "       \"Honeywell\":\"Honeywell International\",\"Akamai\":\"Akamai Technologies\",\"BNY Mellon\":\"Bank Of New York Mellon\",\n",
    "       \"FIS\":\"Fidelity National Information Services\",\"J.P. Morgan\":'J P Morgan Chase & Co',\n",
    "       \"Walmart\":'Wal-Mart Stores',\"PayPal\":\"PayPal Holdings\",\"Adobe\":\"Adobe Systems\",'AOL':\"Verizon Communications\"}"
   ]
  },
  {
   "cell_type": "code",
   "execution_count": 84,
   "metadata": {
    "ExecuteTime": {
     "end_time": "2016-10-18T22:48:04.476945",
     "start_time": "2016-10-18T22:47:59.658889"
    },
    "collapsed": false
   },
   "outputs": [],
   "source": [
    "while i<len(stocks[\"Symbol\"]):\n",
    "    if \" (The)\" in stocks.iloc[i,1]:\n",
    "        stocks.iloc[i,1]=stocks.iloc[i,1][:len(stocks.iloc[i,1])-len(\" (The)\")]\n",
    "    if \" Incorporated\" in stocks.iloc[i,1]:\n",
    "        stocks.iloc[i,1]=stocks.iloc[i,1][:len(stocks.iloc[i,1])-len(\" Incorporated\")]\n",
    "    if \", Inc.\" in stocks.iloc[i,1]:\n",
    "        stocks.iloc[i,1]=stocks.iloc[i,1][:len(stocks.iloc[i,1])-len(\", Inc.\")]\n",
    "    if \", Inc\" in stocks.iloc[i,1]:\n",
    "        stocks.iloc[i,1]=stocks.iloc[i,1][:len(stocks.iloc[i,1])-len(\", Inc\")]\n",
    "    if \", INC\" in stocks.iloc[i,1]:\n",
    "        stocks.iloc[i,1]=stocks.iloc[i,1][:len(stocks.iloc[i,1])-len(\", Inc\")]\n",
    "    if \" Inc.\" in stocks.iloc[i,1]:\n",
    "        stocks.iloc[i,1]=stocks.iloc[i,1][:len(stocks.iloc[i,1])-len(\" Inc.\")]\n",
    "    if \" Inc\" in stocks.iloc[i,1]:\n",
    "        stocks.iloc[i,1]=stocks.iloc[i,1][:len(stocks.iloc[i,1])-len(\" Inc\")]\n",
    "    if \" INC\" in stocks.iloc[i,1]:\n",
    "        stocks.iloc[i,1]=stocks.iloc[i,1][:len(stocks.iloc[i,1])-len(\" Inc\")]\n",
    "    if  \" Corporation\" in stocks.iloc[i,1]:\n",
    "        stocks.iloc[i,1]=stocks.iloc[i,1][:len(stocks.iloc[i,1])-len(\" Corporation\")]\n",
    "    if \" Corp.\" in stocks.iloc[i,1]:\n",
    "        stocks.iloc[i,1]=stocks.iloc[i,1][:len(stocks.iloc[i,1])-len(\" Corp.\")]\n",
    "    if \" Corp\" in stocks.iloc[i,1]:\n",
    "        stocks.iloc[i,1]=stocks.iloc[i,1][:len(stocks.iloc[i,1])-len(\" Corp\")]\n",
    "    if \" CORP\" in stocks.iloc[i,1]:\n",
    "        stocks.iloc[i,1]=stocks.iloc[i,1][:len(stocks.iloc[i,1])-len(\" Corp\")]\n",
    "    i+=1\n",
    "\n",
    "#Convert MarketCap to Millions of dollars\n",
    "i=0\n",
    "while i<len(stocks[\"MarketCap\"]):\n",
    "    if \"B\" in str(stocks.iloc[i,3])[-1:]:\n",
    "        stocks.iloc[i,3]=float(str(stocks.iloc[i,3])[1:-1])*1000\n",
    "    else:\n",
    "        stocks.iloc[i,3]=str(stocks.iloc[i,3])[1:-1]\n",
    "    i+=1\n",
    "\n",
    "stocks=stocks.reset_index()\n",
    "del stocks['index']\n",
    "\n",
    "#Cleans cities data (eliminates counties and combined cities/towns)\n",
    "cities=pd.read_csv(\"Data/Living_Index.csv\")\n",
    "cities=cities.rename(columns={\"Urban Area\":\"City\"})\n",
    "values=[]\n",
    "for x in cities[\"City\"]:\n",
    "    if \"-\" in x:\n",
    "        values.append(False)\n",
    "    else:\n",
    "        values.append(True)\n",
    "cities=cities[values]\n",
    "values=[]\n",
    "for x in cities[\"City\"]:\n",
    "    if \"county\" in x.lower():\n",
    "        values.append(False)\n",
    "    else:\n",
    "        values.append(True)\n",
    "cities=cities[values]\n",
    "new_city_list=[]\n",
    "\n",
    "for x in cities[\"City\"]:\n",
    "    y=x[-4:]\n",
    "    z=x[:-len(y)].replace(\",\",\"\")+y\n",
    "    new_city_list.append(z)\n",
    "cities[\"City\"]=new_city_list"
   ]
  },
  {
   "cell_type": "markdown",
   "metadata": {},
   "source": [
    "We initiate a Glass Door data frame to connect the json to.\n",
    "We upload the json, which has four columns:\n",
    "* Location\n",
    "* Company\n",
    "* Salary\n",
    "* Job\n",
    "\n",
    "We clean the json df for:\n",
    "* Changing salary ranges to averagees\n",
    "\n",
    "We save the json df as 'glass_door'.\n",
    "\n",
    "We clean the glass_door df for:\n",
    "* Name changes found listed above\n",
    "\n",
    "We merge the glass_door df with cities. \n",
    "\n",
    "We create a new column \"Normalized Salary\"."
   ]
  },
  {
   "cell_type": "code",
   "execution_count": 88,
   "metadata": {
    "ExecuteTime": {
     "end_time": "2016-10-18T22:49:03.153348",
     "start_time": "2016-10-18T22:49:02.802389"
    },
    "collapsed": false
   },
   "outputs": [],
   "source": [
    "glass_door=pd.DataFrame(columns=[\"Salary\",\"Company\",\"Location\"])\n",
    "\n",
    "extension=\"Data/allcities.json\"\n",
    "json=pd.read_json(extension)\n",
    "df=pd.DataFrame([json[\"city\"],json[\"company\"],json[\"meanPay\"],json[\"jobTitle\"]]).T\n",
    "df.columns=[\"Location\",\"Company\",\"Salary\",\"Job\"]\n",
    "temp=[]\n",
    "\n",
    "\n",
    "df['Salary'] = df['Salary'].apply(only_numerics)\n",
    "df=df[pd.notnull(df[\"Salary\"])].reset_index()\n",
    "del df['index']\n",
    "df[\"Salary\"]=df['Salary'].astype(np.float)#\n",
    "\n",
    "glass_door=glass_door.append(df,ignore_index=True)\n",
    "\n",
    "glass_door[\"Company\"]=glass_door[\"Company\"].apply(lambda x: name_change(x))\n",
    "\n",
    "glass_door=glass_door.merge(cities, left_on=\"Location\", right_on=\"City\")\n",
    "glass_door[\"Normalized Salary\"]=glass_door[\"Salary\"]/glass_door[\"100% Composite Index\"]"
   ]
  },
  {
   "cell_type": "code",
   "execution_count": 89,
   "metadata": {
    "ExecuteTime": {
     "end_time": "2016-10-18T22:49:06.516055",
     "start_time": "2016-10-18T22:49:06.489507"
    },
    "collapsed": false
   },
   "outputs": [
    {
     "data": {
      "text/html": [
       "<div>\n",
       "<table border=\"1\" class=\"dataframe\">\n",
       "  <thead>\n",
       "    <tr style=\"text-align: right;\">\n",
       "      <th></th>\n",
       "      <th>Location</th>\n",
       "      <th>Company</th>\n",
       "      <th>Salary</th>\n",
       "      <th>Job</th>\n",
       "    </tr>\n",
       "  </thead>\n",
       "  <tbody>\n",
       "    <tr>\n",
       "      <th>0</th>\n",
       "      <td>Albany, NY</td>\n",
       "      <td>GE</td>\n",
       "      <td>104000.0</td>\n",
       "      <td>Data Scientist</td>\n",
       "    </tr>\n",
       "    <tr>\n",
       "      <th>1</th>\n",
       "      <td>Arlington, TX</td>\n",
       "      <td>State Farm</td>\n",
       "      <td>105000.0</td>\n",
       "      <td>Data Scientist</td>\n",
       "    </tr>\n",
       "    <tr>\n",
       "      <th>2</th>\n",
       "      <td>Arlington, TX</td>\n",
       "      <td>Epsilon</td>\n",
       "      <td>166000.0</td>\n",
       "      <td>Data Scientist</td>\n",
       "    </tr>\n",
       "    <tr>\n",
       "      <th>3</th>\n",
       "      <td>Arlington, TX</td>\n",
       "      <td>Match</td>\n",
       "      <td>82000.0</td>\n",
       "      <td>Data Scientist</td>\n",
       "    </tr>\n",
       "    <tr>\n",
       "      <th>4</th>\n",
       "      <td>Arlington, TX</td>\n",
       "      <td>Hudl</td>\n",
       "      <td>90000.0</td>\n",
       "      <td>Data Scientist</td>\n",
       "    </tr>\n",
       "  </tbody>\n",
       "</table>\n",
       "</div>"
      ],
      "text/plain": [
       "        Location     Company    Salary             Job\n",
       "0     Albany, NY          GE  104000.0  Data Scientist\n",
       "1  Arlington, TX  State Farm  105000.0  Data Scientist\n",
       "2  Arlington, TX     Epsilon  166000.0  Data Scientist\n",
       "3  Arlington, TX       Match   82000.0  Data Scientist\n",
       "4  Arlington, TX        Hudl   90000.0  Data Scientist"
      ]
     },
     "execution_count": 89,
     "metadata": {},
     "output_type": "execute_result"
    }
   ],
   "source": [
    "df.head()"
   ]
  },
  {
   "cell_type": "code",
   "execution_count": 90,
   "metadata": {
    "ExecuteTime": {
     "end_time": "2016-10-18T22:49:19.437371",
     "start_time": "2016-10-18T22:49:19.425516"
    },
    "collapsed": false
   },
   "outputs": [
    {
     "data": {
      "text/plain": [
       "Data Scientist                                945\n",
       "Senior Data Scientist                         375\n",
       "Principal Data Scientist                       59\n",
       "Junior Data Scientist                          38\n",
       "Entry Level Data Scientist                     28\n",
       "Data Scientist II                              18\n",
       "Data Scientist Intern                          17\n",
       "Associate Data Scientist                       16\n",
       "Data Scientist Intern - Hourly                 15\n",
       "Data Scientist Intern - Monthly                11\n",
       "Data Scientist I                                6\n",
       "Senior Data Scientist/Statistician              4\n",
       "Staff Data Scientist                            3\n",
       "Clinical Laboratory Scientist-data Analyst      2\n",
       "Chief Data Scientist                            2\n",
       "Scientist, Statistical and Data Sciences        2\n",
       "Data Visualization Scientist                    2\n",
       "Lead Data Scientist                             1\n",
       "Software Engineer (Data Scientist)              1\n",
       "Data Scientist - Hourly                         1\n",
       "Name: Job, dtype: int64"
      ]
     },
     "execution_count": 90,
     "metadata": {},
     "output_type": "execute_result"
    }
   ],
   "source": [
    "df.Job.value_counts()"
   ]
  },
  {
   "cell_type": "markdown",
   "metadata": {},
   "source": [
    "We merge the glass_door df with stocks. We only select those Jobs that are Junior Level, Middle Level, or Senior Level. We dont want to end up with internships. We then bin the jobs with their respective bin names (as just mentioned).\n",
    "\n",
    "For the most recurring private companies, market cap and sectors were updated as they had an impact on prediction ability.\n",
    "\n",
    "Null values in market cap and sector were changed appropriately."
   ]
  },
  {
   "cell_type": "code",
   "execution_count": 98,
   "metadata": {
    "ExecuteTime": {
     "end_time": "2016-10-18T22:53:40.383033",
     "start_time": "2016-10-18T22:53:40.304200"
    },
    "collapsed": false
   },
   "outputs": [],
   "source": [
    "df=glass_door.copy()\n",
    "df=df.merge(stocks, how='left',left_on=\"Company\",right_on=\"Name\")\n",
    "keep = [\"Senior Data Scientist\", \"Principal Data Scientist\", \"Data Scientist\", \"Junior Data Scientist\", \\\n",
    "        \"Entry Level Data Scientist\", \"Data Scientist II\", \"Associate Data Scientist\"]\n",
    "df['keep']=df['Job'].map(lambda x: True if x in keep else False)\n",
    "df = df[df['keep'] == True]"
   ]
  },
  {
   "cell_type": "code",
   "execution_count": 99,
   "metadata": {
    "ExecuteTime": {
     "end_time": "2016-10-18T22:53:40.803124",
     "start_time": "2016-10-18T22:53:40.791085"
    },
    "collapsed": false
   },
   "outputs": [
    {
     "data": {
      "text/plain": [
       "Data Scientist                929\n",
       "Senior Data Scientist         377\n",
       "Principal Data Scientist       54\n",
       "Junior Data Scientist          34\n",
       "Entry Level Data Scientist     27\n",
       "Data Scientist II              15\n",
       "Associate Data Scientist       15\n",
       "Name: Job, dtype: int64"
      ]
     },
     "execution_count": 99,
     "metadata": {},
     "output_type": "execute_result"
    }
   ],
   "source": [
    "df[\"Job\"].value_counts()"
   ]
  },
  {
   "cell_type": "code",
   "execution_count": 100,
   "metadata": {
    "ExecuteTime": {
     "end_time": "2016-10-18T22:53:58.330328",
     "start_time": "2016-10-18T22:53:57.551593"
    },
    "collapsed": false
   },
   "outputs": [],
   "source": [
    "df[\"Job\"]=df[\"Job\"].apply(lambda x: renaming(x))\n",
    "\n",
    "\n",
    "\n",
    "marketcap_sectors={'KPMG':[24440,\"Consulting\"],'Razorfish':[np.NaN,\"Technology\"],\n",
    "                   'Elevate Credit':[640,\"Finance\"],'BCG Digital Ventures':[np.NaN,\"Finance\"]}\n",
    "\n",
    "df=df.reset_index()\n",
    "del df[\"index\"]\n",
    "i=0\n",
    "while i<len(df):\n",
    "    if df.loc[i,\"Company\"] in marketcap_sectors.keys():\n",
    "        df.loc[i,\"MarketCap\"]=marketcap_sectors[df.loc[i,\"Company\"]][0]\n",
    "        df.loc[i,\"Sector\"]=marketcap_sectors[df.loc[i,\"Company\"]][1]\n",
    "    i+=1\n",
    "\n",
    "df[\"Sector\"]=[\"Technology\" if pd.isnull(x) else x for x in df[\"Sector\"]]\n",
    "df[\"MarketCap\"]=df[\"MarketCap\"].apply(lambda x: cap(x))\n",
    "#df[\"MarketCapSector\"]=df[\"Sector\"]+df[\"MarketCap\"]"
   ]
  },
  {
   "cell_type": "code",
   "execution_count": 102,
   "metadata": {
    "ExecuteTime": {
     "end_time": "2016-10-18T22:54:15.817991",
     "start_time": "2016-10-18T22:54:15.807517"
    },
    "collapsed": false
   },
   "outputs": [
    {
     "data": {
      "text/plain": [
       "DS           929\n",
       "Senior DS    431\n",
       "Junior DS     91\n",
       "Name: Job, dtype: int64"
      ]
     },
     "execution_count": 102,
     "metadata": {},
     "output_type": "execute_result"
    }
   ],
   "source": [
    "df['Job'].value_counts()"
   ]
  },
  {
   "cell_type": "code",
   "execution_count": 131,
   "metadata": {
    "ExecuteTime": {
     "end_time": "2016-10-18T23:02:35.358202",
     "start_time": "2016-10-18T23:02:35.291142"
    },
    "collapsed": false
   },
   "outputs": [
    {
     "data": {
      "text/html": [
       "<div>\n",
       "<table border=\"1\" class=\"dataframe\">\n",
       "  <thead>\n",
       "    <tr style=\"text-align: right;\">\n",
       "      <th></th>\n",
       "      <th>Job</th>\n",
       "      <th>Company</th>\n",
       "      <th>Sector</th>\n",
       "      <th>MarketCap</th>\n",
       "      <th>State</th>\n",
       "      <th>Region</th>\n",
       "      <th>industry</th>\n",
       "      <th>Location</th>\n",
       "      <th>Salary</th>\n",
       "      <th>City</th>\n",
       "      <th>Symbol</th>\n",
       "      <th>Name</th>\n",
       "      <th>LastSale</th>\n",
       "      <th>IPOyear</th>\n",
       "      <th>Normalized Salary</th>\n",
       "      <th>100% Composite Index</th>\n",
       "    </tr>\n",
       "  </thead>\n",
       "  <tbody>\n",
       "    <tr>\n",
       "      <th>0</th>\n",
       "      <td>DS</td>\n",
       "      <td>General Electric Company</td>\n",
       "      <td>Energy</td>\n",
       "      <td>Hugecap</td>\n",
       "      <td>NY</td>\n",
       "      <td>NE</td>\n",
       "      <td>Consumer Electronics/Appliances</td>\n",
       "      <td>Albany, NY</td>\n",
       "      <td>104000.0</td>\n",
       "      <td>Albany, NY</td>\n",
       "      <td>GE</td>\n",
       "      <td>General Electric Company</td>\n",
       "      <td>28.89</td>\n",
       "      <td>n/a</td>\n",
       "      <td>962.072155</td>\n",
       "      <td>108.1</td>\n",
       "    </tr>\n",
       "    <tr>\n",
       "      <th>1</th>\n",
       "      <td>DS</td>\n",
       "      <td>General Electric Company</td>\n",
       "      <td>Energy</td>\n",
       "      <td>Hugecap</td>\n",
       "      <td>NY</td>\n",
       "      <td>NE</td>\n",
       "      <td>Consumer Electronics/Appliances</td>\n",
       "      <td>Albany, NY</td>\n",
       "      <td>104000.0</td>\n",
       "      <td>Albany, NY</td>\n",
       "      <td>GEB</td>\n",
       "      <td>General Electric Company</td>\n",
       "      <td>25.69</td>\n",
       "      <td>n/a</td>\n",
       "      <td>962.072155</td>\n",
       "      <td>108.1</td>\n",
       "    </tr>\n",
       "    <tr>\n",
       "      <th>2</th>\n",
       "      <td>DS</td>\n",
       "      <td>State Farm</td>\n",
       "      <td>Technology</td>\n",
       "      <td>Unknown</td>\n",
       "      <td>TX</td>\n",
       "      <td>S</td>\n",
       "      <td>NaN</td>\n",
       "      <td>Arlington, TX</td>\n",
       "      <td>105000.0</td>\n",
       "      <td>Arlington, TX</td>\n",
       "      <td>NaN</td>\n",
       "      <td>NaN</td>\n",
       "      <td>NaN</td>\n",
       "      <td>NaN</td>\n",
       "      <td>1057.401813</td>\n",
       "      <td>99.3</td>\n",
       "    </tr>\n",
       "    <tr>\n",
       "      <th>3</th>\n",
       "      <td>DS</td>\n",
       "      <td>Epsilon</td>\n",
       "      <td>Technology</td>\n",
       "      <td>Unknown</td>\n",
       "      <td>TX</td>\n",
       "      <td>S</td>\n",
       "      <td>NaN</td>\n",
       "      <td>Arlington, TX</td>\n",
       "      <td>166000.0</td>\n",
       "      <td>Arlington, TX</td>\n",
       "      <td>NaN</td>\n",
       "      <td>NaN</td>\n",
       "      <td>NaN</td>\n",
       "      <td>NaN</td>\n",
       "      <td>1671.701913</td>\n",
       "      <td>99.3</td>\n",
       "    </tr>\n",
       "    <tr>\n",
       "      <th>4</th>\n",
       "      <td>DS</td>\n",
       "      <td>Match</td>\n",
       "      <td>Technology</td>\n",
       "      <td>Unknown</td>\n",
       "      <td>TX</td>\n",
       "      <td>S</td>\n",
       "      <td>NaN</td>\n",
       "      <td>Arlington, TX</td>\n",
       "      <td>82000.0</td>\n",
       "      <td>Arlington, TX</td>\n",
       "      <td>NaN</td>\n",
       "      <td>NaN</td>\n",
       "      <td>NaN</td>\n",
       "      <td>NaN</td>\n",
       "      <td>825.780463</td>\n",
       "      <td>99.3</td>\n",
       "    </tr>\n",
       "  </tbody>\n",
       "</table>\n",
       "</div>"
      ],
      "text/plain": [
       "  Job                   Company      Sector MarketCap State Region  \\\n",
       "0  DS  General Electric Company      Energy   Hugecap    NY     NE   \n",
       "1  DS  General Electric Company      Energy   Hugecap    NY     NE   \n",
       "2  DS                State Farm  Technology   Unknown    TX      S   \n",
       "3  DS                   Epsilon  Technology   Unknown    TX      S   \n",
       "4  DS                     Match  Technology   Unknown    TX      S   \n",
       "\n",
       "                          industry       Location    Salary           City  \\\n",
       "0  Consumer Electronics/Appliances     Albany, NY  104000.0     Albany, NY   \n",
       "1  Consumer Electronics/Appliances     Albany, NY  104000.0     Albany, NY   \n",
       "2                              NaN  Arlington, TX  105000.0  Arlington, TX   \n",
       "3                              NaN  Arlington, TX  166000.0  Arlington, TX   \n",
       "4                              NaN  Arlington, TX   82000.0  Arlington, TX   \n",
       "\n",
       "  Symbol                      Name LastSale IPOyear  Normalized Salary  \\\n",
       "0     GE  General Electric Company    28.89     n/a         962.072155   \n",
       "1    GEB  General Electric Company    25.69     n/a         962.072155   \n",
       "2    NaN                       NaN      NaN     NaN        1057.401813   \n",
       "3    NaN                       NaN      NaN     NaN        1671.701913   \n",
       "4    NaN                       NaN      NaN     NaN         825.780463   \n",
       "\n",
       "   100% Composite Index  \n",
       "0                 108.1  \n",
       "1                 108.1  \n",
       "2                  99.3  \n",
       "3                  99.3  \n",
       "4                  99.3  "
      ]
     },
     "execution_count": 131,
     "metadata": {},
     "output_type": "execute_result"
    }
   ],
   "source": [
    "df[['Job',u'Company', \"Sector\",\"MarketCap\",\"State\",\"Region\", u'industry',u'Location', u'Salary', u'City',\n",
    "       u'Symbol', u'Name', u'LastSale', u'IPOyear',u'Normalized Salary',u'100% Composite Index']].head()"
   ]
  },
  {
   "cell_type": "code",
   "execution_count": 104,
   "metadata": {
    "ExecuteTime": {
     "end_time": "2016-10-18T22:54:19.929933",
     "start_time": "2016-10-18T22:54:19.919049"
    },
    "collapsed": false
   },
   "outputs": [
    {
     "data": {
      "text/plain": [
       "DS           929\n",
       "Senior DS    431\n",
       "Junior DS     91\n",
       "Name: Job, dtype: int64"
      ]
     },
     "execution_count": 104,
     "metadata": {},
     "output_type": "execute_result"
    }
   ],
   "source": [
    "df['Job'].value_counts()"
   ]
  },
  {
   "cell_type": "raw",
   "metadata": {
    "ExecuteTime": {
     "end_time": "2016-10-18T22:54:29.366805",
     "start_time": "2016-10-18T22:54:29.242539"
    }
   },
   "source": [
    "df2=pd.get_dummies(df,columns=[\"Sector\",\"MarketCap\",\"State\",\"Region\", \"Job\"])\n",
    "df2.head()"
   ]
  },
  {
   "cell_type": "code",
   "execution_count": 132,
   "metadata": {
    "ExecuteTime": {
     "end_time": "2016-10-18T23:06:09.062155",
     "start_time": "2016-10-18T23:04:56.679525"
    },
    "collapsed": false,
    "scrolled": false
   },
   "outputs": [],
   "source": [
    "df2=pd.get_dummies(df,columns=[\"Sector\",\"MarketCap\",\"State\",\"Region\", \"Job\"])\n",
    "delete=[u'industry',u'Company', u'Location', u'Salary', u'City',\n",
    "       u'Symbol', u'Name', u'LastSale', u'IPOyear',u'Normalized Salary',u'100% Composite Index'] \n",
    "#u'13 % Grocery Items', u'29 % Housing',\n",
    "#      u'10% Utilities', u'12 % Transportation', u'4% Health Care',\n",
    "#       u'32 % Miscellaneous Goods and Services',\n",
    "for x in delete:\n",
    "    del df2[x]\n",
    "\n",
    "normalizer=pd.DataFrame(df[\"100% Composite Index\"].copy(),columns=[\"100% Composite Index\"])\n",
    "df2=df2.reset_index()\n",
    "del df2['index']\n",
    "normalizer=normalizer.reset_index()\n",
    "del normalizer['index']\n",
    "i=0\n",
    "cols=df2.columns\n",
    "while i<len(df2):\n",
    "    for x in cols:\n",
    "        df2.loc[i,x]=df2.loc[i,x]*normalizer.loc[i,\"100% Composite Index\"]\n",
    "    i+=1"
   ]
  },
  {
   "cell_type": "code",
   "execution_count": 133,
   "metadata": {
    "ExecuteTime": {
     "end_time": "2016-10-18T23:06:09.091104",
     "start_time": "2016-10-18T23:06:09.065185"
    },
    "collapsed": false
   },
   "outputs": [],
   "source": [
    "#ENTER BINS BELOW\n",
    "bin_NUMBER=3\n",
    "\n",
    "temp2=pd.DataFrame(df[\"Salary\"].copy(),columns=[\"Salary\"])\n",
    "bins2,replacements2=create_bins(min(temp2[\"Salary\"]),max(temp2[\"Salary\"]),bin_NUMBER)\n",
    "\n",
    "temp=pd.DataFrame(df[\"Salary\"].copy(),columns=[\"Salary\"])\n",
    "bins,replacements=create_bins(min(temp[\"Salary\"]),max(temp[\"Salary\"]),bin_NUMBER)\n",
    "temp[\"Normalized Salary\"]=temp[\"Salary\"].apply(lambda x: salary_bin(bins,replacements,x))\n",
    "#df1=pd.get_dummies(temp,columns=[\"Normalized Salary\"])\n",
    "df1=temp[\"Normalized Salary\"]"
   ]
  },
  {
   "cell_type": "code",
   "execution_count": 135,
   "metadata": {
    "ExecuteTime": {
     "end_time": "2016-10-18T23:09:29.805031",
     "start_time": "2016-10-18T23:09:26.256471"
    },
    "collapsed": false,
    "scrolled": false
   },
   "outputs": [
    {
     "name": "stdout",
     "output_type": "stream",
     "text": [
      "Number of bins:     3\n",
      "Random Iterations:  1\n",
      "\n",
      "Average Precision:  0.65\n",
      "Average Recall:     0.7\n",
      "Average F1-Score:   0.66\n",
      "\n",
      "Variance Precision: 0.0\n",
      "Variance Recall:    0.0\n",
      "Variance F1-Score:  0.0\n",
      "               154000-211000  40000-97000  97000-154000\n",
      "154000-211000              0            0            32\n",
      "40000-97000                1           62            82\n",
      "97000-154000               0           38           293\n",
      "               precision    recall  f1-score   support\n",
      "\n",
      "154000-211000       0.00      0.00      0.00        32\n",
      "  40000-97000       0.62      0.43      0.51       145\n",
      " 97000-154000       0.72      0.89      0.79       331\n",
      "\n",
      "  avg / total       0.65      0.70      0.66       508\n",
      "\n"
     ]
    }
   ],
   "source": [
    "prec=[]\n",
    "recall=[]\n",
    "f1score=[]\n",
    "max_rand=2\n",
    "\n",
    "for random in range(1,max_rand):\n",
    "    x_train,x_test,y_train,y_test=train_test_split(df2,df1,test_size=.35,stratify=df1,random_state=random)\n",
    "    logreg = LogisticRegression(solver='lbfgs') #'newton-cg', 'lbfgs', 'liblinear', 'sag'\n",
    "    C_vals = np.linspace(1,1001,10)\n",
    "    penalties = ['l2']\n",
    "\n",
    "    gs = GridSearchCV(logreg, {'penalty': penalties, 'C': C_vals}, cv=3)\n",
    "    gs.fit(x_train, y_train)\n",
    "\n",
    "    logreg = LogisticRegression(C=gs.best_params_['C'], penalty=gs.best_params_['penalty'])\n",
    "    cv_model = logreg.fit(x_train, y_train)\n",
    "    cv_pred = cv_model.predict(x_test)\n",
    "\n",
    "    y_score = cv_model.decision_function(x_test) # Submit these response, the output of model.decision_function\n",
    "\n",
    "    \"\"\" Check your performance so far.\"\"\"\n",
    "\n",
    "    conmat = np.array(confusion_matrix(y_test, cv_pred))\n",
    "    confusion = pd.DataFrame(conmat, index=cv_model.classes_, columns=cv_model.classes_)\n",
    "#     print random, classification_report(y_test,cv_pred)\n",
    "    prec.append(float(classification_report(y_test,cv_pred)[-35:-31]))\n",
    "    recall.append(float(classification_report(y_test,cv_pred)[-25:-21]))\n",
    "    f1score.append(float(classification_report(y_test,cv_pred)[-15:-11]))\n",
    "#    \n",
    "print \"Number of bins:    \", bin_NUMBER\n",
    "print \"Random Iterations: \", max_rand-1\n",
    "print \n",
    "print \"Average Precision: \", np.mean(prec)\n",
    "print \"Average Recall:    \", np.mean(recall)\n",
    "print \"Average F1-Score:  \", np.mean(f1score)\n",
    "print \n",
    "print \"Variance Precision:\", np.var(prec)\n",
    "print \"Variance Recall:   \", np.var(recall)\n",
    "print \"Variance F1-Score: \", np.var(f1score)\n",
    "\n",
    "\n",
    "print(confusion)\n",
    "print classification_report(y_test,cv_pred)\n",
    "    #print cv_model.coef_"
   ]
  },
  {
   "cell_type": "markdown",
   "metadata": {},
   "source": [
    "## BEST with Junior Jobs and no Job Dummies\n",
    "* Number of bins:    3\n",
    "* Average Precision: 0.756315789474\n",
    "* Average Recall:    0.754736842105\n",
    "* Average F1-Score:  0.751052631579\n",
    "\n",
    "## Best with No Junior Jobs and Job Dummies\n",
    "* Number of bins:    3\n",
    "* Average Precision:  0.755789473684\n",
    "* Average Recall:     0.754210526316\n",
    "* Average F1-Score:   0.75\n",
    "\n",
    "## Best with No Junior Jobs and no Job Dummies\n",
    "* Number of bins:    3\n",
    "* Average Precision:  0.756315789474\n",
    "* Average Recall:     0.754736842105\n",
    "* Average F1-Score:   0.751052631579"
   ]
  },
  {
   "cell_type": "markdown",
   "metadata": {},
   "source": [
    "## Standard Company Changes:\n",
    "* Number of bins:    3\n",
    "* Average Precision: 0.748947368421\n",
    "* Average Recall:    0.748947368421\n",
    "* Average F1-Score:  0.744736842105\n",
    "\n",
    "## With Private Company changes:\n",
    "* Number of bins:    3\n",
    "* Average Precision: 0.755789473684\n",
    "* Average Recall:    0.754210526316\n",
    "* Average F1-Score:  0.75\n",
    "\n",
    "## With PC changes and no Job Dummies:\n",
    "* Number of bins:    3\n",
    "* Average Precision: 0.756315789474\n",
    "* Average Recall:    0.754736842105\n",
    "* Average F1-Score:  0.751052631579"
   ]
  },
  {
   "cell_type": "markdown",
   "metadata": {},
   "source": [
    "## Standard Company Changes:\n",
    "* Number of bins:    3\n",
    "* Average Precision: 0.748947368421\n",
    "* Average Recall:    0.748947368421\n",
    "* Average F1-Score:  0.744736842105\n",
    "\n",
    "## With Private Company changes:\n",
    "* Number of bins:    3\n",
    "* Average Precision: 0.755789473684\n",
    "* Average Recall:    0.754210526316\n",
    "* Average F1-Score:  0.75\n",
    "\n",
    "## With Private Company changes and Sector-MarketCap Bin:\n",
    "* Number of bins:    3\n",
    "* Average Precision: 0.753157894737\n",
    "* Average Recall:    0.752105263158\n",
    "* Average F1-Score:  0.748421052632\n",
    "\n",
    "## With PC changes and no State Dummies:\n",
    "* Number of bins:    3\n",
    "* Average Precision: 0.723684210526\n",
    "* Average Recall:    0.726842105263\n",
    "* Average F1-Score:  0.72\n",
    "\n",
    "## With PC changes and no Region Dummies:\n",
    "* Number of bins:    3\n",
    "* Average Precision: 0.754210526316\n",
    "* Average Recall:    0.754210526316\n",
    "* Average F1-Score:  0.748421052632\n",
    "\n",
    "## With PC changes and no Job Dummies:\n",
    "* Number of bins:    3\n",
    "* Average Precision: 0.756315789474\n",
    "* Average Recall:    0.754736842105\n",
    "* Average F1-Score:  0.751052631579\n",
    "\n",
    "## With PC changes, no J D, and no MarketCap Dummies\n"
   ]
  },
  {
   "cell_type": "raw",
   "metadata": {
    "ExecuteTime": {
     "end_time": "2016-10-18T14:49:35.406474",
     "start_time": "2016-10-18T14:49:35.380856"
    },
    "collapsed": false
   },
   "source": [
    "print classification_report(y_test,cv_pred)[-35:]\n",
    "prec=classification_report(y_test,cv_pred)[-35:-31]\n",
    "recall=classification_report(y_test,cv_pred)[-25:-21]\n",
    "f1score=classification_report(y_test,cv_pred)[-15:-11]\n",
    "\n",
    "print prec\n",
    "print recall\n",
    "print f1score"
   ]
  },
  {
   "cell_type": "raw",
   "metadata": {
    "ExecuteTime": {
     "end_time": "2016-10-18T14:49:36.144281",
     "start_time": "2016-10-18T14:49:36.121777"
    },
    "collapsed": false
   },
   "source": [
    "cv_model.classes_"
   ]
  },
  {
   "cell_type": "raw",
   "metadata": {
    "ExecuteTime": {
     "end_time": "2016-10-18T14:49:36.830309",
     "start_time": "2016-10-18T14:49:36.819957"
    },
    "collapsed": false
   },
   "source": [
    "#plt.hist(df[\"Salary\"],bins=30)\n",
    "172*len(df[df[\"Salary\"]>145000])/float(len(df[\"Salary\"]))"
   ]
  },
  {
   "cell_type": "code",
   "execution_count": 109,
   "metadata": {
    "ExecuteTime": {
     "end_time": "2016-10-18T22:57:07.228917",
     "start_time": "2016-10-18T22:57:07.223098"
    },
    "collapsed": false
   },
   "outputs": [
    {
     "name": "stdout",
     "output_type": "stream",
     "text": [
      "778.777777778 l2\n"
     ]
    }
   ],
   "source": [
    "print gs.best_params_['C'], gs.best_params_['penalty']"
   ]
  },
  {
   "cell_type": "raw",
   "metadata": {
    "ExecuteTime": {
     "end_time": "2016-10-18T22:57:52.040119",
     "start_time": "2016-10-18T22:57:51.919518"
    }
   },
   "source": [
    "feature_imp = pd.DataFrame([x_test.columns, gs.best_estimator_.coef_[0],\\\n",
    "              gs.best_estimator_.coef_[1],gs.best_estimator_.coef_[2]],\\\n",
    "             index=['features', gs.best_estimator_.classes_[0], gs.best_estimator_.classes_[1], gs.best_estimator_.classes_[2]]).T\n",
    "feature_imp.sort_values(by=gs.best_estimator_.classes_[0], ascending=False)"
   ]
  },
  {
   "cell_type": "code",
   "execution_count": 113,
   "metadata": {
    "ExecuteTime": {
     "end_time": "2016-10-18T22:58:06.505150",
     "start_time": "2016-10-18T22:58:06.493006"
    },
    "collapsed": false
   },
   "outputs": [],
   "source": [
    "x_train2,x_test2,y_train2,y_test2=train_test_split(df2,df['Salary'],test_size=.35)"
   ]
  },
  {
   "cell_type": "code",
   "execution_count": 114,
   "metadata": {
    "ExecuteTime": {
     "end_time": "2016-10-18T22:58:10.333838",
     "start_time": "2016-10-18T22:58:09.305176"
    },
    "collapsed": false
   },
   "outputs": [
    {
     "data": {
      "image/png": "[encoded data removed]",
      "text/plain": [
       "<matplotlib.figure.Figure at 0x119dadd50>"
      ]
     },
     "metadata": {},
     "output_type": "display_data"
    },
    {
     "name": "stdout",
     "output_type": "stream",
     "text": [
      "                  Results: Ordinary least squares\n",
      "===================================================================\n",
      "Model:              OLS              Adj. R-squared:     0.977     \n",
      "Dependent Variable: Salary           AIC:                21162.3878\n",
      "Date:               2016-10-18 22:58 BIC:                21433.9355\n",
      "No. Observations:   943              Log-Likelihood:     -10525.   \n",
      "Df Model:           56               F-statistic:        720.4     \n",
      "Df Residuals:       887              Prob (F-statistic): 0.00      \n",
      "R-squared:          0.978            Scale:              3.0816e+08\n",
      "---------------------------------------------------------------------\n",
      "        Coef.     Std.Err.      t      P>|t|      [0.025      0.975] \n",
      "---------------------------------------------------------------------\n",
      "x1      -0.6894     1.8984   -0.3631   0.7166     -4.4153      3.0365\n",
      "x2      -1.1069     0.2417   -4.5793   0.0000     -1.5813     -0.6325\n",
      "x3      -0.3114     0.7934   -0.3925   0.6948     -1.8685      1.2457\n",
      "x4      -7.3789     1.8459   -3.9974   0.0001    -11.0018     -3.7560\n",
      "x5       2.7224     1.7396    1.5649   0.1180     -0.6919      6.1366\n",
      "x6      -0.8218     1.5592   -0.5270   0.5983     -3.8820      2.2384\n",
      "x7     928.6013   114.1783    8.1329   0.0000    704.5102   1152.6925\n",
      "x8     226.0809   139.0375    1.6260   0.1043    -46.8001    498.9618\n",
      "x9     255.2241    53.7249    4.7506   0.0000    149.7813    360.6669\n",
      "x10    109.1372    42.0670    2.5944   0.0096     26.5747    191.6997\n",
      "x11   -174.8215   111.3711   -1.5697   0.1168   -393.4030     43.7601\n",
      "x12    207.8526    49.9845    4.1583   0.0000    109.7508    305.9543\n",
      "x13     60.1158    39.6218    1.5172   0.1296    -17.6475    137.8792\n",
      "x14     -9.2592    50.1470   -0.1846   0.8536   -107.6799     89.1614\n",
      "x15    115.0443    35.9733    3.1980   0.0014     44.4416    185.6470\n",
      "x16    139.2272    37.4698    3.7157   0.0002     65.6875    212.7670\n",
      "x17    206.3976    47.3029    4.3633   0.0000    113.5589    299.2363\n",
      "x18    437.4025    76.8306    5.6931   0.0000    286.6114    588.1935\n",
      "x19    284.8012    48.6526    5.8538   0.0000    189.3135    380.2889\n",
      "x20    -49.0226   125.0918   -0.3919   0.6952   -294.5330    196.4878\n",
      "x21    163.0079    91.1644    1.7881   0.0741    -15.9152    341.9310\n",
      "x22    132.9026    72.3924    1.8359   0.0667     -9.1778    274.9831\n",
      "x23    126.4378    40.9998    3.0839   0.0021     45.9698    206.9058\n",
      "x24     12.9206    48.2649    0.2677   0.7890    -81.8060    107.6473\n",
      "x25    -18.1401    55.9031   -0.3245   0.7456   -127.8578     91.5776\n",
      "x26      6.9859    44.8148    0.1559   0.8762    -80.9695     94.9412\n",
      "x27     38.4068    56.2342    0.6830   0.4948    -71.9609    148.7744\n",
      "x28     22.1341    38.8961    0.5691   0.5695    -54.2051     98.4732\n",
      "x29    -78.5357   112.5577   -0.6977   0.4855   -299.4462    142.3747\n",
      "x30    118.5999   128.9764    0.9195   0.3581   -134.5346    371.7343\n",
      "x31     66.2401   135.6407    0.4883   0.6254   -199.9739    332.4542\n",
      "x32     53.2740    50.6210    1.0524   0.2929    -46.0768    152.6249\n",
      "x33     90.3547   185.3824    0.4874   0.6261   -273.4846    454.1939\n",
      "x34     75.0584   176.2443    0.4259   0.6703   -270.8461    420.9629\n",
      "x35    290.2383    83.4485    3.4781   0.0005    126.4588    454.0178\n",
      "x36    -39.2458    99.1268   -0.3959   0.6923   -233.7963    155.3046\n",
      "x37    -77.6119    51.0632   -1.5199   0.1289   -177.8307     22.6068\n",
      "x38    133.9550    70.1302    1.9101   0.0564     -3.6855    271.5954\n",
      "x39    252.5489   137.9842    1.8303   0.0675    -18.2647    523.3626\n",
      "x40     38.1072    65.2788    0.5838   0.5595    -90.0117    166.2260\n",
      "x41    -95.4803    55.7587   -1.7124   0.0872   -204.9146     13.9540\n",
      "x42   -106.8990    97.4020   -1.0975   0.2727   -298.0642     84.2662\n",
      "x43     28.0726    43.5470    0.6447   0.5193    -57.3946    113.5399\n",
      "x44     96.6945   132.2240    0.7313   0.4648   -162.8138    356.2029\n",
      "x45     31.3814   134.4276    0.2334   0.8155   -232.4518    295.2147\n",
      "x46     21.4302    84.0867    0.2549   0.7989   -143.6018    186.4623\n",
      "x47    -34.0047    47.7758   -0.7118   0.4768   -127.7715     59.7620\n",
      "x48     31.7976    60.9045    0.5221   0.6017    -87.7361    151.3313\n",
      "x49    -52.1026    43.4889   -1.1981   0.2312   -137.4557     33.2505\n",
      "x50   -150.1999    98.7291   -1.5213   0.1285   -343.9699     43.5700\n",
      "x51    -62.2664   120.2261   -0.5179   0.6046   -298.2272    173.6943\n",
      "x52    -10.9903   106.7158   -0.1030   0.9180   -220.4352    198.4546\n",
      "x53     28.5104    52.4351    0.5437   0.5868    -74.4008    131.4217\n",
      "x54    -38.1863    68.9497   -0.5538   0.5798   -173.5099     97.1372\n",
      "x55    -90.5425    73.5621   -1.2308   0.2187   -234.9184     53.8335\n",
      "x56     65.9976    54.7498    1.2054   0.2284    -41.4567    173.4519\n",
      "x57    -93.2270    69.1710   -1.3478   0.1781   -228.9849     42.5309\n",
      "x58    142.4776    35.9382    3.9645   0.0001     71.9438    213.0115\n",
      "x59    116.8655    40.8325    2.8621   0.0043     36.7260    197.0050\n",
      "x60    164.0353    49.9423    3.2845   0.0011     66.0164    262.0543\n",
      "x61    191.5183    43.8599    4.3666   0.0000    105.4371    277.5996\n",
      "x62    126.7842    29.3838    4.3148   0.0000     69.1142    184.4541\n",
      "x63     85.7483    57.4972    1.4913   0.1362    -27.0982    198.5948\n",
      "x64    101.1721    30.9038    3.2738   0.0011     40.5190    161.8251\n",
      "x65    274.1663    38.5746    7.1074   0.0000    198.4581    349.8745\n",
      "x66    208.3860    40.9141    5.0933   0.0000    128.0863    288.6857\n",
      "x67    446.0490    39.0368   11.4264   0.0000    369.4338    522.6643\n",
      "-------------------------------------------------------------------\n",
      "Omnibus:           88.184    Durbin-Watson:       2.027            \n",
      "Prob(Omnibus):     0.000     Jarque-Bera (JB):    479.410          \n",
      "Skew:              0.200     Prob(JB):            0.000            \n",
      "Kurtosis:          6.470     Condition No.:       10831036586018920\n",
      "===================================================================\n",
      "* The condition number is large (1e+16). This might indicate\n",
      "strong multicollinearity or other numerical problems.\n"
     ]
    }
   ],
   "source": [
    "\"\"\" Fit a binary classification predictor.\"\"\"\n",
    "#Linear Regression\n",
    "xtr=x_train2\n",
    "xte=x_test2\n",
    "ytr=y_train2\n",
    "yte=y_test2\n",
    "\n",
    "xtr=np.array(xtr).reshape(len(xtr),len(x_train2.columns))\n",
    "xte=np.array(xte).reshape(len(xte),len(x_train2.columns))\n",
    "xtr2=sm.add_constant(xtr)\n",
    "model=sm.OLS(ytr,xtr).fit()\n",
    "\n",
    "xte2=sm.add_constant(xte)\n",
    "pred=model.predict(xte)\n",
    "\n",
    "plt.plot(pred,yte,'o')\n",
    "plt.plot(pred,pred,'-')\n",
    "plt.xlim(0,200000)\n",
    "plt.ylim(0,200000)\n",
    "plt.show()\n",
    "\n",
    "print model.summary2()"
   ]
  },
  {
   "cell_type": "code",
   "execution_count": 115,
   "metadata": {
    "ExecuteTime": {
     "end_time": "2016-10-18T22:58:12.985319",
     "start_time": "2016-10-18T22:58:12.515011"
    },
    "collapsed": false,
    "scrolled": false
   },
   "outputs": [
    {
     "name": "stderr",
     "output_type": "stream",
     "text": [
      "//anaconda/lib/python2.7/site-packages/sklearn/linear_model/coordinate_descent.py:479: ConvergenceWarning: Objective did not converge. You might want to increase the number of iterations. Fitting data with very small alpha may cause precision problems.\n",
      "  ConvergenceWarning)\n"
     ]
    },
    {
     "data": {
      "image/png": "[encoded data removed]",
      "text/plain": [
       "<matplotlib.figure.Figure at 0x10415a710>"
      ]
     },
     "metadata": {},
     "output_type": "display_data"
    },
    {
     "name": "stdout",
     "output_type": "stream",
     "text": [
      "0.521054855548\n",
      "\n",
      "\n",
      "13 % Grocery Items\n",
      "2.30394160469\n",
      "\n",
      "29 % Housing\n",
      "0.903939756205\n",
      "\n",
      "10% Utilities\n",
      "0.79711168193\n",
      "\n",
      "12 % Transportation\n",
      "-4.22051927024\n",
      "\n",
      "4% Health Care\n",
      "3.52287060224\n",
      "\n",
      "32 % Miscellaneous Goods and Services\n",
      "2.58210412151\n",
      "\n",
      "keep\n",
      "-836.401928142\n",
      "\n",
      "Sector_Basic Industries\n",
      "80.5150354747\n",
      "\n",
      "Sector_Capital Goods\n",
      "139.617894618\n",
      "\n",
      "Sector_Consulting\n",
      "-6.70132446866\n",
      "\n",
      "Sector_Consumer Services\n",
      "-262.335907313\n",
      "\n",
      "Sector_Energy\n",
      "90.3742811561\n",
      "\n",
      "Sector_Finance\n",
      "-60.7293903749\n",
      "\n",
      "Sector_Miscellaneous\n",
      "-126.669589021\n",
      "\n",
      "Sector_Technology\n",
      "-3.05379537749\n",
      "\n",
      "Sector_n/a\n",
      "20.6507373216\n",
      "\n",
      "MarketCap_Hugecap\n",
      "-75.4945172327\n",
      "\n",
      "MarketCap_Largecap\n",
      "149.143776795\n",
      "\n",
      "MarketCap_Unknown\n",
      "1.57976035561\n",
      "\n",
      "State_AL\n",
      "-154.249457484\n",
      "\n",
      "State_AR\n",
      "92.3844742807\n",
      "\n",
      "State_AZ\n",
      "-14.8041234288\n",
      "\n",
      "State_CA\n",
      "95.2331902424\n",
      "\n",
      "State_CO\n",
      "-39.1314955994\n",
      "\n",
      "State_CT\n",
      "-69.2003943521\n",
      "\n",
      "State_DE\n",
      "-55.8454122791\n",
      "\n",
      "State_FL\n",
      "-55.2231723451\n",
      "\n",
      "State_GA\n",
      "-53.3520211404\n",
      "\n",
      "State_HI\n",
      "-303.595336655\n",
      "\n",
      "State_IA\n",
      "42.9228471545\n",
      "\n",
      "State_ID\n",
      "-9.03327467644\n",
      "\n",
      "State_IL\n",
      "23.0640173711\n",
      "\n",
      "State_IN\n",
      "-41.8064274008\n",
      "\n",
      "State_KS\n",
      "-11.844563423\n",
      "\n",
      "State_KY\n",
      "175.585618199\n",
      "\n",
      "State_LA\n",
      "-82.5482451655\n",
      "\n",
      "State_MA\n",
      "-121.457228252\n",
      "\n",
      "State_MD\n",
      "127.348056055\n",
      "\n",
      "State_ME\n",
      "229.771870611\n",
      "\n",
      "State_MI\n",
      "-2.26898713507\n",
      "\n",
      "State_MN\n",
      "-118.951053299\n",
      "\n",
      "State_MO\n",
      "-224.430470324\n",
      "\n",
      "State_NC\n",
      "-39.7750555302\n",
      "\n",
      "State_NE\n",
      "-21.4713444903\n",
      "\n",
      "State_NM\n",
      "-69.554766993\n",
      "\n",
      "State_NY\n",
      "-53.7657437301\n",
      "\n",
      "State_OH\n",
      "-116.50973651\n",
      "\n",
      "State_OR\n",
      "37.3268050105\n",
      "\n",
      "State_PA\n",
      "-121.026423883\n",
      "\n",
      "State_RI\n",
      "-191.240270637\n",
      "\n",
      "State_SC\n",
      "-121.146049758\n",
      "\n",
      "State_TN\n",
      "-107.492097377\n",
      "\n",
      "State_TX\n",
      "-6.37932479126\n",
      "\n",
      "State_UT\n",
      "-99.2470286391\n",
      "\n",
      "State_VA\n",
      "-96.3472759628\n",
      "\n",
      "State_WA\n",
      "37.2470257447\n",
      "\n",
      "State_WI\n",
      "-160.643033963\n",
      "\n",
      "Region_MW\n",
      "-13.5362220706\n",
      "\n",
      "Region_NE\n",
      "-12.6714392814\n",
      "\n",
      "Region_NW\n",
      "-4.51759778143\n",
      "\n",
      "Region_S\n",
      "-3.04013324098\n",
      "\n",
      "Region_SE\n",
      "-23.1250059775\n",
      "\n",
      "Region_SW\n",
      "-6.27821629351\n",
      "\n",
      "Region_W\n",
      "-28.3597995422\n",
      "\n",
      "Job_DS\n",
      "-150.601135144\n",
      "\n",
      "Job_Junior DS\n",
      "-215.233688524\n",
      "\n",
      "Job_Senior DS\n",
      "21.1745224093\n",
      "\n"
     ]
    }
   ],
   "source": [
    "ridge=Ridge(alpha=10) #Ridge is .28269 at 230\n",
    "lasso=Lasso(alpha=0.5) #Lasso is 0.289105 at 2.01\n",
    "lr=LinearRegression() #Linear Regression is .2763265\n",
    "model=lasso.fit(x_train2,y_train2)\n",
    "pred=model.predict(x_test2)\n",
    "plt.scatter(pred,y_test2)\n",
    "plt.plot(pred,pred)\n",
    "plt.ylim(0,200000)\n",
    "plt.xlim(0,200000)\n",
    "plt.show()\n",
    "print model.score(x_test2, y_test2)\n",
    "print \"\\n\"\n",
    "for x,y in zip(x_test2.columns,model.coef_):\n",
    "    print x\n",
    "    print y\n",
    "    print"
   ]
  },
  {
   "cell_type": "code",
   "execution_count": 116,
   "metadata": {
    "ExecuteTime": {
     "end_time": "2016-10-18T22:58:29.134279",
     "start_time": "2016-10-18T22:58:28.310427"
    },
    "collapsed": false
   },
   "outputs": [
    {
     "data": {
      "image/png": "[encoded data removed]",
      "text/plain": [
       "<matplotlib.figure.Figure at 0x11d7305d0>"
      ]
     },
     "metadata": {},
     "output_type": "display_data"
    },
    {
     "data": {
      "image/png": "[encoded data removed]",
      "text/plain": [
       "<matplotlib.figure.Figure at 0x118552b90>"
      ]
     },
     "metadata": {},
     "output_type": "display_data"
    }
   ],
   "source": [
    "\"\"\" Fit a binary classification predictor.\"\"\"\n",
    "#Linear Regression\n",
    "xtr=x_train2\n",
    "xte=x_test2\n",
    "ytr=y_train2\n",
    "yte=y_test2\n",
    "\n",
    "xtr=np.array(xtr).reshape(len(xtr),len(x_train2.columns))\n",
    "xte=np.array(xte).reshape(len(xte),len(x_train2.columns))\n",
    "xtr2=sm.add_constant(xtr)\n",
    "model=sm.OLS(ytr,xtr).fit()\n",
    "\n",
    "xte2=sm.add_constant(xte)\n",
    "pred=model.predict(xte)\n",
    "\n",
    "fig,axes=plt.subplots(figsize=(7,6))\n",
    "plt.scatter(pred,yte,c=(0,.7,0,1),s=[35 for x in range(len(pred))])\n",
    "temp=pred\n",
    "temp.sort()\n",
    "plt.plot(temp,temp,'--',c=(0,0,0,1),linewidth=4)\n",
    "plt.xlim(50000,190000)\n",
    "plt.ylim(50000,190000)\n",
    "plt.xlabel(\"Predicted Salary\",size=12)\n",
    "plt.ylabel(\"Actual Salary\",size=12)\n",
    "plt.title(\"Predictive Accuracy of Coefficients\",size=16)\n",
    "plt.xticks(np.linspace(60000,180000,7),['$60,000','$80,000','$100,000','$120,000','$140,000','$160,000',\n",
    "                                        '$180,000'])\n",
    "plt.yticks(np.linspace(60000,180000,7),['$60,000','$80,000','$100,000','$120,000','$140,000','$160,000',\n",
    "                                        '$180,000'])\n",
    "plt.show()\n",
    "\n",
    "#print model.summary2()```\n",
    "\n",
    "##MAKE THIS PRETTIER; We will present with this\n",
    "\n",
    "fig,ax=plt.subplots(figsize=(8,4))\n",
    "average=np.mean(glass_door[\"100% Composite Index\"])\n",
    "#\\plt.hist(glass_door[\"Salary\"]/average,width=50)\n",
    "plt.hist(glass_door[\"Salary\"],bins=45,color=(0,0,0,1),histtype='stepfilled',label=\"Non-Normalized\")\n",
    "plt.hist(glass_door[\"Normalized Salary\"]*115,bins=45,color=(0,1,1,.6),histtype='stepfilled',label=\"Normalized\")\n",
    "plt.xlabel(\"Salary\",size=12)\n",
    "plt.ylabel(\"Count\",size=12)\n",
    "plt.title(\"Salary Distribution w/ and w/o Normalization\",size=16)\n",
    "plt.legend(loc='upper right')\n",
    "plt.xticks(np.linspace(0,250000,6),['$0',\"$50,000\",\"$100,000\",'$150,000','$200,000','$250,000'])\n",
    "plt.show()"
   ]
  },
  {
   "cell_type": "code",
   "execution_count": 117,
   "metadata": {
    "ExecuteTime": {
     "end_time": "2016-10-18T22:58:35.973419",
     "start_time": "2016-10-18T22:58:35.963992"
    },
    "collapsed": false
   },
   "outputs": [
    {
     "name": "stdout",
     "output_type": "stream",
     "text": [
      "               precision    recall  f1-score   support\n",
      "\n",
      "154000-211000       0.00      0.00      0.00        32\n",
      "  40000-97000       0.72      0.42      0.53       145\n",
      " 97000-154000       0.73      0.93      0.81       331\n",
      "\n",
      "  avg / total       0.68      0.72      0.68       508\n",
      "\n"
     ]
    }
   ],
   "source": [
    "print classification_report(y_test, cv_pred)"
   ]
  },
  {
   "cell_type": "code",
   "execution_count": 118,
   "metadata": {
    "ExecuteTime": {
     "end_time": "2016-10-18T22:58:42.634714",
     "start_time": "2016-10-18T22:58:42.627546"
    },
    "collapsed": false
   },
   "outputs": [
    {
     "data": {
      "text/plain": [
       "array(['154000-211000', '40000-97000', '97000-154000'], dtype=object)"
      ]
     },
     "execution_count": 118,
     "metadata": {},
     "output_type": "execute_result"
    }
   ],
   "source": [
    "logreg.classes_"
   ]
  },
  {
   "cell_type": "code",
   "execution_count": 119,
   "metadata": {
    "ExecuteTime": {
     "end_time": "2016-10-18T22:58:45.380015",
     "start_time": "2016-10-18T22:58:44.994943"
    },
    "collapsed": false
   },
   "outputs": [
    {
     "data": {
      "image/png": "[encoded data removed]",
      "text/plain": [
       "<matplotlib.figure.Figure at 0x1197602d0>"
      ]
     },
     "metadata": {},
     "output_type": "display_data"
    }
   ],
   "source": [
    "FPR, TPR, _ = roc_curve(y_test, [i[0] for i in y_score], pos_label=logreg.classes_[0])\n",
    "ROC_AUC = auc(FPR, TPR)\n",
    "\n",
    "amounts = logreg.classes_[0].split('-')\n",
    "title = 'Receiver operating characteristic for salary range \\${} to \\${}'.format(amounts[0], amounts[1])\n",
    "\n",
    "plt.figure(figsize=[11,9])\n",
    "plt.plot(FPR, TPR, label='ROC curve (area = %0.2f)' % ROC_AUC, linewidth=4)\n",
    "plt.plot([0, 1], [0, 1], 'k--', linewidth=4)\n",
    "plt.xlim([0.0, 1.0])\n",
    "plt.ylim([0.0, 1.05])\n",
    "plt.xlabel('False Positive Rate', fontsize=18)\n",
    "plt.ylabel('True Positive Rate', fontsize=18)\n",
    "plt.title(title, fontsize=18)\n",
    "plt.legend(loc=\"lower right\")\n",
    "plt.show()"
   ]
  },
  {
   "cell_type": "code",
   "execution_count": 120,
   "metadata": {
    "ExecuteTime": {
     "end_time": "2016-10-18T22:58:47.251903",
     "start_time": "2016-10-18T22:58:46.876244"
    },
    "collapsed": false
   },
   "outputs": [
    {
     "data": {
      "image/png": "[encoded data removed]",
      "text/plain": [
       "<matplotlib.figure.Figure at 0x11c5d0250>"
      ]
     },
     "metadata": {},
     "output_type": "display_data"
    }
   ],
   "source": [
    "FPR, TPR, _ = roc_curve(y_test, [i[1] for i in y_score], pos_label=logreg.classes_[1])\n",
    "ROC_AUC = auc(FPR, TPR)\n",
    "\n",
    "amounts = logreg.classes_[1].split('-')\n",
    "title = 'Receiver operating characteristic for salary range \\${} to \\${}'.format(amounts[0], amounts[1])\n",
    "\n",
    "plt.figure(figsize=[11,9])\n",
    "plt.plot(FPR, TPR, label='ROC curve (area = %0.2f)' % ROC_AUC, linewidth=4)\n",
    "plt.plot([0, 1], [0, 1], 'k--', linewidth=4)\n",
    "plt.xlim([0.0, 1.0])\n",
    "plt.ylim([0.0, 1.05])\n",
    "plt.xlabel('False Positive Rate', fontsize=18)\n",
    "plt.ylabel('True Positive Rate', fontsize=18)\n",
    "plt.title(title, fontsize=18)\n",
    "plt.legend(loc=\"lower right\")\n",
    "plt.show()"
   ]
  },
  {
   "cell_type": "code",
   "execution_count": 121,
   "metadata": {
    "ExecuteTime": {
     "end_time": "2016-10-18T22:58:48.760806",
     "start_time": "2016-10-18T22:58:48.395882"
    },
    "collapsed": false
   },
   "outputs": [
    {
     "data": {
      "image/png": "[encoded data removed]",
      "text/plain": [
       "<matplotlib.figure.Figure at 0x1195019d0>"
      ]
     },
     "metadata": {},
     "output_type": "display_data"
    }
   ],
   "source": [
    "FPR, TPR, _ = roc_curve(y_test, [i[2] for i in y_score], pos_label=logreg.classes_[2])\n",
    "ROC_AUC = auc(FPR, TPR)\n",
    "\n",
    "amounts = logreg.classes_[2].split('-')\n",
    "title = 'Receiver operating characteristic for salary range \\${} to \\${}'.format(amounts[0], amounts[1])\n",
    "\n",
    "plt.figure(figsize=[11,9])\n",
    "plt.plot(FPR, TPR, label='ROC curve (area = %0.2f)' % ROC_AUC, linewidth=4)\n",
    "plt.plot([0, 1], [0, 1], 'k--', linewidth=4)\n",
    "plt.xlim([0.0, 1.0])\n",
    "plt.ylim([0.0, 1.05])\n",
    "plt.xlabel('False Positive Rate', fontsize=18)\n",
    "plt.ylabel('True Positive Rate', fontsize=18)\n",
    "plt.title(title, fontsize=18)\n",
    "plt.legend(loc=\"lower right\")\n",
    "plt.show()"
   ]
  },
  {
   "cell_type": "code",
   "execution_count": null,
   "metadata": {
    "collapsed": false
   },
   "outputs": [],
   "source": []
  },
  {
   "cell_type": "code",
   "execution_count": null,
   "metadata": {
    "collapsed": false
   },
   "outputs": [],
   "source": []
  },
  {
   "cell_type": "code",
   "execution_count": null,
   "metadata": {
    "collapsed": false
   },
   "outputs": [],
   "source": []
  },
  {
   "cell_type": "code",
   "execution_count": 20,
   "metadata": {
    "ExecuteTime": {
     "end_time": "2016-10-18T17:17:33.169082",
     "start_time": "2016-10-18T17:17:32.440892"
    },
    "collapsed": false
   },
   "outputs": [
    {
     "data": {
      "image/png": "[encoded data removed]",
      "text/plain": [
       "<matplotlib.figure.Figure at 0x11871cd50>"
      ]
     },
     "metadata": {},
     "output_type": "display_data"
    }
   ],
   "source": [
    "##MAKE THIS PRETTIER; We will present with this\n",
    "\n",
    "average=np.mean(glass_door[\"100% Composite Index\"])\n",
    "#\\plt.hist(glass_door[\"Salary\"]/average,width=50)\n",
    "fig, ax = plt.subplots(figsize=(16,8));\n",
    "plt.hist(glass_door[\"Normalized Salary\"]*115,bins=30,alpha=1);\n",
    "plt.hist(glass_door[\"Salary\"],bins=30,alpha=0.4,color='white', edgecolor='black', lw=3);\n",
    "plt.title('Salaries vs Normalized Salaries', fontsize=20);\n",
    "plt.legend(['Salaries', 'Normalized Salaries'], fontsize=15);\n",
    "plt.xlabel('Amount', fontsize=15);\n",
    "plt.ylabel('Frequency', fontsize=15);"
   ]
  },
  {
   "cell_type": "code",
   "execution_count": null,
   "metadata": {
    "collapsed": false
   },
   "outputs": [],
   "source": []
  }
 ],
 "metadata": {
  "anaconda-cloud": {},
  "kernelspec": {
   "display_name": "Python [Root]",
   "language": "python",
   "name": "Python [Root]"
  },
  "language_info": {
   "codemirror_mode": {
    "name": "ipython",
    "version": 2
   },
   "file_extension": ".py",
   "mimetype": "text/x-python",
   "name": "python",
   "nbconvert_exporter": "python",
   "pygments_lexer": "ipython2",
   "version": "2.7.12"
  }
 },
 "nbformat": 4,
 "nbformat_minor": 1
}
