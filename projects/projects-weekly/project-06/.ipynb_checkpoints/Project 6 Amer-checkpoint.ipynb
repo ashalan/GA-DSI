{
 "cells": [
  {
   "cell_type": "code",
   "execution_count": 106,
   "metadata": {
    "collapsed": false
   },
   "outputs": [],
   "source": [
    "import numpy as np\n",
    "import pandas as pd\n",
    "import seaborn as sns\n",
    "import matplotlib.pyplot as plt\n",
    "from patsy import dmatrices\n",
    "from sklearn.linear_model import LogisticRegression\n",
    "from sklearn.cross_validation import train_test_split, cross_val_score\n",
    "from sklearn import metrics\n",
    "import statsmodels.api as sm\n",
    "from sklearn.metrics import confusion_matrix, accuracy_score, precision_score, recall_score, classification_report\n",
    "from sklearn.metrics import roc_curve, auc\n",
    "from sklearn.grid_search import GridSearchCV\n",
    "from sklearn.neighbors import KNeighborsClassifier\n",
    "from sklearn.svm import SVC\n",
    "from sklearn.cross_validation import StratifiedKFold\n",
    "from sklearn.cross_validation import KFold\n",
    "from sklearn.feature_selection import RFE\n",
    "from sklearn.datasets import make_classification\n",
    "from sklearn.preprocessing import StandardScaler\n",
    "import json\n",
    "import urllib\n",
    "import requests\n",
    "import json\n",
    "import re\n",
    "import csv\n",
    "from bs4 import BeautifulSoup\n",
    "import urllib\n",
    "\n",
    "%matplotlib inline"
   ]
  },
  {
   "cell_type": "markdown",
   "metadata": {},
   "source": [
    "## Problem Statement: What defines a successful movie?\n",
    "How can we tell if a movie is a hit before it is released on the netflix platform? There is no universal way to claim the goodness of movies. Many people rely on critics to gauge the quality of a film, while others use their instincts. But it takes the time to obtain a reasonable amount of critics review after a movie is released. And human instinct sometimes is unreliable.\n",
    "\n",
    "Given that thousands of movies are added to the netflix library each year, is there a better way for us to tell if a movie is going to be a hit without relying on our own instincts?"
   ]
  },
  {
   "cell_type": "markdown",
   "metadata": {},
   "source": [
    "## Getting the data\n",
    "I decided to go with BeautifulSoup with the data gathering because I could not find a well documented API to use. Either way I would have had to collect a list of IMDB titles using a webscraper to then run through the API. With that approach I was getting many timeout errors and could not troubleshoot the errors. With this approach, using my own code, I would be much more familiar with the code and I can easily debug it and report on what is being successfully parsed and what isn't."
   ]
  },
  {
   "cell_type": "code",
   "execution_count": 27,
   "metadata": {
    "collapsed": true
   },
   "outputs": [],
   "source": [
    "def get_list(nums=range(1,201)):\n",
    "    out = []\n",
    "    skip = []\n",
    "    for i in nums:\n",
    "        try:\n",
    "            # Open the page with Beautiful Soup\n",
    "            r = urllib.urlopen('http://www.imdb.com/search/title?sort=num_votes,desc&title_type=feature&page='+str(i)).read()\n",
    "            soup = BeautifulSoup(r, 'lxml')\n",
    "            # Find all movie divs\n",
    "            movs = soup.find_all(\"div\", class_=\"lister-item-content\")\n",
    "            all_movies = []\n",
    "            # print the page number that we are about parse\n",
    "            print i\n",
    "            for element in movs:\n",
    "                # Get the individual elements in each movie\n",
    "                title = element.a.get_text()\n",
    "                year = int(element.find(class_=\"lister-item-year\").get_text()[-5:-1])\n",
    "                rating = float(element.find(class_=\"ratings-imdb-rating\").strong.get_text())\n",
    "                votes_gross = element.find_all(\"span\", {\"name\":\"nv\"})\n",
    "                votes = int(votes_gross[0].get_text().replace(',', ''))\n",
    "                runtime = element.find(class_=\"runtime\").get_text()\n",
    "                # Some movies did not have gross data\n",
    "                try:\n",
    "                    gross = round(eval(votes_gross[1].get_text().replace('$', '').replace('M', '*1000000')))\n",
    "                except:\n",
    "                    gross = np.nan\n",
    "                # Some movies did not have a metascore\n",
    "                try:\n",
    "                    metascore = element.find(class_=\"ratings-metascore\").span.get_text()\n",
    "                except:\n",
    "                    metascore = np.nan\n",
    "                \n",
    "                # \n",
    "                movie = {'title':title, 'year':year, 'rating':rating, 'votes':votes, 'gross':gross,\\\n",
    "                         'metascore':metascore, 'runtime':runtime}\n",
    "                all_movies.append(movie)\n",
    "            out = out + all_movies\n",
    "        except:\n",
    "            # Rather than rerunning the entire function if any page fails,\n",
    "            # I am going to retrieve the skipped pages and add them to the skip list\n",
    "            skip.append(i)\n",
    "    print skip\n",
    "    return out"
   ]
  },
  {
   "cell_type": "code",
   "execution_count": 28,
   "metadata": {
    "collapsed": true
   },
   "outputs": [
    {
     "name": "stdout",
     "output_type": "stream",
     "text": [
      "1\n",
      "2\n",
      "3\n",
      "4\n",
      "5\n",
      "6\n",
      "7\n",
      "8\n",
      "9\n",
      "11\n",
      "12\n",
      "13\n",
      "14\n",
      "15\n",
      "16\n",
      "18\n",
      "19\n",
      "20\n",
      "21\n",
      "22\n",
      "23\n",
      "24\n",
      "25\n",
      "26\n",
      "27\n",
      "28\n",
      "29\n",
      "30\n",
      "31\n",
      "32\n",
      "33\n",
      "34\n",
      "35\n",
      "36\n",
      "37\n",
      "38\n",
      "39\n",
      "41\n",
      "42\n",
      "43\n",
      "44\n",
      "46\n",
      "47\n",
      "48\n",
      "49\n",
      "50\n",
      "51\n",
      "52\n",
      "53\n",
      "54\n",
      "55\n",
      "56\n",
      "57\n",
      "58\n",
      "59\n",
      "60\n",
      "61\n",
      "62\n",
      "64\n",
      "65\n",
      "66\n",
      "67\n",
      "68\n",
      "69\n",
      "70\n",
      "71\n",
      "72\n",
      "73\n",
      "74\n",
      "75\n",
      "76\n",
      "77\n",
      "78\n",
      "79\n",
      "80\n",
      "81\n",
      "82\n",
      "83\n",
      "84\n",
      "85\n",
      "86\n",
      "87\n",
      "88\n",
      "89\n",
      "91\n",
      "92\n",
      "93\n",
      "94\n",
      "95\n",
      "96\n",
      "97\n",
      "98\n",
      "99\n",
      "100\n",
      "101\n",
      "102\n",
      "103\n",
      "104\n",
      "105\n",
      "106\n",
      "107\n",
      "108\n",
      "109\n",
      "110\n",
      "111\n",
      "112\n",
      "113\n",
      "114\n",
      "115\n",
      "116\n",
      "117\n",
      "118\n",
      "119\n",
      "120\n",
      "121\n",
      "122\n",
      "123\n",
      "124\n",
      "125\n",
      "126\n",
      "127\n",
      "128\n",
      "129\n",
      "130\n",
      "131\n",
      "132\n",
      "133\n",
      "134\n",
      "135\n",
      "136\n",
      "137\n",
      "138\n",
      "139\n",
      "140\n",
      "141\n",
      "142\n",
      "143\n",
      "144\n",
      "145\n",
      "146\n",
      "147\n",
      "148\n",
      "149\n",
      "150\n",
      "151\n",
      "152\n",
      "153\n",
      "154\n",
      "155\n",
      "156\n",
      "157\n",
      "158\n",
      "159\n",
      "160\n",
      "161\n",
      "162\n",
      "163\n",
      "164\n",
      "165\n",
      "166\n",
      "167\n",
      "168\n",
      "169\n",
      "170\n",
      "171\n",
      "172\n",
      "173\n",
      "174\n",
      "175\n",
      "176\n",
      "177\n",
      "178\n",
      "179\n",
      "180\n",
      "181\n",
      "182\n",
      "183\n",
      "184\n",
      "185\n",
      "186\n",
      "187\n",
      "188\n",
      "189\n",
      "190\n",
      "191\n",
      "192\n",
      "193\n",
      "194\n",
      "195\n",
      "196\n",
      "197\n",
      "198\n",
      "199\n",
      "200\n",
      "[10, 17, 40, 45, 63, 90, 146, 199]\n"
     ]
    },
    {
     "data": {
      "text/plain": [
       "9600"
      ]
     },
     "execution_count": 28,
     "metadata": {},
     "output_type": "execute_result"
    }
   ],
   "source": [
    "top_10000 = get_list()\n",
    "len(top_10000)"
   ]
  },
  {
   "cell_type": "code",
   "execution_count": 29,
   "metadata": {
    "collapsed": true
   },
   "outputs": [
    {
     "name": "stdout",
     "output_type": "stream",
     "text": [
      "10\n",
      "17\n",
      "40\n",
      "45\n",
      "63\n",
      "90\n",
      "146\n",
      "199\n",
      "[146, 199]\n"
     ]
    }
   ],
   "source": [
    "skipped_pages = [10, 17, 40, 45, 63, 90, 146, 199]\n",
    "skipped = get_list(skipped_pages)"
   ]
  },
  {
   "cell_type": "code",
   "execution_count": 30,
   "metadata": {
    "collapsed": true
   },
   "outputs": [],
   "source": [
    "top_10000 = top_10000 + skipped"
   ]
  },
  {
   "cell_type": "code",
   "execution_count": 31,
   "metadata": {
    "collapsed": false
   },
   "outputs": [],
   "source": [
    "# cache result to avoid reloading\n",
    "myfile = open('title.csv', 'wb')\n",
    "wr = csv.writer(myfile, quoting=csv.QUOTE_ALL)\n",
    "wr.writerow(top_10000)"
   ]
  },
  {
   "cell_type": "markdown",
   "metadata": {},
   "source": [
    "## Data Exploration"
   ]
  },
  {
   "cell_type": "code",
   "execution_count": 319,
   "metadata": {
    "collapsed": false
   },
   "outputs": [
    {
     "data": {
      "text/html": [
       "<div>\n",
       "<table border=\"1\" class=\"dataframe\">\n",
       "  <thead>\n",
       "    <tr style=\"text-align: right;\">\n",
       "      <th></th>\n",
       "      <th>gross</th>\n",
       "      <th>metascore</th>\n",
       "      <th>rating</th>\n",
       "      <th>runtime</th>\n",
       "      <th>title</th>\n",
       "      <th>votes</th>\n",
       "      <th>year</th>\n",
       "    </tr>\n",
       "  </thead>\n",
       "  <tbody>\n",
       "    <tr>\n",
       "      <th>0</th>\n",
       "      <td>28340000.0</td>\n",
       "      <td>80</td>\n",
       "      <td>9.3</td>\n",
       "      <td>142 min</td>\n",
       "      <td>The Shawshank Redemption</td>\n",
       "      <td>1722578</td>\n",
       "      <td>1994</td>\n",
       "    </tr>\n",
       "    <tr>\n",
       "      <th>1</th>\n",
       "      <td>533320000.0</td>\n",
       "      <td>82</td>\n",
       "      <td>9.0</td>\n",
       "      <td>152 min</td>\n",
       "      <td>The Dark Knight</td>\n",
       "      <td>1708350</td>\n",
       "      <td>2008</td>\n",
       "    </tr>\n",
       "    <tr>\n",
       "      <th>2</th>\n",
       "      <td>292570000.0</td>\n",
       "      <td>74</td>\n",
       "      <td>8.8</td>\n",
       "      <td>148 min</td>\n",
       "      <td>Inception</td>\n",
       "      <td>1499024</td>\n",
       "      <td>2010</td>\n",
       "    </tr>\n",
       "    <tr>\n",
       "      <th>3</th>\n",
       "      <td>37020000.0</td>\n",
       "      <td>66</td>\n",
       "      <td>8.8</td>\n",
       "      <td>139 min</td>\n",
       "      <td>Fight Club</td>\n",
       "      <td>1375013</td>\n",
       "      <td>1999</td>\n",
       "    </tr>\n",
       "    <tr>\n",
       "      <th>4</th>\n",
       "      <td>107930000.0</td>\n",
       "      <td>94</td>\n",
       "      <td>8.9</td>\n",
       "      <td>154 min</td>\n",
       "      <td>Pulp Fiction</td>\n",
       "      <td>1349493</td>\n",
       "      <td>1994</td>\n",
       "    </tr>\n",
       "  </tbody>\n",
       "</table>\n",
       "</div>"
      ],
      "text/plain": [
       "         gross   metascore  rating  runtime                     title  \\\n",
       "0   28340000.0  80             9.3  142 min  The Shawshank Redemption   \n",
       "1  533320000.0  82             9.0  152 min           The Dark Knight   \n",
       "2  292570000.0  74             8.8  148 min                 Inception   \n",
       "3   37020000.0  66             8.8  139 min                Fight Club   \n",
       "4  107930000.0  94             8.9  154 min              Pulp Fiction   \n",
       "\n",
       "     votes  year  \n",
       "0  1722578  1994  \n",
       "1  1708350  2008  \n",
       "2  1499024  2010  \n",
       "3  1375013  1999  \n",
       "4  1349493  1994  "
      ]
     },
     "execution_count": 319,
     "metadata": {},
     "output_type": "execute_result"
    }
   ],
   "source": [
    "df = pd.DataFrame(top_10000)\n",
    "df.head()"
   ]
  },
  {
   "cell_type": "code",
   "execution_count": 311,
   "metadata": {
    "collapsed": false
   },
   "outputs": [
    {
     "data": {
      "text/html": [
       "<div>\n",
       "<table border=\"1\" class=\"dataframe\">\n",
       "  <thead>\n",
       "    <tr style=\"text-align: right;\">\n",
       "      <th></th>\n",
       "      <th>gross</th>\n",
       "      <th>metascore</th>\n",
       "      <th>rating</th>\n",
       "      <th>runtime</th>\n",
       "      <th>title</th>\n",
       "      <th>votes</th>\n",
       "      <th>year</th>\n",
       "    </tr>\n",
       "  </thead>\n",
       "  <tbody>\n",
       "    <tr>\n",
       "      <th>9895</th>\n",
       "      <td>19120000.0</td>\n",
       "      <td>35</td>\n",
       "      <td>5.4</td>\n",
       "      <td>100 min</td>\n",
       "      <td>Man of the House</td>\n",
       "      <td>20030</td>\n",
       "      <td>2005</td>\n",
       "    </tr>\n",
       "    <tr>\n",
       "      <th>9896</th>\n",
       "      <td>90000.0</td>\n",
       "      <td>NaN</td>\n",
       "      <td>8.0</td>\n",
       "      <td>90 min</td>\n",
       "      <td>Hiroshima Mon Amour</td>\n",
       "      <td>20021</td>\n",
       "      <td>1959</td>\n",
       "    </tr>\n",
       "    <tr>\n",
       "      <th>9897</th>\n",
       "      <td>NaN</td>\n",
       "      <td>NaN</td>\n",
       "      <td>8.3</td>\n",
       "      <td>90 min</td>\n",
       "      <td>Neon Genesis Evangelion: The End of Evangelion</td>\n",
       "      <td>20007</td>\n",
       "      <td>1997</td>\n",
       "    </tr>\n",
       "    <tr>\n",
       "      <th>9898</th>\n",
       "      <td>260000.0</td>\n",
       "      <td>63</td>\n",
       "      <td>6.7</td>\n",
       "      <td>93 min</td>\n",
       "      <td>King of California</td>\n",
       "      <td>19997</td>\n",
       "      <td>2007</td>\n",
       "    </tr>\n",
       "    <tr>\n",
       "      <th>9899</th>\n",
       "      <td>NaN</td>\n",
       "      <td>NaN</td>\n",
       "      <td>7.7</td>\n",
       "      <td>85 min</td>\n",
       "      <td>Play It Again, Sam</td>\n",
       "      <td>19996</td>\n",
       "      <td>1972</td>\n",
       "    </tr>\n",
       "  </tbody>\n",
       "</table>\n",
       "</div>"
      ],
      "text/plain": [
       "           gross   metascore  rating  runtime  \\\n",
       "9895  19120000.0  35             5.4  100 min   \n",
       "9896     90000.0         NaN     8.0   90 min   \n",
       "9897         NaN         NaN     8.3   90 min   \n",
       "9898    260000.0  63             6.7   93 min   \n",
       "9899         NaN         NaN     7.7   85 min   \n",
       "\n",
       "                                               title  votes  year  \n",
       "9895                                Man of the House  20030  2005  \n",
       "9896                             Hiroshima Mon Amour  20021  1959  \n",
       "9897  Neon Genesis Evangelion: The End of Evangelion  20007  1997  \n",
       "9898                              King of California  19997  2007  \n",
       "9899                              Play It Again, Sam  19996  1972  "
      ]
     },
     "execution_count": 311,
     "metadata": {},
     "output_type": "execute_result"
    }
   ],
   "source": [
    "df.tail()"
   ]
  },
  {
   "cell_type": "code",
   "execution_count": 312,
   "metadata": {
    "collapsed": false
   },
   "outputs": [
    {
     "data": {
      "text/html": [
       "<div>\n",
       "<table border=\"1\" class=\"dataframe\">\n",
       "  <thead>\n",
       "    <tr style=\"text-align: right;\">\n",
       "      <th></th>\n",
       "      <th>gross</th>\n",
       "      <th>rating</th>\n",
       "      <th>votes</th>\n",
       "      <th>year</th>\n",
       "    </tr>\n",
       "  </thead>\n",
       "  <tbody>\n",
       "    <tr>\n",
       "      <th>count</th>\n",
       "      <td>6.699000e+03</td>\n",
       "      <td>9900.000000</td>\n",
       "      <td>9.900000e+03</td>\n",
       "      <td>9900.000000</td>\n",
       "    </tr>\n",
       "    <tr>\n",
       "      <th>mean</th>\n",
       "      <td>3.591706e+07</td>\n",
       "      <td>6.622596</td>\n",
       "      <td>5.412616e+04</td>\n",
       "      <td>1996.429293</td>\n",
       "    </tr>\n",
       "    <tr>\n",
       "      <th>std</th>\n",
       "      <td>5.924077e+07</td>\n",
       "      <td>1.060961</td>\n",
       "      <td>1.074613e+05</td>\n",
       "      <td>18.268252</td>\n",
       "    </tr>\n",
       "    <tr>\n",
       "      <th>min</th>\n",
       "      <td>0.000000e+00</td>\n",
       "      <td>1.100000</td>\n",
       "      <td>4.543000e+03</td>\n",
       "      <td>1915.000000</td>\n",
       "    </tr>\n",
       "    <tr>\n",
       "      <th>25%</th>\n",
       "      <td>NaN</td>\n",
       "      <td>6.000000</td>\n",
       "      <td>7.761750e+03</td>\n",
       "      <td>1989.000000</td>\n",
       "    </tr>\n",
       "    <tr>\n",
       "      <th>50%</th>\n",
       "      <td>NaN</td>\n",
       "      <td>6.700000</td>\n",
       "      <td>1.689400e+04</td>\n",
       "      <td>2002.000000</td>\n",
       "    </tr>\n",
       "    <tr>\n",
       "      <th>75%</th>\n",
       "      <td>NaN</td>\n",
       "      <td>7.400000</td>\n",
       "      <td>5.075100e+04</td>\n",
       "      <td>2009.000000</td>\n",
       "    </tr>\n",
       "    <tr>\n",
       "      <th>max</th>\n",
       "      <td>9.366300e+08</td>\n",
       "      <td>9.700000</td>\n",
       "      <td>1.722578e+06</td>\n",
       "      <td>2016.000000</td>\n",
       "    </tr>\n",
       "  </tbody>\n",
       "</table>\n",
       "</div>"
      ],
      "text/plain": [
       "              gross       rating         votes         year\n",
       "count  6.699000e+03  9900.000000  9.900000e+03  9900.000000\n",
       "mean   3.591706e+07     6.622596  5.412616e+04  1996.429293\n",
       "std    5.924077e+07     1.060961  1.074613e+05    18.268252\n",
       "min    0.000000e+00     1.100000  4.543000e+03  1915.000000\n",
       "25%             NaN     6.000000  7.761750e+03  1989.000000\n",
       "50%             NaN     6.700000  1.689400e+04  2002.000000\n",
       "75%             NaN     7.400000  5.075100e+04  2009.000000\n",
       "max    9.366300e+08     9.700000  1.722578e+06  2016.000000"
      ]
     },
     "execution_count": 312,
     "metadata": {},
     "output_type": "execute_result"
    }
   ],
   "source": [
    "df.describe()"
   ]
  },
  {
   "cell_type": "code",
   "execution_count": 313,
   "metadata": {
    "collapsed": false
   },
   "outputs": [
    {
     "data": {
      "text/plain": [
       "gross        6699\n",
       "metascore    5612\n",
       "rating       9900\n",
       "runtime      9900\n",
       "title        9900\n",
       "votes        9900\n",
       "year         9900\n",
       "dtype: int64"
      ]
     },
     "execution_count": 313,
     "metadata": {},
     "output_type": "execute_result"
    }
   ],
   "source": [
    "df.count()"
   ]
  },
  {
   "cell_type": "markdown",
   "metadata": {},
   "source": [
    "We have 4350 missing metascore values and 3255 missing gross values."
   ]
  },
  {
   "cell_type": "markdown",
   "metadata": {},
   "source": [
    "## Data Cleaning"
   ]
  },
  {
   "cell_type": "code",
   "execution_count": 320,
   "metadata": {
    "collapsed": true
   },
   "outputs": [],
   "source": [
    "# Change runtime to minutes\n",
    "def intminutes(x):\n",
    "    y = x.replace('min', '').strip()\n",
    "    return int(y)\n",
    "\n",
    "df.runtime = df.runtime.apply(intminutes)"
   ]
  },
  {
   "cell_type": "code",
   "execution_count": 315,
   "metadata": {
    "collapsed": true
   },
   "outputs": [],
   "source": [
    "# Change year to datetime\n",
    "df.year = pd.to_datetime(df.year)"
   ]
  },
  {
   "cell_type": "code",
   "execution_count": 334,
   "metadata": {
    "collapsed": false
   },
   "outputs": [
    {
     "data": {
      "text/plain": [
       "5077"
      ]
     },
     "execution_count": 334,
     "metadata": {},
     "output_type": "execute_result"
    }
   ],
   "source": [
    "\n",
    "len(X_filtered)"
   ]
  },
  {
   "cell_type": "code",
   "execution_count": 316,
   "metadata": {
    "collapsed": false
   },
   "outputs": [
    {
     "data": {
      "text/plain": [
       "gross               float64\n",
       "metascore            object\n",
       "rating              float64\n",
       "runtime               int64\n",
       "title                object\n",
       "votes                 int64\n",
       "year         datetime64[ns]\n",
       "dtype: object"
      ]
     },
     "execution_count": 316,
     "metadata": {},
     "output_type": "execute_result"
    }
   ],
   "source": [
    "df.dtypes"
   ]
  },
  {
   "cell_type": "markdown",
   "metadata": {},
   "source": [
    "## Data Visualization"
   ]
  },
  {
   "cell_type": "code",
   "execution_count": 70,
   "metadata": {
    "collapsed": false
   },
   "outputs": [
    {
     "data": {
      "text/plain": [
       "<matplotlib.axes._subplots.AxesSubplot at 0x11905a890>"
      ]
     },
     "execution_count": 70,
     "metadata": {},
     "output_type": "execute_result"
    },
    {
     "data": {
      "image/png": "[encoded data removed]",
      "text/plain": [
       "<matplotlib.figure.Figure at 0x11b20e450>"
      ]
     },
     "metadata": {},
     "output_type": "display_data"
    }
   ],
   "source": [
    "df['year'].hist()"
   ]
  },
  {
   "cell_type": "markdown",
   "metadata": {},
   "source": [
    "We can see that our data is highly skewed to the right"
   ]
  },
  {
   "cell_type": "code",
   "execution_count": 72,
   "metadata": {
    "collapsed": false
   },
   "outputs": [
    {
     "data": {
      "text/plain": [
       "<matplotlib.axes._subplots.AxesSubplot at 0x1194ea290>"
      ]
     },
     "execution_count": 72,
     "metadata": {},
     "output_type": "execute_result"
    },
    {
     "data": {
      "image/png": "[encoded data removed]",
      "text/plain": [
       "<matplotlib.figure.Figure at 0x119ba9450>"
      ]
     },
     "metadata": {},
     "output_type": "display_data"
    }
   ],
   "source": [
    "df['rating'].hist()"
   ]
  },
  {
   "cell_type": "code",
   "execution_count": 73,
   "metadata": {
    "collapsed": false
   },
   "outputs": [
    {
     "data": {
      "text/plain": [
       "<matplotlib.axes._subplots.AxesSubplot at 0x119ac5110>"
      ]
     },
     "execution_count": 73,
     "metadata": {},
     "output_type": "execute_result"
    },
    {
     "data": {
      "image/png": "[encoded data removed]",
      "text/plain": [
       "<matplotlib.figure.Figure at 0x11856e1d0>"
      ]
     },
     "metadata": {},
     "output_type": "display_data"
    }
   ],
   "source": [
    "df['gross'].hist()"
   ]
  },
  {
   "cell_type": "markdown",
   "metadata": {},
   "source": [
    "## Data Munging"
   ]
  },
  {
   "cell_type": "code",
   "execution_count": 127,
   "metadata": {
    "collapsed": false
   },
   "outputs": [
    {
     "data": {
      "text/html": [
       "<div>\n",
       "<table border=\"1\" class=\"dataframe\">\n",
       "  <thead>\n",
       "    <tr style=\"text-align: right;\">\n",
       "      <th></th>\n",
       "      <th>gross</th>\n",
       "      <th>metascore</th>\n",
       "      <th>rating</th>\n",
       "      <th>runtime</th>\n",
       "      <th>title</th>\n",
       "      <th>votes</th>\n",
       "      <th>year</th>\n",
       "    </tr>\n",
       "  </thead>\n",
       "  <tbody>\n",
       "    <tr>\n",
       "      <th>0</th>\n",
       "      <td>28340000.0</td>\n",
       "      <td>80</td>\n",
       "      <td>9.3</td>\n",
       "      <td>142</td>\n",
       "      <td>The Shawshank Redemption</td>\n",
       "      <td>1722578</td>\n",
       "      <td>1994</td>\n",
       "    </tr>\n",
       "    <tr>\n",
       "      <th>1</th>\n",
       "      <td>533320000.0</td>\n",
       "      <td>82</td>\n",
       "      <td>9.0</td>\n",
       "      <td>152</td>\n",
       "      <td>The Dark Knight</td>\n",
       "      <td>1708350</td>\n",
       "      <td>2008</td>\n",
       "    </tr>\n",
       "    <tr>\n",
       "      <th>2</th>\n",
       "      <td>292570000.0</td>\n",
       "      <td>74</td>\n",
       "      <td>8.8</td>\n",
       "      <td>148</td>\n",
       "      <td>Inception</td>\n",
       "      <td>1499024</td>\n",
       "      <td>2010</td>\n",
       "    </tr>\n",
       "    <tr>\n",
       "      <th>3</th>\n",
       "      <td>37020000.0</td>\n",
       "      <td>66</td>\n",
       "      <td>8.8</td>\n",
       "      <td>139</td>\n",
       "      <td>Fight Club</td>\n",
       "      <td>1375013</td>\n",
       "      <td>1999</td>\n",
       "    </tr>\n",
       "    <tr>\n",
       "      <th>4</th>\n",
       "      <td>107930000.0</td>\n",
       "      <td>94</td>\n",
       "      <td>8.9</td>\n",
       "      <td>154</td>\n",
       "      <td>Pulp Fiction</td>\n",
       "      <td>1349493</td>\n",
       "      <td>1994</td>\n",
       "    </tr>\n",
       "  </tbody>\n",
       "</table>\n",
       "</div>"
      ],
      "text/plain": [
       "         gross   metascore  rating  runtime                     title  \\\n",
       "0   28340000.0  80             9.3      142  The Shawshank Redemption   \n",
       "1  533320000.0  82             9.0      152           The Dark Knight   \n",
       "2  292570000.0  74             8.8      148                 Inception   \n",
       "3   37020000.0  66             8.8      139                Fight Club   \n",
       "4  107930000.0  94             8.9      154              Pulp Fiction   \n",
       "\n",
       "     votes  year  \n",
       "0  1722578  1994  \n",
       "1  1708350  2008  \n",
       "2  1499024  2010  \n",
       "3  1375013  1999  \n",
       "4  1349493  1994  "
      ]
     },
     "execution_count": 127,
     "metadata": {},
     "output_type": "execute_result"
    }
   ],
   "source": [
    "df.head()"
   ]
  },
  {
   "cell_type": "code",
   "execution_count": 321,
   "metadata": {
    "collapsed": false
   },
   "outputs": [],
   "source": [
    "bins = [1910, 1920, 1930, 1940, 1950, 1960, 1970, 1980, 1990, 2000, 2010, 2020]\n",
    "group_names = [str(x)+\"'s\" for x in bins][:-1]\n",
    "\n",
    "categories = pd.cut(df['year'], bins, labels=group_names)\n",
    "df['year'] = pd.cut(df['year'], bins, labels=group_names)"
   ]
  },
  {
   "cell_type": "code",
   "execution_count": 322,
   "metadata": {
    "collapsed": false
   },
   "outputs": [
    {
     "data": {
      "text/plain": [
       "2000's    3319\n",
       "2010's    2103\n",
       "1990's    1843\n",
       "1980's    1051\n",
       "1970's     546\n",
       "1960's     393\n",
       "1950's     290\n",
       "1940's     185\n",
       "1930's     125\n",
       "1920's      40\n",
       "1910's       5\n",
       "Name: year, dtype: int64"
      ]
     },
     "execution_count": 322,
     "metadata": {},
     "output_type": "execute_result"
    }
   ],
   "source": [
    "pd.value_counts(df['year'])"
   ]
  },
  {
   "cell_type": "code",
   "execution_count": 167,
   "metadata": {
    "collapsed": false
   },
   "outputs": [
    {
     "data": {
      "text/plain": [
       "<matplotlib.text.Text at 0x121591d90>"
      ]
     },
     "execution_count": 167,
     "metadata": {},
     "output_type": "execute_result"
    },
    {
     "data": {
      "image/png": "[encoded data removed]",
      "text/plain": [
       "<matplotlib.figure.Figure at 0x11fe8ead0>"
      ]
     },
     "metadata": {},
     "output_type": "display_data"
    }
   ],
   "source": [
    "df_filtered = df.dropna()\n",
    "sns.lmplot('votes', 'rating', \n",
    "           data=df_filtered, \n",
    "           fit_reg=False, \n",
    "           hue=\"year\",\n",
    "           size=11,\n",
    "           scatter_kws={\"s\": 10})\n",
    "plt.title('Score vs Vote Count')\n",
    "plt.xlabel('Votes')\n",
    "plt.ylabel('Rating')"
   ]
  },
  {
   "cell_type": "code",
   "execution_count": 328,
   "metadata": {
    "collapsed": false
   },
   "outputs": [
    {
     "data": {
      "text/plain": [
       "<matplotlib.axes._subplots.AxesSubplot at 0x11f3f2910>"
      ]
     },
     "execution_count": 328,
     "metadata": {},
     "output_type": "execute_result"
    },
    {
     "data": {
      "image/png": "[encoded data removed]",
      "text/plain": [
       "<matplotlib.figure.Figure at 0x11fa824d0>"
      ]
     },
     "metadata": {},
     "output_type": "display_data"
    }
   ],
   "source": [
    "df.groupby(['year'])['runtime'].mean().plot()"
   ]
  },
  {
   "cell_type": "code",
   "execution_count": 201,
   "metadata": {
    "collapsed": false
   },
   "outputs": [
    {
     "name": "stdout",
     "output_type": "stream",
     "text": [
      "<class 'pandas.core.frame.DataFrame'>\n",
      "RangeIndex: 9900 entries, 0 to 9899\n",
      "Data columns (total 18 columns):\n",
      "gross          6699 non-null float64\n",
      "metascore      5612 non-null object\n",
      "rating         9900 non-null float64\n",
      "runtime        9900 non-null int64\n",
      "title          9900 non-null object\n",
      "votes          9900 non-null int64\n",
      "year           9900 non-null category\n",
      "Year_1910's    9900 non-null float64\n",
      "Year_1920's    9900 non-null float64\n",
      "Year_1930's    9900 non-null float64\n",
      "Year_1940's    9900 non-null float64\n",
      "Year_1950's    9900 non-null float64\n",
      "Year_1960's    9900 non-null float64\n",
      "Year_1970's    9900 non-null float64\n",
      "Year_1980's    9900 non-null float64\n",
      "Year_1990's    9900 non-null float64\n",
      "Year_2000's    9900 non-null float64\n",
      "Year_2010's    9900 non-null float64\n",
      "dtypes: category(1), float64(13), int64(2), object(2)\n",
      "memory usage: 1.3+ MB\n"
     ]
    }
   ],
   "source": [
    "df_year = pd.get_dummies(df['year'], prefix='Year')\n",
    "df = df.join(df_year.ix[:, :\"Year_2010's\"])\n",
    "df.info()"
   ]
  },
  {
   "cell_type": "markdown",
   "metadata": {},
   "source": [
    "Add a \"is hit\" column to be able to specify if something is a hit or not. I chose 8.0 as the hit threshold arbitrarily (4/5 on netflix)"
   ]
  },
  {
   "cell_type": "code",
   "execution_count": 247,
   "metadata": {
    "collapsed": true
   },
   "outputs": [],
   "source": [
    "df['hit'] = df['rating'] > 7.9\n",
    "df.hit = df.hit.astype(int)"
   ]
  },
  {
   "cell_type": "markdown",
   "metadata": {},
   "source": [
    "## Modeling\n",
    "I don't like the idea of dropping all the nans, so after a bit of research I am going to fill the values using Imputation and compare the scores of each type of regression."
   ]
  },
  {
   "cell_type": "code",
   "execution_count": 243,
   "metadata": {
    "collapsed": false
   },
   "outputs": [
    {
     "data": {
      "text/html": [
       "<div>\n",
       "<table border=\"1\" class=\"dataframe\">\n",
       "  <thead>\n",
       "    <tr style=\"text-align: right;\">\n",
       "      <th></th>\n",
       "      <th>gross</th>\n",
       "      <th>metascore</th>\n",
       "      <th>rating</th>\n",
       "      <th>runtime</th>\n",
       "      <th>title</th>\n",
       "      <th>votes</th>\n",
       "      <th>year</th>\n",
       "    </tr>\n",
       "  </thead>\n",
       "  <tbody>\n",
       "    <tr>\n",
       "      <th>0</th>\n",
       "      <td>28340000.0</td>\n",
       "      <td>80</td>\n",
       "      <td>9.3</td>\n",
       "      <td>142</td>\n",
       "      <td>The Shawshank Redemption</td>\n",
       "      <td>1722578</td>\n",
       "      <td>1970-01-01 00:00:00.000001994</td>\n",
       "    </tr>\n",
       "    <tr>\n",
       "      <th>1</th>\n",
       "      <td>533320000.0</td>\n",
       "      <td>82</td>\n",
       "      <td>9.0</td>\n",
       "      <td>152</td>\n",
       "      <td>The Dark Knight</td>\n",
       "      <td>1708350</td>\n",
       "      <td>1970-01-01 00:00:00.000002008</td>\n",
       "    </tr>\n",
       "    <tr>\n",
       "      <th>2</th>\n",
       "      <td>292570000.0</td>\n",
       "      <td>74</td>\n",
       "      <td>8.8</td>\n",
       "      <td>148</td>\n",
       "      <td>Inception</td>\n",
       "      <td>1499024</td>\n",
       "      <td>1970-01-01 00:00:00.000002010</td>\n",
       "    </tr>\n",
       "    <tr>\n",
       "      <th>3</th>\n",
       "      <td>37020000.0</td>\n",
       "      <td>66</td>\n",
       "      <td>8.8</td>\n",
       "      <td>139</td>\n",
       "      <td>Fight Club</td>\n",
       "      <td>1375013</td>\n",
       "      <td>1970-01-01 00:00:00.000001999</td>\n",
       "    </tr>\n",
       "    <tr>\n",
       "      <th>4</th>\n",
       "      <td>107930000.0</td>\n",
       "      <td>94</td>\n",
       "      <td>8.9</td>\n",
       "      <td>154</td>\n",
       "      <td>Pulp Fiction</td>\n",
       "      <td>1349493</td>\n",
       "      <td>1970-01-01 00:00:00.000001994</td>\n",
       "    </tr>\n",
       "  </tbody>\n",
       "</table>\n",
       "</div>"
      ],
      "text/plain": [
       "         gross   metascore  rating  runtime                     title  \\\n",
       "0   28340000.0  80             9.3      142  The Shawshank Redemption   \n",
       "1  533320000.0  82             9.0      152           The Dark Knight   \n",
       "2  292570000.0  74             8.8      148                 Inception   \n",
       "3   37020000.0  66             8.8      139                Fight Club   \n",
       "4  107930000.0  94             8.9      154              Pulp Fiction   \n",
       "\n",
       "     votes                          year  \n",
       "0  1722578 1970-01-01 00:00:00.000001994  \n",
       "1  1708350 1970-01-01 00:00:00.000002008  \n",
       "2  1499024 1970-01-01 00:00:00.000002010  \n",
       "3  1375013 1970-01-01 00:00:00.000001999  \n",
       "4  1349493 1970-01-01 00:00:00.000001994  "
      ]
     },
     "execution_count": 243,
     "metadata": {},
     "output_type": "execute_result"
    }
   ],
   "source": [
    "df.head()"
   ]
  },
  {
   "cell_type": "code",
   "execution_count": 205,
   "metadata": {
    "collapsed": true
   },
   "outputs": [],
   "source": [
    "from sklearn.tree import DecisionTreeClassifier\n",
    "from sklearn.ensemble import RandomForestClassifier, ExtraTreesClassifier, BaggingClassifier\n",
    "\n",
    "def cross_val(model, X, y):\n",
    "    s = cross_val_score(model, X, y)\n",
    "    print(\"{} Score:\\t{:0.3} ± {:0.3}\".format(type(model), s.mean().round(3), s.std().round(3)))"
   ]
  },
  {
   "cell_type": "code",
   "execution_count": 250,
   "metadata": {
    "collapsed": false
   },
   "outputs": [
    {
     "name": "stdout",
     "output_type": "stream",
     "text": [
      "<class 'sklearn.tree.tree.DecisionTreeClassifier'> Score:\t0.863 ± 0.076\n",
      "<class 'sklearn.ensemble.forest.RandomForestRegressor'> Score:\t0.145 ± 0.118\n",
      "<class 'sklearn.ensemble.bagging.BaggingClassifier'> Score:\t0.889 ± 0.052\n",
      "<class 'sklearn.ensemble.forest.RandomForestClassifier'> Score:\t0.887 ± 0.065\n",
      "<class 'sklearn.ensemble.forest.ExtraTreesClassifier'> Score:\t0.881 ± 0.071\n"
     ]
    }
   ],
   "source": [
    "from sklearn.pipeline import Pipeline\n",
    "from sklearn.preprocessing import Imputer\n",
    "nc = [x for x in df.columns if x in ['gross', 'runtime', 'metascore', 'votes']]\n",
    "# Estimate the scores without the missing values\n",
    "df_filtered = df.dropna()\n",
    "X_filtered = df_filtered[nc]\n",
    "y_filtered = df_filtered.hit\n",
    "\n",
    "dt = DecisionTreeClassifier(class_weight='balanced')\n",
    "cross_val(dt, X_filtered, y_filtered)\n",
    "rforest = RandomForestRegressor(random_state=0, n_estimators=100)\n",
    "cross_val(rforest, X_filtered, y_filtered)\n",
    "bagger = BaggingClassifier(dt, max_samples=1.0)\n",
    "cross_val(bagger, X_filtered, y_filtered)\n",
    "forest = RandomForestClassifier(class_weight='balanced', n_jobs=-1, n_estimators=10)\n",
    "cross_val(forest, X_filtered, y_filtered)\n",
    "trees = ExtraTreesClassifier(class_weight='balanced', n_jobs=-1)\n",
    "cross_val(trees, X_filtered, y_filtered)\n"
   ]
  },
  {
   "cell_type": "markdown",
   "metadata": {},
   "source": [
    "We have a high score here, it will be hard to beat."
   ]
  },
  {
   "cell_type": "code",
   "execution_count": 249,
   "metadata": {
    "collapsed": false
   },
   "outputs": [
    {
     "name": "stdout",
     "output_type": "stream",
     "text": [
      "<class 'sklearn.pipeline.Pipeline'> Score:\t0.521 ± 0.284\n",
      "<class 'sklearn.pipeline.Pipeline'> Score:\t-0.249 ± 0.218\n",
      "<class 'sklearn.pipeline.Pipeline'> Score:\t0.53 ± 0.278\n",
      "<class 'sklearn.pipeline.Pipeline'> Score:\t0.558 ± 0.261\n",
      "<class 'sklearn.pipeline.Pipeline'> Score:\t0.61 ± 0.218\n"
     ]
    }
   ],
   "source": [
    "# Estimate the scores after imputation of the missing values\n",
    "X_full, y_full = df[nc], df.hit\n",
    "\n",
    "estimator = Pipeline([(\"imputer\", Imputer(missing_values=0, strategy=\"mean\",axis=0)),\n",
    "                      (\"forest\", DecisionTreeClassifier(class_weight='balanced'))])\n",
    "cross_val(estimator, X_full, y_full)\n",
    "\n",
    "estimator = Pipeline([(\"imputer\", Imputer(missing_values=0, strategy=\"mean\",axis=0)),\n",
    "                      (\"forest\", RandomForestRegressor(random_state=0, n_estimators=100))])\n",
    "cross_val(estimator, X_full, y_full)\n",
    "\n",
    "estimator = Pipeline([(\"imputer\", Imputer(missing_values=0, strategy=\"mean\",axis=0)),\n",
    "                      (\"forest\", bagger)])\n",
    "cross_val(estimator, X_full, y_full)\n",
    "estimator = Pipeline([(\"imputer\", Imputer(missing_values=0, strategy=\"mean\",axis=0)),\n",
    "                      (\"forest\", forest)])\n",
    "cross_val(estimator, X_full, y_full)\n",
    "estimator = Pipeline([(\"imputer\", Imputer(missing_values=0, strategy=\"mean\",axis=0)),\n",
    "                      (\"forest\", trees)])\n",
    "cross_val(estimator, X_full, y_full)\n"
   ]
  },
  {
   "cell_type": "markdown",
   "metadata": {},
   "source": [
    "It is clear that it would be better to drop the missing values"
   ]
  },
  {
   "cell_type": "markdown",
   "metadata": {},
   "source": [
    "I decided to implement boosting to see if it would improve our models"
   ]
  },
  {
   "cell_type": "code",
   "execution_count": 283,
   "metadata": {
    "collapsed": true
   },
   "outputs": [],
   "source": [
    "from sklearn.ensemble import GradientBoostingClassifier, AdaBoostClassifier"
   ]
  },
  {
   "cell_type": "code",
   "execution_count": 256,
   "metadata": {
    "collapsed": false
   },
   "outputs": [
    {
     "name": "stdout",
     "output_type": "stream",
     "text": [
      "<class 'sklearn.ensemble.gradient_boosting.GradientBoostingClassifier'> Score:\t0.827 ± 0.133\n",
      "<class 'sklearn.ensemble.weight_boosting.AdaBoostClassifier'> Score:\t0.851 ± 0.105\n"
     ]
    }
   ],
   "source": [
    "gb = GradientBoostingClassifier()\n",
    "ab = AdaBoostClassifier()\n",
    "cross_val(gb, X_filtered, y_filtered)\n",
    "cross_val(ab, X_filtered, y_filtered)\n"
   ]
  },
  {
   "cell_type": "markdown",
   "metadata": {},
   "source": [
    "It did not improve our model, so we will return to the bagging classifier."
   ]
  },
  {
   "cell_type": "code",
   "execution_count": null,
   "metadata": {
    "collapsed": true
   },
   "outputs": [],
   "source": []
  },
  {
   "cell_type": "markdown",
   "metadata": {},
   "source": [
    "I am curious about logistic modeling considering our model data are not normalized. So I created 2 pipelines, with a scaling preprocessing step and then a bagging decision tree."
   ]
  },
  {
   "cell_type": "code",
   "execution_count": 257,
   "metadata": {
    "collapsed": true
   },
   "outputs": [],
   "source": [
    "from sklearn.preprocessing import RobustScaler\n",
    "from sklearn.pipeline import make_pipeline"
   ]
  },
  {
   "cell_type": "code",
   "execution_count": 258,
   "metadata": {
    "collapsed": false
   },
   "outputs": [
    {
     "name": "stdout",
     "output_type": "stream",
     "text": [
      "<class 'sklearn.pipeline.Pipeline'> Score:\t0.703 ± 0.273\n",
      "<class 'sklearn.pipeline.Pipeline'> Score:\t0.834 ± 0.128\n"
     ]
    }
   ],
   "source": [
    "pipedt = make_pipeline(RobustScaler(),\n",
    "                       DecisionTreeClassifier())\n",
    "cross_val(pipedt, X_filtered, y_filtered)\n",
    "\n",
    "pipebdt = make_pipeline(RobustScaler(),\n",
    "                        BaggingClassifier(DecisionTreeClassifier()))\n",
    "cross_val(pipebdt, X_filtered, y_filtered)"
   ]
  },
  {
   "cell_type": "markdown",
   "metadata": {},
   "source": [
    "The scores are worse than the non-scaled data. So there is no need to pursue normalized data modeling."
   ]
  },
  {
   "cell_type": "markdown",
   "metadata": {},
   "source": [
    "Grid search is a great way to improve the performance of a classifier. I explored the parameter space of both the Decision Tree and Bagging Classifier models to see if I can improve their performance."
   ]
  },
  {
   "cell_type": "code",
   "execution_count": 259,
   "metadata": {
    "collapsed": true
   },
   "outputs": [],
   "source": [
    "from sklearn.grid_search import GridSearchCV"
   ]
  },
  {
   "cell_type": "code",
   "execution_count": 270,
   "metadata": {
    "collapsed": true
   },
   "outputs": [],
   "source": [
    "# Initialize a GridSearchCV with 5-fold cross validation for the Decision Tree Classifier\n",
    "params = {\"max_depth\": [3,5,10,20],\n",
    "          \"max_features\": [None, \"auto\"],\n",
    "          \"min_samples_leaf\": [1, 3, 5, 7, 10],\n",
    "          \"min_samples_split\": [2, 5, 7]\n",
    "         }\n",
    "    \n",
    "\n",
    "gsdt = GridSearchCV(dt, params, n_jobs=-1, cv=5)"
   ]
  },
  {
   "cell_type": "code",
   "execution_count": 271,
   "metadata": {
    "collapsed": false
   },
   "outputs": [
    {
     "data": {
      "text/plain": [
       "GridSearchCV(cv=5, error_score='raise',\n",
       "       estimator=DecisionTreeClassifier(class_weight='balanced', criterion='gini',\n",
       "            max_depth=None, max_features=None, max_leaf_nodes=None,\n",
       "            min_samples_leaf=1, min_samples_split=2,\n",
       "            min_weight_fraction_leaf=0.0, presort=False, random_state=None,\n",
       "            splitter='best'),\n",
       "       fit_params={}, iid=True, n_jobs=-1,\n",
       "       param_grid={'max_features': [None, 'auto'], 'min_samples_split': [2, 5, 7], 'max_depth': [3, 5, 10, 20], 'min_samples_leaf': [1, 3, 5, 7, 10]},\n",
       "       pre_dispatch='2*n_jobs', refit=True, scoring=None, verbose=0)"
      ]
     },
     "execution_count": 271,
     "metadata": {},
     "output_type": "execute_result"
    }
   ],
   "source": [
    "gsdt.fit(X_filtered, y_filtered)"
   ]
  },
  {
   "cell_type": "code",
   "execution_count": 272,
   "metadata": {
    "collapsed": false
   },
   "outputs": [
    {
     "data": {
      "text/plain": [
       "{'max_depth': 20,\n",
       " 'max_features': 'auto',\n",
       " 'min_samples_leaf': 1,\n",
       " 'min_samples_split': 7}"
      ]
     },
     "execution_count": 272,
     "metadata": {},
     "output_type": "execute_result"
    }
   ],
   "source": [
    "# Search for few values of the parameters in order to improve the score of the classifier\n",
    "gsdt.best_params_"
   ]
  },
  {
   "cell_type": "code",
   "execution_count": 273,
   "metadata": {
    "collapsed": false
   },
   "outputs": [
    {
     "data": {
      "text/plain": [
       "0.85030529840456959"
      ]
     },
     "execution_count": 273,
     "metadata": {},
     "output_type": "execute_result"
    }
   ],
   "source": [
    "gsdt.best_score_"
   ]
  },
  {
   "cell_type": "markdown",
   "metadata": {},
   "source": [
    "The best_score_ is not better than before (0.863)."
   ]
  },
  {
   "cell_type": "markdown",
   "metadata": {},
   "source": [
    "Going back to our initial decision tree. Let's look at the most important features."
   ]
  },
  {
   "cell_type": "code",
   "execution_count": 295,
   "metadata": {
    "collapsed": false
   },
   "outputs": [
    {
     "ename": "AttributeError",
     "evalue": "'list' object has no attribute 'create_png'",
     "output_type": "error",
     "traceback": [
      "\u001b[0;31m---------------------------------------------------------------------------\u001b[0m",
      "\u001b[0;31mAttributeError\u001b[0m                            Traceback (most recent call last)",
      "\u001b[0;32m<ipython-input-295-5174f031cc7b>\u001b[0m in \u001b[0;36m<module>\u001b[0;34m()\u001b[0m\n\u001b[1;32m      9\u001b[0m                 special_characters=True)  \n\u001b[1;32m     10\u001b[0m \u001b[0mgraph\u001b[0m \u001b[0;34m=\u001b[0m \u001b[0mpydot\u001b[0m\u001b[0;34m.\u001b[0m\u001b[0mgraph_from_dot_data\u001b[0m\u001b[0;34m(\u001b[0m\u001b[0mdot_data\u001b[0m\u001b[0;34m.\u001b[0m\u001b[0mgetvalue\u001b[0m\u001b[0;34m(\u001b[0m\u001b[0;34m)\u001b[0m\u001b[0;34m)\u001b[0m\u001b[0;34m\u001b[0m\u001b[0m\n\u001b[0;32m---> 11\u001b[0;31m \u001b[0mImage\u001b[0m\u001b[0;34m(\u001b[0m\u001b[0mgraph\u001b[0m\u001b[0;34m.\u001b[0m\u001b[0mcreate_png\u001b[0m\u001b[0;34m(\u001b[0m\u001b[0;34m)\u001b[0m\u001b[0;34m)\u001b[0m\u001b[0;34m\u001b[0m\u001b[0m\n\u001b[0m",
      "\u001b[0;31mAttributeError\u001b[0m: 'list' object has no attribute 'create_png'"
     ]
    }
   ],
   "source": [
    "from IPython.display import Image\n",
    "from sklearn.tree import export_graphviz\n",
    "from sklearn.externals.six import StringIO\n",
    "import pydot\n",
    "dot_data = StringIO()  \n",
    "export_graphviz(treeclf, out_file=dot_data,  \n",
    "                feature_names=feature_cols,  \n",
    "                filled=True, rounded=True,  \n",
    "                special_characters=True)  \n",
    "graph = pydot.graph_from_dot_data(dot_data.getvalue())\n",
    "Image(graph.create_png())"
   ]
  },
  {
   "cell_type": "code",
   "execution_count": 274,
   "metadata": {
    "collapsed": false
   },
   "outputs": [
    {
     "data": {
      "text/plain": [
       "{'base_estimator': DecisionTreeClassifier(class_weight='balanced', criterion='gini',\n",
       "             max_depth=None, max_features=None, max_leaf_nodes=None,\n",
       "             min_samples_leaf=1, min_samples_split=2,\n",
       "             min_weight_fraction_leaf=0.0, presort=False, random_state=None,\n",
       "             splitter='best'),\n",
       " 'base_estimator__class_weight': 'balanced',\n",
       " 'base_estimator__criterion': 'gini',\n",
       " 'base_estimator__max_depth': None,\n",
       " 'base_estimator__max_features': None,\n",
       " 'base_estimator__max_leaf_nodes': None,\n",
       " 'base_estimator__min_samples_leaf': 1,\n",
       " 'base_estimator__min_samples_split': 2,\n",
       " 'base_estimator__min_weight_fraction_leaf': 0.0,\n",
       " 'base_estimator__presort': False,\n",
       " 'base_estimator__random_state': None,\n",
       " 'base_estimator__splitter': 'best',\n",
       " 'bootstrap': True,\n",
       " 'bootstrap_features': False,\n",
       " 'max_features': 1.0,\n",
       " 'max_samples': 1.0,\n",
       " 'n_estimators': 10,\n",
       " 'n_jobs': 1,\n",
       " 'oob_score': False,\n",
       " 'random_state': None,\n",
       " 'verbose': 0,\n",
       " 'warm_start': False}"
      ]
     },
     "execution_count": 274,
     "metadata": {},
     "output_type": "execute_result"
    }
   ],
   "source": [
    "bagger.get_params()"
   ]
  },
  {
   "cell_type": "code",
   "execution_count": 277,
   "metadata": {
    "collapsed": false
   },
   "outputs": [],
   "source": [
    "# I initialized a GridSearchCV with 5-fold cross validation for the Bagging Decision Tree Classifier\n",
    "# and repeated the search\n",
    "params = {\"base_estimator__max_depth\": [3,5,10,20],\n",
    "          \"base_estimator__max_features\": [None, \"auto\"],\n",
    "          \"base_estimator__min_samples_leaf\": [1, 3, 5, 7, 10],\n",
    "          \"base_estimator__min_samples_split\": [2, 5, 7],\n",
    "          'bootstrap_features': [False, True],\n",
    "          'max_features': [0.5, 0.7, 1.0],\n",
    "          'max_samples': [0.5, 0.7, 1.0],\n",
    "          'n_estimators': [2, 5, 10, 20],\n",
    "         }\n",
    "    \n",
    "\n",
    "gsbdt = GridSearchCV(bagger, params, n_jobs=-1, cv=5)"
   ]
  },
  {
   "cell_type": "code",
   "execution_count": 280,
   "metadata": {
    "collapsed": false
   },
   "outputs": [
    {
     "data": {
      "text/plain": [
       "GridSearchCV(cv=5, error_score='raise',\n",
       "       estimator=BaggingClassifier(base_estimator=DecisionTreeClassifier(class_weight='balanced', criterion='gini',\n",
       "            max_depth=None, max_features=None, max_leaf_nodes=None,\n",
       "            min_samples_leaf=1, min_samples_split=2,\n",
       "            min_weight_fraction_leaf=0.0, presort=False, random_state=...n_estimators=10, n_jobs=1, oob_score=False,\n",
       "         random_state=None, verbose=0, warm_start=False),\n",
       "       fit_params={}, iid=True, n_jobs=-1,\n",
       "       param_grid={'n_estimators': [2, 5, 10, 20], 'max_samples': [0.5, 0.7, 1.0], 'base_estimator__min_samples_split': [2, 5, 7], 'base_estimator__max_depth': [3, 5, 10, 20], 'bootstrap_features': [False, True], 'max_features': [0.5, 0.7, 1.0], 'base_estimator__min_samples_leaf': [1, 3, 5, 7, 10], 'base_estimator__max_features': [None, 'auto']},\n",
       "       pre_dispatch='2*n_jobs', refit=True, scoring=None, verbose=0)"
      ]
     },
     "execution_count": 280,
     "metadata": {},
     "output_type": "execute_result"
    }
   ],
   "source": [
    "gsbdt.fit(X_filtered, y_filtered)"
   ]
  },
  {
   "cell_type": "code",
   "execution_count": 281,
   "metadata": {
    "collapsed": false
   },
   "outputs": [
    {
     "data": {
      "text/plain": [
       "{'base_estimator__max_depth': 20,\n",
       " 'base_estimator__max_features': 'auto',\n",
       " 'base_estimator__min_samples_leaf': 1,\n",
       " 'base_estimator__min_samples_split': 2,\n",
       " 'bootstrap_features': False,\n",
       " 'max_features': 0.7,\n",
       " 'max_samples': 1.0,\n",
       " 'n_estimators': 2}"
      ]
     },
     "execution_count": 281,
     "metadata": {},
     "output_type": "execute_result"
    }
   ],
   "source": [
    "gsbdt.best_params_"
   ]
  },
  {
   "cell_type": "code",
   "execution_count": 282,
   "metadata": {
    "collapsed": false
   },
   "outputs": [
    {
     "data": {
      "text/plain": [
       "0.93480401812093761"
      ]
     },
     "execution_count": 282,
     "metadata": {},
     "output_type": "execute_result"
    }
   ],
   "source": [
    "gsbdt.best_score_"
   ]
  },
  {
   "cell_type": "markdown",
   "metadata": {},
   "source": [
    "The grid search bagging classifier is the best score"
   ]
  },
  {
   "cell_type": "code",
   "execution_count": 329,
   "metadata": {
    "collapsed": false
   },
   "outputs": [
    {
     "name": "stdout",
     "output_type": "stream",
     "text": [
      "Knn Score:\t0.931885728569\n",
      "Bagging Score:\t0.933265232859\n"
     ]
    }
   ],
   "source": [
    "from sklearn.neighbors import KNeighborsClassifier\n",
    "\n",
    "knn_clf = KNeighborsClassifier()\n",
    "bagger_clf = BaggingClassifier(knn_clf)\n",
    "\n",
    "print \"Knn Score:\\t\", cross_val_score(knn_clf, X_filtered, y_filtered, cv=10, n_jobs=-1).mean()\n",
    "print \"Bagging Score:\\t\", cross_val_score(bagger_clf, X_filtered, y_filtered, cv=10, n_jobs=-1).mean()"
   ]
  },
  {
   "cell_type": "code",
   "execution_count": 331,
   "metadata": {
    "collapsed": false
   },
   "outputs": [],
   "source": [
    "# I initialized a GridSearchCV with 5-fold cross validation for the Bagging KNN Classifier\n",
    "# and repeated the search\n",
    "params = {\"base_estimator__max_depth\": [3,5,10,20],\n",
    "          \"base_estimator__max_features\": [None, \"auto\"],\n",
    "          \"base_estimator__min_samples_leaf\": [1, 3, 5, 7, 10],\n",
    "          \"base_estimator__min_samples_split\": [2, 5, 7],\n",
    "          'bootstrap_features': [False, True],\n",
    "          'max_features': [0.5, 0.7, 1.0],\n",
    "          'max_samples': [0.5, 0.7, 1.0],\n",
    "          'n_estimators': [2, 5, 10, 20],\n",
    "         }\n",
    "\n",
    "gsbknn = GridSearchCV(bagger_clf, params, n_jobs=-1, cv=5)"
   ]
  },
  {
   "cell_type": "code",
   "execution_count": 332,
   "metadata": {
    "collapsed": false
   },
   "outputs": [
    {
     "ename": "JoblibValueError",
     "evalue": "JoblibValueError\n___________________________________________________________________________\nMultiprocessing exception:\n...........................................................................\n/Users/Amer/anaconda/lib/python2.7/runpy.py in _run_module_as_main(mod_name='ipykernel.__main__', alter_argv=1)\n    169     pkg_name = mod_name.rpartition('.')[0]\n    170     main_globals = sys.modules[\"__main__\"].__dict__\n    171     if alter_argv:\n    172         sys.argv[0] = fname\n    173     return _run_code(code, main_globals, None,\n--> 174                      \"__main__\", fname, loader, pkg_name)\n        fname = '/Users/Amer/anaconda/lib/python2.7/site-packages/ipykernel/__main__.py'\n        loader = <pkgutil.ImpLoader instance>\n        pkg_name = 'ipykernel'\n    175 \n    176 def run_module(mod_name, init_globals=None,\n    177                run_name=None, alter_sys=False):\n    178     \"\"\"Execute a module's code without importing it\n\n...........................................................................\n/Users/Amer/anaconda/lib/python2.7/runpy.py in _run_code(code=<code object <module> at 0x1007cf1b0, file \"/Use...2.7/site-packages/ipykernel/__main__.py\", line 1>, run_globals={'__builtins__': <module '__builtin__' (built-in)>, '__doc__': None, '__file__': '/Users/Amer/anaconda/lib/python2.7/site-packages/ipykernel/__main__.py', '__loader__': <pkgutil.ImpLoader instance>, '__name__': '__main__', '__package__': 'ipykernel', 'app': <module 'ipykernel.kernelapp' from '/Users/Amer/...python2.7/site-packages/ipykernel/kernelapp.pyc'>}, init_globals=None, mod_name='__main__', mod_fname='/Users/Amer/anaconda/lib/python2.7/site-packages/ipykernel/__main__.py', mod_loader=<pkgutil.ImpLoader instance>, pkg_name='ipykernel')\n     67         run_globals.update(init_globals)\n     68     run_globals.update(__name__ = mod_name,\n     69                        __file__ = mod_fname,\n     70                        __loader__ = mod_loader,\n     71                        __package__ = pkg_name)\n---> 72     exec code in run_globals\n        code = <code object <module> at 0x1007cf1b0, file \"/Use...2.7/site-packages/ipykernel/__main__.py\", line 1>\n        run_globals = {'__builtins__': <module '__builtin__' (built-in)>, '__doc__': None, '__file__': '/Users/Amer/anaconda/lib/python2.7/site-packages/ipykernel/__main__.py', '__loader__': <pkgutil.ImpLoader instance>, '__name__': '__main__', '__package__': 'ipykernel', 'app': <module 'ipykernel.kernelapp' from '/Users/Amer/...python2.7/site-packages/ipykernel/kernelapp.pyc'>}\n     73     return run_globals\n     74 \n     75 def _run_module_code(code, init_globals=None,\n     76                     mod_name=None, mod_fname=None,\n\n...........................................................................\n/Users/Amer/anaconda/lib/python2.7/site-packages/ipykernel/__main__.py in <module>()\n      1 \n      2 \n----> 3 \n      4 if __name__ == '__main__':\n      5     from ipykernel import kernelapp as app\n      6     app.launch_new_instance()\n      7 \n      8 \n      9 \n     10 \n\n...........................................................................\n/Users/Amer/anaconda/lib/python2.7/site-packages/traitlets/config/application.py in launch_instance(cls=<class 'ipykernel.kernelapp.IPKernelApp'>, argv=None, **kwargs={})\n    591         \n    592         If a global instance already exists, this reinitializes and starts it\n    593         \"\"\"\n    594         app = cls.instance(**kwargs)\n    595         app.initialize(argv)\n--> 596         app.start()\n        app.start = <bound method IPKernelApp.start of <ipykernel.kernelapp.IPKernelApp object>>\n    597 \n    598 #-----------------------------------------------------------------------------\n    599 # utility functions, for convenience\n    600 #-----------------------------------------------------------------------------\n\n...........................................................................\n/Users/Amer/anaconda/lib/python2.7/site-packages/ipykernel/kernelapp.py in start(self=<ipykernel.kernelapp.IPKernelApp object>)\n    437         \n    438         if self.poller is not None:\n    439             self.poller.start()\n    440         self.kernel.start()\n    441         try:\n--> 442             ioloop.IOLoop.instance().start()\n    443         except KeyboardInterrupt:\n    444             pass\n    445 \n    446 launch_new_instance = IPKernelApp.launch_instance\n\n...........................................................................\n/Users/Amer/anaconda/lib/python2.7/site-packages/zmq/eventloop/ioloop.py in start(self=<zmq.eventloop.ioloop.ZMQIOLoop object>)\n    157             PollIOLoop.configure(ZMQIOLoop)\n    158         return PollIOLoop.current(*args, **kwargs)\n    159     \n    160     def start(self):\n    161         try:\n--> 162             super(ZMQIOLoop, self).start()\n        self.start = <bound method ZMQIOLoop.start of <zmq.eventloop.ioloop.ZMQIOLoop object>>\n    163         except ZMQError as e:\n    164             if e.errno == ETERM:\n    165                 # quietly return on ETERM\n    166                 pass\n\n...........................................................................\n/Users/Amer/anaconda/lib/python2.7/site-packages/tornado/ioloop.py in start(self=<zmq.eventloop.ioloop.ZMQIOLoop object>)\n    878                 self._events.update(event_pairs)\n    879                 while self._events:\n    880                     fd, events = self._events.popitem()\n    881                     try:\n    882                         fd_obj, handler_func = self._handlers[fd]\n--> 883                         handler_func(fd_obj, events)\n        handler_func = <function null_wrapper>\n        fd_obj = <zmq.sugar.socket.Socket object>\n        events = 1\n    884                     except (OSError, IOError) as e:\n    885                         if errno_from_exception(e) == errno.EPIPE:\n    886                             # Happens when the client closes the connection\n    887                             pass\n\n...........................................................................\n/Users/Amer/anaconda/lib/python2.7/site-packages/tornado/stack_context.py in null_wrapper(*args=(<zmq.sugar.socket.Socket object>, 1), **kwargs={})\n    270         # Fast path when there are no active contexts.\n    271         def null_wrapper(*args, **kwargs):\n    272             try:\n    273                 current_state = _state.contexts\n    274                 _state.contexts = cap_contexts[0]\n--> 275                 return fn(*args, **kwargs)\n        args = (<zmq.sugar.socket.Socket object>, 1)\n        kwargs = {}\n    276             finally:\n    277                 _state.contexts = current_state\n    278         null_wrapper._wrapped = True\n    279         return null_wrapper\n\n...........................................................................\n/Users/Amer/anaconda/lib/python2.7/site-packages/zmq/eventloop/zmqstream.py in _handle_events(self=<zmq.eventloop.zmqstream.ZMQStream object>, fd=<zmq.sugar.socket.Socket object>, events=1)\n    435             # dispatch events:\n    436             if events & IOLoop.ERROR:\n    437                 gen_log.error(\"got POLLERR event on ZMQStream, which doesn't make sense\")\n    438                 return\n    439             if events & IOLoop.READ:\n--> 440                 self._handle_recv()\n        self._handle_recv = <bound method ZMQStream._handle_recv of <zmq.eventloop.zmqstream.ZMQStream object>>\n    441                 if not self.socket:\n    442                     return\n    443             if events & IOLoop.WRITE:\n    444                 self._handle_send()\n\n...........................................................................\n/Users/Amer/anaconda/lib/python2.7/site-packages/zmq/eventloop/zmqstream.py in _handle_recv(self=<zmq.eventloop.zmqstream.ZMQStream object>)\n    467                 gen_log.error(\"RECV Error: %s\"%zmq.strerror(e.errno))\n    468         else:\n    469             if self._recv_callback:\n    470                 callback = self._recv_callback\n    471                 # self._recv_callback = None\n--> 472                 self._run_callback(callback, msg)\n        self._run_callback = <bound method ZMQStream._run_callback of <zmq.eventloop.zmqstream.ZMQStream object>>\n        callback = <function null_wrapper>\n        msg = [<zmq.sugar.frame.Frame object>, <zmq.sugar.frame.Frame object>, <zmq.sugar.frame.Frame object>, <zmq.sugar.frame.Frame object>, <zmq.sugar.frame.Frame object>, <zmq.sugar.frame.Frame object>, <zmq.sugar.frame.Frame object>]\n    473                 \n    474         # self.update_state()\n    475         \n    476 \n\n...........................................................................\n/Users/Amer/anaconda/lib/python2.7/site-packages/zmq/eventloop/zmqstream.py in _run_callback(self=<zmq.eventloop.zmqstream.ZMQStream object>, callback=<function null_wrapper>, *args=([<zmq.sugar.frame.Frame object>, <zmq.sugar.frame.Frame object>, <zmq.sugar.frame.Frame object>, <zmq.sugar.frame.Frame object>, <zmq.sugar.frame.Frame object>, <zmq.sugar.frame.Frame object>, <zmq.sugar.frame.Frame object>],), **kwargs={})\n    409         close our socket.\"\"\"\n    410         try:\n    411             # Use a NullContext to ensure that all StackContexts are run\n    412             # inside our blanket exception handler rather than outside.\n    413             with stack_context.NullContext():\n--> 414                 callback(*args, **kwargs)\n        callback = <function null_wrapper>\n        args = ([<zmq.sugar.frame.Frame object>, <zmq.sugar.frame.Frame object>, <zmq.sugar.frame.Frame object>, <zmq.sugar.frame.Frame object>, <zmq.sugar.frame.Frame object>, <zmq.sugar.frame.Frame object>, <zmq.sugar.frame.Frame object>],)\n        kwargs = {}\n    415         except:\n    416             gen_log.error(\"Uncaught exception, closing connection.\",\n    417                           exc_info=True)\n    418             # Close the socket on an uncaught exception from a user callback\n\n...........................................................................\n/Users/Amer/anaconda/lib/python2.7/site-packages/tornado/stack_context.py in null_wrapper(*args=([<zmq.sugar.frame.Frame object>, <zmq.sugar.frame.Frame object>, <zmq.sugar.frame.Frame object>, <zmq.sugar.frame.Frame object>, <zmq.sugar.frame.Frame object>, <zmq.sugar.frame.Frame object>, <zmq.sugar.frame.Frame object>],), **kwargs={})\n    270         # Fast path when there are no active contexts.\n    271         def null_wrapper(*args, **kwargs):\n    272             try:\n    273                 current_state = _state.contexts\n    274                 _state.contexts = cap_contexts[0]\n--> 275                 return fn(*args, **kwargs)\n        args = ([<zmq.sugar.frame.Frame object>, <zmq.sugar.frame.Frame object>, <zmq.sugar.frame.Frame object>, <zmq.sugar.frame.Frame object>, <zmq.sugar.frame.Frame object>, <zmq.sugar.frame.Frame object>, <zmq.sugar.frame.Frame object>],)\n        kwargs = {}\n    276             finally:\n    277                 _state.contexts = current_state\n    278         null_wrapper._wrapped = True\n    279         return null_wrapper\n\n...........................................................................\n/Users/Amer/anaconda/lib/python2.7/site-packages/ipykernel/kernelbase.py in dispatcher(msg=[<zmq.sugar.frame.Frame object>, <zmq.sugar.frame.Frame object>, <zmq.sugar.frame.Frame object>, <zmq.sugar.frame.Frame object>, <zmq.sugar.frame.Frame object>, <zmq.sugar.frame.Frame object>, <zmq.sugar.frame.Frame object>])\n    271         if self.control_stream:\n    272             self.control_stream.on_recv(self.dispatch_control, copy=False)\n    273 \n    274         def make_dispatcher(stream):\n    275             def dispatcher(msg):\n--> 276                 return self.dispatch_shell(stream, msg)\n        msg = [<zmq.sugar.frame.Frame object>, <zmq.sugar.frame.Frame object>, <zmq.sugar.frame.Frame object>, <zmq.sugar.frame.Frame object>, <zmq.sugar.frame.Frame object>, <zmq.sugar.frame.Frame object>, <zmq.sugar.frame.Frame object>]\n    277             return dispatcher\n    278 \n    279         for s in self.shell_streams:\n    280             s.on_recv(make_dispatcher(s), copy=False)\n\n...........................................................................\n/Users/Amer/anaconda/lib/python2.7/site-packages/ipykernel/kernelbase.py in dispatch_shell(self=<ipykernel.ipkernel.IPythonKernel object>, stream=<zmq.eventloop.zmqstream.ZMQStream object>, msg={'buffers': [], 'content': {u'allow_stdin': True, u'code': u'gsbknn.fit(X_filtered, y_filtered)', u'silent': False, u'stop_on_error': True, u'store_history': True, u'user_expressions': {}}, 'header': {'date': '2016-11-02T12:36:05.008999', u'msg_id': u'2D46D038B695439E8D8B0A7D8D2C2524', u'msg_type': u'execute_request', u'session': u'97319A95123E4A9288162890901AD5C8', u'username': u'username', u'version': u'5.0'}, 'metadata': {}, 'msg_id': u'2D46D038B695439E8D8B0A7D8D2C2524', 'msg_type': u'execute_request', 'parent_header': {}})\n    223             self.log.error(\"UNKNOWN MESSAGE TYPE: %r\", msg_type)\n    224         else:\n    225             self.log.debug(\"%s: %s\", msg_type, msg)\n    226             self.pre_handler_hook()\n    227             try:\n--> 228                 handler(stream, idents, msg)\n        handler = <bound method IPythonKernel.execute_request of <ipykernel.ipkernel.IPythonKernel object>>\n        stream = <zmq.eventloop.zmqstream.ZMQStream object>\n        idents = ['97319A95123E4A9288162890901AD5C8']\n        msg = {'buffers': [], 'content': {u'allow_stdin': True, u'code': u'gsbknn.fit(X_filtered, y_filtered)', u'silent': False, u'stop_on_error': True, u'store_history': True, u'user_expressions': {}}, 'header': {'date': '2016-11-02T12:36:05.008999', u'msg_id': u'2D46D038B695439E8D8B0A7D8D2C2524', u'msg_type': u'execute_request', u'session': u'97319A95123E4A9288162890901AD5C8', u'username': u'username', u'version': u'5.0'}, 'metadata': {}, 'msg_id': u'2D46D038B695439E8D8B0A7D8D2C2524', 'msg_type': u'execute_request', 'parent_header': {}}\n    229             except Exception:\n    230                 self.log.error(\"Exception in message handler:\", exc_info=True)\n    231             finally:\n    232                 self.post_handler_hook()\n\n...........................................................................\n/Users/Amer/anaconda/lib/python2.7/site-packages/ipykernel/kernelbase.py in execute_request(self=<ipykernel.ipkernel.IPythonKernel object>, stream=<zmq.eventloop.zmqstream.ZMQStream object>, ident=['97319A95123E4A9288162890901AD5C8'], parent={'buffers': [], 'content': {u'allow_stdin': True, u'code': u'gsbknn.fit(X_filtered, y_filtered)', u'silent': False, u'stop_on_error': True, u'store_history': True, u'user_expressions': {}}, 'header': {'date': '2016-11-02T12:36:05.008999', u'msg_id': u'2D46D038B695439E8D8B0A7D8D2C2524', u'msg_type': u'execute_request', u'session': u'97319A95123E4A9288162890901AD5C8', u'username': u'username', u'version': u'5.0'}, 'metadata': {}, 'msg_id': u'2D46D038B695439E8D8B0A7D8D2C2524', 'msg_type': u'execute_request', 'parent_header': {}})\n    386         if not silent:\n    387             self.execution_count += 1\n    388             self._publish_execute_input(code, parent, self.execution_count)\n    389 \n    390         reply_content = self.do_execute(code, silent, store_history,\n--> 391                                         user_expressions, allow_stdin)\n        user_expressions = {}\n        allow_stdin = True\n    392 \n    393         # Flush output before sending the reply.\n    394         sys.stdout.flush()\n    395         sys.stderr.flush()\n\n...........................................................................\n/Users/Amer/anaconda/lib/python2.7/site-packages/ipykernel/ipkernel.py in do_execute(self=<ipykernel.ipkernel.IPythonKernel object>, code=u'gsbknn.fit(X_filtered, y_filtered)', silent=False, store_history=True, user_expressions={}, allow_stdin=True)\n    194 \n    195         reply_content = {}\n    196         # FIXME: the shell calls the exception handler itself.\n    197         shell._reply_content = None\n    198         try:\n--> 199             shell.run_cell(code, store_history=store_history, silent=silent)\n        shell.run_cell = <bound method ZMQInteractiveShell.run_cell of <ipykernel.zmqshell.ZMQInteractiveShell object>>\n        code = u'gsbknn.fit(X_filtered, y_filtered)'\n        store_history = True\n        silent = False\n    200         except:\n    201             status = u'error'\n    202             # FIXME: this code right now isn't being used yet by default,\n    203             # because the run_cell() call above directly fires off exception\n\n...........................................................................\n/Users/Amer/anaconda/lib/python2.7/site-packages/IPython/core/interactiveshell.py in run_cell(self=<ipykernel.zmqshell.ZMQInteractiveShell object>, raw_cell=u'gsbknn.fit(X_filtered, y_filtered)', store_history=True, silent=False, shell_futures=True)\n   2718                 self.displayhook.exec_result = result\n   2719 \n   2720                 # Execute the user code\n   2721                 interactivity = \"none\" if silent else self.ast_node_interactivity\n   2722                 self.run_ast_nodes(code_ast.body, cell_name,\n-> 2723                    interactivity=interactivity, compiler=compiler, result=result)\n        interactivity = 'last_expr'\n        compiler = <IPython.core.compilerop.CachingCompiler instance>\n   2724 \n   2725                 # Reset this so later displayed values do not modify the\n   2726                 # ExecutionResult\n   2727                 self.displayhook.exec_result = None\n\n...........................................................................\n/Users/Amer/anaconda/lib/python2.7/site-packages/IPython/core/interactiveshell.py in run_ast_nodes(self=<ipykernel.zmqshell.ZMQInteractiveShell object>, nodelist=[<_ast.Expr object>], cell_name='<ipython-input-332-fe133af1b14f>', interactivity='last', compiler=<IPython.core.compilerop.CachingCompiler instance>, result=<IPython.core.interactiveshell.ExecutionResult object>)\n   2826                     return True\n   2827 \n   2828             for i, node in enumerate(to_run_interactive):\n   2829                 mod = ast.Interactive([node])\n   2830                 code = compiler(mod, cell_name, \"single\")\n-> 2831                 if self.run_code(code, result):\n        self.run_code = <bound method ZMQInteractiveShell.run_code of <ipykernel.zmqshell.ZMQInteractiveShell object>>\n        code = <code object <module> at 0x11acf23b0, file \"<ipython-input-332-fe133af1b14f>\", line 1>\n        result = <IPython.core.interactiveshell.ExecutionResult object>\n   2832                     return True\n   2833 \n   2834             # Flush softspace\n   2835             if softspace(sys.stdout, 0):\n\n...........................................................................\n/Users/Amer/anaconda/lib/python2.7/site-packages/IPython/core/interactiveshell.py in run_code(self=<ipykernel.zmqshell.ZMQInteractiveShell object>, code_obj=<code object <module> at 0x11acf23b0, file \"<ipython-input-332-fe133af1b14f>\", line 1>, result=<IPython.core.interactiveshell.ExecutionResult object>)\n   2880         outflag = 1  # happens in more places, so it's easier as default\n   2881         try:\n   2882             try:\n   2883                 self.hooks.pre_run_code_hook()\n   2884                 #rprint('Running code', repr(code_obj)) # dbg\n-> 2885                 exec(code_obj, self.user_global_ns, self.user_ns)\n        code_obj = <code object <module> at 0x11acf23b0, file \"<ipython-input-332-fe133af1b14f>\", line 1>\n        self.user_global_ns = {'AdaBoostClassifier': <class 'sklearn.ensemble.weight_boosting.AdaBoostClassifier'>, 'BaggingClassifier': <class 'sklearn.ensemble.bagging.BaggingClassifier'>, 'BeautifulSoup': <class 'bs4.BeautifulSoup'>, 'DecisionTreeClassifier': <class 'sklearn.tree.tree.DecisionTreeClassifier'>, 'ExtraTreesClassifier': <class 'sklearn.ensemble.forest.ExtraTreesClassifier'>, 'GradientBoostingClassifier': <class 'sklearn.ensemble.gradient_boosting.GradientBoostingClassifier'>, 'GridSearchCV': <class 'sklearn.grid_search.GridSearchCV'>, 'Image': <class 'IPython.core.display.Image'>, 'Imputer': <class 'sklearn.preprocessing.imputation.Imputer'>, 'In': ['', u\"import numpy as np\\nimport pandas as pd\\nimpor...lib\\n\\nget_ipython().magic(u'matplotlib inline')\", u'def get_list(num=201):\\n    out = []\\n    skip...  skip.append(i)\\n    print skip\\n    return out', u'top_10000 = get_list()\\nlen(top_10000)', u'def get_list(num=201):\\n    out = []\\n    skip...  skip.append(i)\\n    print skip\\n    return out', u'top_10000 = get_list()\\nlen(top_10000)', u'def get_list(num=201):\\n    out = []\\n    skip...  skip.append(i)\\n    print skip\\n    return out', u'top_10000 = get_list()\\nlen(top_10000)', u'top_10000.head(150)', u'top_10000[1:10]', u'top_10000[1:150]', u'# Rather than rerunning the entire function I ...  skip.append(i)\\n    print skip\\n    return out', u'skipped_pages = [7, 18, 20, 39, 64, 73, 81, 86...91, 198, 200]\\nskipped = get_list(skipped_pages)', u'skipped_pages = [7, 18, 20, 39, 64, 73, 81, 86...91, 198, 200]\\nskipped = get_list(skipped_pages)', u'skipped_pages = [7, 18, 20, 39, 64, 73, 81, 86...91, 198, 200]\\nskipped = get_list(skipped_pages)', u'top_10000 = top_10000 + skipped', u\"# cache result to avoid reloading\\nmyfile = op..., quoting=csv.QUOTE_ALL)\\nwr.writerow(top_10000)\", u'df = pd.DataFrame(top_10000)\\ndf.head()', u'df.describe', u'df.describe()', ...], ...}\n        self.user_ns = {'AdaBoostClassifier': <class 'sklearn.ensemble.weight_boosting.AdaBoostClassifier'>, 'BaggingClassifier': <class 'sklearn.ensemble.bagging.BaggingClassifier'>, 'BeautifulSoup': <class 'bs4.BeautifulSoup'>, 'DecisionTreeClassifier': <class 'sklearn.tree.tree.DecisionTreeClassifier'>, 'ExtraTreesClassifier': <class 'sklearn.ensemble.forest.ExtraTreesClassifier'>, 'GradientBoostingClassifier': <class 'sklearn.ensemble.gradient_boosting.GradientBoostingClassifier'>, 'GridSearchCV': <class 'sklearn.grid_search.GridSearchCV'>, 'Image': <class 'IPython.core.display.Image'>, 'Imputer': <class 'sklearn.preprocessing.imputation.Imputer'>, 'In': ['', u\"import numpy as np\\nimport pandas as pd\\nimpor...lib\\n\\nget_ipython().magic(u'matplotlib inline')\", u'def get_list(num=201):\\n    out = []\\n    skip...  skip.append(i)\\n    print skip\\n    return out', u'top_10000 = get_list()\\nlen(top_10000)', u'def get_list(num=201):\\n    out = []\\n    skip...  skip.append(i)\\n    print skip\\n    return out', u'top_10000 = get_list()\\nlen(top_10000)', u'def get_list(num=201):\\n    out = []\\n    skip...  skip.append(i)\\n    print skip\\n    return out', u'top_10000 = get_list()\\nlen(top_10000)', u'top_10000.head(150)', u'top_10000[1:10]', u'top_10000[1:150]', u'# Rather than rerunning the entire function I ...  skip.append(i)\\n    print skip\\n    return out', u'skipped_pages = [7, 18, 20, 39, 64, 73, 81, 86...91, 198, 200]\\nskipped = get_list(skipped_pages)', u'skipped_pages = [7, 18, 20, 39, 64, 73, 81, 86...91, 198, 200]\\nskipped = get_list(skipped_pages)', u'skipped_pages = [7, 18, 20, 39, 64, 73, 81, 86...91, 198, 200]\\nskipped = get_list(skipped_pages)', u'top_10000 = top_10000 + skipped', u\"# cache result to avoid reloading\\nmyfile = op..., quoting=csv.QUOTE_ALL)\\nwr.writerow(top_10000)\", u'df = pd.DataFrame(top_10000)\\ndf.head()', u'df.describe', u'df.describe()', ...], ...}\n   2886             finally:\n   2887                 # Reset our crash handler in place\n   2888                 sys.excepthook = old_excepthook\n   2889         except SystemExit as e:\n\n...........................................................................\n/Users/Amer/Sites/GA/GA-DSI/projects/projects-weekly/project-06/<ipython-input-332-fe133af1b14f> in <module>()\n----> 1 \n      2 \n      3 \n      4 \n      5 \n      6 gsbknn.fit(X_filtered, y_filtered)\n      7 \n      8 \n      9 \n     10 \n\n...........................................................................\n/Users/Amer/anaconda/lib/python2.7/site-packages/sklearn/grid_search.py in fit(self=GridSearchCV(cv=5, error_score='raise',\n       e...='2*n_jobs', refit=True, scoring=None, verbose=0), X=            gross    metascore  runtime    votes...             93    19997\n\n[5077 rows x 4 columns], y=0       1\n1       1\n2       1\n3       1\n4       ...    0\n9895    0\n9898    0\nName: hit, dtype: int64)\n    799         y : array-like, shape = [n_samples] or [n_samples, n_output], optional\n    800             Target relative to X for classification or regression;\n    801             None for unsupervised learning.\n    802 \n    803         \"\"\"\n--> 804         return self._fit(X, y, ParameterGrid(self.param_grid))\n        self._fit = <bound method GridSearchCV._fit of GridSearchCV(...'2*n_jobs', refit=True, scoring=None, verbose=0)>\n        X =             gross    metascore  runtime    votes...             93    19997\n\n[5077 rows x 4 columns]\n        y = 0       1\n1       1\n2       1\n3       1\n4       ...    0\n9895    0\n9898    0\nName: hit, dtype: int64\n        self.param_grid = {'base_estimator__max_depth': [3, 5, 10, 20], 'base_estimator__max_features': [None, 'auto'], 'base_estimator__min_samples_leaf': [1, 3, 5, 7, 10], 'base_estimator__min_samples_split': [2, 5, 7], 'bootstrap_features': [False, True], 'max_features': [0.5, 0.7, 1.0], 'max_samples': [0.5, 0.7, 1.0], 'n_estimators': [2, 5, 10, 20]}\n    805 \n    806 \n    807 class RandomizedSearchCV(BaseSearchCV):\n    808     \"\"\"Randomized search on hyper parameters.\n\n...........................................................................\n/Users/Amer/anaconda/lib/python2.7/site-packages/sklearn/grid_search.py in _fit(self=GridSearchCV(cv=5, error_score='raise',\n       e...='2*n_jobs', refit=True, scoring=None, verbose=0), X=            gross    metascore  runtime    votes...             93    19997\n\n[5077 rows x 4 columns], y=0       1\n1       1\n2       1\n3       1\n4       ...    0\n9895    0\n9898    0\nName: hit, dtype: int64, parameter_iterable=<sklearn.grid_search.ParameterGrid object>)\n    548         )(\n    549             delayed(_fit_and_score)(clone(base_estimator), X, y, self.scorer_,\n    550                                     train, test, self.verbose, parameters,\n    551                                     self.fit_params, return_parameters=True,\n    552                                     error_score=self.error_score)\n--> 553                 for parameters in parameter_iterable\n        parameters = undefined\n        parameter_iterable = <sklearn.grid_search.ParameterGrid object>\n    554                 for train, test in cv)\n    555 \n    556         # Out is a list of triplet: score, estimator, n_test_samples\n    557         n_fits = len(out)\n\n...........................................................................\n/Users/Amer/anaconda/lib/python2.7/site-packages/sklearn/externals/joblib/parallel.py in __call__(self=Parallel(n_jobs=-1), iterable=<generator object <genexpr>>)\n    805             if pre_dispatch == \"all\" or n_jobs == 1:\n    806                 # The iterable was consumed all at once by the above for loop.\n    807                 # No need to wait for async callbacks to trigger to\n    808                 # consumption.\n    809                 self._iterating = False\n--> 810             self.retrieve()\n        self.retrieve = <bound method Parallel.retrieve of Parallel(n_jobs=-1)>\n    811             # Make sure that we get a last message telling us we are done\n    812             elapsed_time = time.time() - self._start_time\n    813             self._print('Done %3i out of %3i | elapsed: %s finished',\n    814                         (len(self._output), len(self._output),\n\n---------------------------------------------------------------------------\nSub-process traceback:\n---------------------------------------------------------------------------\nValueError                                         Wed Nov  2 12:36:05 2016\nPID: 18997                   Python 2.7.12: /Users/Amer/anaconda/bin/python\n...........................................................................\n/Users/Amer/anaconda/lib/python2.7/site-packages/sklearn/externals/joblib/parallel.py in __call__(self=<sklearn.externals.joblib.parallel.BatchedCalls object>)\n     67     def __init__(self, iterator_slice):\n     68         self.items = list(iterator_slice)\n     69         self._size = len(self.items)\n     70 \n     71     def __call__(self):\n---> 72         return [func(*args, **kwargs) for func, args, kwargs in self.items]\n        func = <function _fit_and_score>\n        args = (BaggingClassifier(base_estimator=KNeighborsClass...  random_state=None, verbose=0, warm_start=False),             gross    metascore  runtime    votes...             93    19997\n\n[5077 rows x 4 columns], 0       1\n1       1\n2       1\n3       1\n4       ...    0\n9895    0\n9898    0\nName: hit, dtype: int64, <function _passthrough_scorer>, array([  58,   59,   61, ..., 5074, 5075, 5076]), array([   0,    1,    2, ..., 1140, 1141, 1142]), 0, {'base_estimator__max_depth': 3, 'base_estimator__max_features': None, 'base_estimator__min_samples_leaf': 1, 'base_estimator__min_samples_split': 2, 'bootstrap_features': False, 'max_features': 0.5, 'max_samples': 0.5, 'n_estimators': 2}, {})\n        kwargs = {'error_score': 'raise', 'return_parameters': True}\n        self.items = [(<function _fit_and_score>, (BaggingClassifier(base_estimator=KNeighborsClass...  random_state=None, verbose=0, warm_start=False),             gross    metascore  runtime    votes...             93    19997\n\n[5077 rows x 4 columns], 0       1\n1       1\n2       1\n3       1\n4       ...    0\n9895    0\n9898    0\nName: hit, dtype: int64, <function _passthrough_scorer>, array([  58,   59,   61, ..., 5074, 5075, 5076]), array([   0,    1,    2, ..., 1140, 1141, 1142]), 0, {'base_estimator__max_depth': 3, 'base_estimator__max_features': None, 'base_estimator__min_samples_leaf': 1, 'base_estimator__min_samples_split': 2, 'bootstrap_features': False, 'max_features': 0.5, 'max_samples': 0.5, 'n_estimators': 2}, {}), {'error_score': 'raise', 'return_parameters': True})]\n     73 \n     74     def __len__(self):\n     75         return self._size\n     76 \n\n...........................................................................\n/Users/Amer/anaconda/lib/python2.7/site-packages/sklearn/cross_validation.py in _fit_and_score(estimator=BaggingClassifier(base_estimator=KNeighborsClass...  random_state=None, verbose=0, warm_start=False), X=            gross    metascore  runtime    votes...             93    19997\n\n[5077 rows x 4 columns], y=0       1\n1       1\n2       1\n3       1\n4       ...    0\n9895    0\n9898    0\nName: hit, dtype: int64, scorer=<function _passthrough_scorer>, train=array([  58,   59,   61, ..., 5074, 5075, 5076]), test=array([   0,    1,    2, ..., 1140, 1141, 1142]), verbose=0, parameters={'base_estimator__max_depth': 3, 'base_estimator__max_features': None, 'base_estimator__min_samples_leaf': 1, 'base_estimator__min_samples_split': 2, 'bootstrap_features': False, 'max_features': 0.5, 'max_samples': 0.5, 'n_estimators': 2}, fit_params={}, return_train_score=False, return_parameters=True, error_score='raise')\n   1515     fit_params = fit_params if fit_params is not None else {}\n   1516     fit_params = dict([(k, _index_param_value(X, v, train))\n   1517                       for k, v in fit_params.items()])\n   1518 \n   1519     if parameters is not None:\n-> 1520         estimator.set_params(**parameters)\n        estimator.set_params = <bound method BaggingClassifier.set_params of Ba... random_state=None, verbose=0, warm_start=False)>\n        parameters = {'base_estimator__max_depth': 3, 'base_estimator__max_features': None, 'base_estimator__min_samples_leaf': 1, 'base_estimator__min_samples_split': 2, 'bootstrap_features': False, 'max_features': 0.5, 'max_samples': 0.5, 'n_estimators': 2}\n   1521 \n   1522     start_time = time.time()\n   1523 \n   1524     X_train, y_train = _safe_split(estimator, X, y, train)\n\n...........................................................................\n/Users/Amer/anaconda/lib/python2.7/site-packages/sklearn/base.py in set_params(self=BaggingClassifier(base_estimator=KNeighborsClass...  random_state=None, verbose=0, warm_start=False), **params={'base_estimator__max_depth': 3, 'base_estimator__max_features': None, 'base_estimator__min_samples_leaf': 1, 'base_estimator__min_samples_split': 2, 'bootstrap_features': False, 'max_features': 0.5, 'max_samples': 0.5, 'n_estimators': 2})\n    258                     raise ValueError('Invalid parameter %s for estimator %s. '\n    259                                      'Check the list of available parameters '\n    260                                      'with `estimator.get_params().keys()`.' %\n    261                                      (name, self))\n    262                 sub_object = valid_params[name]\n--> 263                 sub_object.set_params(**{sub_name: value})\n        sub_object.set_params = <bound method KNeighborsClassifier.set_params of..._neighbors=5, p=2,\n           weights='uniform')>\n        sub_name = 'min_samples_split'\n        value = 2\n    264             else:\n    265                 # simple objects case\n    266                 if key not in valid_params:\n    267                     raise ValueError('Invalid parameter %s for estimator %s. '\n\n...........................................................................\n/Users/Amer/anaconda/lib/python2.7/site-packages/sklearn/base.py in set_params(self=KNeighborsClassifier(algorithm='auto', leaf_size...n_neighbors=5, p=2,\n           weights='uniform'), **params={'min_samples_split': 2})\n    265                 # simple objects case\n    266                 if key not in valid_params:\n    267                     raise ValueError('Invalid parameter %s for estimator %s. '\n    268                                      'Check the list of available parameters '\n    269                                      'with `estimator.get_params().keys()`.' %\n--> 270                                      (key, self.__class__.__name__))\n        key = 'min_samples_split'\n        self.__class__.__name__ = 'KNeighborsClassifier'\n    271                 setattr(self, key, value)\n    272         return self\n    273 \n    274     def __repr__(self):\n\nValueError: Invalid parameter min_samples_split for estimator KNeighborsClassifier. Check the list of available parameters with `estimator.get_params().keys()`.\n___________________________________________________________________________",
     "output_type": "error",
     "traceback": [
      "\u001b[0;31m---------------------------------------------------------------------------\u001b[0m",
      "\u001b[0;31mJoblibValueError\u001b[0m                          Traceback (most recent call last)",
      "\u001b[0;32m<ipython-input-332-fe133af1b14f>\u001b[0m in \u001b[0;36m<module>\u001b[0;34m()\u001b[0m\n\u001b[0;32m----> 1\u001b[0;31m \u001b[0mgsbknn\u001b[0m\u001b[0;34m.\u001b[0m\u001b[0mfit\u001b[0m\u001b[0;34m(\u001b[0m\u001b[0mX_filtered\u001b[0m\u001b[0;34m,\u001b[0m \u001b[0my_filtered\u001b[0m\u001b[0;34m)\u001b[0m\u001b[0;34m\u001b[0m\u001b[0m\n\u001b[0m",
      "\u001b[0;32m/Users/Amer/anaconda/lib/python2.7/site-packages/sklearn/grid_search.pyc\u001b[0m in \u001b[0;36mfit\u001b[0;34m(self, X, y)\u001b[0m\n\u001b[1;32m    802\u001b[0m \u001b[0;34m\u001b[0m\u001b[0m\n\u001b[1;32m    803\u001b[0m         \"\"\"\n\u001b[0;32m--> 804\u001b[0;31m         \u001b[0;32mreturn\u001b[0m \u001b[0mself\u001b[0m\u001b[0;34m.\u001b[0m\u001b[0m_fit\u001b[0m\u001b[0;34m(\u001b[0m\u001b[0mX\u001b[0m\u001b[0;34m,\u001b[0m \u001b[0my\u001b[0m\u001b[0;34m,\u001b[0m \u001b[0mParameterGrid\u001b[0m\u001b[0;34m(\u001b[0m\u001b[0mself\u001b[0m\u001b[0;34m.\u001b[0m\u001b[0mparam_grid\u001b[0m\u001b[0;34m)\u001b[0m\u001b[0;34m)\u001b[0m\u001b[0;34m\u001b[0m\u001b[0m\n\u001b[0m\u001b[1;32m    805\u001b[0m \u001b[0;34m\u001b[0m\u001b[0m\n\u001b[1;32m    806\u001b[0m \u001b[0;34m\u001b[0m\u001b[0m\n",
      "\u001b[0;32m/Users/Amer/anaconda/lib/python2.7/site-packages/sklearn/grid_search.pyc\u001b[0m in \u001b[0;36m_fit\u001b[0;34m(self, X, y, parameter_iterable)\u001b[0m\n\u001b[1;32m    551\u001b[0m                                     \u001b[0mself\u001b[0m\u001b[0;34m.\u001b[0m\u001b[0mfit_params\u001b[0m\u001b[0;34m,\u001b[0m \u001b[0mreturn_parameters\u001b[0m\u001b[0;34m=\u001b[0m\u001b[0mTrue\u001b[0m\u001b[0;34m,\u001b[0m\u001b[0;34m\u001b[0m\u001b[0m\n\u001b[1;32m    552\u001b[0m                                     error_score=self.error_score)\n\u001b[0;32m--> 553\u001b[0;31m                 \u001b[0;32mfor\u001b[0m \u001b[0mparameters\u001b[0m \u001b[0;32min\u001b[0m \u001b[0mparameter_iterable\u001b[0m\u001b[0;34m\u001b[0m\u001b[0m\n\u001b[0m\u001b[1;32m    554\u001b[0m                 for train, test in cv)\n\u001b[1;32m    555\u001b[0m \u001b[0;34m\u001b[0m\u001b[0m\n",
      "\u001b[0;32m/Users/Amer/anaconda/lib/python2.7/site-packages/sklearn/externals/joblib/parallel.pyc\u001b[0m in \u001b[0;36m__call__\u001b[0;34m(self, iterable)\u001b[0m\n\u001b[1;32m    808\u001b[0m                 \u001b[0;31m# consumption.\u001b[0m\u001b[0;34m\u001b[0m\u001b[0;34m\u001b[0m\u001b[0m\n\u001b[1;32m    809\u001b[0m                 \u001b[0mself\u001b[0m\u001b[0;34m.\u001b[0m\u001b[0m_iterating\u001b[0m \u001b[0;34m=\u001b[0m \u001b[0mFalse\u001b[0m\u001b[0;34m\u001b[0m\u001b[0m\n\u001b[0;32m--> 810\u001b[0;31m             \u001b[0mself\u001b[0m\u001b[0;34m.\u001b[0m\u001b[0mretrieve\u001b[0m\u001b[0;34m(\u001b[0m\u001b[0;34m)\u001b[0m\u001b[0;34m\u001b[0m\u001b[0m\n\u001b[0m\u001b[1;32m    811\u001b[0m             \u001b[0;31m# Make sure that we get a last message telling us we are done\u001b[0m\u001b[0;34m\u001b[0m\u001b[0;34m\u001b[0m\u001b[0m\n\u001b[1;32m    812\u001b[0m             \u001b[0melapsed_time\u001b[0m \u001b[0;34m=\u001b[0m \u001b[0mtime\u001b[0m\u001b[0;34m.\u001b[0m\u001b[0mtime\u001b[0m\u001b[0;34m(\u001b[0m\u001b[0;34m)\u001b[0m \u001b[0;34m-\u001b[0m \u001b[0mself\u001b[0m\u001b[0;34m.\u001b[0m\u001b[0m_start_time\u001b[0m\u001b[0;34m\u001b[0m\u001b[0m\n",
      "\u001b[0;32m/Users/Amer/anaconda/lib/python2.7/site-packages/sklearn/externals/joblib/parallel.pyc\u001b[0m in \u001b[0;36mretrieve\u001b[0;34m(self)\u001b[0m\n\u001b[1;32m    755\u001b[0m                     \u001b[0;31m# a working pool as they expect.\u001b[0m\u001b[0;34m\u001b[0m\u001b[0;34m\u001b[0m\u001b[0m\n\u001b[1;32m    756\u001b[0m                     \u001b[0mself\u001b[0m\u001b[0;34m.\u001b[0m\u001b[0m_initialize_pool\u001b[0m\u001b[0;34m(\u001b[0m\u001b[0;34m)\u001b[0m\u001b[0;34m\u001b[0m\u001b[0m\n\u001b[0;32m--> 757\u001b[0;31m                 \u001b[0;32mraise\u001b[0m \u001b[0mexception\u001b[0m\u001b[0;34m\u001b[0m\u001b[0m\n\u001b[0m\u001b[1;32m    758\u001b[0m \u001b[0;34m\u001b[0m\u001b[0m\n\u001b[1;32m    759\u001b[0m     \u001b[0;32mdef\u001b[0m \u001b[0m__call__\u001b[0m\u001b[0;34m(\u001b[0m\u001b[0mself\u001b[0m\u001b[0;34m,\u001b[0m \u001b[0miterable\u001b[0m\u001b[0;34m)\u001b[0m\u001b[0;34m:\u001b[0m\u001b[0;34m\u001b[0m\u001b[0m\n",
      "\u001b[0;31mJoblibValueError\u001b[0m: JoblibValueError\n___________________________________________________________________________\nMultiprocessing exception:\n...........................................................................\n/Users/Amer/anaconda/lib/python2.7/runpy.py in _run_module_as_main(mod_name='ipykernel.__main__', alter_argv=1)\n    169     pkg_name = mod_name.rpartition('.')[0]\n    170     main_globals = sys.modules[\"__main__\"].__dict__\n    171     if alter_argv:\n    172         sys.argv[0] = fname\n    173     return _run_code(code, main_globals, None,\n--> 174                      \"__main__\", fname, loader, pkg_name)\n        fname = '/Users/Amer/anaconda/lib/python2.7/site-packages/ipykernel/__main__.py'\n        loader = <pkgutil.ImpLoader instance>\n        pkg_name = 'ipykernel'\n    175 \n    176 def run_module(mod_name, init_globals=None,\n    177                run_name=None, alter_sys=False):\n    178     \"\"\"Execute a module's code without importing it\n\n...........................................................................\n/Users/Amer/anaconda/lib/python2.7/runpy.py in _run_code(code=<code object <module> at 0x1007cf1b0, file \"/Use...2.7/site-packages/ipykernel/__main__.py\", line 1>, run_globals={'__builtins__': <module '__builtin__' (built-in)>, '__doc__': None, '__file__': '/Users/Amer/anaconda/lib/python2.7/site-packages/ipykernel/__main__.py', '__loader__': <pkgutil.ImpLoader instance>, '__name__': '__main__', '__package__': 'ipykernel', 'app': <module 'ipykernel.kernelapp' from '/Users/Amer/...python2.7/site-packages/ipykernel/kernelapp.pyc'>}, init_globals=None, mod_name='__main__', mod_fname='/Users/Amer/anaconda/lib/python2.7/site-packages/ipykernel/__main__.py', mod_loader=<pkgutil.ImpLoader instance>, pkg_name='ipykernel')\n     67         run_globals.update(init_globals)\n     68     run_globals.update(__name__ = mod_name,\n     69                        __file__ = mod_fname,\n     70                        __loader__ = mod_loader,\n     71                        __package__ = pkg_name)\n---> 72     exec code in run_globals\n        code = <code object <module> at 0x1007cf1b0, file \"/Use...2.7/site-packages/ipykernel/__main__.py\", line 1>\n        run_globals = {'__builtins__': <module '__builtin__' (built-in)>, '__doc__': None, '__file__': '/Users/Amer/anaconda/lib/python2.7/site-packages/ipykernel/__main__.py', '__loader__': <pkgutil.ImpLoader instance>, '__name__': '__main__', '__package__': 'ipykernel', 'app': <module 'ipykernel.kernelapp' from '/Users/Amer/...python2.7/site-packages/ipykernel/kernelapp.pyc'>}\n     73     return run_globals\n     74 \n     75 def _run_module_code(code, init_globals=None,\n     76                     mod_name=None, mod_fname=None,\n\n...........................................................................\n/Users/Amer/anaconda/lib/python2.7/site-packages/ipykernel/__main__.py in <module>()\n      1 \n      2 \n----> 3 \n      4 if __name__ == '__main__':\n      5     from ipykernel import kernelapp as app\n      6     app.launch_new_instance()\n      7 \n      8 \n      9 \n     10 \n\n...........................................................................\n/Users/Amer/anaconda/lib/python2.7/site-packages/traitlets/config/application.py in launch_instance(cls=<class 'ipykernel.kernelapp.IPKernelApp'>, argv=None, **kwargs={})\n    591         \n    592         If a global instance already exists, this reinitializes and starts it\n    593         \"\"\"\n    594         app = cls.instance(**kwargs)\n    595         app.initialize(argv)\n--> 596         app.start()\n        app.start = <bound method IPKernelApp.start of <ipykernel.kernelapp.IPKernelApp object>>\n    597 \n    598 #-----------------------------------------------------------------------------\n    599 # utility functions, for convenience\n    600 #-----------------------------------------------------------------------------\n\n...........................................................................\n/Users/Amer/anaconda/lib/python2.7/site-packages/ipykernel/kernelapp.py in start(self=<ipykernel.kernelapp.IPKernelApp object>)\n    437         \n    438         if self.poller is not None:\n    439             self.poller.start()\n    440         self.kernel.start()\n    441         try:\n--> 442             ioloop.IOLoop.instance().start()\n    443         except KeyboardInterrupt:\n    444             pass\n    445 \n    446 launch_new_instance = IPKernelApp.launch_instance\n\n...........................................................................\n/Users/Amer/anaconda/lib/python2.7/site-packages/zmq/eventloop/ioloop.py in start(self=<zmq.eventloop.ioloop.ZMQIOLoop object>)\n    157             PollIOLoop.configure(ZMQIOLoop)\n    158         return PollIOLoop.current(*args, **kwargs)\n    159     \n    160     def start(self):\n    161         try:\n--> 162             super(ZMQIOLoop, self).start()\n        self.start = <bound method ZMQIOLoop.start of <zmq.eventloop.ioloop.ZMQIOLoop object>>\n    163         except ZMQError as e:\n    164             if e.errno == ETERM:\n    165                 # quietly return on ETERM\n    166                 pass\n\n...........................................................................\n/Users/Amer/anaconda/lib/python2.7/site-packages/tornado/ioloop.py in start(self=<zmq.eventloop.ioloop.ZMQIOLoop object>)\n    878                 self._events.update(event_pairs)\n    879                 while self._events:\n    880                     fd, events = self._events.popitem()\n    881                     try:\n    882                         fd_obj, handler_func = self._handlers[fd]\n--> 883                         handler_func(fd_obj, events)\n        handler_func = <function null_wrapper>\n        fd_obj = <zmq.sugar.socket.Socket object>\n        events = 1\n    884                     except (OSError, IOError) as e:\n    885                         if errno_from_exception(e) == errno.EPIPE:\n    886                             # Happens when the client closes the connection\n    887                             pass\n\n...........................................................................\n/Users/Amer/anaconda/lib/python2.7/site-packages/tornado/stack_context.py in null_wrapper(*args=(<zmq.sugar.socket.Socket object>, 1), **kwargs={})\n    270         # Fast path when there are no active contexts.\n    271         def null_wrapper(*args, **kwargs):\n    272             try:\n    273                 current_state = _state.contexts\n    274                 _state.contexts = cap_contexts[0]\n--> 275                 return fn(*args, **kwargs)\n        args = (<zmq.sugar.socket.Socket object>, 1)\n        kwargs = {}\n    276             finally:\n    277                 _state.contexts = current_state\n    278         null_wrapper._wrapped = True\n    279         return null_wrapper\n\n...........................................................................\n/Users/Amer/anaconda/lib/python2.7/site-packages/zmq/eventloop/zmqstream.py in _handle_events(self=<zmq.eventloop.zmqstream.ZMQStream object>, fd=<zmq.sugar.socket.Socket object>, events=1)\n    435             # dispatch events:\n    436             if events & IOLoop.ERROR:\n    437                 gen_log.error(\"got POLLERR event on ZMQStream, which doesn't make sense\")\n    438                 return\n    439             if events & IOLoop.READ:\n--> 440                 self._handle_recv()\n        self._handle_recv = <bound method ZMQStream._handle_recv of <zmq.eventloop.zmqstream.ZMQStream object>>\n    441                 if not self.socket:\n    442                     return\n    443             if events & IOLoop.WRITE:\n    444                 self._handle_send()\n\n...........................................................................\n/Users/Amer/anaconda/lib/python2.7/site-packages/zmq/eventloop/zmqstream.py in _handle_recv(self=<zmq.eventloop.zmqstream.ZMQStream object>)\n    467                 gen_log.error(\"RECV Error: %s\"%zmq.strerror(e.errno))\n    468         else:\n    469             if self._recv_callback:\n    470                 callback = self._recv_callback\n    471                 # self._recv_callback = None\n--> 472                 self._run_callback(callback, msg)\n        self._run_callback = <bound method ZMQStream._run_callback of <zmq.eventloop.zmqstream.ZMQStream object>>\n        callback = <function null_wrapper>\n        msg = [<zmq.sugar.frame.Frame object>, <zmq.sugar.frame.Frame object>, <zmq.sugar.frame.Frame object>, <zmq.sugar.frame.Frame object>, <zmq.sugar.frame.Frame object>, <zmq.sugar.frame.Frame object>, <zmq.sugar.frame.Frame object>]\n    473                 \n    474         # self.update_state()\n    475         \n    476 \n\n...........................................................................\n/Users/Amer/anaconda/lib/python2.7/site-packages/zmq/eventloop/zmqstream.py in _run_callback(self=<zmq.eventloop.zmqstream.ZMQStream object>, callback=<function null_wrapper>, *args=([<zmq.sugar.frame.Frame object>, <zmq.sugar.frame.Frame object>, <zmq.sugar.frame.Frame object>, <zmq.sugar.frame.Frame object>, <zmq.sugar.frame.Frame object>, <zmq.sugar.frame.Frame object>, <zmq.sugar.frame.Frame object>],), **kwargs={})\n    409         close our socket.\"\"\"\n    410         try:\n    411             # Use a NullContext to ensure that all StackContexts are run\n    412             # inside our blanket exception handler rather than outside.\n    413             with stack_context.NullContext():\n--> 414                 callback(*args, **kwargs)\n        callback = <function null_wrapper>\n        args = ([<zmq.sugar.frame.Frame object>, <zmq.sugar.frame.Frame object>, <zmq.sugar.frame.Frame object>, <zmq.sugar.frame.Frame object>, <zmq.sugar.frame.Frame object>, <zmq.sugar.frame.Frame object>, <zmq.sugar.frame.Frame object>],)\n        kwargs = {}\n    415         except:\n    416             gen_log.error(\"Uncaught exception, closing connection.\",\n    417                           exc_info=True)\n    418             # Close the socket on an uncaught exception from a user callback\n\n...........................................................................\n/Users/Amer/anaconda/lib/python2.7/site-packages/tornado/stack_context.py in null_wrapper(*args=([<zmq.sugar.frame.Frame object>, <zmq.sugar.frame.Frame object>, <zmq.sugar.frame.Frame object>, <zmq.sugar.frame.Frame object>, <zmq.sugar.frame.Frame object>, <zmq.sugar.frame.Frame object>, <zmq.sugar.frame.Frame object>],), **kwargs={})\n    270         # Fast path when there are no active contexts.\n    271         def null_wrapper(*args, **kwargs):\n    272             try:\n    273                 current_state = _state.contexts\n    274                 _state.contexts = cap_contexts[0]\n--> 275                 return fn(*args, **kwargs)\n        args = ([<zmq.sugar.frame.Frame object>, <zmq.sugar.frame.Frame object>, <zmq.sugar.frame.Frame object>, <zmq.sugar.frame.Frame object>, <zmq.sugar.frame.Frame object>, <zmq.sugar.frame.Frame object>, <zmq.sugar.frame.Frame object>],)\n        kwargs = {}\n    276             finally:\n    277                 _state.contexts = current_state\n    278         null_wrapper._wrapped = True\n    279         return null_wrapper\n\n...........................................................................\n/Users/Amer/anaconda/lib/python2.7/site-packages/ipykernel/kernelbase.py in dispatcher(msg=[<zmq.sugar.frame.Frame object>, <zmq.sugar.frame.Frame object>, <zmq.sugar.frame.Frame object>, <zmq.sugar.frame.Frame object>, <zmq.sugar.frame.Frame object>, <zmq.sugar.frame.Frame object>, <zmq.sugar.frame.Frame object>])\n    271         if self.control_stream:\n    272             self.control_stream.on_recv(self.dispatch_control, copy=False)\n    273 \n    274         def make_dispatcher(stream):\n    275             def dispatcher(msg):\n--> 276                 return self.dispatch_shell(stream, msg)\n        msg = [<zmq.sugar.frame.Frame object>, <zmq.sugar.frame.Frame object>, <zmq.sugar.frame.Frame object>, <zmq.sugar.frame.Frame object>, <zmq.sugar.frame.Frame object>, <zmq.sugar.frame.Frame object>, <zmq.sugar.frame.Frame object>]\n    277             return dispatcher\n    278 \n    279         for s in self.shell_streams:\n    280             s.on_recv(make_dispatcher(s), copy=False)\n\n...........................................................................\n/Users/Amer/anaconda/lib/python2.7/site-packages/ipykernel/kernelbase.py in dispatch_shell(self=<ipykernel.ipkernel.IPythonKernel object>, stream=<zmq.eventloop.zmqstream.ZMQStream object>, msg={'buffers': [], 'content': {u'allow_stdin': True, u'code': u'gsbknn.fit(X_filtered, y_filtered)', u'silent': False, u'stop_on_error': True, u'store_history': True, u'user_expressions': {}}, 'header': {'date': '2016-11-02T12:36:05.008999', u'msg_id': u'2D46D038B695439E8D8B0A7D8D2C2524', u'msg_type': u'execute_request', u'session': u'97319A95123E4A9288162890901AD5C8', u'username': u'username', u'version': u'5.0'}, 'metadata': {}, 'msg_id': u'2D46D038B695439E8D8B0A7D8D2C2524', 'msg_type': u'execute_request', 'parent_header': {}})\n    223             self.log.error(\"UNKNOWN MESSAGE TYPE: %r\", msg_type)\n    224         else:\n    225             self.log.debug(\"%s: %s\", msg_type, msg)\n    226             self.pre_handler_hook()\n    227             try:\n--> 228                 handler(stream, idents, msg)\n        handler = <bound method IPythonKernel.execute_request of <ipykernel.ipkernel.IPythonKernel object>>\n        stream = <zmq.eventloop.zmqstream.ZMQStream object>\n        idents = ['97319A95123E4A9288162890901AD5C8']\n        msg = {'buffers': [], 'content': {u'allow_stdin': True, u'code': u'gsbknn.fit(X_filtered, y_filtered)', u'silent': False, u'stop_on_error': True, u'store_history': True, u'user_expressions': {}}, 'header': {'date': '2016-11-02T12:36:05.008999', u'msg_id': u'2D46D038B695439E8D8B0A7D8D2C2524', u'msg_type': u'execute_request', u'session': u'97319A95123E4A9288162890901AD5C8', u'username': u'username', u'version': u'5.0'}, 'metadata': {}, 'msg_id': u'2D46D038B695439E8D8B0A7D8D2C2524', 'msg_type': u'execute_request', 'parent_header': {}}\n    229             except Exception:\n    230                 self.log.error(\"Exception in message handler:\", exc_info=True)\n    231             finally:\n    232                 self.post_handler_hook()\n\n...........................................................................\n/Users/Amer/anaconda/lib/python2.7/site-packages/ipykernel/kernelbase.py in execute_request(self=<ipykernel.ipkernel.IPythonKernel object>, stream=<zmq.eventloop.zmqstream.ZMQStream object>, ident=['97319A95123E4A9288162890901AD5C8'], parent={'buffers': [], 'content': {u'allow_stdin': True, u'code': u'gsbknn.fit(X_filtered, y_filtered)', u'silent': False, u'stop_on_error': True, u'store_history': True, u'user_expressions': {}}, 'header': {'date': '2016-11-02T12:36:05.008999', u'msg_id': u'2D46D038B695439E8D8B0A7D8D2C2524', u'msg_type': u'execute_request', u'session': u'97319A95123E4A9288162890901AD5C8', u'username': u'username', u'version': u'5.0'}, 'metadata': {}, 'msg_id': u'2D46D038B695439E8D8B0A7D8D2C2524', 'msg_type': u'execute_request', 'parent_header': {}})\n    386         if not silent:\n    387             self.execution_count += 1\n    388             self._publish_execute_input(code, parent, self.execution_count)\n    389 \n    390         reply_content = self.do_execute(code, silent, store_history,\n--> 391                                         user_expressions, allow_stdin)\n        user_expressions = {}\n        allow_stdin = True\n    392 \n    393         # Flush output before sending the reply.\n    394         sys.stdout.flush()\n    395         sys.stderr.flush()\n\n...........................................................................\n/Users/Amer/anaconda/lib/python2.7/site-packages/ipykernel/ipkernel.py in do_execute(self=<ipykernel.ipkernel.IPythonKernel object>, code=u'gsbknn.fit(X_filtered, y_filtered)', silent=False, store_history=True, user_expressions={}, allow_stdin=True)\n    194 \n    195         reply_content = {}\n    196         # FIXME: the shell calls the exception handler itself.\n    197         shell._reply_content = None\n    198         try:\n--> 199             shell.run_cell(code, store_history=store_history, silent=silent)\n        shell.run_cell = <bound method ZMQInteractiveShell.run_cell of <ipykernel.zmqshell.ZMQInteractiveShell object>>\n        code = u'gsbknn.fit(X_filtered, y_filtered)'\n        store_history = True\n        silent = False\n    200         except:\n    201             status = u'error'\n    202             # FIXME: this code right now isn't being used yet by default,\n    203             # because the run_cell() call above directly fires off exception\n\n...........................................................................\n/Users/Amer/anaconda/lib/python2.7/site-packages/IPython/core/interactiveshell.py in run_cell(self=<ipykernel.zmqshell.ZMQInteractiveShell object>, raw_cell=u'gsbknn.fit(X_filtered, y_filtered)', store_history=True, silent=False, shell_futures=True)\n   2718                 self.displayhook.exec_result = result\n   2719 \n   2720                 # Execute the user code\n   2721                 interactivity = \"none\" if silent else self.ast_node_interactivity\n   2722                 self.run_ast_nodes(code_ast.body, cell_name,\n-> 2723                    interactivity=interactivity, compiler=compiler, result=result)\n        interactivity = 'last_expr'\n        compiler = <IPython.core.compilerop.CachingCompiler instance>\n   2724 \n   2725                 # Reset this so later displayed values do not modify the\n   2726                 # ExecutionResult\n   2727                 self.displayhook.exec_result = None\n\n...........................................................................\n/Users/Amer/anaconda/lib/python2.7/site-packages/IPython/core/interactiveshell.py in run_ast_nodes(self=<ipykernel.zmqshell.ZMQInteractiveShell object>, nodelist=[<_ast.Expr object>], cell_name='<ipython-input-332-fe133af1b14f>', interactivity='last', compiler=<IPython.core.compilerop.CachingCompiler instance>, result=<IPython.core.interactiveshell.ExecutionResult object>)\n   2826                     return True\n   2827 \n   2828             for i, node in enumerate(to_run_interactive):\n   2829                 mod = ast.Interactive([node])\n   2830                 code = compiler(mod, cell_name, \"single\")\n-> 2831                 if self.run_code(code, result):\n        self.run_code = <bound method ZMQInteractiveShell.run_code of <ipykernel.zmqshell.ZMQInteractiveShell object>>\n        code = <code object <module> at 0x11acf23b0, file \"<ipython-input-332-fe133af1b14f>\", line 1>\n        result = <IPython.core.interactiveshell.ExecutionResult object>\n   2832                     return True\n   2833 \n   2834             # Flush softspace\n   2835             if softspace(sys.stdout, 0):\n\n...........................................................................\n/Users/Amer/anaconda/lib/python2.7/site-packages/IPython/core/interactiveshell.py in run_code(self=<ipykernel.zmqshell.ZMQInteractiveShell object>, code_obj=<code object <module> at 0x11acf23b0, file \"<ipython-input-332-fe133af1b14f>\", line 1>, result=<IPython.core.interactiveshell.ExecutionResult object>)\n   2880         outflag = 1  # happens in more places, so it's easier as default\n   2881         try:\n   2882             try:\n   2883                 self.hooks.pre_run_code_hook()\n   2884                 #rprint('Running code', repr(code_obj)) # dbg\n-> 2885                 exec(code_obj, self.user_global_ns, self.user_ns)\n        code_obj = <code object <module> at 0x11acf23b0, file \"<ipython-input-332-fe133af1b14f>\", line 1>\n        self.user_global_ns = {'AdaBoostClassifier': <class 'sklearn.ensemble.weight_boosting.AdaBoostClassifier'>, 'BaggingClassifier': <class 'sklearn.ensemble.bagging.BaggingClassifier'>, 'BeautifulSoup': <class 'bs4.BeautifulSoup'>, 'DecisionTreeClassifier': <class 'sklearn.tree.tree.DecisionTreeClassifier'>, 'ExtraTreesClassifier': <class 'sklearn.ensemble.forest.ExtraTreesClassifier'>, 'GradientBoostingClassifier': <class 'sklearn.ensemble.gradient_boosting.GradientBoostingClassifier'>, 'GridSearchCV': <class 'sklearn.grid_search.GridSearchCV'>, 'Image': <class 'IPython.core.display.Image'>, 'Imputer': <class 'sklearn.preprocessing.imputation.Imputer'>, 'In': ['', u\"import numpy as np\\nimport pandas as pd\\nimpor...lib\\n\\nget_ipython().magic(u'matplotlib inline')\", u'def get_list(num=201):\\n    out = []\\n    skip...  skip.append(i)\\n    print skip\\n    return out', u'top_10000 = get_list()\\nlen(top_10000)', u'def get_list(num=201):\\n    out = []\\n    skip...  skip.append(i)\\n    print skip\\n    return out', u'top_10000 = get_list()\\nlen(top_10000)', u'def get_list(num=201):\\n    out = []\\n    skip...  skip.append(i)\\n    print skip\\n    return out', u'top_10000 = get_list()\\nlen(top_10000)', u'top_10000.head(150)', u'top_10000[1:10]', u'top_10000[1:150]', u'# Rather than rerunning the entire function I ...  skip.append(i)\\n    print skip\\n    return out', u'skipped_pages = [7, 18, 20, 39, 64, 73, 81, 86...91, 198, 200]\\nskipped = get_list(skipped_pages)', u'skipped_pages = [7, 18, 20, 39, 64, 73, 81, 86...91, 198, 200]\\nskipped = get_list(skipped_pages)', u'skipped_pages = [7, 18, 20, 39, 64, 73, 81, 86...91, 198, 200]\\nskipped = get_list(skipped_pages)', u'top_10000 = top_10000 + skipped', u\"# cache result to avoid reloading\\nmyfile = op..., quoting=csv.QUOTE_ALL)\\nwr.writerow(top_10000)\", u'df = pd.DataFrame(top_10000)\\ndf.head()', u'df.describe', u'df.describe()', ...], ...}\n        self.user_ns = {'AdaBoostClassifier': <class 'sklearn.ensemble.weight_boosting.AdaBoostClassifier'>, 'BaggingClassifier': <class 'sklearn.ensemble.bagging.BaggingClassifier'>, 'BeautifulSoup': <class 'bs4.BeautifulSoup'>, 'DecisionTreeClassifier': <class 'sklearn.tree.tree.DecisionTreeClassifier'>, 'ExtraTreesClassifier': <class 'sklearn.ensemble.forest.ExtraTreesClassifier'>, 'GradientBoostingClassifier': <class 'sklearn.ensemble.gradient_boosting.GradientBoostingClassifier'>, 'GridSearchCV': <class 'sklearn.grid_search.GridSearchCV'>, 'Image': <class 'IPython.core.display.Image'>, 'Imputer': <class 'sklearn.preprocessing.imputation.Imputer'>, 'In': ['', u\"import numpy as np\\nimport pandas as pd\\nimpor...lib\\n\\nget_ipython().magic(u'matplotlib inline')\", u'def get_list(num=201):\\n    out = []\\n    skip...  skip.append(i)\\n    print skip\\n    return out', u'top_10000 = get_list()\\nlen(top_10000)', u'def get_list(num=201):\\n    out = []\\n    skip...  skip.append(i)\\n    print skip\\n    return out', u'top_10000 = get_list()\\nlen(top_10000)', u'def get_list(num=201):\\n    out = []\\n    skip...  skip.append(i)\\n    print skip\\n    return out', u'top_10000 = get_list()\\nlen(top_10000)', u'top_10000.head(150)', u'top_10000[1:10]', u'top_10000[1:150]', u'# Rather than rerunning the entire function I ...  skip.append(i)\\n    print skip\\n    return out', u'skipped_pages = [7, 18, 20, 39, 64, 73, 81, 86...91, 198, 200]\\nskipped = get_list(skipped_pages)', u'skipped_pages = [7, 18, 20, 39, 64, 73, 81, 86...91, 198, 200]\\nskipped = get_list(skipped_pages)', u'skipped_pages = [7, 18, 20, 39, 64, 73, 81, 86...91, 198, 200]\\nskipped = get_list(skipped_pages)', u'top_10000 = top_10000 + skipped', u\"# cache result to avoid reloading\\nmyfile = op..., quoting=csv.QUOTE_ALL)\\nwr.writerow(top_10000)\", u'df = pd.DataFrame(top_10000)\\ndf.head()', u'df.describe', u'df.describe()', ...], ...}\n   2886             finally:\n   2887                 # Reset our crash handler in place\n   2888                 sys.excepthook = old_excepthook\n   2889         except SystemExit as e:\n\n...........................................................................\n/Users/Amer/Sites/GA/GA-DSI/projects/projects-weekly/project-06/<ipython-input-332-fe133af1b14f> in <module>()\n----> 1 \n      2 \n      3 \n      4 \n      5 \n      6 gsbknn.fit(X_filtered, y_filtered)\n      7 \n      8 \n      9 \n     10 \n\n...........................................................................\n/Users/Amer/anaconda/lib/python2.7/site-packages/sklearn/grid_search.py in fit(self=GridSearchCV(cv=5, error_score='raise',\n       e...='2*n_jobs', refit=True, scoring=None, verbose=0), X=            gross    metascore  runtime    votes...             93    19997\n\n[5077 rows x 4 columns], y=0       1\n1       1\n2       1\n3       1\n4       ...    0\n9895    0\n9898    0\nName: hit, dtype: int64)\n    799         y : array-like, shape = [n_samples] or [n_samples, n_output], optional\n    800             Target relative to X for classification or regression;\n    801             None for unsupervised learning.\n    802 \n    803         \"\"\"\n--> 804         return self._fit(X, y, ParameterGrid(self.param_grid))\n        self._fit = <bound method GridSearchCV._fit of GridSearchCV(...'2*n_jobs', refit=True, scoring=None, verbose=0)>\n        X =             gross    metascore  runtime    votes...             93    19997\n\n[5077 rows x 4 columns]\n        y = 0       1\n1       1\n2       1\n3       1\n4       ...    0\n9895    0\n9898    0\nName: hit, dtype: int64\n        self.param_grid = {'base_estimator__max_depth': [3, 5, 10, 20], 'base_estimator__max_features': [None, 'auto'], 'base_estimator__min_samples_leaf': [1, 3, 5, 7, 10], 'base_estimator__min_samples_split': [2, 5, 7], 'bootstrap_features': [False, True], 'max_features': [0.5, 0.7, 1.0], 'max_samples': [0.5, 0.7, 1.0], 'n_estimators': [2, 5, 10, 20]}\n    805 \n    806 \n    807 class RandomizedSearchCV(BaseSearchCV):\n    808     \"\"\"Randomized search on hyper parameters.\n\n...........................................................................\n/Users/Amer/anaconda/lib/python2.7/site-packages/sklearn/grid_search.py in _fit(self=GridSearchCV(cv=5, error_score='raise',\n       e...='2*n_jobs', refit=True, scoring=None, verbose=0), X=            gross    metascore  runtime    votes...             93    19997\n\n[5077 rows x 4 columns], y=0       1\n1       1\n2       1\n3       1\n4       ...    0\n9895    0\n9898    0\nName: hit, dtype: int64, parameter_iterable=<sklearn.grid_search.ParameterGrid object>)\n    548         )(\n    549             delayed(_fit_and_score)(clone(base_estimator), X, y, self.scorer_,\n    550                                     train, test, self.verbose, parameters,\n    551                                     self.fit_params, return_parameters=True,\n    552                                     error_score=self.error_score)\n--> 553                 for parameters in parameter_iterable\n        parameters = undefined\n        parameter_iterable = <sklearn.grid_search.ParameterGrid object>\n    554                 for train, test in cv)\n    555 \n    556         # Out is a list of triplet: score, estimator, n_test_samples\n    557         n_fits = len(out)\n\n...........................................................................\n/Users/Amer/anaconda/lib/python2.7/site-packages/sklearn/externals/joblib/parallel.py in __call__(self=Parallel(n_jobs=-1), iterable=<generator object <genexpr>>)\n    805             if pre_dispatch == \"all\" or n_jobs == 1:\n    806                 # The iterable was consumed all at once by the above for loop.\n    807                 # No need to wait for async callbacks to trigger to\n    808                 # consumption.\n    809                 self._iterating = False\n--> 810             self.retrieve()\n        self.retrieve = <bound method Parallel.retrieve of Parallel(n_jobs=-1)>\n    811             # Make sure that we get a last message telling us we are done\n    812             elapsed_time = time.time() - self._start_time\n    813             self._print('Done %3i out of %3i | elapsed: %s finished',\n    814                         (len(self._output), len(self._output),\n\n---------------------------------------------------------------------------\nSub-process traceback:\n---------------------------------------------------------------------------\nValueError                                         Wed Nov  2 12:36:05 2016\nPID: 18997                   Python 2.7.12: /Users/Amer/anaconda/bin/python\n...........................................................................\n/Users/Amer/anaconda/lib/python2.7/site-packages/sklearn/externals/joblib/parallel.py in __call__(self=<sklearn.externals.joblib.parallel.BatchedCalls object>)\n     67     def __init__(self, iterator_slice):\n     68         self.items = list(iterator_slice)\n     69         self._size = len(self.items)\n     70 \n     71     def __call__(self):\n---> 72         return [func(*args, **kwargs) for func, args, kwargs in self.items]\n        func = <function _fit_and_score>\n        args = (BaggingClassifier(base_estimator=KNeighborsClass...  random_state=None, verbose=0, warm_start=False),             gross    metascore  runtime    votes...             93    19997\n\n[5077 rows x 4 columns], 0       1\n1       1\n2       1\n3       1\n4       ...    0\n9895    0\n9898    0\nName: hit, dtype: int64, <function _passthrough_scorer>, array([  58,   59,   61, ..., 5074, 5075, 5076]), array([   0,    1,    2, ..., 1140, 1141, 1142]), 0, {'base_estimator__max_depth': 3, 'base_estimator__max_features': None, 'base_estimator__min_samples_leaf': 1, 'base_estimator__min_samples_split': 2, 'bootstrap_features': False, 'max_features': 0.5, 'max_samples': 0.5, 'n_estimators': 2}, {})\n        kwargs = {'error_score': 'raise', 'return_parameters': True}\n        self.items = [(<function _fit_and_score>, (BaggingClassifier(base_estimator=KNeighborsClass...  random_state=None, verbose=0, warm_start=False),             gross    metascore  runtime    votes...             93    19997\n\n[5077 rows x 4 columns], 0       1\n1       1\n2       1\n3       1\n4       ...    0\n9895    0\n9898    0\nName: hit, dtype: int64, <function _passthrough_scorer>, array([  58,   59,   61, ..., 5074, 5075, 5076]), array([   0,    1,    2, ..., 1140, 1141, 1142]), 0, {'base_estimator__max_depth': 3, 'base_estimator__max_features': None, 'base_estimator__min_samples_leaf': 1, 'base_estimator__min_samples_split': 2, 'bootstrap_features': False, 'max_features': 0.5, 'max_samples': 0.5, 'n_estimators': 2}, {}), {'error_score': 'raise', 'return_parameters': True})]\n     73 \n     74     def __len__(self):\n     75         return self._size\n     76 \n\n...........................................................................\n/Users/Amer/anaconda/lib/python2.7/site-packages/sklearn/cross_validation.py in _fit_and_score(estimator=BaggingClassifier(base_estimator=KNeighborsClass...  random_state=None, verbose=0, warm_start=False), X=            gross    metascore  runtime    votes...             93    19997\n\n[5077 rows x 4 columns], y=0       1\n1       1\n2       1\n3       1\n4       ...    0\n9895    0\n9898    0\nName: hit, dtype: int64, scorer=<function _passthrough_scorer>, train=array([  58,   59,   61, ..., 5074, 5075, 5076]), test=array([   0,    1,    2, ..., 1140, 1141, 1142]), verbose=0, parameters={'base_estimator__max_depth': 3, 'base_estimator__max_features': None, 'base_estimator__min_samples_leaf': 1, 'base_estimator__min_samples_split': 2, 'bootstrap_features': False, 'max_features': 0.5, 'max_samples': 0.5, 'n_estimators': 2}, fit_params={}, return_train_score=False, return_parameters=True, error_score='raise')\n   1515     fit_params = fit_params if fit_params is not None else {}\n   1516     fit_params = dict([(k, _index_param_value(X, v, train))\n   1517                       for k, v in fit_params.items()])\n   1518 \n   1519     if parameters is not None:\n-> 1520         estimator.set_params(**parameters)\n        estimator.set_params = <bound method BaggingClassifier.set_params of Ba... random_state=None, verbose=0, warm_start=False)>\n        parameters = {'base_estimator__max_depth': 3, 'base_estimator__max_features': None, 'base_estimator__min_samples_leaf': 1, 'base_estimator__min_samples_split': 2, 'bootstrap_features': False, 'max_features': 0.5, 'max_samples': 0.5, 'n_estimators': 2}\n   1521 \n   1522     start_time = time.time()\n   1523 \n   1524     X_train, y_train = _safe_split(estimator, X, y, train)\n\n...........................................................................\n/Users/Amer/anaconda/lib/python2.7/site-packages/sklearn/base.py in set_params(self=BaggingClassifier(base_estimator=KNeighborsClass...  random_state=None, verbose=0, warm_start=False), **params={'base_estimator__max_depth': 3, 'base_estimator__max_features': None, 'base_estimator__min_samples_leaf': 1, 'base_estimator__min_samples_split': 2, 'bootstrap_features': False, 'max_features': 0.5, 'max_samples': 0.5, 'n_estimators': 2})\n    258                     raise ValueError('Invalid parameter %s for estimator %s. '\n    259                                      'Check the list of available parameters '\n    260                                      'with `estimator.get_params().keys()`.' %\n    261                                      (name, self))\n    262                 sub_object = valid_params[name]\n--> 263                 sub_object.set_params(**{sub_name: value})\n        sub_object.set_params = <bound method KNeighborsClassifier.set_params of..._neighbors=5, p=2,\n           weights='uniform')>\n        sub_name = 'min_samples_split'\n        value = 2\n    264             else:\n    265                 # simple objects case\n    266                 if key not in valid_params:\n    267                     raise ValueError('Invalid parameter %s for estimator %s. '\n\n...........................................................................\n/Users/Amer/anaconda/lib/python2.7/site-packages/sklearn/base.py in set_params(self=KNeighborsClassifier(algorithm='auto', leaf_size...n_neighbors=5, p=2,\n           weights='uniform'), **params={'min_samples_split': 2})\n    265                 # simple objects case\n    266                 if key not in valid_params:\n    267                     raise ValueError('Invalid parameter %s for estimator %s. '\n    268                                      'Check the list of available parameters '\n    269                                      'with `estimator.get_params().keys()`.' %\n--> 270                                      (key, self.__class__.__name__))\n        key = 'min_samples_split'\n        self.__class__.__name__ = 'KNeighborsClassifier'\n    271                 setattr(self, key, value)\n    272         return self\n    273 \n    274     def __repr__(self):\n\nValueError: Invalid parameter min_samples_split for estimator KNeighborsClassifier. Check the list of available parameters with `estimator.get_params().keys()`.\n___________________________________________________________________________"
     ]
    }
   ],
   "source": [
    "gsbknn.fit(X_filtered, y_filtered)"
   ]
  },
  {
   "cell_type": "code",
   "execution_count": null,
   "metadata": {
    "collapsed": true
   },
   "outputs": [],
   "source": []
  }
 ],
 "metadata": {
  "anaconda-cloud": {},
  "kernelspec": {
   "display_name": "Python [Root]",
   "language": "python",
   "name": "Python [Root]"
  },
  "language_info": {
   "codemirror_mode": {
    "name": "ipython",
    "version": 2
   },
   "file_extension": ".py",
   "mimetype": "text/x-python",
   "name": "python",
   "nbconvert_exporter": "python",
   "pygments_lexer": "ipython2",
   "version": "2.7.12"
  }
 },
 "nbformat": 4,
 "nbformat_minor": 0
}
