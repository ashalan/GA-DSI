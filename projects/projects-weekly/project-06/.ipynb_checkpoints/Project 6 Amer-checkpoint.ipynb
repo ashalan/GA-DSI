{
 "cells": [
  {
   "cell_type": "code",
   "execution_count": 106,
   "metadata": {
    "collapsed": false
   },
   "outputs": [],
   "source": [
    "import numpy as np\n",
    "import pandas as pd\n",
    "import seaborn as sns\n",
    "import matplotlib.pyplot as plt\n",
    "from patsy import dmatrices\n",
    "from sklearn.linear_model import LogisticRegression\n",
    "from sklearn.cross_validation import train_test_split, cross_val_score\n",
    "from sklearn import metrics\n",
    "import statsmodels.api as sm\n",
    "from sklearn.metrics import confusion_matrix, accuracy_score, precision_score, recall_score, classification_report\n",
    "from sklearn.metrics import roc_curve, auc\n",
    "from sklearn.grid_search import GridSearchCV\n",
    "from sklearn.neighbors import KNeighborsClassifier\n",
    "from sklearn.svm import SVC\n",
    "from sklearn.cross_validation import StratifiedKFold\n",
    "from sklearn.cross_validation import KFold\n",
    "from sklearn.feature_selection import RFE\n",
    "from sklearn.datasets import make_classification\n",
    "from sklearn.preprocessing import StandardScaler\n",
    "import json\n",
    "import urllib\n",
    "import requests\n",
    "import json\n",
    "import re\n",
    "import csv\n",
    "from bs4 import BeautifulSoup\n",
    "import urllib\n",
    "\n",
    "%matplotlib inline"
   ]
  },
  {
   "cell_type": "markdown",
   "metadata": {},
   "source": [
    "## Getting the data\n",
    "I decided to go with BeautifulSoup with the data gathering because I could not find a well documented API to use. Either way I would have had to collect a list of IMDB titles using a webscraper to then run through the API. With that approach I was getting many timeout errors and could not troubleshoot the errors. With this approach, using my own code, I would be much more familiar with the code and I can easily debug it and report on what is being successfully parsed and what isn't."
   ]
  },
  {
   "cell_type": "code",
   "execution_count": 27,
   "metadata": {
    "collapsed": true
   },
   "outputs": [],
   "source": [
    "def get_list(nums=range(1,201)):\n",
    "    out = []\n",
    "    skip = []\n",
    "    for i in nums:\n",
    "        try:\n",
    "            # Open the page with Beautiful Soup\n",
    "            r = urllib.urlopen('http://www.imdb.com/search/title?sort=num_votes,desc&title_type=feature&page='+str(i)).read()\n",
    "            soup = BeautifulSoup(r, 'lxml')\n",
    "            # Find all movie divs\n",
    "            movs = soup.find_all(\"div\", class_=\"lister-item-content\")\n",
    "            all_movies = []\n",
    "            # print the page number that we are about parse\n",
    "            print i\n",
    "            for element in movs:\n",
    "                # Get the individual elements in each movie\n",
    "                title = element.a.get_text()\n",
    "                year = int(element.find(class_=\"lister-item-year\").get_text()[-5:-1])\n",
    "                rating = float(element.find(class_=\"ratings-imdb-rating\").strong.get_text())\n",
    "                votes_gross = element.find_all(\"span\", {\"name\":\"nv\"})\n",
    "                votes = int(votes_gross[0].get_text().replace(',', ''))\n",
    "                runtime = element.find(class_=\"runtime\").get_text()\n",
    "                # Some movies did not have gross data\n",
    "                try:\n",
    "                    gross = round(eval(votes_gross[1].get_text().replace('$', '').replace('M', '*1000000')))\n",
    "                except:\n",
    "                    gross = np.nan\n",
    "                # Some movies did not have a metascore\n",
    "                try:\n",
    "                    metascore = element.find(class_=\"ratings-metascore\").span.get_text()\n",
    "                except:\n",
    "                    metascore = np.nan\n",
    "                \n",
    "                # \n",
    "                movie = {'title':title, 'year':year, 'rating':rating, 'votes':votes, 'gross':gross, 'metascore':metascore, 'runtime':runtime}\n",
    "                all_movies.append(movie)\n",
    "            out = out + all_movies\n",
    "        except:\n",
    "            # Rather than rerunning the entire function if any page fails,\n",
    "            # I am going to retrieve the skipped pages and add them to the skip list\n",
    "            skip.append(i)\n",
    "    print skip\n",
    "    return out"
   ]
  },
  {
   "cell_type": "code",
   "execution_count": 28,
   "metadata": {
    "collapsed": true
   },
   "outputs": [
    {
     "name": "stdout",
     "output_type": "stream",
     "text": [
      "1\n",
      "2\n",
      "3\n",
      "4\n",
      "5\n",
      "6\n",
      "7\n",
      "8\n",
      "9\n",
      "11\n",
      "12\n",
      "13\n",
      "14\n",
      "15\n",
      "16\n",
      "18\n",
      "19\n",
      "20\n",
      "21\n",
      "22\n",
      "23\n",
      "24\n",
      "25\n",
      "26\n",
      "27\n",
      "28\n",
      "29\n",
      "30\n",
      "31\n",
      "32\n",
      "33\n",
      "34\n",
      "35\n",
      "36\n",
      "37\n",
      "38\n",
      "39\n",
      "41\n",
      "42\n",
      "43\n",
      "44\n",
      "46\n",
      "47\n",
      "48\n",
      "49\n",
      "50\n",
      "51\n",
      "52\n",
      "53\n",
      "54\n",
      "55\n",
      "56\n",
      "57\n",
      "58\n",
      "59\n",
      "60\n",
      "61\n",
      "62\n",
      "64\n",
      "65\n",
      "66\n",
      "67\n",
      "68\n",
      "69\n",
      "70\n",
      "71\n",
      "72\n",
      "73\n",
      "74\n",
      "75\n",
      "76\n",
      "77\n",
      "78\n",
      "79\n",
      "80\n",
      "81\n",
      "82\n",
      "83\n",
      "84\n",
      "85\n",
      "86\n",
      "87\n",
      "88\n",
      "89\n",
      "91\n",
      "92\n",
      "93\n",
      "94\n",
      "95\n",
      "96\n",
      "97\n",
      "98\n",
      "99\n",
      "100\n",
      "101\n",
      "102\n",
      "103\n",
      "104\n",
      "105\n",
      "106\n",
      "107\n",
      "108\n",
      "109\n",
      "110\n",
      "111\n",
      "112\n",
      "113\n",
      "114\n",
      "115\n",
      "116\n",
      "117\n",
      "118\n",
      "119\n",
      "120\n",
      "121\n",
      "122\n",
      "123\n",
      "124\n",
      "125\n",
      "126\n",
      "127\n",
      "128\n",
      "129\n",
      "130\n",
      "131\n",
      "132\n",
      "133\n",
      "134\n",
      "135\n",
      "136\n",
      "137\n",
      "138\n",
      "139\n",
      "140\n",
      "141\n",
      "142\n",
      "143\n",
      "144\n",
      "145\n",
      "146\n",
      "147\n",
      "148\n",
      "149\n",
      "150\n",
      "151\n",
      "152\n",
      "153\n",
      "154\n",
      "155\n",
      "156\n",
      "157\n",
      "158\n",
      "159\n",
      "160\n",
      "161\n",
      "162\n",
      "163\n",
      "164\n",
      "165\n",
      "166\n",
      "167\n",
      "168\n",
      "169\n",
      "170\n",
      "171\n",
      "172\n",
      "173\n",
      "174\n",
      "175\n",
      "176\n",
      "177\n",
      "178\n",
      "179\n",
      "180\n",
      "181\n",
      "182\n",
      "183\n",
      "184\n",
      "185\n",
      "186\n",
      "187\n",
      "188\n",
      "189\n",
      "190\n",
      "191\n",
      "192\n",
      "193\n",
      "194\n",
      "195\n",
      "196\n",
      "197\n",
      "198\n",
      "199\n",
      "200\n",
      "[10, 17, 40, 45, 63, 90, 146, 199]\n"
     ]
    },
    {
     "data": {
      "text/plain": [
       "9600"
      ]
     },
     "execution_count": 28,
     "metadata": {},
     "output_type": "execute_result"
    }
   ],
   "source": [
    "top_10000 = get_list()\n",
    "len(top_10000)"
   ]
  },
  {
   "cell_type": "code",
   "execution_count": 29,
   "metadata": {
    "collapsed": true
   },
   "outputs": [
    {
     "name": "stdout",
     "output_type": "stream",
     "text": [
      "10\n",
      "17\n",
      "40\n",
      "45\n",
      "63\n",
      "90\n",
      "146\n",
      "199\n",
      "[146, 199]\n"
     ]
    }
   ],
   "source": [
    "skipped_pages = [10, 17, 40, 45, 63, 90, 146, 199]\n",
    "skipped = get_list(skipped_pages)"
   ]
  },
  {
   "cell_type": "code",
   "execution_count": 30,
   "metadata": {
    "collapsed": true
   },
   "outputs": [],
   "source": [
    "top_10000 = top_10000 + skipped"
   ]
  },
  {
   "cell_type": "code",
   "execution_count": 31,
   "metadata": {
    "collapsed": false
   },
   "outputs": [],
   "source": [
    "# cache result to avoid reloading\n",
    "myfile = open('title.csv', 'wb')\n",
    "wr = csv.writer(myfile, quoting=csv.QUOTE_ALL)\n",
    "wr.writerow(top_10000)"
   ]
  },
  {
   "cell_type": "code",
   "execution_count": 251,
   "metadata": {
    "collapsed": false
   },
   "outputs": [
    {
     "data": {
      "text/html": [
       "<div>\n",
       "<table border=\"1\" class=\"dataframe\">\n",
       "  <thead>\n",
       "    <tr style=\"text-align: right;\">\n",
       "      <th></th>\n",
       "      <th>gross</th>\n",
       "      <th>metascore</th>\n",
       "      <th>rating</th>\n",
       "      <th>runtime</th>\n",
       "      <th>title</th>\n",
       "      <th>votes</th>\n",
       "      <th>year</th>\n",
       "    </tr>\n",
       "  </thead>\n",
       "  <tbody>\n",
       "    <tr>\n",
       "      <th>0</th>\n",
       "      <td>28340000.0</td>\n",
       "      <td>80</td>\n",
       "      <td>9.3</td>\n",
       "      <td>142 min</td>\n",
       "      <td>The Shawshank Redemption</td>\n",
       "      <td>1722578</td>\n",
       "      <td>1994</td>\n",
       "    </tr>\n",
       "    <tr>\n",
       "      <th>1</th>\n",
       "      <td>533320000.0</td>\n",
       "      <td>82</td>\n",
       "      <td>9.0</td>\n",
       "      <td>152 min</td>\n",
       "      <td>The Dark Knight</td>\n",
       "      <td>1708350</td>\n",
       "      <td>2008</td>\n",
       "    </tr>\n",
       "    <tr>\n",
       "      <th>2</th>\n",
       "      <td>292570000.0</td>\n",
       "      <td>74</td>\n",
       "      <td>8.8</td>\n",
       "      <td>148 min</td>\n",
       "      <td>Inception</td>\n",
       "      <td>1499024</td>\n",
       "      <td>2010</td>\n",
       "    </tr>\n",
       "    <tr>\n",
       "      <th>3</th>\n",
       "      <td>37020000.0</td>\n",
       "      <td>66</td>\n",
       "      <td>8.8</td>\n",
       "      <td>139 min</td>\n",
       "      <td>Fight Club</td>\n",
       "      <td>1375013</td>\n",
       "      <td>1999</td>\n",
       "    </tr>\n",
       "    <tr>\n",
       "      <th>4</th>\n",
       "      <td>107930000.0</td>\n",
       "      <td>94</td>\n",
       "      <td>8.9</td>\n",
       "      <td>154 min</td>\n",
       "      <td>Pulp Fiction</td>\n",
       "      <td>1349493</td>\n",
       "      <td>1994</td>\n",
       "    </tr>\n",
       "  </tbody>\n",
       "</table>\n",
       "</div>"
      ],
      "text/plain": [
       "         gross   metascore  rating  runtime                     title  \\\n",
       "0   28340000.0  80             9.3  142 min  The Shawshank Redemption   \n",
       "1  533320000.0  82             9.0  152 min           The Dark Knight   \n",
       "2  292570000.0  74             8.8  148 min                 Inception   \n",
       "3   37020000.0  66             8.8  139 min                Fight Club   \n",
       "4  107930000.0  94             8.9  154 min              Pulp Fiction   \n",
       "\n",
       "     votes  year  \n",
       "0  1722578  1994  \n",
       "1  1708350  2008  \n",
       "2  1499024  2010  \n",
       "3  1375013  1999  \n",
       "4  1349493  1994  "
      ]
     },
     "execution_count": 251,
     "metadata": {},
     "output_type": "execute_result"
    }
   ],
   "source": [
    "df = pd.DataFrame(top_10000)\n",
    "df.head()"
   ]
  },
  {
   "cell_type": "code",
   "execution_count": 64,
   "metadata": {
    "collapsed": false
   },
   "outputs": [
    {
     "data": {
      "text/html": [
       "<div>\n",
       "<table border=\"1\" class=\"dataframe\">\n",
       "  <thead>\n",
       "    <tr style=\"text-align: right;\">\n",
       "      <th></th>\n",
       "      <th>gross</th>\n",
       "      <th>metascore</th>\n",
       "      <th>rating</th>\n",
       "      <th>runtime</th>\n",
       "      <th>title</th>\n",
       "      <th>votes</th>\n",
       "      <th>year</th>\n",
       "    </tr>\n",
       "  </thead>\n",
       "  <tbody>\n",
       "    <tr>\n",
       "      <th>9895</th>\n",
       "      <td>19120000.0</td>\n",
       "      <td>35</td>\n",
       "      <td>5.4</td>\n",
       "      <td>100 min</td>\n",
       "      <td>Man of the House</td>\n",
       "      <td>20030</td>\n",
       "      <td>2005</td>\n",
       "    </tr>\n",
       "    <tr>\n",
       "      <th>9896</th>\n",
       "      <td>90000.0</td>\n",
       "      <td>NaN</td>\n",
       "      <td>8.0</td>\n",
       "      <td>90 min</td>\n",
       "      <td>Hiroshima Mon Amour</td>\n",
       "      <td>20021</td>\n",
       "      <td>1959</td>\n",
       "    </tr>\n",
       "    <tr>\n",
       "      <th>9897</th>\n",
       "      <td>NaN</td>\n",
       "      <td>NaN</td>\n",
       "      <td>8.3</td>\n",
       "      <td>90 min</td>\n",
       "      <td>Neon Genesis Evangelion: The End of Evangelion</td>\n",
       "      <td>20007</td>\n",
       "      <td>1997</td>\n",
       "    </tr>\n",
       "    <tr>\n",
       "      <th>9898</th>\n",
       "      <td>260000.0</td>\n",
       "      <td>63</td>\n",
       "      <td>6.7</td>\n",
       "      <td>93 min</td>\n",
       "      <td>King of California</td>\n",
       "      <td>19997</td>\n",
       "      <td>2007</td>\n",
       "    </tr>\n",
       "    <tr>\n",
       "      <th>9899</th>\n",
       "      <td>NaN</td>\n",
       "      <td>NaN</td>\n",
       "      <td>7.7</td>\n",
       "      <td>85 min</td>\n",
       "      <td>Play It Again, Sam</td>\n",
       "      <td>19996</td>\n",
       "      <td>1972</td>\n",
       "    </tr>\n",
       "  </tbody>\n",
       "</table>\n",
       "</div>"
      ],
      "text/plain": [
       "           gross   metascore  rating  runtime  \\\n",
       "9895  19120000.0  35             5.4  100 min   \n",
       "9896     90000.0         NaN     8.0   90 min   \n",
       "9897         NaN         NaN     8.3   90 min   \n",
       "9898    260000.0  63             6.7   93 min   \n",
       "9899         NaN         NaN     7.7   85 min   \n",
       "\n",
       "                                               title  votes  year  \n",
       "9895                                Man of the House  20030  2005  \n",
       "9896                             Hiroshima Mon Amour  20021  1959  \n",
       "9897  Neon Genesis Evangelion: The End of Evangelion  20007  1997  \n",
       "9898                              King of California  19997  2007  \n",
       "9899                              Play It Again, Sam  19996  1972  "
      ]
     },
     "execution_count": 64,
     "metadata": {},
     "output_type": "execute_result"
    }
   ],
   "source": [
    "df.tail()"
   ]
  },
  {
   "cell_type": "code",
   "execution_count": 65,
   "metadata": {
    "collapsed": false
   },
   "outputs": [
    {
     "data": {
      "text/html": [
       "<div>\n",
       "<table border=\"1\" class=\"dataframe\">\n",
       "  <thead>\n",
       "    <tr style=\"text-align: right;\">\n",
       "      <th></th>\n",
       "      <th>gross</th>\n",
       "      <th>rating</th>\n",
       "      <th>votes</th>\n",
       "      <th>year</th>\n",
       "    </tr>\n",
       "  </thead>\n",
       "  <tbody>\n",
       "    <tr>\n",
       "      <th>count</th>\n",
       "      <td>6.699000e+03</td>\n",
       "      <td>9900.000000</td>\n",
       "      <td>9.900000e+03</td>\n",
       "      <td>9900.000000</td>\n",
       "    </tr>\n",
       "    <tr>\n",
       "      <th>mean</th>\n",
       "      <td>3.591706e+07</td>\n",
       "      <td>6.622596</td>\n",
       "      <td>5.412616e+04</td>\n",
       "      <td>1996.429293</td>\n",
       "    </tr>\n",
       "    <tr>\n",
       "      <th>std</th>\n",
       "      <td>5.924077e+07</td>\n",
       "      <td>1.060961</td>\n",
       "      <td>1.074613e+05</td>\n",
       "      <td>18.268252</td>\n",
       "    </tr>\n",
       "    <tr>\n",
       "      <th>min</th>\n",
       "      <td>0.000000e+00</td>\n",
       "      <td>1.100000</td>\n",
       "      <td>4.543000e+03</td>\n",
       "      <td>1915.000000</td>\n",
       "    </tr>\n",
       "    <tr>\n",
       "      <th>25%</th>\n",
       "      <td>NaN</td>\n",
       "      <td>6.000000</td>\n",
       "      <td>7.761750e+03</td>\n",
       "      <td>1989.000000</td>\n",
       "    </tr>\n",
       "    <tr>\n",
       "      <th>50%</th>\n",
       "      <td>NaN</td>\n",
       "      <td>6.700000</td>\n",
       "      <td>1.689400e+04</td>\n",
       "      <td>2002.000000</td>\n",
       "    </tr>\n",
       "    <tr>\n",
       "      <th>75%</th>\n",
       "      <td>NaN</td>\n",
       "      <td>7.400000</td>\n",
       "      <td>5.075100e+04</td>\n",
       "      <td>2009.000000</td>\n",
       "    </tr>\n",
       "    <tr>\n",
       "      <th>max</th>\n",
       "      <td>9.366300e+08</td>\n",
       "      <td>9.700000</td>\n",
       "      <td>1.722578e+06</td>\n",
       "      <td>2016.000000</td>\n",
       "    </tr>\n",
       "  </tbody>\n",
       "</table>\n",
       "</div>"
      ],
      "text/plain": [
       "              gross       rating         votes         year\n",
       "count  6.699000e+03  9900.000000  9.900000e+03  9900.000000\n",
       "mean   3.591706e+07     6.622596  5.412616e+04  1996.429293\n",
       "std    5.924077e+07     1.060961  1.074613e+05    18.268252\n",
       "min    0.000000e+00     1.100000  4.543000e+03  1915.000000\n",
       "25%             NaN     6.000000  7.761750e+03  1989.000000\n",
       "50%             NaN     6.700000  1.689400e+04  2002.000000\n",
       "75%             NaN     7.400000  5.075100e+04  2009.000000\n",
       "max    9.366300e+08     9.700000  1.722578e+06  2016.000000"
      ]
     },
     "execution_count": 65,
     "metadata": {},
     "output_type": "execute_result"
    }
   ],
   "source": [
    "df.describe()"
   ]
  },
  {
   "cell_type": "code",
   "execution_count": 66,
   "metadata": {
    "collapsed": false
   },
   "outputs": [
    {
     "data": {
      "text/plain": [
       "gross        6699\n",
       "metascore    5612\n",
       "rating       9900\n",
       "runtime      9900\n",
       "title        9900\n",
       "votes        9900\n",
       "year         9900\n",
       "dtype: int64"
      ]
     },
     "execution_count": 66,
     "metadata": {},
     "output_type": "execute_result"
    }
   ],
   "source": [
    "df.count()"
   ]
  },
  {
   "cell_type": "markdown",
   "metadata": {},
   "source": [
    "We have 4350 missing metascore values and 3255 missing gross values."
   ]
  },
  {
   "cell_type": "code",
   "execution_count": 252,
   "metadata": {
    "collapsed": true
   },
   "outputs": [],
   "source": [
    "# Change runtime to minutes\n",
    "def intminutes(x):\n",
    "    y = x.replace('min', '').strip()\n",
    "    return int(y)\n",
    "\n",
    "df.runtime = df.runtime.apply(intminutes)"
   ]
  },
  {
   "cell_type": "code",
   "execution_count": 253,
   "metadata": {
    "collapsed": true
   },
   "outputs": [],
   "source": [
    "# Change year to datetime\n",
    "df.year = pd.to_datetime(df.year)"
   ]
  },
  {
   "cell_type": "code",
   "execution_count": 242,
   "metadata": {
    "collapsed": false
   },
   "outputs": [
    {
     "data": {
      "text/plain": [
       "gross               float64\n",
       "metascore            object\n",
       "rating              float64\n",
       "runtime               int64\n",
       "title                object\n",
       "votes                 int64\n",
       "year         datetime64[ns]\n",
       "dtype: object"
      ]
     },
     "execution_count": 242,
     "metadata": {},
     "output_type": "execute_result"
    }
   ],
   "source": [
    "df.dtypes"
   ]
  },
  {
   "cell_type": "markdown",
   "metadata": {},
   "source": [
    "## Data Visualization"
   ]
  },
  {
   "cell_type": "code",
   "execution_count": 70,
   "metadata": {
    "collapsed": false
   },
   "outputs": [
    {
     "data": {
      "text/plain": [
       "<matplotlib.axes._subplots.AxesSubplot at 0x11905a890>"
      ]
     },
     "execution_count": 70,
     "metadata": {},
     "output_type": "execute_result"
    },
    {
     "data": {
      "image/png": "[encoded data removed]",
      "text/plain": [
       "<matplotlib.figure.Figure at 0x11b20e450>"
      ]
     },
     "metadata": {},
     "output_type": "display_data"
    }
   ],
   "source": [
    "df['year'].hist()"
   ]
  },
  {
   "cell_type": "code",
   "execution_count": 72,
   "metadata": {
    "collapsed": false
   },
   "outputs": [
    {
     "data": {
      "text/plain": [
       "<matplotlib.axes._subplots.AxesSubplot at 0x1194ea290>"
      ]
     },
     "execution_count": 72,
     "metadata": {},
     "output_type": "execute_result"
    },
    {
     "data": {
      "image/png": "[encoded data removed]",
      "text/plain": [
       "<matplotlib.figure.Figure at 0x119ba9450>"
      ]
     },
     "metadata": {},
     "output_type": "display_data"
    }
   ],
   "source": [
    "df['rating'].hist()"
   ]
  },
  {
   "cell_type": "code",
   "execution_count": 73,
   "metadata": {
    "collapsed": false
   },
   "outputs": [
    {
     "data": {
      "text/plain": [
       "<matplotlib.axes._subplots.AxesSubplot at 0x119ac5110>"
      ]
     },
     "execution_count": 73,
     "metadata": {},
     "output_type": "execute_result"
    },
    {
     "data": {
      "image/png": "[encoded data removed]",
      "text/plain": [
       "<matplotlib.figure.Figure at 0x11856e1d0>"
      ]
     },
     "metadata": {},
     "output_type": "display_data"
    }
   ],
   "source": [
    "df['gross'].hist()"
   ]
  },
  {
   "cell_type": "markdown",
   "metadata": {},
   "source": [
    "## Data Munging"
   ]
  },
  {
   "cell_type": "code",
   "execution_count": 127,
   "metadata": {
    "collapsed": false
   },
   "outputs": [
    {
     "data": {
      "text/html": [
       "<div>\n",
       "<table border=\"1\" class=\"dataframe\">\n",
       "  <thead>\n",
       "    <tr style=\"text-align: right;\">\n",
       "      <th></th>\n",
       "      <th>gross</th>\n",
       "      <th>metascore</th>\n",
       "      <th>rating</th>\n",
       "      <th>runtime</th>\n",
       "      <th>title</th>\n",
       "      <th>votes</th>\n",
       "      <th>year</th>\n",
       "    </tr>\n",
       "  </thead>\n",
       "  <tbody>\n",
       "    <tr>\n",
       "      <th>0</th>\n",
       "      <td>28340000.0</td>\n",
       "      <td>80</td>\n",
       "      <td>9.3</td>\n",
       "      <td>142</td>\n",
       "      <td>The Shawshank Redemption</td>\n",
       "      <td>1722578</td>\n",
       "      <td>1994</td>\n",
       "    </tr>\n",
       "    <tr>\n",
       "      <th>1</th>\n",
       "      <td>533320000.0</td>\n",
       "      <td>82</td>\n",
       "      <td>9.0</td>\n",
       "      <td>152</td>\n",
       "      <td>The Dark Knight</td>\n",
       "      <td>1708350</td>\n",
       "      <td>2008</td>\n",
       "    </tr>\n",
       "    <tr>\n",
       "      <th>2</th>\n",
       "      <td>292570000.0</td>\n",
       "      <td>74</td>\n",
       "      <td>8.8</td>\n",
       "      <td>148</td>\n",
       "      <td>Inception</td>\n",
       "      <td>1499024</td>\n",
       "      <td>2010</td>\n",
       "    </tr>\n",
       "    <tr>\n",
       "      <th>3</th>\n",
       "      <td>37020000.0</td>\n",
       "      <td>66</td>\n",
       "      <td>8.8</td>\n",
       "      <td>139</td>\n",
       "      <td>Fight Club</td>\n",
       "      <td>1375013</td>\n",
       "      <td>1999</td>\n",
       "    </tr>\n",
       "    <tr>\n",
       "      <th>4</th>\n",
       "      <td>107930000.0</td>\n",
       "      <td>94</td>\n",
       "      <td>8.9</td>\n",
       "      <td>154</td>\n",
       "      <td>Pulp Fiction</td>\n",
       "      <td>1349493</td>\n",
       "      <td>1994</td>\n",
       "    </tr>\n",
       "  </tbody>\n",
       "</table>\n",
       "</div>"
      ],
      "text/plain": [
       "         gross   metascore  rating  runtime                     title  \\\n",
       "0   28340000.0  80             9.3      142  The Shawshank Redemption   \n",
       "1  533320000.0  82             9.0      152           The Dark Knight   \n",
       "2  292570000.0  74             8.8      148                 Inception   \n",
       "3   37020000.0  66             8.8      139                Fight Club   \n",
       "4  107930000.0  94             8.9      154              Pulp Fiction   \n",
       "\n",
       "     votes  year  \n",
       "0  1722578  1994  \n",
       "1  1708350  2008  \n",
       "2  1499024  2010  \n",
       "3  1375013  1999  \n",
       "4  1349493  1994  "
      ]
     },
     "execution_count": 127,
     "metadata": {},
     "output_type": "execute_result"
    }
   ],
   "source": [
    "df.head()"
   ]
  },
  {
   "cell_type": "code",
   "execution_count": 199,
   "metadata": {
    "collapsed": false
   },
   "outputs": [],
   "source": [
    "bins = [1910, 1920, 1930, 1940, 1950, 1960, 1970, 1980, 1990, 2000, 2010, 2020]\n",
    "group_names = [str(x)+\"'s\" for x in bins][:-1]\n",
    "\n",
    "categories = pd.cut(df['year'], bins, labels=group_names)\n",
    "df['year'] = pd.cut(df['year'], bins, labels=group_names)"
   ]
  },
  {
   "cell_type": "code",
   "execution_count": 200,
   "metadata": {
    "collapsed": false
   },
   "outputs": [
    {
     "data": {
      "text/plain": [
       "2000's    3319\n",
       "2010's    2103\n",
       "1990's    1843\n",
       "1980's    1051\n",
       "1970's     546\n",
       "1960's     393\n",
       "1950's     290\n",
       "1940's     185\n",
       "1930's     125\n",
       "1920's      40\n",
       "1910's       5\n",
       "Name: year, dtype: int64"
      ]
     },
     "execution_count": 200,
     "metadata": {},
     "output_type": "execute_result"
    }
   ],
   "source": [
    "pd.value_counts(df['year'])"
   ]
  },
  {
   "cell_type": "code",
   "execution_count": 167,
   "metadata": {
    "collapsed": false
   },
   "outputs": [
    {
     "data": {
      "text/plain": [
       "<matplotlib.text.Text at 0x121591d90>"
      ]
     },
     "execution_count": 167,
     "metadata": {},
     "output_type": "execute_result"
    },
    {
     "data": {
      "image/png": "[encoded data removed]",
      "text/plain": [
       "<matplotlib.figure.Figure at 0x11fe8ead0>"
      ]
     },
     "metadata": {},
     "output_type": "display_data"
    }
   ],
   "source": [
    "df_filtered = df.dropna()\n",
    "sns.lmplot('votes', 'rating', \n",
    "           data=df_filtered, \n",
    "           fit_reg=False, \n",
    "           hue=\"year\",\n",
    "           size=11,\n",
    "           scatter_kws={\"s\": 10})\n",
    "plt.title('Score vs Vote Count')\n",
    "plt.xlabel('Votes')\n",
    "plt.ylabel('Rating')"
   ]
  },
  {
   "cell_type": "code",
   "execution_count": 201,
   "metadata": {
    "collapsed": false
   },
   "outputs": [
    {
     "name": "stdout",
     "output_type": "stream",
     "text": [
      "<class 'pandas.core.frame.DataFrame'>\n",
      "RangeIndex: 9900 entries, 0 to 9899\n",
      "Data columns (total 18 columns):\n",
      "gross          6699 non-null float64\n",
      "metascore      5612 non-null object\n",
      "rating         9900 non-null float64\n",
      "runtime        9900 non-null int64\n",
      "title          9900 non-null object\n",
      "votes          9900 non-null int64\n",
      "year           9900 non-null category\n",
      "Year_1910's    9900 non-null float64\n",
      "Year_1920's    9900 non-null float64\n",
      "Year_1930's    9900 non-null float64\n",
      "Year_1940's    9900 non-null float64\n",
      "Year_1950's    9900 non-null float64\n",
      "Year_1960's    9900 non-null float64\n",
      "Year_1970's    9900 non-null float64\n",
      "Year_1980's    9900 non-null float64\n",
      "Year_1990's    9900 non-null float64\n",
      "Year_2000's    9900 non-null float64\n",
      "Year_2010's    9900 non-null float64\n",
      "dtypes: category(1), float64(13), int64(2), object(2)\n",
      "memory usage: 1.3+ MB\n"
     ]
    }
   ],
   "source": [
    "df_year = pd.get_dummies(df['year'], prefix='Year')\n",
    "df = df.join(df_year.ix[:, :\"Year_2010's\"])\n",
    "df.info()"
   ]
  },
  {
   "cell_type": "code",
   "execution_count": 202,
   "metadata": {
    "collapsed": true
   },
   "outputs": [],
   "source": [
    "bins = [1000000, 10000000, 25000000, 50000000, 75000000, 100000000]\n",
    "group_names = [str(x) for x in bins][:-1]\n",
    "\n",
    "categories = pd.cut(df['gross'], bins, labels=group_names)\n",
    "df['gross'] = pd.cut(df['gross'], bins, labels=group_names)"
   ]
  },
  {
   "cell_type": "code",
   "execution_count": 203,
   "metadata": {
    "collapsed": false
   },
   "outputs": [
    {
     "name": "stdout",
     "output_type": "stream",
     "text": [
      "<class 'pandas.core.frame.DataFrame'>\n",
      "RangeIndex: 9900 entries, 0 to 9899\n",
      "Data columns (total 23 columns):\n",
      "gross             4604 non-null category\n",
      "metascore         5612 non-null object\n",
      "rating            9900 non-null float64\n",
      "runtime           9900 non-null int64\n",
      "title             9900 non-null object\n",
      "votes             9900 non-null int64\n",
      "year              9900 non-null category\n",
      "Year_1910's       9900 non-null float64\n",
      "Year_1920's       9900 non-null float64\n",
      "Year_1930's       9900 non-null float64\n",
      "Year_1940's       9900 non-null float64\n",
      "Year_1950's       9900 non-null float64\n",
      "Year_1960's       9900 non-null float64\n",
      "Year_1970's       9900 non-null float64\n",
      "Year_1980's       9900 non-null float64\n",
      "Year_1990's       9900 non-null float64\n",
      "Year_2000's       9900 non-null float64\n",
      "Year_2010's       9900 non-null float64\n",
      "Gross_1000000     9900 non-null float64\n",
      "Gross_10000000    9900 non-null float64\n",
      "Gross_25000000    9900 non-null float64\n",
      "Gross_50000000    9900 non-null float64\n",
      "Gross_75000000    9900 non-null float64\n",
      "dtypes: category(2), float64(17), int64(2), object(2)\n",
      "memory usage: 1.6+ MB\n"
     ]
    }
   ],
   "source": [
    "df_gross = pd.get_dummies(df['gross'], prefix='Gross')\n",
    "df = df.join(df_gross.ix[:, :\"gross_75000000\"])\n",
    "df.info()"
   ]
  },
  {
   "cell_type": "code",
   "execution_count": 171,
   "metadata": {
    "collapsed": false
   },
   "outputs": [
    {
     "data": {
      "text/html": [
       "<div>\n",
       "<table border=\"1\" class=\"dataframe\">\n",
       "  <thead>\n",
       "    <tr style=\"text-align: right;\">\n",
       "      <th></th>\n",
       "      <th>gross</th>\n",
       "      <th>metascore</th>\n",
       "      <th>rating</th>\n",
       "      <th>runtime</th>\n",
       "      <th>title</th>\n",
       "      <th>votes</th>\n",
       "      <th>year</th>\n",
       "      <th>Year_1910's</th>\n",
       "      <th>Year_1920's</th>\n",
       "      <th>Year_1930's</th>\n",
       "      <th>...</th>\n",
       "      <th>Year_1970's</th>\n",
       "      <th>Year_1980's</th>\n",
       "      <th>Year_1990's</th>\n",
       "      <th>Year_2000's</th>\n",
       "      <th>Year_2010's</th>\n",
       "      <th>Gross_1000000</th>\n",
       "      <th>Gross_10000000</th>\n",
       "      <th>Gross_25000000</th>\n",
       "      <th>Gross_50000000</th>\n",
       "      <th>Gross_75000000</th>\n",
       "    </tr>\n",
       "  </thead>\n",
       "  <tbody>\n",
       "    <tr>\n",
       "      <th>0</th>\n",
       "      <td>25000000</td>\n",
       "      <td>80</td>\n",
       "      <td>9.3</td>\n",
       "      <td>142</td>\n",
       "      <td>The Shawshank Redemption</td>\n",
       "      <td>1722578</td>\n",
       "      <td>1990's</td>\n",
       "      <td>0.0</td>\n",
       "      <td>0.0</td>\n",
       "      <td>0.0</td>\n",
       "      <td>...</td>\n",
       "      <td>0.0</td>\n",
       "      <td>0.0</td>\n",
       "      <td>1.0</td>\n",
       "      <td>0.0</td>\n",
       "      <td>0.0</td>\n",
       "      <td>0.0</td>\n",
       "      <td>0.0</td>\n",
       "      <td>1.0</td>\n",
       "      <td>0.0</td>\n",
       "      <td>0.0</td>\n",
       "    </tr>\n",
       "    <tr>\n",
       "      <th>1</th>\n",
       "      <td>NaN</td>\n",
       "      <td>82</td>\n",
       "      <td>9.0</td>\n",
       "      <td>152</td>\n",
       "      <td>The Dark Knight</td>\n",
       "      <td>1708350</td>\n",
       "      <td>2000's</td>\n",
       "      <td>0.0</td>\n",
       "      <td>0.0</td>\n",
       "      <td>0.0</td>\n",
       "      <td>...</td>\n",
       "      <td>0.0</td>\n",
       "      <td>0.0</td>\n",
       "      <td>0.0</td>\n",
       "      <td>1.0</td>\n",
       "      <td>0.0</td>\n",
       "      <td>0.0</td>\n",
       "      <td>0.0</td>\n",
       "      <td>0.0</td>\n",
       "      <td>0.0</td>\n",
       "      <td>0.0</td>\n",
       "    </tr>\n",
       "    <tr>\n",
       "      <th>2</th>\n",
       "      <td>NaN</td>\n",
       "      <td>74</td>\n",
       "      <td>8.8</td>\n",
       "      <td>148</td>\n",
       "      <td>Inception</td>\n",
       "      <td>1499024</td>\n",
       "      <td>2000's</td>\n",
       "      <td>0.0</td>\n",
       "      <td>0.0</td>\n",
       "      <td>0.0</td>\n",
       "      <td>...</td>\n",
       "      <td>0.0</td>\n",
       "      <td>0.0</td>\n",
       "      <td>0.0</td>\n",
       "      <td>1.0</td>\n",
       "      <td>0.0</td>\n",
       "      <td>0.0</td>\n",
       "      <td>0.0</td>\n",
       "      <td>0.0</td>\n",
       "      <td>0.0</td>\n",
       "      <td>0.0</td>\n",
       "    </tr>\n",
       "    <tr>\n",
       "      <th>3</th>\n",
       "      <td>25000000</td>\n",
       "      <td>66</td>\n",
       "      <td>8.8</td>\n",
       "      <td>139</td>\n",
       "      <td>Fight Club</td>\n",
       "      <td>1375013</td>\n",
       "      <td>1990's</td>\n",
       "      <td>0.0</td>\n",
       "      <td>0.0</td>\n",
       "      <td>0.0</td>\n",
       "      <td>...</td>\n",
       "      <td>0.0</td>\n",
       "      <td>0.0</td>\n",
       "      <td>1.0</td>\n",
       "      <td>0.0</td>\n",
       "      <td>0.0</td>\n",
       "      <td>0.0</td>\n",
       "      <td>0.0</td>\n",
       "      <td>1.0</td>\n",
       "      <td>0.0</td>\n",
       "      <td>0.0</td>\n",
       "    </tr>\n",
       "    <tr>\n",
       "      <th>4</th>\n",
       "      <td>NaN</td>\n",
       "      <td>94</td>\n",
       "      <td>8.9</td>\n",
       "      <td>154</td>\n",
       "      <td>Pulp Fiction</td>\n",
       "      <td>1349493</td>\n",
       "      <td>1990's</td>\n",
       "      <td>0.0</td>\n",
       "      <td>0.0</td>\n",
       "      <td>0.0</td>\n",
       "      <td>...</td>\n",
       "      <td>0.0</td>\n",
       "      <td>0.0</td>\n",
       "      <td>1.0</td>\n",
       "      <td>0.0</td>\n",
       "      <td>0.0</td>\n",
       "      <td>0.0</td>\n",
       "      <td>0.0</td>\n",
       "      <td>0.0</td>\n",
       "      <td>0.0</td>\n",
       "      <td>0.0</td>\n",
       "    </tr>\n",
       "  </tbody>\n",
       "</table>\n",
       "<p>5 rows × 23 columns</p>\n",
       "</div>"
      ],
      "text/plain": [
       "      gross   metascore  rating  runtime                     title    votes  \\\n",
       "0  25000000  80             9.3      142  The Shawshank Redemption  1722578   \n",
       "1       NaN  82             9.0      152           The Dark Knight  1708350   \n",
       "2       NaN  74             8.8      148                 Inception  1499024   \n",
       "3  25000000  66             8.8      139                Fight Club  1375013   \n",
       "4       NaN  94             8.9      154              Pulp Fiction  1349493   \n",
       "\n",
       "     year  Year_1910's  Year_1920's  Year_1930's       ...        Year_1970's  \\\n",
       "0  1990's          0.0          0.0          0.0       ...                0.0   \n",
       "1  2000's          0.0          0.0          0.0       ...                0.0   \n",
       "2  2000's          0.0          0.0          0.0       ...                0.0   \n",
       "3  1990's          0.0          0.0          0.0       ...                0.0   \n",
       "4  1990's          0.0          0.0          0.0       ...                0.0   \n",
       "\n",
       "   Year_1980's  Year_1990's  Year_2000's  Year_2010's  Gross_1000000  \\\n",
       "0          0.0          1.0          0.0          0.0            0.0   \n",
       "1          0.0          0.0          1.0          0.0            0.0   \n",
       "2          0.0          0.0          1.0          0.0            0.0   \n",
       "3          0.0          1.0          0.0          0.0            0.0   \n",
       "4          0.0          1.0          0.0          0.0            0.0   \n",
       "\n",
       "   Gross_10000000  Gross_25000000  Gross_50000000  Gross_75000000  \n",
       "0             0.0             1.0             0.0             0.0  \n",
       "1             0.0             0.0             0.0             0.0  \n",
       "2             0.0             0.0             0.0             0.0  \n",
       "3             0.0             1.0             0.0             0.0  \n",
       "4             0.0             0.0             0.0             0.0  \n",
       "\n",
       "[5 rows x 23 columns]"
      ]
     },
     "execution_count": 171,
     "metadata": {},
     "output_type": "execute_result"
    }
   ],
   "source": [
    "df.head()"
   ]
  },
  {
   "cell_type": "markdown",
   "metadata": {},
   "source": []
  },
  {
   "cell_type": "code",
   "execution_count": 120,
   "metadata": {
    "collapsed": false
   },
   "outputs": [],
   "source": []
  },
  {
   "cell_type": "code",
   "execution_count": 254,
   "metadata": {
    "collapsed": false
   },
   "outputs": [],
   "source": [
    "df['runtime_2hrs'] = df['runtime'] > 120"
   ]
  },
  {
   "cell_type": "code",
   "execution_count": 255,
   "metadata": {
    "collapsed": false
   },
   "outputs": [
    {
     "data": {
      "text/html": [
       "<div>\n",
       "<table border=\"1\" class=\"dataframe\">\n",
       "  <thead>\n",
       "    <tr style=\"text-align: right;\">\n",
       "      <th></th>\n",
       "      <th>gross</th>\n",
       "      <th>metascore</th>\n",
       "      <th>rating</th>\n",
       "      <th>runtime</th>\n",
       "      <th>title</th>\n",
       "      <th>votes</th>\n",
       "      <th>year</th>\n",
       "      <th>runtime_2hrs</th>\n",
       "    </tr>\n",
       "  </thead>\n",
       "  <tbody>\n",
       "    <tr>\n",
       "      <th>0</th>\n",
       "      <td>28340000.0</td>\n",
       "      <td>80</td>\n",
       "      <td>9.3</td>\n",
       "      <td>142</td>\n",
       "      <td>The Shawshank Redemption</td>\n",
       "      <td>1722578</td>\n",
       "      <td>1970-01-01 00:00:00.000001994</td>\n",
       "      <td>1</td>\n",
       "    </tr>\n",
       "    <tr>\n",
       "      <th>1</th>\n",
       "      <td>533320000.0</td>\n",
       "      <td>82</td>\n",
       "      <td>9.0</td>\n",
       "      <td>152</td>\n",
       "      <td>The Dark Knight</td>\n",
       "      <td>1708350</td>\n",
       "      <td>1970-01-01 00:00:00.000002008</td>\n",
       "      <td>1</td>\n",
       "    </tr>\n",
       "    <tr>\n",
       "      <th>2</th>\n",
       "      <td>292570000.0</td>\n",
       "      <td>74</td>\n",
       "      <td>8.8</td>\n",
       "      <td>148</td>\n",
       "      <td>Inception</td>\n",
       "      <td>1499024</td>\n",
       "      <td>1970-01-01 00:00:00.000002010</td>\n",
       "      <td>1</td>\n",
       "    </tr>\n",
       "    <tr>\n",
       "      <th>3</th>\n",
       "      <td>37020000.0</td>\n",
       "      <td>66</td>\n",
       "      <td>8.8</td>\n",
       "      <td>139</td>\n",
       "      <td>Fight Club</td>\n",
       "      <td>1375013</td>\n",
       "      <td>1970-01-01 00:00:00.000001999</td>\n",
       "      <td>1</td>\n",
       "    </tr>\n",
       "    <tr>\n",
       "      <th>4</th>\n",
       "      <td>107930000.0</td>\n",
       "      <td>94</td>\n",
       "      <td>8.9</td>\n",
       "      <td>154</td>\n",
       "      <td>Pulp Fiction</td>\n",
       "      <td>1349493</td>\n",
       "      <td>1970-01-01 00:00:00.000001994</td>\n",
       "      <td>1</td>\n",
       "    </tr>\n",
       "  </tbody>\n",
       "</table>\n",
       "</div>"
      ],
      "text/plain": [
       "         gross   metascore  rating  runtime                     title  \\\n",
       "0   28340000.0  80             9.3      142  The Shawshank Redemption   \n",
       "1  533320000.0  82             9.0      152           The Dark Knight   \n",
       "2  292570000.0  74             8.8      148                 Inception   \n",
       "3   37020000.0  66             8.8      139                Fight Club   \n",
       "4  107930000.0  94             8.9      154              Pulp Fiction   \n",
       "\n",
       "     votes                          year  runtime_2hrs  \n",
       "0  1722578 1970-01-01 00:00:00.000001994             1  \n",
       "1  1708350 1970-01-01 00:00:00.000002008             1  \n",
       "2  1499024 1970-01-01 00:00:00.000002010             1  \n",
       "3  1375013 1970-01-01 00:00:00.000001999             1  \n",
       "4  1349493 1970-01-01 00:00:00.000001994             1  "
      ]
     },
     "execution_count": 255,
     "metadata": {},
     "output_type": "execute_result"
    }
   ],
   "source": [
    "df.runtime_2hrs = df.runtime_2hrs.astype(int)\n",
    "df.head()"
   ]
  },
  {
   "cell_type": "code",
   "execution_count": 216,
   "metadata": {
    "collapsed": true
   },
   "outputs": [],
   "source": [
    "bins = list(np.arange(0, 10.1,0.5))\n",
    "group_names = [str(x) for x in bins][:-1]\n",
    "\n",
    "categories = pd.cut(df['rating'], bins, labels=group_names)\n",
    "df['rating'] = pd.cut(df['rating'], bins, labels=group_names)"
   ]
  },
  {
   "cell_type": "code",
   "execution_count": 217,
   "metadata": {
    "collapsed": false
   },
   "outputs": [
    {
     "data": {
      "text/html": [
       "<div>\n",
       "<table border=\"1\" class=\"dataframe\">\n",
       "  <thead>\n",
       "    <tr style=\"text-align: right;\">\n",
       "      <th></th>\n",
       "      <th>gross</th>\n",
       "      <th>metascore</th>\n",
       "      <th>rating</th>\n",
       "      <th>runtime</th>\n",
       "      <th>title</th>\n",
       "      <th>votes</th>\n",
       "      <th>year</th>\n",
       "      <th>Year_1910's</th>\n",
       "      <th>Year_1920's</th>\n",
       "      <th>Year_1930's</th>\n",
       "      <th>...</th>\n",
       "      <th>Year_1970's</th>\n",
       "      <th>Year_1980's</th>\n",
       "      <th>Year_1990's</th>\n",
       "      <th>Year_2000's</th>\n",
       "      <th>Year_2010's</th>\n",
       "      <th>Gross_1000000</th>\n",
       "      <th>Gross_10000000</th>\n",
       "      <th>Gross_25000000</th>\n",
       "      <th>Gross_50000000</th>\n",
       "      <th>Gross_75000000</th>\n",
       "    </tr>\n",
       "  </thead>\n",
       "  <tbody>\n",
       "    <tr>\n",
       "      <th>0</th>\n",
       "      <td>25000000</td>\n",
       "      <td>80</td>\n",
       "      <td>9.0</td>\n",
       "      <td>142</td>\n",
       "      <td>The Shawshank Redemption</td>\n",
       "      <td>1722578</td>\n",
       "      <td>1990's</td>\n",
       "      <td>0.0</td>\n",
       "      <td>0.0</td>\n",
       "      <td>0.0</td>\n",
       "      <td>...</td>\n",
       "      <td>0.0</td>\n",
       "      <td>0.0</td>\n",
       "      <td>1.0</td>\n",
       "      <td>0.0</td>\n",
       "      <td>0.0</td>\n",
       "      <td>0.0</td>\n",
       "      <td>0.0</td>\n",
       "      <td>1.0</td>\n",
       "      <td>0.0</td>\n",
       "      <td>0.0</td>\n",
       "    </tr>\n",
       "    <tr>\n",
       "      <th>1</th>\n",
       "      <td>NaN</td>\n",
       "      <td>82</td>\n",
       "      <td>8.5</td>\n",
       "      <td>152</td>\n",
       "      <td>The Dark Knight</td>\n",
       "      <td>1708350</td>\n",
       "      <td>2000's</td>\n",
       "      <td>0.0</td>\n",
       "      <td>0.0</td>\n",
       "      <td>0.0</td>\n",
       "      <td>...</td>\n",
       "      <td>0.0</td>\n",
       "      <td>0.0</td>\n",
       "      <td>0.0</td>\n",
       "      <td>1.0</td>\n",
       "      <td>0.0</td>\n",
       "      <td>0.0</td>\n",
       "      <td>0.0</td>\n",
       "      <td>0.0</td>\n",
       "      <td>0.0</td>\n",
       "      <td>0.0</td>\n",
       "    </tr>\n",
       "    <tr>\n",
       "      <th>2</th>\n",
       "      <td>NaN</td>\n",
       "      <td>74</td>\n",
       "      <td>8.5</td>\n",
       "      <td>148</td>\n",
       "      <td>Inception</td>\n",
       "      <td>1499024</td>\n",
       "      <td>2000's</td>\n",
       "      <td>0.0</td>\n",
       "      <td>0.0</td>\n",
       "      <td>0.0</td>\n",
       "      <td>...</td>\n",
       "      <td>0.0</td>\n",
       "      <td>0.0</td>\n",
       "      <td>0.0</td>\n",
       "      <td>1.0</td>\n",
       "      <td>0.0</td>\n",
       "      <td>0.0</td>\n",
       "      <td>0.0</td>\n",
       "      <td>0.0</td>\n",
       "      <td>0.0</td>\n",
       "      <td>0.0</td>\n",
       "    </tr>\n",
       "    <tr>\n",
       "      <th>3</th>\n",
       "      <td>25000000</td>\n",
       "      <td>66</td>\n",
       "      <td>8.5</td>\n",
       "      <td>139</td>\n",
       "      <td>Fight Club</td>\n",
       "      <td>1375013</td>\n",
       "      <td>1990's</td>\n",
       "      <td>0.0</td>\n",
       "      <td>0.0</td>\n",
       "      <td>0.0</td>\n",
       "      <td>...</td>\n",
       "      <td>0.0</td>\n",
       "      <td>0.0</td>\n",
       "      <td>1.0</td>\n",
       "      <td>0.0</td>\n",
       "      <td>0.0</td>\n",
       "      <td>0.0</td>\n",
       "      <td>0.0</td>\n",
       "      <td>1.0</td>\n",
       "      <td>0.0</td>\n",
       "      <td>0.0</td>\n",
       "    </tr>\n",
       "    <tr>\n",
       "      <th>4</th>\n",
       "      <td>NaN</td>\n",
       "      <td>94</td>\n",
       "      <td>8.5</td>\n",
       "      <td>154</td>\n",
       "      <td>Pulp Fiction</td>\n",
       "      <td>1349493</td>\n",
       "      <td>1990's</td>\n",
       "      <td>0.0</td>\n",
       "      <td>0.0</td>\n",
       "      <td>0.0</td>\n",
       "      <td>...</td>\n",
       "      <td>0.0</td>\n",
       "      <td>0.0</td>\n",
       "      <td>1.0</td>\n",
       "      <td>0.0</td>\n",
       "      <td>0.0</td>\n",
       "      <td>0.0</td>\n",
       "      <td>0.0</td>\n",
       "      <td>0.0</td>\n",
       "      <td>0.0</td>\n",
       "      <td>0.0</td>\n",
       "    </tr>\n",
       "  </tbody>\n",
       "</table>\n",
       "<p>5 rows × 23 columns</p>\n",
       "</div>"
      ],
      "text/plain": [
       "      gross   metascore rating  runtime                     title    votes  \\\n",
       "0  25000000  80            9.0      142  The Shawshank Redemption  1722578   \n",
       "1       NaN  82            8.5      152           The Dark Knight  1708350   \n",
       "2       NaN  74            8.5      148                 Inception  1499024   \n",
       "3  25000000  66            8.5      139                Fight Club  1375013   \n",
       "4       NaN  94            8.5      154              Pulp Fiction  1349493   \n",
       "\n",
       "     year  Year_1910's  Year_1920's  Year_1930's       ...        Year_1970's  \\\n",
       "0  1990's          0.0          0.0          0.0       ...                0.0   \n",
       "1  2000's          0.0          0.0          0.0       ...                0.0   \n",
       "2  2000's          0.0          0.0          0.0       ...                0.0   \n",
       "3  1990's          0.0          0.0          0.0       ...                0.0   \n",
       "4  1990's          0.0          0.0          0.0       ...                0.0   \n",
       "\n",
       "   Year_1980's  Year_1990's  Year_2000's  Year_2010's  Gross_1000000  \\\n",
       "0          0.0          1.0          0.0          0.0            0.0   \n",
       "1          0.0          0.0          1.0          0.0            0.0   \n",
       "2          0.0          0.0          1.0          0.0            0.0   \n",
       "3          0.0          1.0          0.0          0.0            0.0   \n",
       "4          0.0          1.0          0.0          0.0            0.0   \n",
       "\n",
       "   Gross_10000000  Gross_25000000  Gross_50000000  Gross_75000000  \n",
       "0             0.0             1.0             0.0             0.0  \n",
       "1             0.0             0.0             0.0             0.0  \n",
       "2             0.0             0.0             0.0             0.0  \n",
       "3             0.0             1.0             0.0             0.0  \n",
       "4             0.0             0.0             0.0             0.0  \n",
       "\n",
       "[5 rows x 23 columns]"
      ]
     },
     "execution_count": 217,
     "metadata": {},
     "output_type": "execute_result"
    }
   ],
   "source": [
    "df.head()"
   ]
  },
  {
   "cell_type": "code",
   "execution_count": 247,
   "metadata": {
    "collapsed": true
   },
   "outputs": [],
   "source": [
    "df['hit'] = df['rating'] > 7.9\n",
    "df.hit = df.hit.astype(int)"
   ]
  },
  {
   "cell_type": "markdown",
   "metadata": {},
   "source": [
    "## Modeling\n",
    "I don't like the idea of dropping all the nans, so after a bit of research I am going to fill the values using Imputation and compare the scores of each type of regression."
   ]
  },
  {
   "cell_type": "code",
   "execution_count": 243,
   "metadata": {
    "collapsed": false
   },
   "outputs": [
    {
     "data": {
      "text/html": [
       "<div>\n",
       "<table border=\"1\" class=\"dataframe\">\n",
       "  <thead>\n",
       "    <tr style=\"text-align: right;\">\n",
       "      <th></th>\n",
       "      <th>gross</th>\n",
       "      <th>metascore</th>\n",
       "      <th>rating</th>\n",
       "      <th>runtime</th>\n",
       "      <th>title</th>\n",
       "      <th>votes</th>\n",
       "      <th>year</th>\n",
       "    </tr>\n",
       "  </thead>\n",
       "  <tbody>\n",
       "    <tr>\n",
       "      <th>0</th>\n",
       "      <td>28340000.0</td>\n",
       "      <td>80</td>\n",
       "      <td>9.3</td>\n",
       "      <td>142</td>\n",
       "      <td>The Shawshank Redemption</td>\n",
       "      <td>1722578</td>\n",
       "      <td>1970-01-01 00:00:00.000001994</td>\n",
       "    </tr>\n",
       "    <tr>\n",
       "      <th>1</th>\n",
       "      <td>533320000.0</td>\n",
       "      <td>82</td>\n",
       "      <td>9.0</td>\n",
       "      <td>152</td>\n",
       "      <td>The Dark Knight</td>\n",
       "      <td>1708350</td>\n",
       "      <td>1970-01-01 00:00:00.000002008</td>\n",
       "    </tr>\n",
       "    <tr>\n",
       "      <th>2</th>\n",
       "      <td>292570000.0</td>\n",
       "      <td>74</td>\n",
       "      <td>8.8</td>\n",
       "      <td>148</td>\n",
       "      <td>Inception</td>\n",
       "      <td>1499024</td>\n",
       "      <td>1970-01-01 00:00:00.000002010</td>\n",
       "    </tr>\n",
       "    <tr>\n",
       "      <th>3</th>\n",
       "      <td>37020000.0</td>\n",
       "      <td>66</td>\n",
       "      <td>8.8</td>\n",
       "      <td>139</td>\n",
       "      <td>Fight Club</td>\n",
       "      <td>1375013</td>\n",
       "      <td>1970-01-01 00:00:00.000001999</td>\n",
       "    </tr>\n",
       "    <tr>\n",
       "      <th>4</th>\n",
       "      <td>107930000.0</td>\n",
       "      <td>94</td>\n",
       "      <td>8.9</td>\n",
       "      <td>154</td>\n",
       "      <td>Pulp Fiction</td>\n",
       "      <td>1349493</td>\n",
       "      <td>1970-01-01 00:00:00.000001994</td>\n",
       "    </tr>\n",
       "  </tbody>\n",
       "</table>\n",
       "</div>"
      ],
      "text/plain": [
       "         gross   metascore  rating  runtime                     title  \\\n",
       "0   28340000.0  80             9.3      142  The Shawshank Redemption   \n",
       "1  533320000.0  82             9.0      152           The Dark Knight   \n",
       "2  292570000.0  74             8.8      148                 Inception   \n",
       "3   37020000.0  66             8.8      139                Fight Club   \n",
       "4  107930000.0  94             8.9      154              Pulp Fiction   \n",
       "\n",
       "     votes                          year  \n",
       "0  1722578 1970-01-01 00:00:00.000001994  \n",
       "1  1708350 1970-01-01 00:00:00.000002008  \n",
       "2  1499024 1970-01-01 00:00:00.000002010  \n",
       "3  1375013 1970-01-01 00:00:00.000001999  \n",
       "4  1349493 1970-01-01 00:00:00.000001994  "
      ]
     },
     "execution_count": 243,
     "metadata": {},
     "output_type": "execute_result"
    }
   ],
   "source": [
    "df.head()"
   ]
  },
  {
   "cell_type": "code",
   "execution_count": 205,
   "metadata": {
    "collapsed": true
   },
   "outputs": [],
   "source": [
    "from sklearn.tree import DecisionTreeClassifier\n",
    "from sklearn.ensemble import RandomForestClassifier, ExtraTreesClassifier, BaggingClassifier\n",
    "\n",
    "def cross_val(model, X, y):\n",
    "    s = cross_val_score(model, X, y)\n",
    "    print(\"{} Score:\\t{:0.3} ± {:0.3}\".format(type(model), s.mean().round(3), s.std().round(3)))"
   ]
  },
  {
   "cell_type": "code",
   "execution_count": 250,
   "metadata": {
    "collapsed": false
   },
   "outputs": [
    {
     "name": "stdout",
     "output_type": "stream",
     "text": [
      "<class 'sklearn.tree.tree.DecisionTreeClassifier'> Score:\t0.863 ± 0.076\n",
      "<class 'sklearn.ensemble.forest.RandomForestRegressor'> Score:\t0.145 ± 0.118\n",
      "<class 'sklearn.ensemble.bagging.BaggingClassifier'> Score:\t0.889 ± 0.052\n",
      "<class 'sklearn.ensemble.forest.RandomForestClassifier'> Score:\t0.887 ± 0.065\n",
      "<class 'sklearn.ensemble.forest.ExtraTreesClassifier'> Score:\t0.881 ± 0.071\n"
     ]
    }
   ],
   "source": [
    "from sklearn.pipeline import Pipeline\n",
    "from sklearn.preprocessing import Imputer\n",
    "nc = [x for x in df.columns if x in ['gross', 'runtime', 'metascore', 'votes']]\n",
    "# Estimate the scores without the missing values\n",
    "df_filtered = df.dropna()\n",
    "X_filtered = df_filtered[nc]\n",
    "y_filtered = df_filtered.hit\n",
    "\n",
    "dt = DecisionTreeClassifier(class_weight='balanced')\n",
    "cross_val(dt, X_filtered, y_filtered)\n",
    "rforest = RandomForestRegressor(random_state=0, n_estimators=100)\n",
    "cross_val(rforest, X_filtered, y_filtered)\n",
    "bagger = BaggingClassifier(dt, max_samples=1.0)\n",
    "cross_val(bagger, X_filtered, y_filtered)\n",
    "forest = RandomForestClassifier(class_weight='balanced', n_jobs=-1, n_estimators=10)\n",
    "cross_val(forest, X_filtered, y_filtered)\n",
    "trees = ExtraTreesClassifier(class_weight='balanced', n_jobs=-1)\n",
    "cross_val(trees, X_filtered, y_filtered)\n"
   ]
  },
  {
   "cell_type": "code",
   "execution_count": 249,
   "metadata": {
    "collapsed": false
   },
   "outputs": [
    {
     "name": "stdout",
     "output_type": "stream",
     "text": [
      "<class 'sklearn.pipeline.Pipeline'> Score:\t0.521 ± 0.284\n",
      "<class 'sklearn.pipeline.Pipeline'> Score:\t-0.249 ± 0.218\n",
      "<class 'sklearn.pipeline.Pipeline'> Score:\t0.53 ± 0.278\n",
      "<class 'sklearn.pipeline.Pipeline'> Score:\t0.558 ± 0.261\n",
      "<class 'sklearn.pipeline.Pipeline'> Score:\t0.61 ± 0.218\n"
     ]
    }
   ],
   "source": [
    "# Estimate the scores after imputation of the missing values\n",
    "X_full, y_full = df[nc], df.hit\n",
    "\n",
    "estimator = Pipeline([(\"imputer\", Imputer(missing_values=0, strategy=\"mean\",axis=0)),\n",
    "                      (\"forest\", DecisionTreeClassifier(class_weight='balanced'))])\n",
    "cross_val(estimator, X_full, y_full)\n",
    "\n",
    "estimator = Pipeline([(\"imputer\", Imputer(missing_values=0, strategy=\"mean\",axis=0)),\n",
    "                      (\"forest\", RandomForestRegressor(random_state=0, n_estimators=100))])\n",
    "cross_val(estimator, X_full, y_full)\n",
    "\n",
    "estimator = Pipeline([(\"imputer\", Imputer(missing_values=0, strategy=\"mean\",axis=0)),\n",
    "                      (\"forest\", bagger)])\n",
    "cross_val(estimator, X_full, y_full)\n",
    "estimator = Pipeline([(\"imputer\", Imputer(missing_values=0, strategy=\"mean\",axis=0)),\n",
    "                      (\"forest\", forest)])\n",
    "cross_val(estimator, X_full, y_full)\n",
    "estimator = Pipeline([(\"imputer\", Imputer(missing_values=0, strategy=\"mean\",axis=0)),\n",
    "                      (\"forest\", trees)])\n",
    "cross_val(estimator, X_full, y_full)\n"
   ]
  },
  {
   "cell_type": "code",
   "execution_count": 49,
   "metadata": {
    "collapsed": true
   },
   "outputs": [],
   "source": [
    "# It is clear that it would be better to drop the missing values"
   ]
  },
  {
   "cell_type": "code",
   "execution_count": 194,
   "metadata": {
    "collapsed": true
   },
   "outputs": [],
   "source": [
    "from sklearn.ensemble import GradientBoostingClassifier, AdaBoostClassifier"
   ]
  },
  {
   "cell_type": "code",
   "execution_count": 256,
   "metadata": {
    "collapsed": false
   },
   "outputs": [
    {
     "name": "stdout",
     "output_type": "stream",
     "text": [
      "<class 'sklearn.ensemble.gradient_boosting.GradientBoostingClassifier'> Score:\t0.827 ± 0.133\n",
      "<class 'sklearn.ensemble.weight_boosting.AdaBoostClassifier'> Score:\t0.851 ± 0.105\n"
     ]
    }
   ],
   "source": [
    "gb = GradientBoostingClassifier()\n",
    "ab = AdaBoostClassifier()\n",
    "cross_val(gb, X_filtered, y_filtered)\n",
    "cross_val(ab, X_filtered, y_filtered)\n"
   ]
  },
  {
   "cell_type": "markdown",
   "metadata": {},
   "source": [
    "I am curious about logistic modeling considering our model data is skewed"
   ]
  },
  {
   "cell_type": "code",
   "execution_count": 257,
   "metadata": {
    "collapsed": true
   },
   "outputs": [],
   "source": [
    "from sklearn.preprocessing import RobustScaler\n",
    "from sklearn.pipeline import make_pipeline"
   ]
  },
  {
   "cell_type": "code",
   "execution_count": 258,
   "metadata": {
    "collapsed": false
   },
   "outputs": [
    {
     "name": "stdout",
     "output_type": "stream",
     "text": [
      "<class 'sklearn.pipeline.Pipeline'> Score:\t0.703 ± 0.273\n",
      "<class 'sklearn.pipeline.Pipeline'> Score:\t0.834 ± 0.128\n"
     ]
    }
   ],
   "source": [
    "pipedt = make_pipeline(RobustScaler(),\n",
    "                       DecisionTreeClassifier())\n",
    "cross_val(pipedt, X_filtered, y_filtered)\n",
    "\n",
    "pipebdt = make_pipeline(RobustScaler(),\n",
    "                        BaggingClassifier(DecisionTreeClassifier()))\n",
    "cross_val(pipebdt, X_filtered, y_filtered)"
   ]
  },
  {
   "cell_type": "code",
   "execution_count": 259,
   "metadata": {
    "collapsed": true
   },
   "outputs": [],
   "source": [
    "from sklearn.grid_search import GridSearchCV"
   ]
  },
  {
   "cell_type": "code",
   "execution_count": 270,
   "metadata": {
    "collapsed": true
   },
   "outputs": [],
   "source": [
    "params = {\"max_depth\": [3,5,10,20],\n",
    "          \"max_features\": [None, \"auto\"],\n",
    "          \"min_samples_leaf\": [1, 3, 5, 7, 10],\n",
    "          \"min_samples_split\": [2, 5, 7]\n",
    "         }\n",
    "    \n",
    "\n",
    "gsdt = GridSearchCV(dt, params, n_jobs=-1, cv=5)"
   ]
  },
  {
   "cell_type": "code",
   "execution_count": 271,
   "metadata": {
    "collapsed": false
   },
   "outputs": [
    {
     "data": {
      "text/plain": [
       "GridSearchCV(cv=5, error_score='raise',\n",
       "       estimator=DecisionTreeClassifier(class_weight='balanced', criterion='gini',\n",
       "            max_depth=None, max_features=None, max_leaf_nodes=None,\n",
       "            min_samples_leaf=1, min_samples_split=2,\n",
       "            min_weight_fraction_leaf=0.0, presort=False, random_state=None,\n",
       "            splitter='best'),\n",
       "       fit_params={}, iid=True, n_jobs=-1,\n",
       "       param_grid={'max_features': [None, 'auto'], 'min_samples_split': [2, 5, 7], 'max_depth': [3, 5, 10, 20], 'min_samples_leaf': [1, 3, 5, 7, 10]},\n",
       "       pre_dispatch='2*n_jobs', refit=True, scoring=None, verbose=0)"
      ]
     },
     "execution_count": 271,
     "metadata": {},
     "output_type": "execute_result"
    }
   ],
   "source": [
    "gsdt.fit(X_filtered, y_filtered)"
   ]
  },
  {
   "cell_type": "code",
   "execution_count": 272,
   "metadata": {
    "collapsed": false
   },
   "outputs": [
    {
     "data": {
      "text/plain": [
       "{'max_depth': 20,\n",
       " 'max_features': 'auto',\n",
       " 'min_samples_leaf': 1,\n",
       " 'min_samples_split': 7}"
      ]
     },
     "execution_count": 272,
     "metadata": {},
     "output_type": "execute_result"
    }
   ],
   "source": [
    "gsdt.best_params_"
   ]
  },
  {
   "cell_type": "code",
   "execution_count": 273,
   "metadata": {
    "collapsed": false
   },
   "outputs": [
    {
     "data": {
      "text/plain": [
       "0.85030529840456959"
      ]
     },
     "execution_count": 273,
     "metadata": {},
     "output_type": "execute_result"
    }
   ],
   "source": [
    "gsdt.best_score_"
   ]
  },
  {
   "cell_type": "code",
   "execution_count": 274,
   "metadata": {
    "collapsed": false
   },
   "outputs": [
    {
     "data": {
      "text/plain": [
       "{'base_estimator': DecisionTreeClassifier(class_weight='balanced', criterion='gini',\n",
       "             max_depth=None, max_features=None, max_leaf_nodes=None,\n",
       "             min_samples_leaf=1, min_samples_split=2,\n",
       "             min_weight_fraction_leaf=0.0, presort=False, random_state=None,\n",
       "             splitter='best'),\n",
       " 'base_estimator__class_weight': 'balanced',\n",
       " 'base_estimator__criterion': 'gini',\n",
       " 'base_estimator__max_depth': None,\n",
       " 'base_estimator__max_features': None,\n",
       " 'base_estimator__max_leaf_nodes': None,\n",
       " 'base_estimator__min_samples_leaf': 1,\n",
       " 'base_estimator__min_samples_split': 2,\n",
       " 'base_estimator__min_weight_fraction_leaf': 0.0,\n",
       " 'base_estimator__presort': False,\n",
       " 'base_estimator__random_state': None,\n",
       " 'base_estimator__splitter': 'best',\n",
       " 'bootstrap': True,\n",
       " 'bootstrap_features': False,\n",
       " 'max_features': 1.0,\n",
       " 'max_samples': 1.0,\n",
       " 'n_estimators': 10,\n",
       " 'n_jobs': 1,\n",
       " 'oob_score': False,\n",
       " 'random_state': None,\n",
       " 'verbose': 0,\n",
       " 'warm_start': False}"
      ]
     },
     "execution_count": 274,
     "metadata": {},
     "output_type": "execute_result"
    }
   ],
   "source": [
    "bagger.get_params()"
   ]
  },
  {
   "cell_type": "code",
   "execution_count": 277,
   "metadata": {
    "collapsed": false
   },
   "outputs": [],
   "source": [
    "params = {\"base_estimator__max_depth\": [3,5,10,20],\n",
    "          \"base_estimator__max_features\": [None, \"auto\"],\n",
    "          \"base_estimator__min_samples_leaf\": [1, 3, 5, 7, 10],\n",
    "          \"base_estimator__min_samples_split\": [2, 5, 7],\n",
    "          'bootstrap_features': [False, True],\n",
    "          'max_features': [0.5, 0.7, 1.0],\n",
    "          'max_samples': [0.5, 0.7, 1.0],\n",
    "          'n_estimators': [2, 5, 10, 20],\n",
    "         }\n",
    "    \n",
    "\n",
    "gsbdt = GridSearchCV(bagger, params, n_jobs=-1, cv=5)"
   ]
  },
  {
   "cell_type": "code",
   "execution_count": 280,
   "metadata": {
    "collapsed": false
   },
   "outputs": [
    {
     "data": {
      "text/plain": [
       "GridSearchCV(cv=5, error_score='raise',\n",
       "       estimator=BaggingClassifier(base_estimator=DecisionTreeClassifier(class_weight='balanced', criterion='gini',\n",
       "            max_depth=None, max_features=None, max_leaf_nodes=None,\n",
       "            min_samples_leaf=1, min_samples_split=2,\n",
       "            min_weight_fraction_leaf=0.0, presort=False, random_state=...n_estimators=10, n_jobs=1, oob_score=False,\n",
       "         random_state=None, verbose=0, warm_start=False),\n",
       "       fit_params={}, iid=True, n_jobs=-1,\n",
       "       param_grid={'n_estimators': [2, 5, 10, 20], 'max_samples': [0.5, 0.7, 1.0], 'base_estimator__min_samples_split': [2, 5, 7], 'base_estimator__max_depth': [3, 5, 10, 20], 'bootstrap_features': [False, True], 'max_features': [0.5, 0.7, 1.0], 'base_estimator__min_samples_leaf': [1, 3, 5, 7, 10], 'base_estimator__max_features': [None, 'auto']},\n",
       "       pre_dispatch='2*n_jobs', refit=True, scoring=None, verbose=0)"
      ]
     },
     "execution_count": 280,
     "metadata": {},
     "output_type": "execute_result"
    }
   ],
   "source": [
    "gsbdt.fit(X_filtered, y_filtered)"
   ]
  },
  {
   "cell_type": "code",
   "execution_count": null,
   "metadata": {
    "collapsed": true
   },
   "outputs": [],
   "source": [
    "gsbdt.best_params_"
   ]
  },
  {
   "cell_type": "code",
   "execution_count": null,
   "metadata": {
    "collapsed": true
   },
   "outputs": [],
   "source": [
    "gsbdt.best_score_"
   ]
  },
  {
   "cell_type": "code",
   "execution_count": null,
   "metadata": {
    "collapsed": true
   },
   "outputs": [],
   "source": []
  }
 ],
 "metadata": {
  "anaconda-cloud": {},
  "kernelspec": {
   "display_name": "Python [Root]",
   "language": "python",
   "name": "Python [Root]"
  },
  "language_info": {
   "codemirror_mode": {
    "name": "ipython",
    "version": 2
   },
   "file_extension": ".py",
   "mimetype": "text/x-python",
   "name": "python",
   "nbconvert_exporter": "python",
   "pygments_lexer": "ipython2",
   "version": "2.7.12"
  }
 },
 "nbformat": 4,
 "nbformat_minor": 0
}
